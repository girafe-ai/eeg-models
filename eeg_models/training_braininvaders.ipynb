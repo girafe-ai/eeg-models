{
  "cells": [
    {
      "cell_type": "code",
      "execution_count": 1,
      "metadata": {
        "colab": {
          "base_uri": "https://localhost:8080/"
        },
        "id": "YdS43L5McNrw",
        "outputId": "0354ecb7-8217-417a-9f02-94bdbe15e656"
      },
      "outputs": [
        {
          "name": "stdout",
          "output_type": "stream",
          "text": [
            "Mounted at /content/drive\n"
          ]
        }
      ],
      "source": [
        "# from google.colab import drive\n",
        "# drive.mount('/content/drive', force_remount= True)"
      ]
    },
    {
      "cell_type": "code",
      "execution_count": 2,
      "metadata": {
        "id": "rBxK0if5ci8s"
      },
      "outputs": [],
      "source": [
        "# import os, sys\n",
        "# os.chdir('/content/drive/My Drive/Colab Notebooks/Diploma_Thesis/posts/post01_simple_p300')\n",
        "# sys.path.append('/content/drive/My Drive/Colab Notebooks')"
      ]
    },
    {
      "cell_type": "code",
      "execution_count": 3,
      "metadata": {
        "id": "0PXp3y-2A1C1"
      },
      "outputs": [],
      "source": [
        "from importlib import reload\n",
        "\n",
        "import numpy as np\n",
        "import torch\n",
        "import torch.nn as nn\n",
        "import torch.optim as optim\n",
        "from sklearn.pipeline import make_pipeline\n",
        "from sklearn.preprocessing import StandardScaler\n",
        "\n",
        "import transforms\n",
        "from braininvaders import BrainInvadersDataset\n",
        "from eegnet import EegNet"
      ]
    },
    {
      "cell_type": "code",
      "execution_count": 4,
      "metadata": {
        "colab": {
          "base_uri": "https://localhost:8080/"
        },
        "id": "OOoDjZ1CcNr7",
        "outputId": "d2f80b0d-a1a8-48e3-b2f6-82b587bcb8a9"
      },
      "outputs": [
        {
          "name": "stdout",
          "output_type": "stream",
          "text": [
            "Extracting EDF parameters from /root/mne_data/MNE-braininvaders-data/record/1494240/files/subject1/Session2/1.gdf...\n",
            "GDF file detected\n",
            "Setting channel info structure...\n",
            "Creating raw.info structure...\n",
            "Reading 0 ... 132895  =      0.000 ...   259.561 secs...\n"
          ]
        },
        {
          "name": "stderr",
          "output_type": "stream",
          "text": [
            "/content/drive/My Drive/Colab Notebooks/Diploma_Thesis/posts/post01_simple_p300/utils.py:31: RuntimeWarning: Setting non-standard config type: \"MNE_DATASETS_BRAININVADERS_PATH\"\n",
            "  _do_path_update(path, update_path, key, sign)\n",
            "/content/drive/My Drive/Colab Notebooks/Diploma_Thesis/posts/post01_simple_p300/braininvaders.py:68: DeprecationWarning: stim_channel will default to \"auto\" in 0.17 but change to False in 0.18, and will be removed in 0.19\n",
            "  file_path, montage=\"standard_1020\", preload=True\n",
            "/content/drive/My Drive/Colab Notebooks/Diploma_Thesis/posts/post01_simple_p300/braininvaders.py:68: RuntimeWarning: Interpolating stim channel. Events may jitter.\n",
            "  file_path, montage=\"standard_1020\", preload=True\n",
            "/content/drive/My Drive/Colab Notebooks/mne/io/pick.py:279: DeprecationWarning: `np.bool` is a deprecated alias for the builtin `bool`. To silence this warning, use `bool` by itself. Doing this will not modify any behavior and is safe. If you specifically wanted the numpy scalar type, use `np.bool_` here.\n",
            "Deprecated in NumPy 1.20; for more details and guidance: https://numpy.org/devdocs/release/1.20.0-notes.html#deprecations\n",
            "  pick = np.zeros(nchan, dtype=np.bool)\n"
          ]
        },
        {
          "name": "stdout",
          "output_type": "stream",
          "text": [
            "Extracting EDF parameters from /root/mne_data/MNE-braininvaders-data/record/1494240/files/subject1/Session5/1.gdf...\n",
            "GDF file detected\n",
            "Setting channel info structure...\n",
            "Creating raw.info structure...\n",
            "Reading 0 ... 133503  =      0.000 ...   260.748 secs...\n"
          ]
        },
        {
          "name": "stderr",
          "output_type": "stream",
          "text": [
            "/content/drive/My Drive/Colab Notebooks/Diploma_Thesis/posts/post01_simple_p300/braininvaders.py:68: DeprecationWarning: stim_channel will default to \"auto\" in 0.17 but change to False in 0.18, and will be removed in 0.19\n",
            "  file_path, montage=\"standard_1020\", preload=True\n",
            "/content/drive/My Drive/Colab Notebooks/mne/io/pick.py:279: DeprecationWarning: `np.bool` is a deprecated alias for the builtin `bool`. To silence this warning, use `bool` by itself. Doing this will not modify any behavior and is safe. If you specifically wanted the numpy scalar type, use `np.bool_` here.\n",
            "Deprecated in NumPy 1.20; for more details and guidance: https://numpy.org/devdocs/release/1.20.0-notes.html#deprecations\n",
            "  pick = np.zeros(nchan, dtype=np.bool)\n"
          ]
        },
        {
          "name": "stdout",
          "output_type": "stream",
          "text": [
            "Extracting EDF parameters from /root/mne_data/MNE-braininvaders-data/record/1494240/files/subject1/Session6/1.gdf...\n",
            "GDF file detected\n",
            "Setting channel info structure...\n",
            "Creating raw.info structure...\n",
            "Reading 0 ... 132895  =      0.000 ...   259.561 secs...\n"
          ]
        },
        {
          "name": "stderr",
          "output_type": "stream",
          "text": [
            "/content/drive/My Drive/Colab Notebooks/Diploma_Thesis/posts/post01_simple_p300/braininvaders.py:68: DeprecationWarning: stim_channel will default to \"auto\" in 0.17 but change to False in 0.18, and will be removed in 0.19\n",
            "  file_path, montage=\"standard_1020\", preload=True\n",
            "/content/drive/My Drive/Colab Notebooks/mne/io/pick.py:279: DeprecationWarning: `np.bool` is a deprecated alias for the builtin `bool`. To silence this warning, use `bool` by itself. Doing this will not modify any behavior and is safe. If you specifically wanted the numpy scalar type, use `np.bool_` here.\n",
            "Deprecated in NumPy 1.20; for more details and guidance: https://numpy.org/devdocs/release/1.20.0-notes.html#deprecations\n",
            "  pick = np.zeros(nchan, dtype=np.bool)\n"
          ]
        },
        {
          "name": "stdout",
          "output_type": "stream",
          "text": [
            "Extracting EDF parameters from /root/mne_data/MNE-braininvaders-data/record/1494240/files/subject1/Session8/1.gdf...\n",
            "GDF file detected\n",
            "Setting channel info structure...\n",
            "Creating raw.info structure...\n",
            "Reading 0 ... 129823  =      0.000 ...   253.561 secs...\n"
          ]
        },
        {
          "name": "stderr",
          "output_type": "stream",
          "text": [
            "/content/drive/My Drive/Colab Notebooks/Diploma_Thesis/posts/post01_simple_p300/braininvaders.py:68: DeprecationWarning: stim_channel will default to \"auto\" in 0.17 but change to False in 0.18, and will be removed in 0.19\n",
            "  file_path, montage=\"standard_1020\", preload=True\n",
            "/content/drive/My Drive/Colab Notebooks/mne/io/pick.py:279: DeprecationWarning: `np.bool` is a deprecated alias for the builtin `bool`. To silence this warning, use `bool` by itself. Doing this will not modify any behavior and is safe. If you specifically wanted the numpy scalar type, use `np.bool_` here.\n",
            "Deprecated in NumPy 1.20; for more details and guidance: https://numpy.org/devdocs/release/1.20.0-notes.html#deprecations\n",
            "  pick = np.zeros(nchan, dtype=np.bool)\n"
          ]
        },
        {
          "name": "stdout",
          "output_type": "stream",
          "text": [
            "Extracting EDF parameters from /root/mne_data/MNE-braininvaders-data/record/1494240/files/subject1/Session3/1.gdf...\n",
            "GDF file detected\n",
            "Setting channel info structure...\n",
            "Creating raw.info structure...\n",
            "Reading 0 ... 131775  =      0.000 ...   257.373 secs...\n"
          ]
        },
        {
          "name": "stderr",
          "output_type": "stream",
          "text": [
            "/content/drive/My Drive/Colab Notebooks/Diploma_Thesis/posts/post01_simple_p300/braininvaders.py:68: DeprecationWarning: stim_channel will default to \"auto\" in 0.17 but change to False in 0.18, and will be removed in 0.19\n",
            "  file_path, montage=\"standard_1020\", preload=True\n",
            "/content/drive/My Drive/Colab Notebooks/mne/io/pick.py:279: DeprecationWarning: `np.bool` is a deprecated alias for the builtin `bool`. To silence this warning, use `bool` by itself. Doing this will not modify any behavior and is safe. If you specifically wanted the numpy scalar type, use `np.bool_` here.\n",
            "Deprecated in NumPy 1.20; for more details and guidance: https://numpy.org/devdocs/release/1.20.0-notes.html#deprecations\n",
            "  pick = np.zeros(nchan, dtype=np.bool)\n"
          ]
        },
        {
          "name": "stdout",
          "output_type": "stream",
          "text": [
            "Extracting EDF parameters from /root/mne_data/MNE-braininvaders-data/record/1494240/files/subject1/Session1/1.gdf...\n",
            "GDF file detected\n",
            "Setting channel info structure...\n",
            "Creating raw.info structure...\n",
            "Reading 0 ... 159231  =      0.000 ...   310.998 secs...\n"
          ]
        },
        {
          "name": "stderr",
          "output_type": "stream",
          "text": [
            "/content/drive/My Drive/Colab Notebooks/Diploma_Thesis/posts/post01_simple_p300/braininvaders.py:68: DeprecationWarning: stim_channel will default to \"auto\" in 0.17 but change to False in 0.18, and will be removed in 0.19\n",
            "  file_path, montage=\"standard_1020\", preload=True\n",
            "/content/drive/My Drive/Colab Notebooks/mne/io/pick.py:279: DeprecationWarning: `np.bool` is a deprecated alias for the builtin `bool`. To silence this warning, use `bool` by itself. Doing this will not modify any behavior and is safe. If you specifically wanted the numpy scalar type, use `np.bool_` here.\n",
            "Deprecated in NumPy 1.20; for more details and guidance: https://numpy.org/devdocs/release/1.20.0-notes.html#deprecations\n",
            "  pick = np.zeros(nchan, dtype=np.bool)\n"
          ]
        },
        {
          "name": "stdout",
          "output_type": "stream",
          "text": [
            "Extracting EDF parameters from /root/mne_data/MNE-braininvaders-data/record/1494240/files/subject1/Session4/1.gdf...\n",
            "GDF file detected\n",
            "Setting channel info structure...\n",
            "Creating raw.info structure...\n",
            "Reading 0 ... 146591  =      0.000 ...   286.311 secs...\n"
          ]
        },
        {
          "name": "stderr",
          "output_type": "stream",
          "text": [
            "/content/drive/My Drive/Colab Notebooks/Diploma_Thesis/posts/post01_simple_p300/braininvaders.py:68: DeprecationWarning: stim_channel will default to \"auto\" in 0.17 but change to False in 0.18, and will be removed in 0.19\n",
            "  file_path, montage=\"standard_1020\", preload=True\n",
            "/content/drive/My Drive/Colab Notebooks/mne/io/pick.py:279: DeprecationWarning: `np.bool` is a deprecated alias for the builtin `bool`. To silence this warning, use `bool` by itself. Doing this will not modify any behavior and is safe. If you specifically wanted the numpy scalar type, use `np.bool_` here.\n",
            "Deprecated in NumPy 1.20; for more details and guidance: https://numpy.org/devdocs/release/1.20.0-notes.html#deprecations\n",
            "  pick = np.zeros(nchan, dtype=np.bool)\n"
          ]
        },
        {
          "name": "stdout",
          "output_type": "stream",
          "text": [
            "Extracting EDF parameters from /root/mne_data/MNE-braininvaders-data/record/1494240/files/subject1/Session7/1.gdf...\n",
            "GDF file detected\n",
            "Setting channel info structure...\n",
            "Creating raw.info structure...\n",
            "Reading 0 ... 127071  =      0.000 ...   248.186 secs...\n"
          ]
        },
        {
          "name": "stderr",
          "output_type": "stream",
          "text": [
            "/content/drive/My Drive/Colab Notebooks/Diploma_Thesis/posts/post01_simple_p300/braininvaders.py:68: DeprecationWarning: stim_channel will default to \"auto\" in 0.17 but change to False in 0.18, and will be removed in 0.19\n",
            "  file_path, montage=\"standard_1020\", preload=True\n",
            "/content/drive/My Drive/Colab Notebooks/mne/io/pick.py:279: DeprecationWarning: `np.bool` is a deprecated alias for the builtin `bool`. To silence this warning, use `bool` by itself. Doing this will not modify any behavior and is safe. If you specifically wanted the numpy scalar type, use `np.bool_` here.\n",
            "Deprecated in NumPy 1.20; for more details and guidance: https://numpy.org/devdocs/release/1.20.0-notes.html#deprecations\n",
            "  pick = np.zeros(nchan, dtype=np.bool)\n"
          ]
        },
        {
          "name": "stdout",
          "output_type": "stream",
          "text": [
            "Extracting EDF parameters from /root/mne_data/MNE-braininvaders-data/record/1494240/files/subject1/Session2/2.gdf...\n",
            "GDF file detected\n",
            "Setting channel info structure...\n",
            "Creating raw.info structure...\n",
            "Reading 0 ... 104639  =      0.000 ...   204.373 secs...\n"
          ]
        },
        {
          "name": "stderr",
          "output_type": "stream",
          "text": [
            "/content/drive/My Drive/Colab Notebooks/Diploma_Thesis/posts/post01_simple_p300/braininvaders.py:68: DeprecationWarning: stim_channel will default to \"auto\" in 0.17 but change to False in 0.18, and will be removed in 0.19\n",
            "  file_path, montage=\"standard_1020\", preload=True\n",
            "/content/drive/My Drive/Colab Notebooks/mne/io/pick.py:279: DeprecationWarning: `np.bool` is a deprecated alias for the builtin `bool`. To silence this warning, use `bool` by itself. Doing this will not modify any behavior and is safe. If you specifically wanted the numpy scalar type, use `np.bool_` here.\n",
            "Deprecated in NumPy 1.20; for more details and guidance: https://numpy.org/devdocs/release/1.20.0-notes.html#deprecations\n",
            "  pick = np.zeros(nchan, dtype=np.bool)\n"
          ]
        },
        {
          "name": "stdout",
          "output_type": "stream",
          "text": [
            "Extracting EDF parameters from /root/mne_data/MNE-braininvaders-data/record/1494240/files/subject1/Session5/2.gdf...\n",
            "GDF file detected\n",
            "Setting channel info structure...\n",
            "Creating raw.info structure...\n",
            "Reading 0 ... 114047  =      0.000 ...   222.748 secs...\n"
          ]
        },
        {
          "name": "stderr",
          "output_type": "stream",
          "text": [
            "/content/drive/My Drive/Colab Notebooks/Diploma_Thesis/posts/post01_simple_p300/braininvaders.py:68: DeprecationWarning: stim_channel will default to \"auto\" in 0.17 but change to False in 0.18, and will be removed in 0.19\n",
            "  file_path, montage=\"standard_1020\", preload=True\n",
            "/content/drive/My Drive/Colab Notebooks/mne/io/pick.py:279: DeprecationWarning: `np.bool` is a deprecated alias for the builtin `bool`. To silence this warning, use `bool` by itself. Doing this will not modify any behavior and is safe. If you specifically wanted the numpy scalar type, use `np.bool_` here.\n",
            "Deprecated in NumPy 1.20; for more details and guidance: https://numpy.org/devdocs/release/1.20.0-notes.html#deprecations\n",
            "  pick = np.zeros(nchan, dtype=np.bool)\n"
          ]
        },
        {
          "name": "stdout",
          "output_type": "stream",
          "text": [
            "Extracting EDF parameters from /root/mne_data/MNE-braininvaders-data/record/1494240/files/subject1/Session6/2.gdf...\n",
            "GDF file detected\n",
            "Setting channel info structure...\n",
            "Creating raw.info structure...\n",
            "Reading 0 ... 102527  =      0.000 ...   200.248 secs...\n"
          ]
        },
        {
          "name": "stderr",
          "output_type": "stream",
          "text": [
            "/content/drive/My Drive/Colab Notebooks/Diploma_Thesis/posts/post01_simple_p300/braininvaders.py:68: DeprecationWarning: stim_channel will default to \"auto\" in 0.17 but change to False in 0.18, and will be removed in 0.19\n",
            "  file_path, montage=\"standard_1020\", preload=True\n",
            "/content/drive/My Drive/Colab Notebooks/mne/io/pick.py:279: DeprecationWarning: `np.bool` is a deprecated alias for the builtin `bool`. To silence this warning, use `bool` by itself. Doing this will not modify any behavior and is safe. If you specifically wanted the numpy scalar type, use `np.bool_` here.\n",
            "Deprecated in NumPy 1.20; for more details and guidance: https://numpy.org/devdocs/release/1.20.0-notes.html#deprecations\n",
            "  pick = np.zeros(nchan, dtype=np.bool)\n"
          ]
        },
        {
          "name": "stdout",
          "output_type": "stream",
          "text": [
            "Extracting EDF parameters from /root/mne_data/MNE-braininvaders-data/record/1494240/files/subject1/Session8/2.gdf...\n",
            "GDF file detected\n",
            "Setting channel info structure...\n",
            "Creating raw.info structure...\n",
            "Reading 0 ... 94559  =      0.000 ...   184.686 secs...\n"
          ]
        },
        {
          "name": "stderr",
          "output_type": "stream",
          "text": [
            "/content/drive/My Drive/Colab Notebooks/Diploma_Thesis/posts/post01_simple_p300/braininvaders.py:68: DeprecationWarning: stim_channel will default to \"auto\" in 0.17 but change to False in 0.18, and will be removed in 0.19\n",
            "  file_path, montage=\"standard_1020\", preload=True\n",
            "/content/drive/My Drive/Colab Notebooks/mne/io/pick.py:279: DeprecationWarning: `np.bool` is a deprecated alias for the builtin `bool`. To silence this warning, use `bool` by itself. Doing this will not modify any behavior and is safe. If you specifically wanted the numpy scalar type, use `np.bool_` here.\n",
            "Deprecated in NumPy 1.20; for more details and guidance: https://numpy.org/devdocs/release/1.20.0-notes.html#deprecations\n",
            "  pick = np.zeros(nchan, dtype=np.bool)\n"
          ]
        },
        {
          "name": "stdout",
          "output_type": "stream",
          "text": [
            "Extracting EDF parameters from /root/mne_data/MNE-braininvaders-data/record/1494240/files/subject1/Session3/2.gdf...\n",
            "GDF file detected\n",
            "Setting channel info structure...\n",
            "Creating raw.info structure...\n",
            "Reading 0 ... 101183  =      0.000 ...   197.623 secs...\n"
          ]
        },
        {
          "name": "stderr",
          "output_type": "stream",
          "text": [
            "/content/drive/My Drive/Colab Notebooks/Diploma_Thesis/posts/post01_simple_p300/braininvaders.py:68: DeprecationWarning: stim_channel will default to \"auto\" in 0.17 but change to False in 0.18, and will be removed in 0.19\n",
            "  file_path, montage=\"standard_1020\", preload=True\n",
            "/content/drive/My Drive/Colab Notebooks/mne/io/pick.py:279: DeprecationWarning: `np.bool` is a deprecated alias for the builtin `bool`. To silence this warning, use `bool` by itself. Doing this will not modify any behavior and is safe. If you specifically wanted the numpy scalar type, use `np.bool_` here.\n",
            "Deprecated in NumPy 1.20; for more details and guidance: https://numpy.org/devdocs/release/1.20.0-notes.html#deprecations\n",
            "  pick = np.zeros(nchan, dtype=np.bool)\n"
          ]
        },
        {
          "name": "stdout",
          "output_type": "stream",
          "text": [
            "Extracting EDF parameters from /root/mne_data/MNE-braininvaders-data/record/1494240/files/subject1/Session1/2.gdf...\n",
            "GDF file detected\n",
            "Setting channel info structure...\n",
            "Creating raw.info structure...\n",
            "Reading 0 ... 125183  =      0.000 ...   244.498 secs...\n"
          ]
        },
        {
          "name": "stderr",
          "output_type": "stream",
          "text": [
            "/content/drive/My Drive/Colab Notebooks/Diploma_Thesis/posts/post01_simple_p300/braininvaders.py:68: DeprecationWarning: stim_channel will default to \"auto\" in 0.17 but change to False in 0.18, and will be removed in 0.19\n",
            "  file_path, montage=\"standard_1020\", preload=True\n",
            "/content/drive/My Drive/Colab Notebooks/mne/io/pick.py:279: DeprecationWarning: `np.bool` is a deprecated alias for the builtin `bool`. To silence this warning, use `bool` by itself. Doing this will not modify any behavior and is safe. If you specifically wanted the numpy scalar type, use `np.bool_` here.\n",
            "Deprecated in NumPy 1.20; for more details and guidance: https://numpy.org/devdocs/release/1.20.0-notes.html#deprecations\n",
            "  pick = np.zeros(nchan, dtype=np.bool)\n"
          ]
        },
        {
          "name": "stdout",
          "output_type": "stream",
          "text": [
            "Extracting EDF parameters from /root/mne_data/MNE-braininvaders-data/record/1494240/files/subject1/Session4/2.gdf...\n",
            "GDF file detected\n",
            "Setting channel info structure...\n",
            "Creating raw.info structure...\n",
            "Reading 0 ... 97503  =      0.000 ...   190.436 secs...\n"
          ]
        },
        {
          "name": "stderr",
          "output_type": "stream",
          "text": [
            "/content/drive/My Drive/Colab Notebooks/Diploma_Thesis/posts/post01_simple_p300/braininvaders.py:68: DeprecationWarning: stim_channel will default to \"auto\" in 0.17 but change to False in 0.18, and will be removed in 0.19\n",
            "  file_path, montage=\"standard_1020\", preload=True\n",
            "/content/drive/My Drive/Colab Notebooks/mne/io/pick.py:279: DeprecationWarning: `np.bool` is a deprecated alias for the builtin `bool`. To silence this warning, use `bool` by itself. Doing this will not modify any behavior and is safe. If you specifically wanted the numpy scalar type, use `np.bool_` here.\n",
            "Deprecated in NumPy 1.20; for more details and guidance: https://numpy.org/devdocs/release/1.20.0-notes.html#deprecations\n",
            "  pick = np.zeros(nchan, dtype=np.bool)\n"
          ]
        },
        {
          "name": "stdout",
          "output_type": "stream",
          "text": [
            "Extracting EDF parameters from /root/mne_data/MNE-braininvaders-data/record/1494240/files/subject1/Session7/2.gdf...\n",
            "GDF file detected\n",
            "Setting channel info structure...\n",
            "Creating raw.info structure...\n",
            "Reading 0 ... 104575  =      0.000 ...   204.248 secs...\n"
          ]
        },
        {
          "name": "stderr",
          "output_type": "stream",
          "text": [
            "/content/drive/My Drive/Colab Notebooks/Diploma_Thesis/posts/post01_simple_p300/braininvaders.py:68: DeprecationWarning: stim_channel will default to \"auto\" in 0.17 but change to False in 0.18, and will be removed in 0.19\n",
            "  file_path, montage=\"standard_1020\", preload=True\n",
            "/content/drive/My Drive/Colab Notebooks/mne/io/pick.py:279: DeprecationWarning: `np.bool` is a deprecated alias for the builtin `bool`. To silence this warning, use `bool` by itself. Doing this will not modify any behavior and is safe. If you specifically wanted the numpy scalar type, use `np.bool_` here.\n",
            "Deprecated in NumPy 1.20; for more details and guidance: https://numpy.org/devdocs/release/1.20.0-notes.html#deprecations\n",
            "  pick = np.zeros(nchan, dtype=np.bool)\n"
          ]
        },
        {
          "name": "stdout",
          "output_type": "stream",
          "text": [
            "Extracting EDF parameters from /root/mne_data/MNE-braininvaders-data/record/1494240/files/subject1/Session2/3.gdf...\n",
            "GDF file detected\n",
            "Setting channel info structure...\n",
            "Creating raw.info structure...\n",
            "Reading 0 ... 138783  =      0.000 ...   271.061 secs...\n"
          ]
        },
        {
          "name": "stderr",
          "output_type": "stream",
          "text": [
            "/content/drive/My Drive/Colab Notebooks/Diploma_Thesis/posts/post01_simple_p300/braininvaders.py:68: DeprecationWarning: stim_channel will default to \"auto\" in 0.17 but change to False in 0.18, and will be removed in 0.19\n",
            "  file_path, montage=\"standard_1020\", preload=True\n",
            "/content/drive/My Drive/Colab Notebooks/mne/io/pick.py:279: DeprecationWarning: `np.bool` is a deprecated alias for the builtin `bool`. To silence this warning, use `bool` by itself. Doing this will not modify any behavior and is safe. If you specifically wanted the numpy scalar type, use `np.bool_` here.\n",
            "Deprecated in NumPy 1.20; for more details and guidance: https://numpy.org/devdocs/release/1.20.0-notes.html#deprecations\n",
            "  pick = np.zeros(nchan, dtype=np.bool)\n"
          ]
        },
        {
          "name": "stdout",
          "output_type": "stream",
          "text": [
            "Extracting EDF parameters from /root/mne_data/MNE-braininvaders-data/record/1494240/files/subject1/Session5/3.gdf...\n",
            "GDF file detected\n",
            "Setting channel info structure...\n",
            "Creating raw.info structure...\n",
            "Reading 0 ... 129183  =      0.000 ...   252.311 secs...\n"
          ]
        },
        {
          "name": "stderr",
          "output_type": "stream",
          "text": [
            "/content/drive/My Drive/Colab Notebooks/Diploma_Thesis/posts/post01_simple_p300/braininvaders.py:68: DeprecationWarning: stim_channel will default to \"auto\" in 0.17 but change to False in 0.18, and will be removed in 0.19\n",
            "  file_path, montage=\"standard_1020\", preload=True\n",
            "/content/drive/My Drive/Colab Notebooks/mne/io/pick.py:279: DeprecationWarning: `np.bool` is a deprecated alias for the builtin `bool`. To silence this warning, use `bool` by itself. Doing this will not modify any behavior and is safe. If you specifically wanted the numpy scalar type, use `np.bool_` here.\n",
            "Deprecated in NumPy 1.20; for more details and guidance: https://numpy.org/devdocs/release/1.20.0-notes.html#deprecations\n",
            "  pick = np.zeros(nchan, dtype=np.bool)\n"
          ]
        },
        {
          "name": "stdout",
          "output_type": "stream",
          "text": [
            "Extracting EDF parameters from /root/mne_data/MNE-braininvaders-data/record/1494240/files/subject1/Session6/3.gdf...\n",
            "GDF file detected\n",
            "Setting channel info structure...\n",
            "Creating raw.info structure...\n",
            "Reading 0 ... 130527  =      0.000 ...   254.936 secs...\n"
          ]
        },
        {
          "name": "stderr",
          "output_type": "stream",
          "text": [
            "/content/drive/My Drive/Colab Notebooks/Diploma_Thesis/posts/post01_simple_p300/braininvaders.py:68: DeprecationWarning: stim_channel will default to \"auto\" in 0.17 but change to False in 0.18, and will be removed in 0.19\n",
            "  file_path, montage=\"standard_1020\", preload=True\n",
            "/content/drive/My Drive/Colab Notebooks/mne/io/pick.py:279: DeprecationWarning: `np.bool` is a deprecated alias for the builtin `bool`. To silence this warning, use `bool` by itself. Doing this will not modify any behavior and is safe. If you specifically wanted the numpy scalar type, use `np.bool_` here.\n",
            "Deprecated in NumPy 1.20; for more details and guidance: https://numpy.org/devdocs/release/1.20.0-notes.html#deprecations\n",
            "  pick = np.zeros(nchan, dtype=np.bool)\n"
          ]
        },
        {
          "name": "stdout",
          "output_type": "stream",
          "text": [
            "Extracting EDF parameters from /root/mne_data/MNE-braininvaders-data/record/1494240/files/subject1/Session8/3.gdf...\n",
            "GDF file detected\n",
            "Setting channel info structure...\n",
            "Creating raw.info structure...\n",
            "Reading 0 ... 132063  =      0.000 ...   257.936 secs...\n"
          ]
        },
        {
          "name": "stderr",
          "output_type": "stream",
          "text": [
            "/content/drive/My Drive/Colab Notebooks/Diploma_Thesis/posts/post01_simple_p300/braininvaders.py:68: DeprecationWarning: stim_channel will default to \"auto\" in 0.17 but change to False in 0.18, and will be removed in 0.19\n",
            "  file_path, montage=\"standard_1020\", preload=True\n",
            "/content/drive/My Drive/Colab Notebooks/mne/io/pick.py:279: DeprecationWarning: `np.bool` is a deprecated alias for the builtin `bool`. To silence this warning, use `bool` by itself. Doing this will not modify any behavior and is safe. If you specifically wanted the numpy scalar type, use `np.bool_` here.\n",
            "Deprecated in NumPy 1.20; for more details and guidance: https://numpy.org/devdocs/release/1.20.0-notes.html#deprecations\n",
            "  pick = np.zeros(nchan, dtype=np.bool)\n"
          ]
        },
        {
          "name": "stdout",
          "output_type": "stream",
          "text": [
            "Extracting EDF parameters from /root/mne_data/MNE-braininvaders-data/record/1494240/files/subject1/Session3/3.gdf...\n",
            "GDF file detected\n",
            "Setting channel info structure...\n",
            "Creating raw.info structure...\n",
            "Reading 0 ... 133023  =      0.000 ...   259.811 secs...\n"
          ]
        },
        {
          "name": "stderr",
          "output_type": "stream",
          "text": [
            "/content/drive/My Drive/Colab Notebooks/Diploma_Thesis/posts/post01_simple_p300/braininvaders.py:68: DeprecationWarning: stim_channel will default to \"auto\" in 0.17 but change to False in 0.18, and will be removed in 0.19\n",
            "  file_path, montage=\"standard_1020\", preload=True\n",
            "/content/drive/My Drive/Colab Notebooks/mne/io/pick.py:279: DeprecationWarning: `np.bool` is a deprecated alias for the builtin `bool`. To silence this warning, use `bool` by itself. Doing this will not modify any behavior and is safe. If you specifically wanted the numpy scalar type, use `np.bool_` here.\n",
            "Deprecated in NumPy 1.20; for more details and guidance: https://numpy.org/devdocs/release/1.20.0-notes.html#deprecations\n",
            "  pick = np.zeros(nchan, dtype=np.bool)\n"
          ]
        },
        {
          "name": "stdout",
          "output_type": "stream",
          "text": [
            "Extracting EDF parameters from /root/mne_data/MNE-braininvaders-data/record/1494240/files/subject1/Session1/3.gdf...\n",
            "GDF file detected\n",
            "Setting channel info structure...\n",
            "Creating raw.info structure...\n",
            "Reading 0 ... 139551  =      0.000 ...   272.561 secs...\n"
          ]
        },
        {
          "name": "stderr",
          "output_type": "stream",
          "text": [
            "/content/drive/My Drive/Colab Notebooks/Diploma_Thesis/posts/post01_simple_p300/braininvaders.py:68: DeprecationWarning: stim_channel will default to \"auto\" in 0.17 but change to False in 0.18, and will be removed in 0.19\n",
            "  file_path, montage=\"standard_1020\", preload=True\n",
            "/content/drive/My Drive/Colab Notebooks/mne/io/pick.py:279: DeprecationWarning: `np.bool` is a deprecated alias for the builtin `bool`. To silence this warning, use `bool` by itself. Doing this will not modify any behavior and is safe. If you specifically wanted the numpy scalar type, use `np.bool_` here.\n",
            "Deprecated in NumPy 1.20; for more details and guidance: https://numpy.org/devdocs/release/1.20.0-notes.html#deprecations\n",
            "  pick = np.zeros(nchan, dtype=np.bool)\n"
          ]
        },
        {
          "name": "stdout",
          "output_type": "stream",
          "text": [
            "Extracting EDF parameters from /root/mne_data/MNE-braininvaders-data/record/1494240/files/subject1/Session4/3.gdf...\n",
            "GDF file detected\n",
            "Setting channel info structure...\n",
            "Creating raw.info structure...\n",
            "Reading 0 ... 133343  =      0.000 ...   260.436 secs...\n"
          ]
        },
        {
          "name": "stderr",
          "output_type": "stream",
          "text": [
            "/content/drive/My Drive/Colab Notebooks/Diploma_Thesis/posts/post01_simple_p300/braininvaders.py:68: DeprecationWarning: stim_channel will default to \"auto\" in 0.17 but change to False in 0.18, and will be removed in 0.19\n",
            "  file_path, montage=\"standard_1020\", preload=True\n",
            "/content/drive/My Drive/Colab Notebooks/mne/io/pick.py:279: DeprecationWarning: `np.bool` is a deprecated alias for the builtin `bool`. To silence this warning, use `bool` by itself. Doing this will not modify any behavior and is safe. If you specifically wanted the numpy scalar type, use `np.bool_` here.\n",
            "Deprecated in NumPy 1.20; for more details and guidance: https://numpy.org/devdocs/release/1.20.0-notes.html#deprecations\n",
            "  pick = np.zeros(nchan, dtype=np.bool)\n"
          ]
        },
        {
          "name": "stdout",
          "output_type": "stream",
          "text": [
            "Extracting EDF parameters from /root/mne_data/MNE-braininvaders-data/record/1494240/files/subject1/Session7/3.gdf...\n",
            "GDF file detected\n",
            "Setting channel info structure...\n",
            "Creating raw.info structure...\n",
            "Reading 0 ... 128863  =      0.000 ...   251.686 secs...\n"
          ]
        },
        {
          "name": "stderr",
          "output_type": "stream",
          "text": [
            "/content/drive/My Drive/Colab Notebooks/Diploma_Thesis/posts/post01_simple_p300/braininvaders.py:68: DeprecationWarning: stim_channel will default to \"auto\" in 0.17 but change to False in 0.18, and will be removed in 0.19\n",
            "  file_path, montage=\"standard_1020\", preload=True\n",
            "/content/drive/My Drive/Colab Notebooks/mne/io/pick.py:279: DeprecationWarning: `np.bool` is a deprecated alias for the builtin `bool`. To silence this warning, use `bool` by itself. Doing this will not modify any behavior and is safe. If you specifically wanted the numpy scalar type, use `np.bool_` here.\n",
            "Deprecated in NumPy 1.20; for more details and guidance: https://numpy.org/devdocs/release/1.20.0-notes.html#deprecations\n",
            "  pick = np.zeros(nchan, dtype=np.bool)\n"
          ]
        },
        {
          "name": "stdout",
          "output_type": "stream",
          "text": [
            "Extracting EDF parameters from /root/mne_data/MNE-braininvaders-data/record/1494240/files/subject1/Session2/4.gdf...\n",
            "GDF file detected\n",
            "Setting channel info structure...\n",
            "Creating raw.info structure...\n",
            "Reading 0 ... 106527  =      0.000 ...   208.061 secs...\n"
          ]
        },
        {
          "name": "stderr",
          "output_type": "stream",
          "text": [
            "/content/drive/My Drive/Colab Notebooks/Diploma_Thesis/posts/post01_simple_p300/braininvaders.py:68: DeprecationWarning: stim_channel will default to \"auto\" in 0.17 but change to False in 0.18, and will be removed in 0.19\n",
            "  file_path, montage=\"standard_1020\", preload=True\n",
            "/content/drive/My Drive/Colab Notebooks/mne/io/pick.py:279: DeprecationWarning: `np.bool` is a deprecated alias for the builtin `bool`. To silence this warning, use `bool` by itself. Doing this will not modify any behavior and is safe. If you specifically wanted the numpy scalar type, use `np.bool_` here.\n",
            "Deprecated in NumPy 1.20; for more details and guidance: https://numpy.org/devdocs/release/1.20.0-notes.html#deprecations\n",
            "  pick = np.zeros(nchan, dtype=np.bool)\n"
          ]
        },
        {
          "name": "stdout",
          "output_type": "stream",
          "text": [
            "Extracting EDF parameters from /root/mne_data/MNE-braininvaders-data/record/1494240/files/subject1/Session5/4.gdf...\n",
            "GDF file detected\n",
            "Setting channel info structure...\n",
            "Creating raw.info structure...\n",
            "Reading 0 ... 99775  =      0.000 ...   194.873 secs...\n"
          ]
        },
        {
          "name": "stderr",
          "output_type": "stream",
          "text": [
            "/content/drive/My Drive/Colab Notebooks/Diploma_Thesis/posts/post01_simple_p300/braininvaders.py:68: DeprecationWarning: stim_channel will default to \"auto\" in 0.17 but change to False in 0.18, and will be removed in 0.19\n",
            "  file_path, montage=\"standard_1020\", preload=True\n",
            "/content/drive/My Drive/Colab Notebooks/mne/io/pick.py:279: DeprecationWarning: `np.bool` is a deprecated alias for the builtin `bool`. To silence this warning, use `bool` by itself. Doing this will not modify any behavior and is safe. If you specifically wanted the numpy scalar type, use `np.bool_` here.\n",
            "Deprecated in NumPy 1.20; for more details and guidance: https://numpy.org/devdocs/release/1.20.0-notes.html#deprecations\n",
            "  pick = np.zeros(nchan, dtype=np.bool)\n"
          ]
        },
        {
          "name": "stdout",
          "output_type": "stream",
          "text": [
            "Extracting EDF parameters from /root/mne_data/MNE-braininvaders-data/record/1494240/files/subject1/Session6/4.gdf...\n",
            "GDF file detected\n",
            "Setting channel info structure...\n",
            "Creating raw.info structure...\n",
            "Reading 0 ... 127967  =      0.000 ...   249.936 secs...\n"
          ]
        },
        {
          "name": "stderr",
          "output_type": "stream",
          "text": [
            "/content/drive/My Drive/Colab Notebooks/Diploma_Thesis/posts/post01_simple_p300/braininvaders.py:68: DeprecationWarning: stim_channel will default to \"auto\" in 0.17 but change to False in 0.18, and will be removed in 0.19\n",
            "  file_path, montage=\"standard_1020\", preload=True\n",
            "/content/drive/My Drive/Colab Notebooks/mne/io/pick.py:279: DeprecationWarning: `np.bool` is a deprecated alias for the builtin `bool`. To silence this warning, use `bool` by itself. Doing this will not modify any behavior and is safe. If you specifically wanted the numpy scalar type, use `np.bool_` here.\n",
            "Deprecated in NumPy 1.20; for more details and guidance: https://numpy.org/devdocs/release/1.20.0-notes.html#deprecations\n",
            "  pick = np.zeros(nchan, dtype=np.bool)\n"
          ]
        },
        {
          "name": "stdout",
          "output_type": "stream",
          "text": [
            "Extracting EDF parameters from /root/mne_data/MNE-braininvaders-data/record/1494240/files/subject1/Session8/4.gdf...\n",
            "GDF file detected\n",
            "Setting channel info structure...\n",
            "Creating raw.info structure...\n",
            "Reading 0 ... 97151  =      0.000 ...   189.748 secs...\n"
          ]
        },
        {
          "name": "stderr",
          "output_type": "stream",
          "text": [
            "/content/drive/My Drive/Colab Notebooks/Diploma_Thesis/posts/post01_simple_p300/braininvaders.py:68: DeprecationWarning: stim_channel will default to \"auto\" in 0.17 but change to False in 0.18, and will be removed in 0.19\n",
            "  file_path, montage=\"standard_1020\", preload=True\n",
            "/content/drive/My Drive/Colab Notebooks/mne/io/pick.py:279: DeprecationWarning: `np.bool` is a deprecated alias for the builtin `bool`. To silence this warning, use `bool` by itself. Doing this will not modify any behavior and is safe. If you specifically wanted the numpy scalar type, use `np.bool_` here.\n",
            "Deprecated in NumPy 1.20; for more details and guidance: https://numpy.org/devdocs/release/1.20.0-notes.html#deprecations\n",
            "  pick = np.zeros(nchan, dtype=np.bool)\n"
          ]
        },
        {
          "name": "stdout",
          "output_type": "stream",
          "text": [
            "Extracting EDF parameters from /root/mne_data/MNE-braininvaders-data/record/1494240/files/subject1/Session3/4.gdf...\n",
            "GDF file detected\n",
            "Setting channel info structure...\n",
            "Creating raw.info structure...\n",
            "Reading 0 ... 137983  =      0.000 ...   269.498 secs...\n"
          ]
        },
        {
          "name": "stderr",
          "output_type": "stream",
          "text": [
            "/content/drive/My Drive/Colab Notebooks/Diploma_Thesis/posts/post01_simple_p300/braininvaders.py:68: DeprecationWarning: stim_channel will default to \"auto\" in 0.17 but change to False in 0.18, and will be removed in 0.19\n",
            "  file_path, montage=\"standard_1020\", preload=True\n",
            "/content/drive/My Drive/Colab Notebooks/mne/io/pick.py:279: DeprecationWarning: `np.bool` is a deprecated alias for the builtin `bool`. To silence this warning, use `bool` by itself. Doing this will not modify any behavior and is safe. If you specifically wanted the numpy scalar type, use `np.bool_` here.\n",
            "Deprecated in NumPy 1.20; for more details and guidance: https://numpy.org/devdocs/release/1.20.0-notes.html#deprecations\n",
            "  pick = np.zeros(nchan, dtype=np.bool)\n"
          ]
        },
        {
          "name": "stdout",
          "output_type": "stream",
          "text": [
            "Extracting EDF parameters from /root/mne_data/MNE-braininvaders-data/record/1494240/files/subject1/Session1/4.gdf...\n",
            "GDF file detected\n",
            "Setting channel info structure...\n",
            "Creating raw.info structure...\n",
            "Reading 0 ... 144383  =      0.000 ...   281.998 secs...\n"
          ]
        },
        {
          "name": "stderr",
          "output_type": "stream",
          "text": [
            "/content/drive/My Drive/Colab Notebooks/Diploma_Thesis/posts/post01_simple_p300/braininvaders.py:68: DeprecationWarning: stim_channel will default to \"auto\" in 0.17 but change to False in 0.18, and will be removed in 0.19\n",
            "  file_path, montage=\"standard_1020\", preload=True\n",
            "/content/drive/My Drive/Colab Notebooks/mne/io/pick.py:279: DeprecationWarning: `np.bool` is a deprecated alias for the builtin `bool`. To silence this warning, use `bool` by itself. Doing this will not modify any behavior and is safe. If you specifically wanted the numpy scalar type, use `np.bool_` here.\n",
            "Deprecated in NumPy 1.20; for more details and guidance: https://numpy.org/devdocs/release/1.20.0-notes.html#deprecations\n",
            "  pick = np.zeros(nchan, dtype=np.bool)\n"
          ]
        },
        {
          "name": "stdout",
          "output_type": "stream",
          "text": [
            "Extracting EDF parameters from /root/mne_data/MNE-braininvaders-data/record/1494240/files/subject1/Session4/4.gdf...\n",
            "GDF file detected\n",
            "Setting channel info structure...\n",
            "Creating raw.info structure...\n",
            "Reading 0 ... 128639  =      0.000 ...   251.248 secs...\n"
          ]
        },
        {
          "name": "stderr",
          "output_type": "stream",
          "text": [
            "/content/drive/My Drive/Colab Notebooks/Diploma_Thesis/posts/post01_simple_p300/braininvaders.py:68: DeprecationWarning: stim_channel will default to \"auto\" in 0.17 but change to False in 0.18, and will be removed in 0.19\n",
            "  file_path, montage=\"standard_1020\", preload=True\n",
            "/content/drive/My Drive/Colab Notebooks/mne/io/pick.py:279: DeprecationWarning: `np.bool` is a deprecated alias for the builtin `bool`. To silence this warning, use `bool` by itself. Doing this will not modify any behavior and is safe. If you specifically wanted the numpy scalar type, use `np.bool_` here.\n",
            "Deprecated in NumPy 1.20; for more details and guidance: https://numpy.org/devdocs/release/1.20.0-notes.html#deprecations\n",
            "  pick = np.zeros(nchan, dtype=np.bool)\n"
          ]
        },
        {
          "name": "stdout",
          "output_type": "stream",
          "text": [
            "Extracting EDF parameters from /root/mne_data/MNE-braininvaders-data/record/1494240/files/subject1/Session7/4.gdf...\n",
            "GDF file detected\n",
            "Setting channel info structure...\n",
            "Creating raw.info structure...\n",
            "Reading 0 ... 151679  =      0.000 ...   296.248 secs...\n"
          ]
        },
        {
          "name": "stderr",
          "output_type": "stream",
          "text": [
            "/content/drive/My Drive/Colab Notebooks/Diploma_Thesis/posts/post01_simple_p300/braininvaders.py:68: DeprecationWarning: stim_channel will default to \"auto\" in 0.17 but change to False in 0.18, and will be removed in 0.19\n",
            "  file_path, montage=\"standard_1020\", preload=True\n",
            "/content/drive/My Drive/Colab Notebooks/mne/io/pick.py:279: DeprecationWarning: `np.bool` is a deprecated alias for the builtin `bool`. To silence this warning, use `bool` by itself. Doing this will not modify any behavior and is safe. If you specifically wanted the numpy scalar type, use `np.bool_` here.\n",
            "Deprecated in NumPy 1.20; for more details and guidance: https://numpy.org/devdocs/release/1.20.0-notes.html#deprecations\n",
            "  pick = np.zeros(nchan, dtype=np.bool)\n"
          ]
        },
        {
          "name": "stdout",
          "output_type": "stream",
          "text": [
            "Extracting EDF parameters from /root/mne_data/MNE-braininvaders-data/record/1494240/files/subject2/Session2/1.gdf...\n",
            "GDF file detected\n",
            "Setting channel info structure...\n",
            "Creating raw.info structure...\n",
            "Reading 0 ... 132479  =      0.000 ...   258.748 secs...\n"
          ]
        },
        {
          "name": "stderr",
          "output_type": "stream",
          "text": [
            "/content/drive/My Drive/Colab Notebooks/Diploma_Thesis/posts/post01_simple_p300/braininvaders.py:68: DeprecationWarning: stim_channel will default to \"auto\" in 0.17 but change to False in 0.18, and will be removed in 0.19\n",
            "  file_path, montage=\"standard_1020\", preload=True\n",
            "/content/drive/My Drive/Colab Notebooks/mne/io/pick.py:279: DeprecationWarning: `np.bool` is a deprecated alias for the builtin `bool`. To silence this warning, use `bool` by itself. Doing this will not modify any behavior and is safe. If you specifically wanted the numpy scalar type, use `np.bool_` here.\n",
            "Deprecated in NumPy 1.20; for more details and guidance: https://numpy.org/devdocs/release/1.20.0-notes.html#deprecations\n",
            "  pick = np.zeros(nchan, dtype=np.bool)\n"
          ]
        },
        {
          "name": "stdout",
          "output_type": "stream",
          "text": [
            "Extracting EDF parameters from /root/mne_data/MNE-braininvaders-data/record/1494240/files/subject2/Session5/1.gdf...\n",
            "GDF file detected\n",
            "Setting channel info structure...\n",
            "Creating raw.info structure...\n",
            "Reading 0 ... 144671  =      0.000 ...   282.561 secs...\n"
          ]
        },
        {
          "name": "stderr",
          "output_type": "stream",
          "text": [
            "/content/drive/My Drive/Colab Notebooks/Diploma_Thesis/posts/post01_simple_p300/braininvaders.py:68: DeprecationWarning: stim_channel will default to \"auto\" in 0.17 but change to False in 0.18, and will be removed in 0.19\n",
            "  file_path, montage=\"standard_1020\", preload=True\n",
            "/content/drive/My Drive/Colab Notebooks/mne/io/pick.py:279: DeprecationWarning: `np.bool` is a deprecated alias for the builtin `bool`. To silence this warning, use `bool` by itself. Doing this will not modify any behavior and is safe. If you specifically wanted the numpy scalar type, use `np.bool_` here.\n",
            "Deprecated in NumPy 1.20; for more details and guidance: https://numpy.org/devdocs/release/1.20.0-notes.html#deprecations\n",
            "  pick = np.zeros(nchan, dtype=np.bool)\n"
          ]
        },
        {
          "name": "stdout",
          "output_type": "stream",
          "text": [
            "Extracting EDF parameters from /root/mne_data/MNE-braininvaders-data/record/1494240/files/subject2/Session6/1.gdf...\n",
            "GDF file detected\n",
            "Setting channel info structure...\n",
            "Creating raw.info structure...\n",
            "Reading 0 ... 133311  =      0.000 ...   260.373 secs...\n"
          ]
        },
        {
          "name": "stderr",
          "output_type": "stream",
          "text": [
            "/content/drive/My Drive/Colab Notebooks/Diploma_Thesis/posts/post01_simple_p300/braininvaders.py:68: DeprecationWarning: stim_channel will default to \"auto\" in 0.17 but change to False in 0.18, and will be removed in 0.19\n",
            "  file_path, montage=\"standard_1020\", preload=True\n",
            "/content/drive/My Drive/Colab Notebooks/mne/io/pick.py:279: DeprecationWarning: `np.bool` is a deprecated alias for the builtin `bool`. To silence this warning, use `bool` by itself. Doing this will not modify any behavior and is safe. If you specifically wanted the numpy scalar type, use `np.bool_` here.\n",
            "Deprecated in NumPy 1.20; for more details and guidance: https://numpy.org/devdocs/release/1.20.0-notes.html#deprecations\n",
            "  pick = np.zeros(nchan, dtype=np.bool)\n"
          ]
        },
        {
          "name": "stdout",
          "output_type": "stream",
          "text": [
            "Extracting EDF parameters from /root/mne_data/MNE-braininvaders-data/record/1494240/files/subject2/Session8/1.gdf...\n",
            "GDF file detected\n",
            "Setting channel info structure...\n",
            "Creating raw.info structure...\n",
            "Reading 0 ... 141247  =      0.000 ...   275.873 secs...\n"
          ]
        },
        {
          "name": "stderr",
          "output_type": "stream",
          "text": [
            "/content/drive/My Drive/Colab Notebooks/Diploma_Thesis/posts/post01_simple_p300/braininvaders.py:68: DeprecationWarning: stim_channel will default to \"auto\" in 0.17 but change to False in 0.18, and will be removed in 0.19\n",
            "  file_path, montage=\"standard_1020\", preload=True\n",
            "/content/drive/My Drive/Colab Notebooks/mne/io/pick.py:279: DeprecationWarning: `np.bool` is a deprecated alias for the builtin `bool`. To silence this warning, use `bool` by itself. Doing this will not modify any behavior and is safe. If you specifically wanted the numpy scalar type, use `np.bool_` here.\n",
            "Deprecated in NumPy 1.20; for more details and guidance: https://numpy.org/devdocs/release/1.20.0-notes.html#deprecations\n",
            "  pick = np.zeros(nchan, dtype=np.bool)\n"
          ]
        },
        {
          "name": "stdout",
          "output_type": "stream",
          "text": [
            "Extracting EDF parameters from /root/mne_data/MNE-braininvaders-data/record/1494240/files/subject2/Session3/1.gdf...\n",
            "GDF file detected\n",
            "Setting channel info structure...\n",
            "Creating raw.info structure...\n",
            "Reading 0 ... 136095  =      0.000 ...   265.811 secs...\n"
          ]
        },
        {
          "name": "stderr",
          "output_type": "stream",
          "text": [
            "/content/drive/My Drive/Colab Notebooks/Diploma_Thesis/posts/post01_simple_p300/braininvaders.py:68: DeprecationWarning: stim_channel will default to \"auto\" in 0.17 but change to False in 0.18, and will be removed in 0.19\n",
            "  file_path, montage=\"standard_1020\", preload=True\n",
            "/content/drive/My Drive/Colab Notebooks/mne/io/pick.py:279: DeprecationWarning: `np.bool` is a deprecated alias for the builtin `bool`. To silence this warning, use `bool` by itself. Doing this will not modify any behavior and is safe. If you specifically wanted the numpy scalar type, use `np.bool_` here.\n",
            "Deprecated in NumPy 1.20; for more details and guidance: https://numpy.org/devdocs/release/1.20.0-notes.html#deprecations\n",
            "  pick = np.zeros(nchan, dtype=np.bool)\n"
          ]
        },
        {
          "name": "stdout",
          "output_type": "stream",
          "text": [
            "Extracting EDF parameters from /root/mne_data/MNE-braininvaders-data/record/1494240/files/subject2/Session1/1.gdf...\n",
            "GDF file detected\n",
            "Setting channel info structure...\n",
            "Creating raw.info structure...\n",
            "Reading 0 ... 149087  =      0.000 ...   291.186 secs...\n"
          ]
        },
        {
          "name": "stderr",
          "output_type": "stream",
          "text": [
            "/content/drive/My Drive/Colab Notebooks/Diploma_Thesis/posts/post01_simple_p300/braininvaders.py:68: DeprecationWarning: stim_channel will default to \"auto\" in 0.17 but change to False in 0.18, and will be removed in 0.19\n",
            "  file_path, montage=\"standard_1020\", preload=True\n",
            "/content/drive/My Drive/Colab Notebooks/mne/io/pick.py:279: DeprecationWarning: `np.bool` is a deprecated alias for the builtin `bool`. To silence this warning, use `bool` by itself. Doing this will not modify any behavior and is safe. If you specifically wanted the numpy scalar type, use `np.bool_` here.\n",
            "Deprecated in NumPy 1.20; for more details and guidance: https://numpy.org/devdocs/release/1.20.0-notes.html#deprecations\n",
            "  pick = np.zeros(nchan, dtype=np.bool)\n"
          ]
        },
        {
          "name": "stdout",
          "output_type": "stream",
          "text": [
            "Extracting EDF parameters from /root/mne_data/MNE-braininvaders-data/record/1494240/files/subject2/Session4/1.gdf...\n",
            "GDF file detected\n",
            "Setting channel info structure...\n",
            "Creating raw.info structure...\n",
            "Reading 0 ... 142303  =      0.000 ...   277.936 secs...\n"
          ]
        },
        {
          "name": "stderr",
          "output_type": "stream",
          "text": [
            "/content/drive/My Drive/Colab Notebooks/Diploma_Thesis/posts/post01_simple_p300/braininvaders.py:68: DeprecationWarning: stim_channel will default to \"auto\" in 0.17 but change to False in 0.18, and will be removed in 0.19\n",
            "  file_path, montage=\"standard_1020\", preload=True\n",
            "/content/drive/My Drive/Colab Notebooks/mne/io/pick.py:279: DeprecationWarning: `np.bool` is a deprecated alias for the builtin `bool`. To silence this warning, use `bool` by itself. Doing this will not modify any behavior and is safe. If you specifically wanted the numpy scalar type, use `np.bool_` here.\n",
            "Deprecated in NumPy 1.20; for more details and guidance: https://numpy.org/devdocs/release/1.20.0-notes.html#deprecations\n",
            "  pick = np.zeros(nchan, dtype=np.bool)\n"
          ]
        },
        {
          "name": "stdout",
          "output_type": "stream",
          "text": [
            "Extracting EDF parameters from /root/mne_data/MNE-braininvaders-data/record/1494240/files/subject2/Session7/1.gdf...\n",
            "GDF file detected\n",
            "Setting channel info structure...\n",
            "Creating raw.info structure...\n",
            "Reading 0 ... 137919  =      0.000 ...   269.373 secs...\n"
          ]
        },
        {
          "name": "stderr",
          "output_type": "stream",
          "text": [
            "/content/drive/My Drive/Colab Notebooks/Diploma_Thesis/posts/post01_simple_p300/braininvaders.py:68: DeprecationWarning: stim_channel will default to \"auto\" in 0.17 but change to False in 0.18, and will be removed in 0.19\n",
            "  file_path, montage=\"standard_1020\", preload=True\n",
            "/content/drive/My Drive/Colab Notebooks/mne/io/pick.py:279: DeprecationWarning: `np.bool` is a deprecated alias for the builtin `bool`. To silence this warning, use `bool` by itself. Doing this will not modify any behavior and is safe. If you specifically wanted the numpy scalar type, use `np.bool_` here.\n",
            "Deprecated in NumPy 1.20; for more details and guidance: https://numpy.org/devdocs/release/1.20.0-notes.html#deprecations\n",
            "  pick = np.zeros(nchan, dtype=np.bool)\n"
          ]
        },
        {
          "name": "stdout",
          "output_type": "stream",
          "text": [
            "Extracting EDF parameters from /root/mne_data/MNE-braininvaders-data/record/1494240/files/subject2/Session2/2.gdf...\n",
            "GDF file detected\n",
            "Setting channel info structure...\n",
            "Creating raw.info structure...\n",
            "Reading 0 ... 121343  =      0.000 ...   236.998 secs...\n"
          ]
        },
        {
          "name": "stderr",
          "output_type": "stream",
          "text": [
            "/content/drive/My Drive/Colab Notebooks/Diploma_Thesis/posts/post01_simple_p300/braininvaders.py:68: DeprecationWarning: stim_channel will default to \"auto\" in 0.17 but change to False in 0.18, and will be removed in 0.19\n",
            "  file_path, montage=\"standard_1020\", preload=True\n",
            "/content/drive/My Drive/Colab Notebooks/mne/io/pick.py:279: DeprecationWarning: `np.bool` is a deprecated alias for the builtin `bool`. To silence this warning, use `bool` by itself. Doing this will not modify any behavior and is safe. If you specifically wanted the numpy scalar type, use `np.bool_` here.\n",
            "Deprecated in NumPy 1.20; for more details and guidance: https://numpy.org/devdocs/release/1.20.0-notes.html#deprecations\n",
            "  pick = np.zeros(nchan, dtype=np.bool)\n"
          ]
        },
        {
          "name": "stdout",
          "output_type": "stream",
          "text": [
            "Extracting EDF parameters from /root/mne_data/MNE-braininvaders-data/record/1494240/files/subject2/Session5/2.gdf...\n",
            "GDF file detected\n",
            "Setting channel info structure...\n",
            "Creating raw.info structure...\n",
            "Reading 0 ... 113567  =      0.000 ...   221.811 secs...\n"
          ]
        },
        {
          "name": "stderr",
          "output_type": "stream",
          "text": [
            "/content/drive/My Drive/Colab Notebooks/Diploma_Thesis/posts/post01_simple_p300/braininvaders.py:68: DeprecationWarning: stim_channel will default to \"auto\" in 0.17 but change to False in 0.18, and will be removed in 0.19\n",
            "  file_path, montage=\"standard_1020\", preload=True\n",
            "/content/drive/My Drive/Colab Notebooks/mne/io/pick.py:279: DeprecationWarning: `np.bool` is a deprecated alias for the builtin `bool`. To silence this warning, use `bool` by itself. Doing this will not modify any behavior and is safe. If you specifically wanted the numpy scalar type, use `np.bool_` here.\n",
            "Deprecated in NumPy 1.20; for more details and guidance: https://numpy.org/devdocs/release/1.20.0-notes.html#deprecations\n",
            "  pick = np.zeros(nchan, dtype=np.bool)\n"
          ]
        },
        {
          "name": "stdout",
          "output_type": "stream",
          "text": [
            "Extracting EDF parameters from /root/mne_data/MNE-braininvaders-data/record/1494240/files/subject2/Session6/2.gdf...\n",
            "GDF file detected\n",
            "Setting channel info structure...\n",
            "Creating raw.info structure...\n",
            "Reading 0 ... 133023  =      0.000 ...   259.811 secs...\n"
          ]
        },
        {
          "name": "stderr",
          "output_type": "stream",
          "text": [
            "/content/drive/My Drive/Colab Notebooks/Diploma_Thesis/posts/post01_simple_p300/braininvaders.py:68: DeprecationWarning: stim_channel will default to \"auto\" in 0.17 but change to False in 0.18, and will be removed in 0.19\n",
            "  file_path, montage=\"standard_1020\", preload=True\n",
            "/content/drive/My Drive/Colab Notebooks/mne/io/pick.py:279: DeprecationWarning: `np.bool` is a deprecated alias for the builtin `bool`. To silence this warning, use `bool` by itself. Doing this will not modify any behavior and is safe. If you specifically wanted the numpy scalar type, use `np.bool_` here.\n",
            "Deprecated in NumPy 1.20; for more details and guidance: https://numpy.org/devdocs/release/1.20.0-notes.html#deprecations\n",
            "  pick = np.zeros(nchan, dtype=np.bool)\n"
          ]
        },
        {
          "name": "stdout",
          "output_type": "stream",
          "text": [
            "Extracting EDF parameters from /root/mne_data/MNE-braininvaders-data/record/1494240/files/subject2/Session8/2.gdf...\n",
            "GDF file detected\n",
            "Setting channel info structure...\n",
            "Creating raw.info structure...\n",
            "Reading 0 ... 105247  =      0.000 ...   205.561 secs...\n"
          ]
        },
        {
          "name": "stderr",
          "output_type": "stream",
          "text": [
            "/content/drive/My Drive/Colab Notebooks/Diploma_Thesis/posts/post01_simple_p300/braininvaders.py:68: DeprecationWarning: stim_channel will default to \"auto\" in 0.17 but change to False in 0.18, and will be removed in 0.19\n",
            "  file_path, montage=\"standard_1020\", preload=True\n",
            "/content/drive/My Drive/Colab Notebooks/mne/io/pick.py:279: DeprecationWarning: `np.bool` is a deprecated alias for the builtin `bool`. To silence this warning, use `bool` by itself. Doing this will not modify any behavior and is safe. If you specifically wanted the numpy scalar type, use `np.bool_` here.\n",
            "Deprecated in NumPy 1.20; for more details and guidance: https://numpy.org/devdocs/release/1.20.0-notes.html#deprecations\n",
            "  pick = np.zeros(nchan, dtype=np.bool)\n"
          ]
        },
        {
          "name": "stdout",
          "output_type": "stream",
          "text": [
            "Extracting EDF parameters from /root/mne_data/MNE-braininvaders-data/record/1494240/files/subject2/Session3/2.gdf...\n",
            "GDF file detected\n",
            "Setting channel info structure...\n",
            "Creating raw.info structure...\n",
            "Reading 0 ... 108831  =      0.000 ...   212.561 secs...\n"
          ]
        },
        {
          "name": "stderr",
          "output_type": "stream",
          "text": [
            "/content/drive/My Drive/Colab Notebooks/Diploma_Thesis/posts/post01_simple_p300/braininvaders.py:68: DeprecationWarning: stim_channel will default to \"auto\" in 0.17 but change to False in 0.18, and will be removed in 0.19\n",
            "  file_path, montage=\"standard_1020\", preload=True\n",
            "/content/drive/My Drive/Colab Notebooks/mne/io/pick.py:279: DeprecationWarning: `np.bool` is a deprecated alias for the builtin `bool`. To silence this warning, use `bool` by itself. Doing this will not modify any behavior and is safe. If you specifically wanted the numpy scalar type, use `np.bool_` here.\n",
            "Deprecated in NumPy 1.20; for more details and guidance: https://numpy.org/devdocs/release/1.20.0-notes.html#deprecations\n",
            "  pick = np.zeros(nchan, dtype=np.bool)\n"
          ]
        },
        {
          "name": "stdout",
          "output_type": "stream",
          "text": [
            "Extracting EDF parameters from /root/mne_data/MNE-braininvaders-data/record/1494240/files/subject2/Session1/2.gdf...\n",
            "GDF file detected\n",
            "Setting channel info structure...\n",
            "Creating raw.info structure...\n",
            "Reading 0 ... 138847  =      0.000 ...   271.186 secs...\n"
          ]
        },
        {
          "name": "stderr",
          "output_type": "stream",
          "text": [
            "/content/drive/My Drive/Colab Notebooks/Diploma_Thesis/posts/post01_simple_p300/braininvaders.py:68: DeprecationWarning: stim_channel will default to \"auto\" in 0.17 but change to False in 0.18, and will be removed in 0.19\n",
            "  file_path, montage=\"standard_1020\", preload=True\n",
            "/content/drive/My Drive/Colab Notebooks/mne/io/pick.py:279: DeprecationWarning: `np.bool` is a deprecated alias for the builtin `bool`. To silence this warning, use `bool` by itself. Doing this will not modify any behavior and is safe. If you specifically wanted the numpy scalar type, use `np.bool_` here.\n",
            "Deprecated in NumPy 1.20; for more details and guidance: https://numpy.org/devdocs/release/1.20.0-notes.html#deprecations\n",
            "  pick = np.zeros(nchan, dtype=np.bool)\n"
          ]
        },
        {
          "name": "stdout",
          "output_type": "stream",
          "text": [
            "Extracting EDF parameters from /root/mne_data/MNE-braininvaders-data/record/1494240/files/subject2/Session4/2.gdf...\n",
            "GDF file detected\n",
            "Setting channel info structure...\n",
            "Creating raw.info structure...\n",
            "Reading 0 ... 113439  =      0.000 ...   221.561 secs...\n"
          ]
        },
        {
          "name": "stderr",
          "output_type": "stream",
          "text": [
            "/content/drive/My Drive/Colab Notebooks/Diploma_Thesis/posts/post01_simple_p300/braininvaders.py:68: DeprecationWarning: stim_channel will default to \"auto\" in 0.17 but change to False in 0.18, and will be removed in 0.19\n",
            "  file_path, montage=\"standard_1020\", preload=True\n",
            "/content/drive/My Drive/Colab Notebooks/mne/io/pick.py:279: DeprecationWarning: `np.bool` is a deprecated alias for the builtin `bool`. To silence this warning, use `bool` by itself. Doing this will not modify any behavior and is safe. If you specifically wanted the numpy scalar type, use `np.bool_` here.\n",
            "Deprecated in NumPy 1.20; for more details and guidance: https://numpy.org/devdocs/release/1.20.0-notes.html#deprecations\n",
            "  pick = np.zeros(nchan, dtype=np.bool)\n"
          ]
        },
        {
          "name": "stdout",
          "output_type": "stream",
          "text": [
            "Extracting EDF parameters from /root/mne_data/MNE-braininvaders-data/record/1494240/files/subject2/Session7/2.gdf...\n",
            "GDF file detected\n",
            "Setting channel info structure...\n",
            "Creating raw.info structure...\n",
            "Reading 0 ... 102111  =      0.000 ...   199.436 secs...\n"
          ]
        },
        {
          "name": "stderr",
          "output_type": "stream",
          "text": [
            "/content/drive/My Drive/Colab Notebooks/Diploma_Thesis/posts/post01_simple_p300/braininvaders.py:68: DeprecationWarning: stim_channel will default to \"auto\" in 0.17 but change to False in 0.18, and will be removed in 0.19\n",
            "  file_path, montage=\"standard_1020\", preload=True\n",
            "/content/drive/My Drive/Colab Notebooks/mne/io/pick.py:279: DeprecationWarning: `np.bool` is a deprecated alias for the builtin `bool`. To silence this warning, use `bool` by itself. Doing this will not modify any behavior and is safe. If you specifically wanted the numpy scalar type, use `np.bool_` here.\n",
            "Deprecated in NumPy 1.20; for more details and guidance: https://numpy.org/devdocs/release/1.20.0-notes.html#deprecations\n",
            "  pick = np.zeros(nchan, dtype=np.bool)\n"
          ]
        },
        {
          "name": "stdout",
          "output_type": "stream",
          "text": [
            "Extracting EDF parameters from /root/mne_data/MNE-braininvaders-data/record/1494240/files/subject2/Session2/3.gdf...\n",
            "GDF file detected\n",
            "Setting channel info structure...\n",
            "Creating raw.info structure...\n",
            "Reading 0 ... 141087  =      0.000 ...   275.561 secs...\n"
          ]
        },
        {
          "name": "stderr",
          "output_type": "stream",
          "text": [
            "/content/drive/My Drive/Colab Notebooks/Diploma_Thesis/posts/post01_simple_p300/braininvaders.py:68: DeprecationWarning: stim_channel will default to \"auto\" in 0.17 but change to False in 0.18, and will be removed in 0.19\n",
            "  file_path, montage=\"standard_1020\", preload=True\n",
            "/content/drive/My Drive/Colab Notebooks/mne/io/pick.py:279: DeprecationWarning: `np.bool` is a deprecated alias for the builtin `bool`. To silence this warning, use `bool` by itself. Doing this will not modify any behavior and is safe. If you specifically wanted the numpy scalar type, use `np.bool_` here.\n",
            "Deprecated in NumPy 1.20; for more details and guidance: https://numpy.org/devdocs/release/1.20.0-notes.html#deprecations\n",
            "  pick = np.zeros(nchan, dtype=np.bool)\n"
          ]
        },
        {
          "name": "stdout",
          "output_type": "stream",
          "text": [
            "Extracting EDF parameters from /root/mne_data/MNE-braininvaders-data/record/1494240/files/subject2/Session5/3.gdf...\n",
            "GDF file detected\n",
            "Setting channel info structure...\n",
            "Creating raw.info structure...\n",
            "Reading 0 ... 136543  =      0.000 ...   266.686 secs...\n"
          ]
        },
        {
          "name": "stderr",
          "output_type": "stream",
          "text": [
            "/content/drive/My Drive/Colab Notebooks/Diploma_Thesis/posts/post01_simple_p300/braininvaders.py:68: DeprecationWarning: stim_channel will default to \"auto\" in 0.17 but change to False in 0.18, and will be removed in 0.19\n",
            "  file_path, montage=\"standard_1020\", preload=True\n",
            "/content/drive/My Drive/Colab Notebooks/mne/io/pick.py:279: DeprecationWarning: `np.bool` is a deprecated alias for the builtin `bool`. To silence this warning, use `bool` by itself. Doing this will not modify any behavior and is safe. If you specifically wanted the numpy scalar type, use `np.bool_` here.\n",
            "Deprecated in NumPy 1.20; for more details and guidance: https://numpy.org/devdocs/release/1.20.0-notes.html#deprecations\n",
            "  pick = np.zeros(nchan, dtype=np.bool)\n"
          ]
        },
        {
          "name": "stdout",
          "output_type": "stream",
          "text": [
            "Extracting EDF parameters from /root/mne_data/MNE-braininvaders-data/record/1494240/files/subject2/Session6/3.gdf...\n",
            "GDF file detected\n",
            "Setting channel info structure...\n",
            "Creating raw.info structure...\n",
            "Reading 0 ... 139647  =      0.000 ...   272.748 secs...\n"
          ]
        },
        {
          "name": "stderr",
          "output_type": "stream",
          "text": [
            "/content/drive/My Drive/Colab Notebooks/Diploma_Thesis/posts/post01_simple_p300/braininvaders.py:68: DeprecationWarning: stim_channel will default to \"auto\" in 0.17 but change to False in 0.18, and will be removed in 0.19\n",
            "  file_path, montage=\"standard_1020\", preload=True\n",
            "/content/drive/My Drive/Colab Notebooks/mne/io/pick.py:279: DeprecationWarning: `np.bool` is a deprecated alias for the builtin `bool`. To silence this warning, use `bool` by itself. Doing this will not modify any behavior and is safe. If you specifically wanted the numpy scalar type, use `np.bool_` here.\n",
            "Deprecated in NumPy 1.20; for more details and guidance: https://numpy.org/devdocs/release/1.20.0-notes.html#deprecations\n",
            "  pick = np.zeros(nchan, dtype=np.bool)\n"
          ]
        },
        {
          "name": "stdout",
          "output_type": "stream",
          "text": [
            "Extracting EDF parameters from /root/mne_data/MNE-braininvaders-data/record/1494240/files/subject2/Session8/3.gdf...\n",
            "GDF file detected\n",
            "Setting channel info structure...\n",
            "Creating raw.info structure...\n",
            "Reading 0 ... 139135  =      0.000 ...   271.748 secs...\n"
          ]
        },
        {
          "name": "stderr",
          "output_type": "stream",
          "text": [
            "/content/drive/My Drive/Colab Notebooks/Diploma_Thesis/posts/post01_simple_p300/braininvaders.py:68: DeprecationWarning: stim_channel will default to \"auto\" in 0.17 but change to False in 0.18, and will be removed in 0.19\n",
            "  file_path, montage=\"standard_1020\", preload=True\n",
            "/content/drive/My Drive/Colab Notebooks/mne/io/pick.py:279: DeprecationWarning: `np.bool` is a deprecated alias for the builtin `bool`. To silence this warning, use `bool` by itself. Doing this will not modify any behavior and is safe. If you specifically wanted the numpy scalar type, use `np.bool_` here.\n",
            "Deprecated in NumPy 1.20; for more details and guidance: https://numpy.org/devdocs/release/1.20.0-notes.html#deprecations\n",
            "  pick = np.zeros(nchan, dtype=np.bool)\n"
          ]
        },
        {
          "name": "stdout",
          "output_type": "stream",
          "text": [
            "Extracting EDF parameters from /root/mne_data/MNE-braininvaders-data/record/1494240/files/subject2/Session3/3.gdf...\n",
            "GDF file detected\n",
            "Setting channel info structure...\n",
            "Creating raw.info structure...\n",
            "Reading 0 ... 132479  =      0.000 ...   258.748 secs...\n"
          ]
        },
        {
          "name": "stderr",
          "output_type": "stream",
          "text": [
            "/content/drive/My Drive/Colab Notebooks/Diploma_Thesis/posts/post01_simple_p300/braininvaders.py:68: DeprecationWarning: stim_channel will default to \"auto\" in 0.17 but change to False in 0.18, and will be removed in 0.19\n",
            "  file_path, montage=\"standard_1020\", preload=True\n",
            "/content/drive/My Drive/Colab Notebooks/mne/io/pick.py:279: DeprecationWarning: `np.bool` is a deprecated alias for the builtin `bool`. To silence this warning, use `bool` by itself. Doing this will not modify any behavior and is safe. If you specifically wanted the numpy scalar type, use `np.bool_` here.\n",
            "Deprecated in NumPy 1.20; for more details and guidance: https://numpy.org/devdocs/release/1.20.0-notes.html#deprecations\n",
            "  pick = np.zeros(nchan, dtype=np.bool)\n"
          ]
        },
        {
          "name": "stdout",
          "output_type": "stream",
          "text": [
            "Extracting EDF parameters from /root/mne_data/MNE-braininvaders-data/record/1494240/files/subject2/Session1/3.gdf...\n",
            "GDF file detected\n",
            "Setting channel info structure...\n",
            "Creating raw.info structure...\n",
            "Reading 0 ... 239199  =      0.000 ...   467.186 secs...\n"
          ]
        },
        {
          "name": "stderr",
          "output_type": "stream",
          "text": [
            "/content/drive/My Drive/Colab Notebooks/Diploma_Thesis/posts/post01_simple_p300/braininvaders.py:68: DeprecationWarning: stim_channel will default to \"auto\" in 0.17 but change to False in 0.18, and will be removed in 0.19\n",
            "  file_path, montage=\"standard_1020\", preload=True\n",
            "/content/drive/My Drive/Colab Notebooks/mne/io/pick.py:279: DeprecationWarning: `np.bool` is a deprecated alias for the builtin `bool`. To silence this warning, use `bool` by itself. Doing this will not modify any behavior and is safe. If you specifically wanted the numpy scalar type, use `np.bool_` here.\n",
            "Deprecated in NumPy 1.20; for more details and guidance: https://numpy.org/devdocs/release/1.20.0-notes.html#deprecations\n",
            "  pick = np.zeros(nchan, dtype=np.bool)\n"
          ]
        },
        {
          "name": "stdout",
          "output_type": "stream",
          "text": [
            "Extracting EDF parameters from /root/mne_data/MNE-braininvaders-data/record/1494240/files/subject2/Session4/3.gdf...\n",
            "GDF file detected\n",
            "Setting channel info structure...\n",
            "Creating raw.info structure...\n",
            "Reading 0 ... 135743  =      0.000 ...   265.123 secs...\n"
          ]
        },
        {
          "name": "stderr",
          "output_type": "stream",
          "text": [
            "/content/drive/My Drive/Colab Notebooks/Diploma_Thesis/posts/post01_simple_p300/braininvaders.py:68: DeprecationWarning: stim_channel will default to \"auto\" in 0.17 but change to False in 0.18, and will be removed in 0.19\n",
            "  file_path, montage=\"standard_1020\", preload=True\n",
            "/content/drive/My Drive/Colab Notebooks/mne/io/pick.py:279: DeprecationWarning: `np.bool` is a deprecated alias for the builtin `bool`. To silence this warning, use `bool` by itself. Doing this will not modify any behavior and is safe. If you specifically wanted the numpy scalar type, use `np.bool_` here.\n",
            "Deprecated in NumPy 1.20; for more details and guidance: https://numpy.org/devdocs/release/1.20.0-notes.html#deprecations\n",
            "  pick = np.zeros(nchan, dtype=np.bool)\n"
          ]
        },
        {
          "name": "stdout",
          "output_type": "stream",
          "text": [
            "Extracting EDF parameters from /root/mne_data/MNE-braininvaders-data/record/1494240/files/subject2/Session7/3.gdf...\n",
            "GDF file detected\n",
            "Setting channel info structure...\n",
            "Creating raw.info structure...\n",
            "Reading 0 ... 136287  =      0.000 ...   266.186 secs...\n"
          ]
        },
        {
          "name": "stderr",
          "output_type": "stream",
          "text": [
            "/content/drive/My Drive/Colab Notebooks/Diploma_Thesis/posts/post01_simple_p300/braininvaders.py:68: DeprecationWarning: stim_channel will default to \"auto\" in 0.17 but change to False in 0.18, and will be removed in 0.19\n",
            "  file_path, montage=\"standard_1020\", preload=True\n",
            "/content/drive/My Drive/Colab Notebooks/mne/io/pick.py:279: DeprecationWarning: `np.bool` is a deprecated alias for the builtin `bool`. To silence this warning, use `bool` by itself. Doing this will not modify any behavior and is safe. If you specifically wanted the numpy scalar type, use `np.bool_` here.\n",
            "Deprecated in NumPy 1.20; for more details and guidance: https://numpy.org/devdocs/release/1.20.0-notes.html#deprecations\n",
            "  pick = np.zeros(nchan, dtype=np.bool)\n"
          ]
        },
        {
          "name": "stdout",
          "output_type": "stream",
          "text": [
            "Extracting EDF parameters from /root/mne_data/MNE-braininvaders-data/record/1494240/files/subject2/Session2/4.gdf...\n",
            "GDF file detected\n",
            "Setting channel info structure...\n",
            "Creating raw.info structure...\n",
            "Reading 0 ... 103039  =      0.000 ...   201.248 secs...\n"
          ]
        },
        {
          "name": "stderr",
          "output_type": "stream",
          "text": [
            "/content/drive/My Drive/Colab Notebooks/Diploma_Thesis/posts/post01_simple_p300/braininvaders.py:68: DeprecationWarning: stim_channel will default to \"auto\" in 0.17 but change to False in 0.18, and will be removed in 0.19\n",
            "  file_path, montage=\"standard_1020\", preload=True\n",
            "/content/drive/My Drive/Colab Notebooks/mne/io/pick.py:279: DeprecationWarning: `np.bool` is a deprecated alias for the builtin `bool`. To silence this warning, use `bool` by itself. Doing this will not modify any behavior and is safe. If you specifically wanted the numpy scalar type, use `np.bool_` here.\n",
            "Deprecated in NumPy 1.20; for more details and guidance: https://numpy.org/devdocs/release/1.20.0-notes.html#deprecations\n",
            "  pick = np.zeros(nchan, dtype=np.bool)\n"
          ]
        },
        {
          "name": "stdout",
          "output_type": "stream",
          "text": [
            "Extracting EDF parameters from /root/mne_data/MNE-braininvaders-data/record/1494240/files/subject2/Session5/4.gdf...\n",
            "GDF file detected\n",
            "Setting channel info structure...\n",
            "Creating raw.info structure...\n",
            "Reading 0 ... 113695  =      0.000 ...   222.061 secs...\n"
          ]
        },
        {
          "name": "stderr",
          "output_type": "stream",
          "text": [
            "/content/drive/My Drive/Colab Notebooks/Diploma_Thesis/posts/post01_simple_p300/braininvaders.py:68: DeprecationWarning: stim_channel will default to \"auto\" in 0.17 but change to False in 0.18, and will be removed in 0.19\n",
            "  file_path, montage=\"standard_1020\", preload=True\n",
            "/content/drive/My Drive/Colab Notebooks/mne/io/pick.py:279: DeprecationWarning: `np.bool` is a deprecated alias for the builtin `bool`. To silence this warning, use `bool` by itself. Doing this will not modify any behavior and is safe. If you specifically wanted the numpy scalar type, use `np.bool_` here.\n",
            "Deprecated in NumPy 1.20; for more details and guidance: https://numpy.org/devdocs/release/1.20.0-notes.html#deprecations\n",
            "  pick = np.zeros(nchan, dtype=np.bool)\n"
          ]
        },
        {
          "name": "stdout",
          "output_type": "stream",
          "text": [
            "Extracting EDF parameters from /root/mne_data/MNE-braininvaders-data/record/1494240/files/subject2/Session6/4.gdf...\n",
            "GDF file detected\n",
            "Setting channel info structure...\n",
            "Creating raw.info structure...\n",
            "Reading 0 ... 142879  =      0.000 ...   279.061 secs...\n"
          ]
        },
        {
          "name": "stderr",
          "output_type": "stream",
          "text": [
            "/content/drive/My Drive/Colab Notebooks/Diploma_Thesis/posts/post01_simple_p300/braininvaders.py:68: DeprecationWarning: stim_channel will default to \"auto\" in 0.17 but change to False in 0.18, and will be removed in 0.19\n",
            "  file_path, montage=\"standard_1020\", preload=True\n",
            "/content/drive/My Drive/Colab Notebooks/mne/io/pick.py:279: DeprecationWarning: `np.bool` is a deprecated alias for the builtin `bool`. To silence this warning, use `bool` by itself. Doing this will not modify any behavior and is safe. If you specifically wanted the numpy scalar type, use `np.bool_` here.\n",
            "Deprecated in NumPy 1.20; for more details and guidance: https://numpy.org/devdocs/release/1.20.0-notes.html#deprecations\n",
            "  pick = np.zeros(nchan, dtype=np.bool)\n"
          ]
        },
        {
          "name": "stdout",
          "output_type": "stream",
          "text": [
            "Extracting EDF parameters from /root/mne_data/MNE-braininvaders-data/record/1494240/files/subject2/Session8/4.gdf...\n",
            "GDF file detected\n",
            "Setting channel info structure...\n",
            "Creating raw.info structure...\n",
            "Reading 0 ... 117439  =      0.000 ...   229.373 secs...\n"
          ]
        },
        {
          "name": "stderr",
          "output_type": "stream",
          "text": [
            "/content/drive/My Drive/Colab Notebooks/Diploma_Thesis/posts/post01_simple_p300/braininvaders.py:68: DeprecationWarning: stim_channel will default to \"auto\" in 0.17 but change to False in 0.18, and will be removed in 0.19\n",
            "  file_path, montage=\"standard_1020\", preload=True\n",
            "/content/drive/My Drive/Colab Notebooks/mne/io/pick.py:279: DeprecationWarning: `np.bool` is a deprecated alias for the builtin `bool`. To silence this warning, use `bool` by itself. Doing this will not modify any behavior and is safe. If you specifically wanted the numpy scalar type, use `np.bool_` here.\n",
            "Deprecated in NumPy 1.20; for more details and guidance: https://numpy.org/devdocs/release/1.20.0-notes.html#deprecations\n",
            "  pick = np.zeros(nchan, dtype=np.bool)\n"
          ]
        },
        {
          "name": "stdout",
          "output_type": "stream",
          "text": [
            "Extracting EDF parameters from /root/mne_data/MNE-braininvaders-data/record/1494240/files/subject2/Session3/4.gdf...\n",
            "GDF file detected\n",
            "Setting channel info structure...\n",
            "Creating raw.info structure...\n",
            "Reading 0 ... 200191  =      0.000 ...   390.998 secs...\n"
          ]
        },
        {
          "name": "stderr",
          "output_type": "stream",
          "text": [
            "/content/drive/My Drive/Colab Notebooks/Diploma_Thesis/posts/post01_simple_p300/braininvaders.py:68: DeprecationWarning: stim_channel will default to \"auto\" in 0.17 but change to False in 0.18, and will be removed in 0.19\n",
            "  file_path, montage=\"standard_1020\", preload=True\n",
            "/content/drive/My Drive/Colab Notebooks/mne/io/pick.py:279: DeprecationWarning: `np.bool` is a deprecated alias for the builtin `bool`. To silence this warning, use `bool` by itself. Doing this will not modify any behavior and is safe. If you specifically wanted the numpy scalar type, use `np.bool_` here.\n",
            "Deprecated in NumPy 1.20; for more details and guidance: https://numpy.org/devdocs/release/1.20.0-notes.html#deprecations\n",
            "  pick = np.zeros(nchan, dtype=np.bool)\n"
          ]
        },
        {
          "name": "stdout",
          "output_type": "stream",
          "text": [
            "Extracting EDF parameters from /root/mne_data/MNE-braininvaders-data/record/1494240/files/subject2/Session1/4.gdf...\n",
            "GDF file detected\n",
            "Setting channel info structure...\n",
            "Creating raw.info structure...\n",
            "Reading 0 ... 193503  =      0.000 ...   377.936 secs...\n"
          ]
        },
        {
          "name": "stderr",
          "output_type": "stream",
          "text": [
            "/content/drive/My Drive/Colab Notebooks/Diploma_Thesis/posts/post01_simple_p300/braininvaders.py:68: DeprecationWarning: stim_channel will default to \"auto\" in 0.17 but change to False in 0.18, and will be removed in 0.19\n",
            "  file_path, montage=\"standard_1020\", preload=True\n",
            "/content/drive/My Drive/Colab Notebooks/mne/io/pick.py:279: DeprecationWarning: `np.bool` is a deprecated alias for the builtin `bool`. To silence this warning, use `bool` by itself. Doing this will not modify any behavior and is safe. If you specifically wanted the numpy scalar type, use `np.bool_` here.\n",
            "Deprecated in NumPy 1.20; for more details and guidance: https://numpy.org/devdocs/release/1.20.0-notes.html#deprecations\n",
            "  pick = np.zeros(nchan, dtype=np.bool)\n"
          ]
        },
        {
          "name": "stdout",
          "output_type": "stream",
          "text": [
            "Extracting EDF parameters from /root/mne_data/MNE-braininvaders-data/record/1494240/files/subject2/Session4/4.gdf...\n",
            "GDF file detected\n",
            "Setting channel info structure...\n",
            "Creating raw.info structure...\n",
            "Reading 0 ... 111135  =      0.000 ...   217.061 secs...\n"
          ]
        },
        {
          "name": "stderr",
          "output_type": "stream",
          "text": [
            "/content/drive/My Drive/Colab Notebooks/Diploma_Thesis/posts/post01_simple_p300/braininvaders.py:68: DeprecationWarning: stim_channel will default to \"auto\" in 0.17 but change to False in 0.18, and will be removed in 0.19\n",
            "  file_path, montage=\"standard_1020\", preload=True\n",
            "/content/drive/My Drive/Colab Notebooks/mne/io/pick.py:279: DeprecationWarning: `np.bool` is a deprecated alias for the builtin `bool`. To silence this warning, use `bool` by itself. Doing this will not modify any behavior and is safe. If you specifically wanted the numpy scalar type, use `np.bool_` here.\n",
            "Deprecated in NumPy 1.20; for more details and guidance: https://numpy.org/devdocs/release/1.20.0-notes.html#deprecations\n",
            "  pick = np.zeros(nchan, dtype=np.bool)\n"
          ]
        },
        {
          "name": "stdout",
          "output_type": "stream",
          "text": [
            "Extracting EDF parameters from /root/mne_data/MNE-braininvaders-data/record/1494240/files/subject2/Session7/4.gdf...\n",
            "GDF file detected\n",
            "Setting channel info structure...\n",
            "Creating raw.info structure...\n",
            "Reading 0 ... 112895  =      0.000 ...   220.498 secs...\n"
          ]
        },
        {
          "name": "stderr",
          "output_type": "stream",
          "text": [
            "/content/drive/My Drive/Colab Notebooks/Diploma_Thesis/posts/post01_simple_p300/braininvaders.py:68: DeprecationWarning: stim_channel will default to \"auto\" in 0.17 but change to False in 0.18, and will be removed in 0.19\n",
            "  file_path, montage=\"standard_1020\", preload=True\n",
            "/content/drive/My Drive/Colab Notebooks/mne/io/pick.py:279: DeprecationWarning: `np.bool` is a deprecated alias for the builtin `bool`. To silence this warning, use `bool` by itself. Doing this will not modify any behavior and is safe. If you specifically wanted the numpy scalar type, use `np.bool_` here.\n",
            "Deprecated in NumPy 1.20; for more details and guidance: https://numpy.org/devdocs/release/1.20.0-notes.html#deprecations\n",
            "  pick = np.zeros(nchan, dtype=np.bool)\n"
          ]
        },
        {
          "name": "stdout",
          "output_type": "stream",
          "text": [
            "Extracting EDF parameters from /root/mne_data/MNE-braininvaders-data/record/1494240/files/subject3/Session2/1.gdf...\n",
            "GDF file detected\n",
            "Setting channel info structure...\n",
            "Creating raw.info structure...\n",
            "Reading 0 ... 146431  =      0.000 ...   285.998 secs...\n"
          ]
        },
        {
          "name": "stderr",
          "output_type": "stream",
          "text": [
            "/content/drive/My Drive/Colab Notebooks/Diploma_Thesis/posts/post01_simple_p300/braininvaders.py:68: DeprecationWarning: stim_channel will default to \"auto\" in 0.17 but change to False in 0.18, and will be removed in 0.19\n",
            "  file_path, montage=\"standard_1020\", preload=True\n",
            "/content/drive/My Drive/Colab Notebooks/mne/io/pick.py:279: DeprecationWarning: `np.bool` is a deprecated alias for the builtin `bool`. To silence this warning, use `bool` by itself. Doing this will not modify any behavior and is safe. If you specifically wanted the numpy scalar type, use `np.bool_` here.\n",
            "Deprecated in NumPy 1.20; for more details and guidance: https://numpy.org/devdocs/release/1.20.0-notes.html#deprecations\n",
            "  pick = np.zeros(nchan, dtype=np.bool)\n"
          ]
        },
        {
          "name": "stdout",
          "output_type": "stream",
          "text": [
            "Extracting EDF parameters from /root/mne_data/MNE-braininvaders-data/record/1494240/files/subject3/Session5/1.gdf...\n",
            "GDF file detected\n",
            "Setting channel info structure...\n",
            "Creating raw.info structure...\n",
            "Reading 0 ... 133887  =      0.000 ...   261.498 secs...\n"
          ]
        },
        {
          "name": "stderr",
          "output_type": "stream",
          "text": [
            "/content/drive/My Drive/Colab Notebooks/Diploma_Thesis/posts/post01_simple_p300/braininvaders.py:68: DeprecationWarning: stim_channel will default to \"auto\" in 0.17 but change to False in 0.18, and will be removed in 0.19\n",
            "  file_path, montage=\"standard_1020\", preload=True\n",
            "/content/drive/My Drive/Colab Notebooks/mne/io/pick.py:279: DeprecationWarning: `np.bool` is a deprecated alias for the builtin `bool`. To silence this warning, use `bool` by itself. Doing this will not modify any behavior and is safe. If you specifically wanted the numpy scalar type, use `np.bool_` here.\n",
            "Deprecated in NumPy 1.20; for more details and guidance: https://numpy.org/devdocs/release/1.20.0-notes.html#deprecations\n",
            "  pick = np.zeros(nchan, dtype=np.bool)\n"
          ]
        },
        {
          "name": "stdout",
          "output_type": "stream",
          "text": [
            "Extracting EDF parameters from /root/mne_data/MNE-braininvaders-data/record/1494240/files/subject3/Session6/1.gdf...\n",
            "GDF file detected\n",
            "Setting channel info structure...\n",
            "Creating raw.info structure...\n",
            "Reading 0 ... 138207  =      0.000 ...   269.936 secs...\n"
          ]
        },
        {
          "name": "stderr",
          "output_type": "stream",
          "text": [
            "/content/drive/My Drive/Colab Notebooks/Diploma_Thesis/posts/post01_simple_p300/braininvaders.py:68: DeprecationWarning: stim_channel will default to \"auto\" in 0.17 but change to False in 0.18, and will be removed in 0.19\n",
            "  file_path, montage=\"standard_1020\", preload=True\n",
            "/content/drive/My Drive/Colab Notebooks/mne/io/pick.py:279: DeprecationWarning: `np.bool` is a deprecated alias for the builtin `bool`. To silence this warning, use `bool` by itself. Doing this will not modify any behavior and is safe. If you specifically wanted the numpy scalar type, use `np.bool_` here.\n",
            "Deprecated in NumPy 1.20; for more details and guidance: https://numpy.org/devdocs/release/1.20.0-notes.html#deprecations\n",
            "  pick = np.zeros(nchan, dtype=np.bool)\n"
          ]
        },
        {
          "name": "stdout",
          "output_type": "stream",
          "text": [
            "Extracting EDF parameters from /root/mne_data/MNE-braininvaders-data/record/1494240/files/subject3/Session8/1.gdf...\n",
            "GDF file detected\n",
            "Setting channel info structure...\n",
            "Creating raw.info structure...\n",
            "Reading 0 ... 136703  =      0.000 ...   266.998 secs...\n"
          ]
        },
        {
          "name": "stderr",
          "output_type": "stream",
          "text": [
            "/content/drive/My Drive/Colab Notebooks/Diploma_Thesis/posts/post01_simple_p300/braininvaders.py:68: DeprecationWarning: stim_channel will default to \"auto\" in 0.17 but change to False in 0.18, and will be removed in 0.19\n",
            "  file_path, montage=\"standard_1020\", preload=True\n",
            "/content/drive/My Drive/Colab Notebooks/mne/io/pick.py:279: DeprecationWarning: `np.bool` is a deprecated alias for the builtin `bool`. To silence this warning, use `bool` by itself. Doing this will not modify any behavior and is safe. If you specifically wanted the numpy scalar type, use `np.bool_` here.\n",
            "Deprecated in NumPy 1.20; for more details and guidance: https://numpy.org/devdocs/release/1.20.0-notes.html#deprecations\n",
            "  pick = np.zeros(nchan, dtype=np.bool)\n"
          ]
        },
        {
          "name": "stdout",
          "output_type": "stream",
          "text": [
            "Extracting EDF parameters from /root/mne_data/MNE-braininvaders-data/record/1494240/files/subject3/Session3/1.gdf...\n",
            "GDF file detected\n",
            "Setting channel info structure...\n",
            "Creating raw.info structure...\n",
            "Reading 0 ... 141279  =      0.000 ...   275.936 secs...\n"
          ]
        },
        {
          "name": "stderr",
          "output_type": "stream",
          "text": [
            "/content/drive/My Drive/Colab Notebooks/Diploma_Thesis/posts/post01_simple_p300/braininvaders.py:68: DeprecationWarning: stim_channel will default to \"auto\" in 0.17 but change to False in 0.18, and will be removed in 0.19\n",
            "  file_path, montage=\"standard_1020\", preload=True\n",
            "/content/drive/My Drive/Colab Notebooks/mne/io/pick.py:279: DeprecationWarning: `np.bool` is a deprecated alias for the builtin `bool`. To silence this warning, use `bool` by itself. Doing this will not modify any behavior and is safe. If you specifically wanted the numpy scalar type, use `np.bool_` here.\n",
            "Deprecated in NumPy 1.20; for more details and guidance: https://numpy.org/devdocs/release/1.20.0-notes.html#deprecations\n",
            "  pick = np.zeros(nchan, dtype=np.bool)\n"
          ]
        },
        {
          "name": "stdout",
          "output_type": "stream",
          "text": [
            "Extracting EDF parameters from /root/mne_data/MNE-braininvaders-data/record/1494240/files/subject3/Session1/1.gdf...\n",
            "GDF file detected\n",
            "Setting channel info structure...\n",
            "Creating raw.info structure...\n",
            "Reading 0 ... 149503  =      0.000 ...   291.998 secs...\n"
          ]
        },
        {
          "name": "stderr",
          "output_type": "stream",
          "text": [
            "/content/drive/My Drive/Colab Notebooks/Diploma_Thesis/posts/post01_simple_p300/braininvaders.py:68: DeprecationWarning: stim_channel will default to \"auto\" in 0.17 but change to False in 0.18, and will be removed in 0.19\n",
            "  file_path, montage=\"standard_1020\", preload=True\n",
            "/content/drive/My Drive/Colab Notebooks/mne/io/pick.py:279: DeprecationWarning: `np.bool` is a deprecated alias for the builtin `bool`. To silence this warning, use `bool` by itself. Doing this will not modify any behavior and is safe. If you specifically wanted the numpy scalar type, use `np.bool_` here.\n",
            "Deprecated in NumPy 1.20; for more details and guidance: https://numpy.org/devdocs/release/1.20.0-notes.html#deprecations\n",
            "  pick = np.zeros(nchan, dtype=np.bool)\n"
          ]
        },
        {
          "name": "stdout",
          "output_type": "stream",
          "text": [
            "Extracting EDF parameters from /root/mne_data/MNE-braininvaders-data/record/1494240/files/subject3/Session4/1.gdf...\n",
            "GDF file detected\n",
            "Setting channel info structure...\n",
            "Creating raw.info structure...\n",
            "Reading 0 ... 129599  =      0.000 ...   253.123 secs...\n"
          ]
        },
        {
          "name": "stderr",
          "output_type": "stream",
          "text": [
            "/content/drive/My Drive/Colab Notebooks/Diploma_Thesis/posts/post01_simple_p300/braininvaders.py:68: DeprecationWarning: stim_channel will default to \"auto\" in 0.17 but change to False in 0.18, and will be removed in 0.19\n",
            "  file_path, montage=\"standard_1020\", preload=True\n",
            "/content/drive/My Drive/Colab Notebooks/mne/io/pick.py:279: DeprecationWarning: `np.bool` is a deprecated alias for the builtin `bool`. To silence this warning, use `bool` by itself. Doing this will not modify any behavior and is safe. If you specifically wanted the numpy scalar type, use `np.bool_` here.\n",
            "Deprecated in NumPy 1.20; for more details and guidance: https://numpy.org/devdocs/release/1.20.0-notes.html#deprecations\n",
            "  pick = np.zeros(nchan, dtype=np.bool)\n"
          ]
        },
        {
          "name": "stdout",
          "output_type": "stream",
          "text": [
            "Extracting EDF parameters from /root/mne_data/MNE-braininvaders-data/record/1494240/files/subject3/Session7/1.gdf...\n",
            "GDF file detected\n",
            "Setting channel info structure...\n",
            "Creating raw.info structure...\n",
            "Reading 0 ... 136191  =      0.000 ...   265.998 secs...\n"
          ]
        },
        {
          "name": "stderr",
          "output_type": "stream",
          "text": [
            "/content/drive/My Drive/Colab Notebooks/Diploma_Thesis/posts/post01_simple_p300/braininvaders.py:68: DeprecationWarning: stim_channel will default to \"auto\" in 0.17 but change to False in 0.18, and will be removed in 0.19\n",
            "  file_path, montage=\"standard_1020\", preload=True\n",
            "/content/drive/My Drive/Colab Notebooks/mne/io/pick.py:279: DeprecationWarning: `np.bool` is a deprecated alias for the builtin `bool`. To silence this warning, use `bool` by itself. Doing this will not modify any behavior and is safe. If you specifically wanted the numpy scalar type, use `np.bool_` here.\n",
            "Deprecated in NumPy 1.20; for more details and guidance: https://numpy.org/devdocs/release/1.20.0-notes.html#deprecations\n",
            "  pick = np.zeros(nchan, dtype=np.bool)\n"
          ]
        },
        {
          "name": "stdout",
          "output_type": "stream",
          "text": [
            "Extracting EDF parameters from /root/mne_data/MNE-braininvaders-data/record/1494240/files/subject3/Session2/2.gdf...\n",
            "GDF file detected\n",
            "Setting channel info structure...\n",
            "Creating raw.info structure...\n",
            "Reading 0 ... 118975  =      0.000 ...   232.373 secs...\n"
          ]
        },
        {
          "name": "stderr",
          "output_type": "stream",
          "text": [
            "/content/drive/My Drive/Colab Notebooks/Diploma_Thesis/posts/post01_simple_p300/braininvaders.py:68: DeprecationWarning: stim_channel will default to \"auto\" in 0.17 but change to False in 0.18, and will be removed in 0.19\n",
            "  file_path, montage=\"standard_1020\", preload=True\n",
            "/content/drive/My Drive/Colab Notebooks/mne/io/pick.py:279: DeprecationWarning: `np.bool` is a deprecated alias for the builtin `bool`. To silence this warning, use `bool` by itself. Doing this will not modify any behavior and is safe. If you specifically wanted the numpy scalar type, use `np.bool_` here.\n",
            "Deprecated in NumPy 1.20; for more details and guidance: https://numpy.org/devdocs/release/1.20.0-notes.html#deprecations\n",
            "  pick = np.zeros(nchan, dtype=np.bool)\n"
          ]
        },
        {
          "name": "stdout",
          "output_type": "stream",
          "text": [
            "Extracting EDF parameters from /root/mne_data/MNE-braininvaders-data/record/1494240/files/subject3/Session5/2.gdf...\n",
            "GDF file detected\n",
            "Setting channel info structure...\n",
            "Creating raw.info structure...\n",
            "Reading 0 ... 101535  =      0.000 ...   198.311 secs...\n"
          ]
        },
        {
          "name": "stderr",
          "output_type": "stream",
          "text": [
            "/content/drive/My Drive/Colab Notebooks/Diploma_Thesis/posts/post01_simple_p300/braininvaders.py:68: DeprecationWarning: stim_channel will default to \"auto\" in 0.17 but change to False in 0.18, and will be removed in 0.19\n",
            "  file_path, montage=\"standard_1020\", preload=True\n",
            "/content/drive/My Drive/Colab Notebooks/mne/io/pick.py:279: DeprecationWarning: `np.bool` is a deprecated alias for the builtin `bool`. To silence this warning, use `bool` by itself. Doing this will not modify any behavior and is safe. If you specifically wanted the numpy scalar type, use `np.bool_` here.\n",
            "Deprecated in NumPy 1.20; for more details and guidance: https://numpy.org/devdocs/release/1.20.0-notes.html#deprecations\n",
            "  pick = np.zeros(nchan, dtype=np.bool)\n"
          ]
        },
        {
          "name": "stdout",
          "output_type": "stream",
          "text": [
            "Extracting EDF parameters from /root/mne_data/MNE-braininvaders-data/record/1494240/files/subject3/Session6/2.gdf...\n",
            "GDF file detected\n",
            "Setting channel info structure...\n",
            "Creating raw.info structure...\n",
            "Reading 0 ... 97215  =      0.000 ...   189.873 secs...\n"
          ]
        },
        {
          "name": "stderr",
          "output_type": "stream",
          "text": [
            "/content/drive/My Drive/Colab Notebooks/Diploma_Thesis/posts/post01_simple_p300/braininvaders.py:68: DeprecationWarning: stim_channel will default to \"auto\" in 0.17 but change to False in 0.18, and will be removed in 0.19\n",
            "  file_path, montage=\"standard_1020\", preload=True\n",
            "/content/drive/My Drive/Colab Notebooks/mne/io/pick.py:279: DeprecationWarning: `np.bool` is a deprecated alias for the builtin `bool`. To silence this warning, use `bool` by itself. Doing this will not modify any behavior and is safe. If you specifically wanted the numpy scalar type, use `np.bool_` here.\n",
            "Deprecated in NumPy 1.20; for more details and guidance: https://numpy.org/devdocs/release/1.20.0-notes.html#deprecations\n",
            "  pick = np.zeros(nchan, dtype=np.bool)\n"
          ]
        },
        {
          "name": "stdout",
          "output_type": "stream",
          "text": [
            "Extracting EDF parameters from /root/mne_data/MNE-braininvaders-data/record/1494240/files/subject3/Session8/2.gdf...\n",
            "GDF file detected\n",
            "Setting channel info structure...\n",
            "Creating raw.info structure...\n",
            "Reading 0 ... 123135  =      0.000 ...   240.498 secs...\n"
          ]
        },
        {
          "name": "stderr",
          "output_type": "stream",
          "text": [
            "/content/drive/My Drive/Colab Notebooks/Diploma_Thesis/posts/post01_simple_p300/braininvaders.py:68: DeprecationWarning: stim_channel will default to \"auto\" in 0.17 but change to False in 0.18, and will be removed in 0.19\n",
            "  file_path, montage=\"standard_1020\", preload=True\n",
            "/content/drive/My Drive/Colab Notebooks/mne/io/pick.py:279: DeprecationWarning: `np.bool` is a deprecated alias for the builtin `bool`. To silence this warning, use `bool` by itself. Doing this will not modify any behavior and is safe. If you specifically wanted the numpy scalar type, use `np.bool_` here.\n",
            "Deprecated in NumPy 1.20; for more details and guidance: https://numpy.org/devdocs/release/1.20.0-notes.html#deprecations\n",
            "  pick = np.zeros(nchan, dtype=np.bool)\n"
          ]
        },
        {
          "name": "stdout",
          "output_type": "stream",
          "text": [
            "Extracting EDF parameters from /root/mne_data/MNE-braininvaders-data/record/1494240/files/subject3/Session3/2.gdf...\n",
            "GDF file detected\n",
            "Setting channel info structure...\n",
            "Creating raw.info structure...\n",
            "Reading 0 ... 117151  =      0.000 ...   228.811 secs...\n"
          ]
        },
        {
          "name": "stderr",
          "output_type": "stream",
          "text": [
            "/content/drive/My Drive/Colab Notebooks/Diploma_Thesis/posts/post01_simple_p300/braininvaders.py:68: DeprecationWarning: stim_channel will default to \"auto\" in 0.17 but change to False in 0.18, and will be removed in 0.19\n",
            "  file_path, montage=\"standard_1020\", preload=True\n",
            "/content/drive/My Drive/Colab Notebooks/mne/io/pick.py:279: DeprecationWarning: `np.bool` is a deprecated alias for the builtin `bool`. To silence this warning, use `bool` by itself. Doing this will not modify any behavior and is safe. If you specifically wanted the numpy scalar type, use `np.bool_` here.\n",
            "Deprecated in NumPy 1.20; for more details and guidance: https://numpy.org/devdocs/release/1.20.0-notes.html#deprecations\n",
            "  pick = np.zeros(nchan, dtype=np.bool)\n"
          ]
        },
        {
          "name": "stdout",
          "output_type": "stream",
          "text": [
            "Extracting EDF parameters from /root/mne_data/MNE-braininvaders-data/record/1494240/files/subject3/Session1/2.gdf...\n",
            "GDF file detected\n",
            "Setting channel info structure...\n",
            "Creating raw.info structure...\n",
            "Reading 0 ... 136351  =      0.000 ...   266.311 secs...\n"
          ]
        },
        {
          "name": "stderr",
          "output_type": "stream",
          "text": [
            "/content/drive/My Drive/Colab Notebooks/Diploma_Thesis/posts/post01_simple_p300/braininvaders.py:68: DeprecationWarning: stim_channel will default to \"auto\" in 0.17 but change to False in 0.18, and will be removed in 0.19\n",
            "  file_path, montage=\"standard_1020\", preload=True\n",
            "/content/drive/My Drive/Colab Notebooks/mne/io/pick.py:279: DeprecationWarning: `np.bool` is a deprecated alias for the builtin `bool`. To silence this warning, use `bool` by itself. Doing this will not modify any behavior and is safe. If you specifically wanted the numpy scalar type, use `np.bool_` here.\n",
            "Deprecated in NumPy 1.20; for more details and guidance: https://numpy.org/devdocs/release/1.20.0-notes.html#deprecations\n",
            "  pick = np.zeros(nchan, dtype=np.bool)\n"
          ]
        },
        {
          "name": "stdout",
          "output_type": "stream",
          "text": [
            "Extracting EDF parameters from /root/mne_data/MNE-braininvaders-data/record/1494240/files/subject3/Session4/2.gdf...\n",
            "GDF file detected\n",
            "Setting channel info structure...\n",
            "Creating raw.info structure...\n",
            "Reading 0 ... 110527  =      0.000 ...   215.873 secs...\n"
          ]
        },
        {
          "name": "stderr",
          "output_type": "stream",
          "text": [
            "/content/drive/My Drive/Colab Notebooks/Diploma_Thesis/posts/post01_simple_p300/braininvaders.py:68: DeprecationWarning: stim_channel will default to \"auto\" in 0.17 but change to False in 0.18, and will be removed in 0.19\n",
            "  file_path, montage=\"standard_1020\", preload=True\n",
            "/content/drive/My Drive/Colab Notebooks/mne/io/pick.py:279: DeprecationWarning: `np.bool` is a deprecated alias for the builtin `bool`. To silence this warning, use `bool` by itself. Doing this will not modify any behavior and is safe. If you specifically wanted the numpy scalar type, use `np.bool_` here.\n",
            "Deprecated in NumPy 1.20; for more details and guidance: https://numpy.org/devdocs/release/1.20.0-notes.html#deprecations\n",
            "  pick = np.zeros(nchan, dtype=np.bool)\n"
          ]
        },
        {
          "name": "stdout",
          "output_type": "stream",
          "text": [
            "Extracting EDF parameters from /root/mne_data/MNE-braininvaders-data/record/1494240/files/subject3/Session7/2.gdf...\n",
            "GDF file detected\n",
            "Setting channel info structure...\n",
            "Creating raw.info structure...\n",
            "Reading 0 ... 101087  =      0.000 ...   197.436 secs...\n"
          ]
        },
        {
          "name": "stderr",
          "output_type": "stream",
          "text": [
            "/content/drive/My Drive/Colab Notebooks/Diploma_Thesis/posts/post01_simple_p300/braininvaders.py:68: DeprecationWarning: stim_channel will default to \"auto\" in 0.17 but change to False in 0.18, and will be removed in 0.19\n",
            "  file_path, montage=\"standard_1020\", preload=True\n",
            "/content/drive/My Drive/Colab Notebooks/mne/io/pick.py:279: DeprecationWarning: `np.bool` is a deprecated alias for the builtin `bool`. To silence this warning, use `bool` by itself. Doing this will not modify any behavior and is safe. If you specifically wanted the numpy scalar type, use `np.bool_` here.\n",
            "Deprecated in NumPy 1.20; for more details and guidance: https://numpy.org/devdocs/release/1.20.0-notes.html#deprecations\n",
            "  pick = np.zeros(nchan, dtype=np.bool)\n"
          ]
        },
        {
          "name": "stdout",
          "output_type": "stream",
          "text": [
            "Extracting EDF parameters from /root/mne_data/MNE-braininvaders-data/record/1494240/files/subject3/Session2/3.gdf...\n",
            "GDF file detected\n",
            "Setting channel info structure...\n",
            "Creating raw.info structure...\n",
            "Reading 0 ... 139295  =      0.000 ...   272.061 secs...\n"
          ]
        },
        {
          "name": "stderr",
          "output_type": "stream",
          "text": [
            "/content/drive/My Drive/Colab Notebooks/Diploma_Thesis/posts/post01_simple_p300/braininvaders.py:68: DeprecationWarning: stim_channel will default to \"auto\" in 0.17 but change to False in 0.18, and will be removed in 0.19\n",
            "  file_path, montage=\"standard_1020\", preload=True\n",
            "/content/drive/My Drive/Colab Notebooks/mne/io/pick.py:279: DeprecationWarning: `np.bool` is a deprecated alias for the builtin `bool`. To silence this warning, use `bool` by itself. Doing this will not modify any behavior and is safe. If you specifically wanted the numpy scalar type, use `np.bool_` here.\n",
            "Deprecated in NumPy 1.20; for more details and guidance: https://numpy.org/devdocs/release/1.20.0-notes.html#deprecations\n",
            "  pick = np.zeros(nchan, dtype=np.bool)\n"
          ]
        },
        {
          "name": "stdout",
          "output_type": "stream",
          "text": [
            "Extracting EDF parameters from /root/mne_data/MNE-braininvaders-data/record/1494240/files/subject3/Session5/3.gdf...\n",
            "GDF file detected\n",
            "Setting channel info structure...\n",
            "Creating raw.info structure...\n",
            "Reading 0 ... 137663  =      0.000 ...   268.873 secs...\n"
          ]
        },
        {
          "name": "stderr",
          "output_type": "stream",
          "text": [
            "/content/drive/My Drive/Colab Notebooks/Diploma_Thesis/posts/post01_simple_p300/braininvaders.py:68: DeprecationWarning: stim_channel will default to \"auto\" in 0.17 but change to False in 0.18, and will be removed in 0.19\n",
            "  file_path, montage=\"standard_1020\", preload=True\n",
            "/content/drive/My Drive/Colab Notebooks/mne/io/pick.py:279: DeprecationWarning: `np.bool` is a deprecated alias for the builtin `bool`. To silence this warning, use `bool` by itself. Doing this will not modify any behavior and is safe. If you specifically wanted the numpy scalar type, use `np.bool_` here.\n",
            "Deprecated in NumPy 1.20; for more details and guidance: https://numpy.org/devdocs/release/1.20.0-notes.html#deprecations\n",
            "  pick = np.zeros(nchan, dtype=np.bool)\n"
          ]
        },
        {
          "name": "stdout",
          "output_type": "stream",
          "text": [
            "Extracting EDF parameters from /root/mne_data/MNE-braininvaders-data/record/1494240/files/subject3/Session6/3.gdf...\n",
            "GDF file detected\n",
            "Setting channel info structure...\n",
            "Creating raw.info structure...\n",
            "Reading 0 ... 142335  =      0.000 ...   277.998 secs...\n"
          ]
        },
        {
          "name": "stderr",
          "output_type": "stream",
          "text": [
            "/content/drive/My Drive/Colab Notebooks/Diploma_Thesis/posts/post01_simple_p300/braininvaders.py:68: DeprecationWarning: stim_channel will default to \"auto\" in 0.17 but change to False in 0.18, and will be removed in 0.19\n",
            "  file_path, montage=\"standard_1020\", preload=True\n",
            "/content/drive/My Drive/Colab Notebooks/mne/io/pick.py:279: DeprecationWarning: `np.bool` is a deprecated alias for the builtin `bool`. To silence this warning, use `bool` by itself. Doing this will not modify any behavior and is safe. If you specifically wanted the numpy scalar type, use `np.bool_` here.\n",
            "Deprecated in NumPy 1.20; for more details and guidance: https://numpy.org/devdocs/release/1.20.0-notes.html#deprecations\n",
            "  pick = np.zeros(nchan, dtype=np.bool)\n"
          ]
        },
        {
          "name": "stdout",
          "output_type": "stream",
          "text": [
            "Extracting EDF parameters from /root/mne_data/MNE-braininvaders-data/record/1494240/files/subject3/Session8/3.gdf...\n",
            "GDF file detected\n",
            "Setting channel info structure...\n",
            "Creating raw.info structure...\n",
            "Reading 0 ... 134143  =      0.000 ...   261.998 secs...\n"
          ]
        },
        {
          "name": "stderr",
          "output_type": "stream",
          "text": [
            "/content/drive/My Drive/Colab Notebooks/Diploma_Thesis/posts/post01_simple_p300/braininvaders.py:68: DeprecationWarning: stim_channel will default to \"auto\" in 0.17 but change to False in 0.18, and will be removed in 0.19\n",
            "  file_path, montage=\"standard_1020\", preload=True\n",
            "/content/drive/My Drive/Colab Notebooks/mne/io/pick.py:279: DeprecationWarning: `np.bool` is a deprecated alias for the builtin `bool`. To silence this warning, use `bool` by itself. Doing this will not modify any behavior and is safe. If you specifically wanted the numpy scalar type, use `np.bool_` here.\n",
            "Deprecated in NumPy 1.20; for more details and guidance: https://numpy.org/devdocs/release/1.20.0-notes.html#deprecations\n",
            "  pick = np.zeros(nchan, dtype=np.bool)\n"
          ]
        },
        {
          "name": "stdout",
          "output_type": "stream",
          "text": [
            "Extracting EDF parameters from /root/mne_data/MNE-braininvaders-data/record/1494240/files/subject3/Session3/3.gdf...\n",
            "GDF file detected\n",
            "Setting channel info structure...\n",
            "Creating raw.info structure...\n",
            "Reading 0 ... 142079  =      0.000 ...   277.498 secs...\n"
          ]
        },
        {
          "name": "stderr",
          "output_type": "stream",
          "text": [
            "/content/drive/My Drive/Colab Notebooks/Diploma_Thesis/posts/post01_simple_p300/braininvaders.py:68: DeprecationWarning: stim_channel will default to \"auto\" in 0.17 but change to False in 0.18, and will be removed in 0.19\n",
            "  file_path, montage=\"standard_1020\", preload=True\n",
            "/content/drive/My Drive/Colab Notebooks/mne/io/pick.py:279: DeprecationWarning: `np.bool` is a deprecated alias for the builtin `bool`. To silence this warning, use `bool` by itself. Doing this will not modify any behavior and is safe. If you specifically wanted the numpy scalar type, use `np.bool_` here.\n",
            "Deprecated in NumPy 1.20; for more details and guidance: https://numpy.org/devdocs/release/1.20.0-notes.html#deprecations\n",
            "  pick = np.zeros(nchan, dtype=np.bool)\n"
          ]
        },
        {
          "name": "stdout",
          "output_type": "stream",
          "text": [
            "Extracting EDF parameters from /root/mne_data/MNE-braininvaders-data/record/1494240/files/subject3/Session1/3.gdf...\n",
            "GDF file detected\n",
            "Setting channel info structure...\n",
            "Creating raw.info structure...\n",
            "Reading 0 ... 159999  =      0.000 ...   312.498 secs...\n"
          ]
        },
        {
          "name": "stderr",
          "output_type": "stream",
          "text": [
            "/content/drive/My Drive/Colab Notebooks/Diploma_Thesis/posts/post01_simple_p300/braininvaders.py:68: DeprecationWarning: stim_channel will default to \"auto\" in 0.17 but change to False in 0.18, and will be removed in 0.19\n",
            "  file_path, montage=\"standard_1020\", preload=True\n",
            "/content/drive/My Drive/Colab Notebooks/mne/io/pick.py:279: DeprecationWarning: `np.bool` is a deprecated alias for the builtin `bool`. To silence this warning, use `bool` by itself. Doing this will not modify any behavior and is safe. If you specifically wanted the numpy scalar type, use `np.bool_` here.\n",
            "Deprecated in NumPy 1.20; for more details and guidance: https://numpy.org/devdocs/release/1.20.0-notes.html#deprecations\n",
            "  pick = np.zeros(nchan, dtype=np.bool)\n"
          ]
        },
        {
          "name": "stdout",
          "output_type": "stream",
          "text": [
            "Extracting EDF parameters from /root/mne_data/MNE-braininvaders-data/record/1494240/files/subject3/Session4/3.gdf...\n",
            "GDF file detected\n",
            "Setting channel info structure...\n",
            "Creating raw.info structure...\n",
            "Reading 0 ... 142783  =      0.000 ...   278.873 secs...\n"
          ]
        },
        {
          "name": "stderr",
          "output_type": "stream",
          "text": [
            "/content/drive/My Drive/Colab Notebooks/Diploma_Thesis/posts/post01_simple_p300/braininvaders.py:68: DeprecationWarning: stim_channel will default to \"auto\" in 0.17 but change to False in 0.18, and will be removed in 0.19\n",
            "  file_path, montage=\"standard_1020\", preload=True\n",
            "/content/drive/My Drive/Colab Notebooks/mne/io/pick.py:279: DeprecationWarning: `np.bool` is a deprecated alias for the builtin `bool`. To silence this warning, use `bool` by itself. Doing this will not modify any behavior and is safe. If you specifically wanted the numpy scalar type, use `np.bool_` here.\n",
            "Deprecated in NumPy 1.20; for more details and guidance: https://numpy.org/devdocs/release/1.20.0-notes.html#deprecations\n",
            "  pick = np.zeros(nchan, dtype=np.bool)\n"
          ]
        },
        {
          "name": "stdout",
          "output_type": "stream",
          "text": [
            "Extracting EDF parameters from /root/mne_data/MNE-braininvaders-data/record/1494240/files/subject3/Session7/3.gdf...\n",
            "GDF file detected\n",
            "Setting channel info structure...\n",
            "Creating raw.info structure...\n",
            "Reading 0 ... 136575  =      0.000 ...   266.748 secs...\n"
          ]
        },
        {
          "name": "stderr",
          "output_type": "stream",
          "text": [
            "/content/drive/My Drive/Colab Notebooks/Diploma_Thesis/posts/post01_simple_p300/braininvaders.py:68: DeprecationWarning: stim_channel will default to \"auto\" in 0.17 but change to False in 0.18, and will be removed in 0.19\n",
            "  file_path, montage=\"standard_1020\", preload=True\n",
            "/content/drive/My Drive/Colab Notebooks/mne/io/pick.py:279: DeprecationWarning: `np.bool` is a deprecated alias for the builtin `bool`. To silence this warning, use `bool` by itself. Doing this will not modify any behavior and is safe. If you specifically wanted the numpy scalar type, use `np.bool_` here.\n",
            "Deprecated in NumPy 1.20; for more details and guidance: https://numpy.org/devdocs/release/1.20.0-notes.html#deprecations\n",
            "  pick = np.zeros(nchan, dtype=np.bool)\n"
          ]
        },
        {
          "name": "stdout",
          "output_type": "stream",
          "text": [
            "Extracting EDF parameters from /root/mne_data/MNE-braininvaders-data/record/1494240/files/subject3/Session2/4.gdf...\n",
            "GDF file detected\n",
            "Setting channel info structure...\n",
            "Creating raw.info structure...\n",
            "Reading 0 ... 133215  =      0.000 ...   260.186 secs...\n"
          ]
        },
        {
          "name": "stderr",
          "output_type": "stream",
          "text": [
            "/content/drive/My Drive/Colab Notebooks/Diploma_Thesis/posts/post01_simple_p300/braininvaders.py:68: DeprecationWarning: stim_channel will default to \"auto\" in 0.17 but change to False in 0.18, and will be removed in 0.19\n",
            "  file_path, montage=\"standard_1020\", preload=True\n",
            "/content/drive/My Drive/Colab Notebooks/mne/io/pick.py:279: DeprecationWarning: `np.bool` is a deprecated alias for the builtin `bool`. To silence this warning, use `bool` by itself. Doing this will not modify any behavior and is safe. If you specifically wanted the numpy scalar type, use `np.bool_` here.\n",
            "Deprecated in NumPy 1.20; for more details and guidance: https://numpy.org/devdocs/release/1.20.0-notes.html#deprecations\n",
            "  pick = np.zeros(nchan, dtype=np.bool)\n"
          ]
        },
        {
          "name": "stdout",
          "output_type": "stream",
          "text": [
            "Extracting EDF parameters from /root/mne_data/MNE-braininvaders-data/record/1494240/files/subject3/Session5/4.gdf...\n",
            "GDF file detected\n",
            "Setting channel info structure...\n",
            "Creating raw.info structure...\n",
            "Reading 0 ... 146527  =      0.000 ...   286.186 secs...\n"
          ]
        },
        {
          "name": "stderr",
          "output_type": "stream",
          "text": [
            "/content/drive/My Drive/Colab Notebooks/Diploma_Thesis/posts/post01_simple_p300/braininvaders.py:68: DeprecationWarning: stim_channel will default to \"auto\" in 0.17 but change to False in 0.18, and will be removed in 0.19\n",
            "  file_path, montage=\"standard_1020\", preload=True\n",
            "/content/drive/My Drive/Colab Notebooks/mne/io/pick.py:279: DeprecationWarning: `np.bool` is a deprecated alias for the builtin `bool`. To silence this warning, use `bool` by itself. Doing this will not modify any behavior and is safe. If you specifically wanted the numpy scalar type, use `np.bool_` here.\n",
            "Deprecated in NumPy 1.20; for more details and guidance: https://numpy.org/devdocs/release/1.20.0-notes.html#deprecations\n",
            "  pick = np.zeros(nchan, dtype=np.bool)\n"
          ]
        },
        {
          "name": "stdout",
          "output_type": "stream",
          "text": [
            "Extracting EDF parameters from /root/mne_data/MNE-braininvaders-data/record/1494240/files/subject3/Session6/4.gdf...\n",
            "GDF file detected\n",
            "Setting channel info structure...\n",
            "Creating raw.info structure...\n",
            "Reading 0 ... 142655  =      0.000 ...   278.623 secs...\n"
          ]
        },
        {
          "name": "stderr",
          "output_type": "stream",
          "text": [
            "/content/drive/My Drive/Colab Notebooks/Diploma_Thesis/posts/post01_simple_p300/braininvaders.py:68: DeprecationWarning: stim_channel will default to \"auto\" in 0.17 but change to False in 0.18, and will be removed in 0.19\n",
            "  file_path, montage=\"standard_1020\", preload=True\n",
            "/content/drive/My Drive/Colab Notebooks/mne/io/pick.py:279: DeprecationWarning: `np.bool` is a deprecated alias for the builtin `bool`. To silence this warning, use `bool` by itself. Doing this will not modify any behavior and is safe. If you specifically wanted the numpy scalar type, use `np.bool_` here.\n",
            "Deprecated in NumPy 1.20; for more details and guidance: https://numpy.org/devdocs/release/1.20.0-notes.html#deprecations\n",
            "  pick = np.zeros(nchan, dtype=np.bool)\n"
          ]
        },
        {
          "name": "stdout",
          "output_type": "stream",
          "text": [
            "Extracting EDF parameters from /root/mne_data/MNE-braininvaders-data/record/1494240/files/subject3/Session8/4.gdf...\n",
            "GDF file detected\n",
            "Setting channel info structure...\n",
            "Creating raw.info structure...\n",
            "Reading 0 ... 127647  =      0.000 ...   249.311 secs...\n"
          ]
        },
        {
          "name": "stderr",
          "output_type": "stream",
          "text": [
            "/content/drive/My Drive/Colab Notebooks/Diploma_Thesis/posts/post01_simple_p300/braininvaders.py:68: DeprecationWarning: stim_channel will default to \"auto\" in 0.17 but change to False in 0.18, and will be removed in 0.19\n",
            "  file_path, montage=\"standard_1020\", preload=True\n",
            "/content/drive/My Drive/Colab Notebooks/mne/io/pick.py:279: DeprecationWarning: `np.bool` is a deprecated alias for the builtin `bool`. To silence this warning, use `bool` by itself. Doing this will not modify any behavior and is safe. If you specifically wanted the numpy scalar type, use `np.bool_` here.\n",
            "Deprecated in NumPy 1.20; for more details and guidance: https://numpy.org/devdocs/release/1.20.0-notes.html#deprecations\n",
            "  pick = np.zeros(nchan, dtype=np.bool)\n"
          ]
        },
        {
          "name": "stdout",
          "output_type": "stream",
          "text": [
            "Extracting EDF parameters from /root/mne_data/MNE-braininvaders-data/record/1494240/files/subject3/Session3/4.gdf...\n",
            "GDF file detected\n",
            "Setting channel info structure...\n",
            "Creating raw.info structure...\n",
            "Reading 0 ... 137535  =      0.000 ...   268.623 secs...\n"
          ]
        },
        {
          "name": "stderr",
          "output_type": "stream",
          "text": [
            "/content/drive/My Drive/Colab Notebooks/Diploma_Thesis/posts/post01_simple_p300/braininvaders.py:68: DeprecationWarning: stim_channel will default to \"auto\" in 0.17 but change to False in 0.18, and will be removed in 0.19\n",
            "  file_path, montage=\"standard_1020\", preload=True\n",
            "/content/drive/My Drive/Colab Notebooks/mne/io/pick.py:279: DeprecationWarning: `np.bool` is a deprecated alias for the builtin `bool`. To silence this warning, use `bool` by itself. Doing this will not modify any behavior and is safe. If you specifically wanted the numpy scalar type, use `np.bool_` here.\n",
            "Deprecated in NumPy 1.20; for more details and guidance: https://numpy.org/devdocs/release/1.20.0-notes.html#deprecations\n",
            "  pick = np.zeros(nchan, dtype=np.bool)\n"
          ]
        },
        {
          "name": "stdout",
          "output_type": "stream",
          "text": [
            "Extracting EDF parameters from /root/mne_data/MNE-braininvaders-data/record/1494240/files/subject3/Session1/4.gdf...\n",
            "GDF file detected\n",
            "Setting channel info structure...\n",
            "Creating raw.info structure...\n",
            "Reading 0 ... 158015  =      0.000 ...   308.623 secs...\n"
          ]
        },
        {
          "name": "stderr",
          "output_type": "stream",
          "text": [
            "/content/drive/My Drive/Colab Notebooks/Diploma_Thesis/posts/post01_simple_p300/braininvaders.py:68: DeprecationWarning: stim_channel will default to \"auto\" in 0.17 but change to False in 0.18, and will be removed in 0.19\n",
            "  file_path, montage=\"standard_1020\", preload=True\n",
            "/content/drive/My Drive/Colab Notebooks/mne/io/pick.py:279: DeprecationWarning: `np.bool` is a deprecated alias for the builtin `bool`. To silence this warning, use `bool` by itself. Doing this will not modify any behavior and is safe. If you specifically wanted the numpy scalar type, use `np.bool_` here.\n",
            "Deprecated in NumPy 1.20; for more details and guidance: https://numpy.org/devdocs/release/1.20.0-notes.html#deprecations\n",
            "  pick = np.zeros(nchan, dtype=np.bool)\n"
          ]
        },
        {
          "name": "stdout",
          "output_type": "stream",
          "text": [
            "Extracting EDF parameters from /root/mne_data/MNE-braininvaders-data/record/1494240/files/subject3/Session4/4.gdf...\n",
            "GDF file detected\n",
            "Setting channel info structure...\n",
            "Creating raw.info structure...\n",
            "Reading 0 ... 119231  =      0.000 ...   232.873 secs...\n"
          ]
        },
        {
          "name": "stderr",
          "output_type": "stream",
          "text": [
            "/content/drive/My Drive/Colab Notebooks/Diploma_Thesis/posts/post01_simple_p300/braininvaders.py:68: DeprecationWarning: stim_channel will default to \"auto\" in 0.17 but change to False in 0.18, and will be removed in 0.19\n",
            "  file_path, montage=\"standard_1020\", preload=True\n",
            "/content/drive/My Drive/Colab Notebooks/mne/io/pick.py:279: DeprecationWarning: `np.bool` is a deprecated alias for the builtin `bool`. To silence this warning, use `bool` by itself. Doing this will not modify any behavior and is safe. If you specifically wanted the numpy scalar type, use `np.bool_` here.\n",
            "Deprecated in NumPy 1.20; for more details and guidance: https://numpy.org/devdocs/release/1.20.0-notes.html#deprecations\n",
            "  pick = np.zeros(nchan, dtype=np.bool)\n"
          ]
        },
        {
          "name": "stdout",
          "output_type": "stream",
          "text": [
            "Extracting EDF parameters from /root/mne_data/MNE-braininvaders-data/record/1494240/files/subject3/Session7/4.gdf...\n",
            "GDF file detected\n",
            "Setting channel info structure...\n",
            "Creating raw.info structure...\n",
            "Reading 0 ... 109599  =      0.000 ...   214.061 secs...\n"
          ]
        },
        {
          "name": "stderr",
          "output_type": "stream",
          "text": [
            "/content/drive/My Drive/Colab Notebooks/Diploma_Thesis/posts/post01_simple_p300/braininvaders.py:68: DeprecationWarning: stim_channel will default to \"auto\" in 0.17 but change to False in 0.18, and will be removed in 0.19\n",
            "  file_path, montage=\"standard_1020\", preload=True\n",
            "/content/drive/My Drive/Colab Notebooks/mne/io/pick.py:279: DeprecationWarning: `np.bool` is a deprecated alias for the builtin `bool`. To silence this warning, use `bool` by itself. Doing this will not modify any behavior and is safe. If you specifically wanted the numpy scalar type, use `np.bool_` here.\n",
            "Deprecated in NumPy 1.20; for more details and guidance: https://numpy.org/devdocs/release/1.20.0-notes.html#deprecations\n",
            "  pick = np.zeros(nchan, dtype=np.bool)\n"
          ]
        },
        {
          "name": "stdout",
          "output_type": "stream",
          "text": [
            "Extracting EDF parameters from /root/mne_data/MNE-braininvaders-data/record/1494240/files/subject4/Session2/1.gdf...\n",
            "GDF file detected\n",
            "Setting channel info structure...\n",
            "Creating raw.info structure...\n",
            "Reading 0 ... 136095  =      0.000 ...   265.811 secs...\n"
          ]
        },
        {
          "name": "stderr",
          "output_type": "stream",
          "text": [
            "/content/drive/My Drive/Colab Notebooks/Diploma_Thesis/posts/post01_simple_p300/braininvaders.py:68: DeprecationWarning: stim_channel will default to \"auto\" in 0.17 but change to False in 0.18, and will be removed in 0.19\n",
            "  file_path, montage=\"standard_1020\", preload=True\n",
            "/content/drive/My Drive/Colab Notebooks/mne/io/pick.py:279: DeprecationWarning: `np.bool` is a deprecated alias for the builtin `bool`. To silence this warning, use `bool` by itself. Doing this will not modify any behavior and is safe. If you specifically wanted the numpy scalar type, use `np.bool_` here.\n",
            "Deprecated in NumPy 1.20; for more details and guidance: https://numpy.org/devdocs/release/1.20.0-notes.html#deprecations\n",
            "  pick = np.zeros(nchan, dtype=np.bool)\n"
          ]
        },
        {
          "name": "stdout",
          "output_type": "stream",
          "text": [
            "Extracting EDF parameters from /root/mne_data/MNE-braininvaders-data/record/1494240/files/subject4/Session5/1.gdf...\n",
            "GDF file detected\n",
            "Setting channel info structure...\n",
            "Creating raw.info structure...\n",
            "Reading 0 ... 136191  =      0.000 ...   265.998 secs...\n"
          ]
        },
        {
          "name": "stderr",
          "output_type": "stream",
          "text": [
            "/content/drive/My Drive/Colab Notebooks/Diploma_Thesis/posts/post01_simple_p300/braininvaders.py:68: DeprecationWarning: stim_channel will default to \"auto\" in 0.17 but change to False in 0.18, and will be removed in 0.19\n",
            "  file_path, montage=\"standard_1020\", preload=True\n",
            "/content/drive/My Drive/Colab Notebooks/mne/io/pick.py:279: DeprecationWarning: `np.bool` is a deprecated alias for the builtin `bool`. To silence this warning, use `bool` by itself. Doing this will not modify any behavior and is safe. If you specifically wanted the numpy scalar type, use `np.bool_` here.\n",
            "Deprecated in NumPy 1.20; for more details and guidance: https://numpy.org/devdocs/release/1.20.0-notes.html#deprecations\n",
            "  pick = np.zeros(nchan, dtype=np.bool)\n"
          ]
        },
        {
          "name": "stdout",
          "output_type": "stream",
          "text": [
            "Extracting EDF parameters from /root/mne_data/MNE-braininvaders-data/record/1494240/files/subject4/Session6/1.gdf...\n",
            "GDF file detected\n",
            "Setting channel info structure...\n",
            "Creating raw.info structure...\n",
            "Reading 0 ... 130783  =      0.000 ...   255.436 secs...\n"
          ]
        },
        {
          "name": "stderr",
          "output_type": "stream",
          "text": [
            "/content/drive/My Drive/Colab Notebooks/Diploma_Thesis/posts/post01_simple_p300/braininvaders.py:68: DeprecationWarning: stim_channel will default to \"auto\" in 0.17 but change to False in 0.18, and will be removed in 0.19\n",
            "  file_path, montage=\"standard_1020\", preload=True\n",
            "/content/drive/My Drive/Colab Notebooks/mne/io/pick.py:279: DeprecationWarning: `np.bool` is a deprecated alias for the builtin `bool`. To silence this warning, use `bool` by itself. Doing this will not modify any behavior and is safe. If you specifically wanted the numpy scalar type, use `np.bool_` here.\n",
            "Deprecated in NumPy 1.20; for more details and guidance: https://numpy.org/devdocs/release/1.20.0-notes.html#deprecations\n",
            "  pick = np.zeros(nchan, dtype=np.bool)\n"
          ]
        },
        {
          "name": "stdout",
          "output_type": "stream",
          "text": [
            "Extracting EDF parameters from /root/mne_data/MNE-braininvaders-data/record/1494240/files/subject4/Session8/1.gdf...\n",
            "GDF file detected\n",
            "Setting channel info structure...\n",
            "Creating raw.info structure...\n",
            "Reading 0 ... 139295  =      0.000 ...   272.061 secs...\n"
          ]
        },
        {
          "name": "stderr",
          "output_type": "stream",
          "text": [
            "/content/drive/My Drive/Colab Notebooks/Diploma_Thesis/posts/post01_simple_p300/braininvaders.py:68: DeprecationWarning: stim_channel will default to \"auto\" in 0.17 but change to False in 0.18, and will be removed in 0.19\n",
            "  file_path, montage=\"standard_1020\", preload=True\n",
            "/content/drive/My Drive/Colab Notebooks/mne/io/pick.py:279: DeprecationWarning: `np.bool` is a deprecated alias for the builtin `bool`. To silence this warning, use `bool` by itself. Doing this will not modify any behavior and is safe. If you specifically wanted the numpy scalar type, use `np.bool_` here.\n",
            "Deprecated in NumPy 1.20; for more details and guidance: https://numpy.org/devdocs/release/1.20.0-notes.html#deprecations\n",
            "  pick = np.zeros(nchan, dtype=np.bool)\n"
          ]
        },
        {
          "name": "stdout",
          "output_type": "stream",
          "text": [
            "Extracting EDF parameters from /root/mne_data/MNE-braininvaders-data/record/1494240/files/subject4/Session3/1.gdf...\n",
            "GDF file detected\n",
            "Setting channel info structure...\n",
            "Creating raw.info structure...\n",
            "Reading 0 ... 136383  =      0.000 ...   266.373 secs...\n"
          ]
        },
        {
          "name": "stderr",
          "output_type": "stream",
          "text": [
            "/content/drive/My Drive/Colab Notebooks/Diploma_Thesis/posts/post01_simple_p300/braininvaders.py:68: DeprecationWarning: stim_channel will default to \"auto\" in 0.17 but change to False in 0.18, and will be removed in 0.19\n",
            "  file_path, montage=\"standard_1020\", preload=True\n",
            "/content/drive/My Drive/Colab Notebooks/mne/io/pick.py:279: DeprecationWarning: `np.bool` is a deprecated alias for the builtin `bool`. To silence this warning, use `bool` by itself. Doing this will not modify any behavior and is safe. If you specifically wanted the numpy scalar type, use `np.bool_` here.\n",
            "Deprecated in NumPy 1.20; for more details and guidance: https://numpy.org/devdocs/release/1.20.0-notes.html#deprecations\n",
            "  pick = np.zeros(nchan, dtype=np.bool)\n"
          ]
        },
        {
          "name": "stdout",
          "output_type": "stream",
          "text": [
            "Extracting EDF parameters from /root/mne_data/MNE-braininvaders-data/record/1494240/files/subject4/Session1/1.gdf...\n",
            "GDF file detected\n",
            "Setting channel info structure...\n",
            "Creating raw.info structure...\n",
            "Reading 0 ... 143007  =      0.000 ...   279.311 secs...\n"
          ]
        },
        {
          "name": "stderr",
          "output_type": "stream",
          "text": [
            "/content/drive/My Drive/Colab Notebooks/Diploma_Thesis/posts/post01_simple_p300/braininvaders.py:68: DeprecationWarning: stim_channel will default to \"auto\" in 0.17 but change to False in 0.18, and will be removed in 0.19\n",
            "  file_path, montage=\"standard_1020\", preload=True\n",
            "/content/drive/My Drive/Colab Notebooks/mne/io/pick.py:279: DeprecationWarning: `np.bool` is a deprecated alias for the builtin `bool`. To silence this warning, use `bool` by itself. Doing this will not modify any behavior and is safe. If you specifically wanted the numpy scalar type, use `np.bool_` here.\n",
            "Deprecated in NumPy 1.20; for more details and guidance: https://numpy.org/devdocs/release/1.20.0-notes.html#deprecations\n",
            "  pick = np.zeros(nchan, dtype=np.bool)\n"
          ]
        },
        {
          "name": "stdout",
          "output_type": "stream",
          "text": [
            "Extracting EDF parameters from /root/mne_data/MNE-braininvaders-data/record/1494240/files/subject4/Session4/1.gdf...\n",
            "GDF file detected\n",
            "Setting channel info structure...\n",
            "Creating raw.info structure...\n",
            "Reading 0 ... 134335  =      0.000 ...   262.373 secs...\n"
          ]
        },
        {
          "name": "stderr",
          "output_type": "stream",
          "text": [
            "/content/drive/My Drive/Colab Notebooks/Diploma_Thesis/posts/post01_simple_p300/braininvaders.py:68: DeprecationWarning: stim_channel will default to \"auto\" in 0.17 but change to False in 0.18, and will be removed in 0.19\n",
            "  file_path, montage=\"standard_1020\", preload=True\n",
            "/content/drive/My Drive/Colab Notebooks/mne/io/pick.py:279: DeprecationWarning: `np.bool` is a deprecated alias for the builtin `bool`. To silence this warning, use `bool` by itself. Doing this will not modify any behavior and is safe. If you specifically wanted the numpy scalar type, use `np.bool_` here.\n",
            "Deprecated in NumPy 1.20; for more details and guidance: https://numpy.org/devdocs/release/1.20.0-notes.html#deprecations\n",
            "  pick = np.zeros(nchan, dtype=np.bool)\n"
          ]
        },
        {
          "name": "stdout",
          "output_type": "stream",
          "text": [
            "Extracting EDF parameters from /root/mne_data/MNE-braininvaders-data/record/1494240/files/subject4/Session7/1.gdf...\n",
            "GDF file detected\n",
            "Setting channel info structure...\n",
            "Creating raw.info structure...\n",
            "Reading 0 ... 138143  =      0.000 ...   269.811 secs...\n"
          ]
        },
        {
          "name": "stderr",
          "output_type": "stream",
          "text": [
            "/content/drive/My Drive/Colab Notebooks/Diploma_Thesis/posts/post01_simple_p300/braininvaders.py:68: DeprecationWarning: stim_channel will default to \"auto\" in 0.17 but change to False in 0.18, and will be removed in 0.19\n",
            "  file_path, montage=\"standard_1020\", preload=True\n",
            "/content/drive/My Drive/Colab Notebooks/mne/io/pick.py:279: DeprecationWarning: `np.bool` is a deprecated alias for the builtin `bool`. To silence this warning, use `bool` by itself. Doing this will not modify any behavior and is safe. If you specifically wanted the numpy scalar type, use `np.bool_` here.\n",
            "Deprecated in NumPy 1.20; for more details and guidance: https://numpy.org/devdocs/release/1.20.0-notes.html#deprecations\n",
            "  pick = np.zeros(nchan, dtype=np.bool)\n"
          ]
        },
        {
          "name": "stdout",
          "output_type": "stream",
          "text": [
            "Extracting EDF parameters from /root/mne_data/MNE-braininvaders-data/record/1494240/files/subject4/Session2/2.gdf...\n",
            "GDF file detected\n",
            "Setting channel info structure...\n",
            "Creating raw.info structure...\n",
            "Reading 0 ... 133727  =      0.000 ...   261.186 secs...\n"
          ]
        },
        {
          "name": "stderr",
          "output_type": "stream",
          "text": [
            "/content/drive/My Drive/Colab Notebooks/Diploma_Thesis/posts/post01_simple_p300/braininvaders.py:68: DeprecationWarning: stim_channel will default to \"auto\" in 0.17 but change to False in 0.18, and will be removed in 0.19\n",
            "  file_path, montage=\"standard_1020\", preload=True\n",
            "/content/drive/My Drive/Colab Notebooks/mne/io/pick.py:279: DeprecationWarning: `np.bool` is a deprecated alias for the builtin `bool`. To silence this warning, use `bool` by itself. Doing this will not modify any behavior and is safe. If you specifically wanted the numpy scalar type, use `np.bool_` here.\n",
            "Deprecated in NumPy 1.20; for more details and guidance: https://numpy.org/devdocs/release/1.20.0-notes.html#deprecations\n",
            "  pick = np.zeros(nchan, dtype=np.bool)\n"
          ]
        },
        {
          "name": "stdout",
          "output_type": "stream",
          "text": [
            "Extracting EDF parameters from /root/mne_data/MNE-braininvaders-data/record/1494240/files/subject4/Session5/2.gdf...\n",
            "GDF file detected\n",
            "Setting channel info structure...\n",
            "Creating raw.info structure...\n",
            "Reading 0 ... 120287  =      0.000 ...   234.936 secs...\n"
          ]
        },
        {
          "name": "stderr",
          "output_type": "stream",
          "text": [
            "/content/drive/My Drive/Colab Notebooks/Diploma_Thesis/posts/post01_simple_p300/braininvaders.py:68: DeprecationWarning: stim_channel will default to \"auto\" in 0.17 but change to False in 0.18, and will be removed in 0.19\n",
            "  file_path, montage=\"standard_1020\", preload=True\n",
            "/content/drive/My Drive/Colab Notebooks/mne/io/pick.py:279: DeprecationWarning: `np.bool` is a deprecated alias for the builtin `bool`. To silence this warning, use `bool` by itself. Doing this will not modify any behavior and is safe. If you specifically wanted the numpy scalar type, use `np.bool_` here.\n",
            "Deprecated in NumPy 1.20; for more details and guidance: https://numpy.org/devdocs/release/1.20.0-notes.html#deprecations\n",
            "  pick = np.zeros(nchan, dtype=np.bool)\n"
          ]
        },
        {
          "name": "stdout",
          "output_type": "stream",
          "text": [
            "Extracting EDF parameters from /root/mne_data/MNE-braininvaders-data/record/1494240/files/subject4/Session6/2.gdf...\n",
            "GDF file detected\n",
            "Setting channel info structure...\n",
            "Creating raw.info structure...\n",
            "Reading 0 ... 101407  =      0.000 ...   198.061 secs...\n"
          ]
        },
        {
          "name": "stderr",
          "output_type": "stream",
          "text": [
            "/content/drive/My Drive/Colab Notebooks/Diploma_Thesis/posts/post01_simple_p300/braininvaders.py:68: DeprecationWarning: stim_channel will default to \"auto\" in 0.17 but change to False in 0.18, and will be removed in 0.19\n",
            "  file_path, montage=\"standard_1020\", preload=True\n",
            "/content/drive/My Drive/Colab Notebooks/mne/io/pick.py:279: DeprecationWarning: `np.bool` is a deprecated alias for the builtin `bool`. To silence this warning, use `bool` by itself. Doing this will not modify any behavior and is safe. If you specifically wanted the numpy scalar type, use `np.bool_` here.\n",
            "Deprecated in NumPy 1.20; for more details and guidance: https://numpy.org/devdocs/release/1.20.0-notes.html#deprecations\n",
            "  pick = np.zeros(nchan, dtype=np.bool)\n"
          ]
        },
        {
          "name": "stdout",
          "output_type": "stream",
          "text": [
            "Extracting EDF parameters from /root/mne_data/MNE-braininvaders-data/record/1494240/files/subject4/Session8/2.gdf...\n",
            "GDF file detected\n",
            "Setting channel info structure...\n",
            "Creating raw.info structure...\n",
            "Reading 0 ... 129407  =      0.000 ...   252.748 secs...\n"
          ]
        },
        {
          "name": "stderr",
          "output_type": "stream",
          "text": [
            "/content/drive/My Drive/Colab Notebooks/Diploma_Thesis/posts/post01_simple_p300/braininvaders.py:68: DeprecationWarning: stim_channel will default to \"auto\" in 0.17 but change to False in 0.18, and will be removed in 0.19\n",
            "  file_path, montage=\"standard_1020\", preload=True\n",
            "/content/drive/My Drive/Colab Notebooks/mne/io/pick.py:279: DeprecationWarning: `np.bool` is a deprecated alias for the builtin `bool`. To silence this warning, use `bool` by itself. Doing this will not modify any behavior and is safe. If you specifically wanted the numpy scalar type, use `np.bool_` here.\n",
            "Deprecated in NumPy 1.20; for more details and guidance: https://numpy.org/devdocs/release/1.20.0-notes.html#deprecations\n",
            "  pick = np.zeros(nchan, dtype=np.bool)\n"
          ]
        },
        {
          "name": "stdout",
          "output_type": "stream",
          "text": [
            "Extracting EDF parameters from /root/mne_data/MNE-braininvaders-data/record/1494240/files/subject4/Session3/2.gdf...\n",
            "GDF file detected\n",
            "Setting channel info structure...\n",
            "Creating raw.info structure...\n",
            "Reading 0 ... 118911  =      0.000 ...   232.248 secs...\n"
          ]
        },
        {
          "name": "stderr",
          "output_type": "stream",
          "text": [
            "/content/drive/My Drive/Colab Notebooks/Diploma_Thesis/posts/post01_simple_p300/braininvaders.py:68: DeprecationWarning: stim_channel will default to \"auto\" in 0.17 but change to False in 0.18, and will be removed in 0.19\n",
            "  file_path, montage=\"standard_1020\", preload=True\n",
            "/content/drive/My Drive/Colab Notebooks/mne/io/pick.py:279: DeprecationWarning: `np.bool` is a deprecated alias for the builtin `bool`. To silence this warning, use `bool` by itself. Doing this will not modify any behavior and is safe. If you specifically wanted the numpy scalar type, use `np.bool_` here.\n",
            "Deprecated in NumPy 1.20; for more details and guidance: https://numpy.org/devdocs/release/1.20.0-notes.html#deprecations\n",
            "  pick = np.zeros(nchan, dtype=np.bool)\n"
          ]
        },
        {
          "name": "stdout",
          "output_type": "stream",
          "text": [
            "Extracting EDF parameters from /root/mne_data/MNE-braininvaders-data/record/1494240/files/subject4/Session1/2.gdf...\n",
            "GDF file detected\n",
            "Setting channel info structure...\n",
            "Creating raw.info structure...\n",
            "Reading 0 ... 110143  =      0.000 ...   215.123 secs...\n"
          ]
        },
        {
          "name": "stderr",
          "output_type": "stream",
          "text": [
            "/content/drive/My Drive/Colab Notebooks/Diploma_Thesis/posts/post01_simple_p300/braininvaders.py:68: DeprecationWarning: stim_channel will default to \"auto\" in 0.17 but change to False in 0.18, and will be removed in 0.19\n",
            "  file_path, montage=\"standard_1020\", preload=True\n",
            "/content/drive/My Drive/Colab Notebooks/mne/io/pick.py:279: DeprecationWarning: `np.bool` is a deprecated alias for the builtin `bool`. To silence this warning, use `bool` by itself. Doing this will not modify any behavior and is safe. If you specifically wanted the numpy scalar type, use `np.bool_` here.\n",
            "Deprecated in NumPy 1.20; for more details and guidance: https://numpy.org/devdocs/release/1.20.0-notes.html#deprecations\n",
            "  pick = np.zeros(nchan, dtype=np.bool)\n"
          ]
        },
        {
          "name": "stdout",
          "output_type": "stream",
          "text": [
            "Extracting EDF parameters from /root/mne_data/MNE-braininvaders-data/record/1494240/files/subject4/Session4/2.gdf...\n",
            "GDF file detected\n",
            "Setting channel info structure...\n",
            "Creating raw.info structure...\n",
            "Reading 0 ... 125087  =      0.000 ...   244.311 secs...\n"
          ]
        },
        {
          "name": "stderr",
          "output_type": "stream",
          "text": [
            "/content/drive/My Drive/Colab Notebooks/Diploma_Thesis/posts/post01_simple_p300/braininvaders.py:68: DeprecationWarning: stim_channel will default to \"auto\" in 0.17 but change to False in 0.18, and will be removed in 0.19\n",
            "  file_path, montage=\"standard_1020\", preload=True\n",
            "/content/drive/My Drive/Colab Notebooks/mne/io/pick.py:279: DeprecationWarning: `np.bool` is a deprecated alias for the builtin `bool`. To silence this warning, use `bool` by itself. Doing this will not modify any behavior and is safe. If you specifically wanted the numpy scalar type, use `np.bool_` here.\n",
            "Deprecated in NumPy 1.20; for more details and guidance: https://numpy.org/devdocs/release/1.20.0-notes.html#deprecations\n",
            "  pick = np.zeros(nchan, dtype=np.bool)\n"
          ]
        },
        {
          "name": "stdout",
          "output_type": "stream",
          "text": [
            "Extracting EDF parameters from /root/mne_data/MNE-braininvaders-data/record/1494240/files/subject4/Session7/2.gdf...\n",
            "GDF file detected\n",
            "Setting channel info structure...\n",
            "Creating raw.info structure...\n",
            "Reading 0 ... 106655  =      0.000 ...   208.311 secs...\n"
          ]
        },
        {
          "name": "stderr",
          "output_type": "stream",
          "text": [
            "/content/drive/My Drive/Colab Notebooks/Diploma_Thesis/posts/post01_simple_p300/braininvaders.py:68: DeprecationWarning: stim_channel will default to \"auto\" in 0.17 but change to False in 0.18, and will be removed in 0.19\n",
            "  file_path, montage=\"standard_1020\", preload=True\n",
            "/content/drive/My Drive/Colab Notebooks/mne/io/pick.py:279: DeprecationWarning: `np.bool` is a deprecated alias for the builtin `bool`. To silence this warning, use `bool` by itself. Doing this will not modify any behavior and is safe. If you specifically wanted the numpy scalar type, use `np.bool_` here.\n",
            "Deprecated in NumPy 1.20; for more details and guidance: https://numpy.org/devdocs/release/1.20.0-notes.html#deprecations\n",
            "  pick = np.zeros(nchan, dtype=np.bool)\n"
          ]
        },
        {
          "name": "stdout",
          "output_type": "stream",
          "text": [
            "Extracting EDF parameters from /root/mne_data/MNE-braininvaders-data/record/1494240/files/subject4/Session2/3.gdf...\n",
            "GDF file detected\n",
            "Setting channel info structure...\n",
            "Creating raw.info structure...\n",
            "Reading 0 ... 135071  =      0.000 ...   263.811 secs...\n"
          ]
        },
        {
          "name": "stderr",
          "output_type": "stream",
          "text": [
            "/content/drive/My Drive/Colab Notebooks/Diploma_Thesis/posts/post01_simple_p300/braininvaders.py:68: DeprecationWarning: stim_channel will default to \"auto\" in 0.17 but change to False in 0.18, and will be removed in 0.19\n",
            "  file_path, montage=\"standard_1020\", preload=True\n",
            "/content/drive/My Drive/Colab Notebooks/mne/io/pick.py:279: DeprecationWarning: `np.bool` is a deprecated alias for the builtin `bool`. To silence this warning, use `bool` by itself. Doing this will not modify any behavior and is safe. If you specifically wanted the numpy scalar type, use `np.bool_` here.\n",
            "Deprecated in NumPy 1.20; for more details and guidance: https://numpy.org/devdocs/release/1.20.0-notes.html#deprecations\n",
            "  pick = np.zeros(nchan, dtype=np.bool)\n"
          ]
        },
        {
          "name": "stdout",
          "output_type": "stream",
          "text": [
            "Extracting EDF parameters from /root/mne_data/MNE-braininvaders-data/record/1494240/files/subject4/Session5/3.gdf...\n",
            "GDF file detected\n",
            "Setting channel info structure...\n",
            "Creating raw.info structure...\n",
            "Reading 0 ... 137471  =      0.000 ...   268.498 secs...\n"
          ]
        },
        {
          "name": "stderr",
          "output_type": "stream",
          "text": [
            "/content/drive/My Drive/Colab Notebooks/Diploma_Thesis/posts/post01_simple_p300/braininvaders.py:68: DeprecationWarning: stim_channel will default to \"auto\" in 0.17 but change to False in 0.18, and will be removed in 0.19\n",
            "  file_path, montage=\"standard_1020\", preload=True\n",
            "/content/drive/My Drive/Colab Notebooks/mne/io/pick.py:279: DeprecationWarning: `np.bool` is a deprecated alias for the builtin `bool`. To silence this warning, use `bool` by itself. Doing this will not modify any behavior and is safe. If you specifically wanted the numpy scalar type, use `np.bool_` here.\n",
            "Deprecated in NumPy 1.20; for more details and guidance: https://numpy.org/devdocs/release/1.20.0-notes.html#deprecations\n",
            "  pick = np.zeros(nchan, dtype=np.bool)\n"
          ]
        },
        {
          "name": "stdout",
          "output_type": "stream",
          "text": [
            "Extracting EDF parameters from /root/mne_data/MNE-braininvaders-data/record/1494240/files/subject4/Session6/3.gdf...\n",
            "GDF file detected\n",
            "Setting channel info structure...\n",
            "Creating raw.info structure...\n",
            "Reading 0 ... 136767  =      0.000 ...   267.123 secs...\n"
          ]
        },
        {
          "name": "stderr",
          "output_type": "stream",
          "text": [
            "/content/drive/My Drive/Colab Notebooks/Diploma_Thesis/posts/post01_simple_p300/braininvaders.py:68: DeprecationWarning: stim_channel will default to \"auto\" in 0.17 but change to False in 0.18, and will be removed in 0.19\n",
            "  file_path, montage=\"standard_1020\", preload=True\n",
            "/content/drive/My Drive/Colab Notebooks/mne/io/pick.py:279: DeprecationWarning: `np.bool` is a deprecated alias for the builtin `bool`. To silence this warning, use `bool` by itself. Doing this will not modify any behavior and is safe. If you specifically wanted the numpy scalar type, use `np.bool_` here.\n",
            "Deprecated in NumPy 1.20; for more details and guidance: https://numpy.org/devdocs/release/1.20.0-notes.html#deprecations\n",
            "  pick = np.zeros(nchan, dtype=np.bool)\n"
          ]
        },
        {
          "name": "stdout",
          "output_type": "stream",
          "text": [
            "Extracting EDF parameters from /root/mne_data/MNE-braininvaders-data/record/1494240/files/subject4/Session8/3.gdf...\n",
            "GDF file detected\n",
            "Setting channel info structure...\n",
            "Creating raw.info structure...\n",
            "Reading 0 ... 132159  =      0.000 ...   258.123 secs...\n"
          ]
        },
        {
          "name": "stderr",
          "output_type": "stream",
          "text": [
            "/content/drive/My Drive/Colab Notebooks/Diploma_Thesis/posts/post01_simple_p300/braininvaders.py:68: DeprecationWarning: stim_channel will default to \"auto\" in 0.17 but change to False in 0.18, and will be removed in 0.19\n",
            "  file_path, montage=\"standard_1020\", preload=True\n",
            "/content/drive/My Drive/Colab Notebooks/mne/io/pick.py:279: DeprecationWarning: `np.bool` is a deprecated alias for the builtin `bool`. To silence this warning, use `bool` by itself. Doing this will not modify any behavior and is safe. If you specifically wanted the numpy scalar type, use `np.bool_` here.\n",
            "Deprecated in NumPy 1.20; for more details and guidance: https://numpy.org/devdocs/release/1.20.0-notes.html#deprecations\n",
            "  pick = np.zeros(nchan, dtype=np.bool)\n"
          ]
        },
        {
          "name": "stdout",
          "output_type": "stream",
          "text": [
            "Extracting EDF parameters from /root/mne_data/MNE-braininvaders-data/record/1494240/files/subject4/Session3/3.gdf...\n",
            "GDF file detected\n",
            "Setting channel info structure...\n",
            "Creating raw.info structure...\n",
            "Reading 0 ... 139487  =      0.000 ...   272.436 secs...\n"
          ]
        },
        {
          "name": "stderr",
          "output_type": "stream",
          "text": [
            "/content/drive/My Drive/Colab Notebooks/Diploma_Thesis/posts/post01_simple_p300/braininvaders.py:68: DeprecationWarning: stim_channel will default to \"auto\" in 0.17 but change to False in 0.18, and will be removed in 0.19\n",
            "  file_path, montage=\"standard_1020\", preload=True\n",
            "/content/drive/My Drive/Colab Notebooks/mne/io/pick.py:279: DeprecationWarning: `np.bool` is a deprecated alias for the builtin `bool`. To silence this warning, use `bool` by itself. Doing this will not modify any behavior and is safe. If you specifically wanted the numpy scalar type, use `np.bool_` here.\n",
            "Deprecated in NumPy 1.20; for more details and guidance: https://numpy.org/devdocs/release/1.20.0-notes.html#deprecations\n",
            "  pick = np.zeros(nchan, dtype=np.bool)\n"
          ]
        },
        {
          "name": "stdout",
          "output_type": "stream",
          "text": [
            "Extracting EDF parameters from /root/mne_data/MNE-braininvaders-data/record/1494240/files/subject4/Session1/3.gdf...\n",
            "GDF file detected\n",
            "Setting channel info structure...\n",
            "Creating raw.info structure...\n",
            "Reading 0 ... 149887  =      0.000 ...   292.748 secs...\n"
          ]
        },
        {
          "name": "stderr",
          "output_type": "stream",
          "text": [
            "/content/drive/My Drive/Colab Notebooks/Diploma_Thesis/posts/post01_simple_p300/braininvaders.py:68: DeprecationWarning: stim_channel will default to \"auto\" in 0.17 but change to False in 0.18, and will be removed in 0.19\n",
            "  file_path, montage=\"standard_1020\", preload=True\n",
            "/content/drive/My Drive/Colab Notebooks/mne/io/pick.py:279: DeprecationWarning: `np.bool` is a deprecated alias for the builtin `bool`. To silence this warning, use `bool` by itself. Doing this will not modify any behavior and is safe. If you specifically wanted the numpy scalar type, use `np.bool_` here.\n",
            "Deprecated in NumPy 1.20; for more details and guidance: https://numpy.org/devdocs/release/1.20.0-notes.html#deprecations\n",
            "  pick = np.zeros(nchan, dtype=np.bool)\n"
          ]
        },
        {
          "name": "stdout",
          "output_type": "stream",
          "text": [
            "Extracting EDF parameters from /root/mne_data/MNE-braininvaders-data/record/1494240/files/subject4/Session4/3.gdf...\n",
            "GDF file detected\n",
            "Setting channel info structure...\n",
            "Creating raw.info structure...\n",
            "Reading 0 ... 135647  =      0.000 ...   264.936 secs...\n"
          ]
        },
        {
          "name": "stderr",
          "output_type": "stream",
          "text": [
            "/content/drive/My Drive/Colab Notebooks/Diploma_Thesis/posts/post01_simple_p300/braininvaders.py:68: DeprecationWarning: stim_channel will default to \"auto\" in 0.17 but change to False in 0.18, and will be removed in 0.19\n",
            "  file_path, montage=\"standard_1020\", preload=True\n",
            "/content/drive/My Drive/Colab Notebooks/mne/io/pick.py:279: DeprecationWarning: `np.bool` is a deprecated alias for the builtin `bool`. To silence this warning, use `bool` by itself. Doing this will not modify any behavior and is safe. If you specifically wanted the numpy scalar type, use `np.bool_` here.\n",
            "Deprecated in NumPy 1.20; for more details and guidance: https://numpy.org/devdocs/release/1.20.0-notes.html#deprecations\n",
            "  pick = np.zeros(nchan, dtype=np.bool)\n"
          ]
        },
        {
          "name": "stdout",
          "output_type": "stream",
          "text": [
            "Extracting EDF parameters from /root/mne_data/MNE-braininvaders-data/record/1494240/files/subject4/Session7/3.gdf...\n",
            "GDF file detected\n",
            "Setting channel info structure...\n",
            "Creating raw.info structure...\n",
            "Reading 0 ... 138175  =      0.000 ...   269.873 secs...\n"
          ]
        },
        {
          "name": "stderr",
          "output_type": "stream",
          "text": [
            "/content/drive/My Drive/Colab Notebooks/Diploma_Thesis/posts/post01_simple_p300/braininvaders.py:68: DeprecationWarning: stim_channel will default to \"auto\" in 0.17 but change to False in 0.18, and will be removed in 0.19\n",
            "  file_path, montage=\"standard_1020\", preload=True\n",
            "/content/drive/My Drive/Colab Notebooks/mne/io/pick.py:279: DeprecationWarning: `np.bool` is a deprecated alias for the builtin `bool`. To silence this warning, use `bool` by itself. Doing this will not modify any behavior and is safe. If you specifically wanted the numpy scalar type, use `np.bool_` here.\n",
            "Deprecated in NumPy 1.20; for more details and guidance: https://numpy.org/devdocs/release/1.20.0-notes.html#deprecations\n",
            "  pick = np.zeros(nchan, dtype=np.bool)\n"
          ]
        },
        {
          "name": "stdout",
          "output_type": "stream",
          "text": [
            "Extracting EDF parameters from /root/mne_data/MNE-braininvaders-data/record/1494240/files/subject4/Session2/4.gdf...\n",
            "GDF file detected\n",
            "Setting channel info structure...\n",
            "Creating raw.info structure...\n",
            "Reading 0 ... 119615  =      0.000 ...   233.623 secs...\n"
          ]
        },
        {
          "name": "stderr",
          "output_type": "stream",
          "text": [
            "/content/drive/My Drive/Colab Notebooks/Diploma_Thesis/posts/post01_simple_p300/braininvaders.py:68: DeprecationWarning: stim_channel will default to \"auto\" in 0.17 but change to False in 0.18, and will be removed in 0.19\n",
            "  file_path, montage=\"standard_1020\", preload=True\n",
            "/content/drive/My Drive/Colab Notebooks/mne/io/pick.py:279: DeprecationWarning: `np.bool` is a deprecated alias for the builtin `bool`. To silence this warning, use `bool` by itself. Doing this will not modify any behavior and is safe. If you specifically wanted the numpy scalar type, use `np.bool_` here.\n",
            "Deprecated in NumPy 1.20; for more details and guidance: https://numpy.org/devdocs/release/1.20.0-notes.html#deprecations\n",
            "  pick = np.zeros(nchan, dtype=np.bool)\n"
          ]
        },
        {
          "name": "stdout",
          "output_type": "stream",
          "text": [
            "Extracting EDF parameters from /root/mne_data/MNE-braininvaders-data/record/1494240/files/subject4/Session5/4.gdf...\n",
            "GDF file detected\n",
            "Setting channel info structure...\n",
            "Creating raw.info structure...\n",
            "Reading 0 ... 156991  =      0.000 ...   306.623 secs...\n"
          ]
        },
        {
          "name": "stderr",
          "output_type": "stream",
          "text": [
            "/content/drive/My Drive/Colab Notebooks/Diploma_Thesis/posts/post01_simple_p300/braininvaders.py:68: DeprecationWarning: stim_channel will default to \"auto\" in 0.17 but change to False in 0.18, and will be removed in 0.19\n",
            "  file_path, montage=\"standard_1020\", preload=True\n",
            "/content/drive/My Drive/Colab Notebooks/mne/io/pick.py:279: DeprecationWarning: `np.bool` is a deprecated alias for the builtin `bool`. To silence this warning, use `bool` by itself. Doing this will not modify any behavior and is safe. If you specifically wanted the numpy scalar type, use `np.bool_` here.\n",
            "Deprecated in NumPy 1.20; for more details and guidance: https://numpy.org/devdocs/release/1.20.0-notes.html#deprecations\n",
            "  pick = np.zeros(nchan, dtype=np.bool)\n"
          ]
        },
        {
          "name": "stdout",
          "output_type": "stream",
          "text": [
            "Extracting EDF parameters from /root/mne_data/MNE-braininvaders-data/record/1494240/files/subject4/Session6/4.gdf...\n",
            "GDF file detected\n",
            "Setting channel info structure...\n",
            "Creating raw.info structure...\n",
            "Reading 0 ... 117919  =      0.000 ...   230.311 secs...\n"
          ]
        },
        {
          "name": "stderr",
          "output_type": "stream",
          "text": [
            "/content/drive/My Drive/Colab Notebooks/Diploma_Thesis/posts/post01_simple_p300/braininvaders.py:68: DeprecationWarning: stim_channel will default to \"auto\" in 0.17 but change to False in 0.18, and will be removed in 0.19\n",
            "  file_path, montage=\"standard_1020\", preload=True\n",
            "/content/drive/My Drive/Colab Notebooks/mne/io/pick.py:279: DeprecationWarning: `np.bool` is a deprecated alias for the builtin `bool`. To silence this warning, use `bool` by itself. Doing this will not modify any behavior and is safe. If you specifically wanted the numpy scalar type, use `np.bool_` here.\n",
            "Deprecated in NumPy 1.20; for more details and guidance: https://numpy.org/devdocs/release/1.20.0-notes.html#deprecations\n",
            "  pick = np.zeros(nchan, dtype=np.bool)\n"
          ]
        },
        {
          "name": "stdout",
          "output_type": "stream",
          "text": [
            "Extracting EDF parameters from /root/mne_data/MNE-braininvaders-data/record/1494240/files/subject4/Session8/4.gdf...\n",
            "GDF file detected\n",
            "Setting channel info structure...\n",
            "Creating raw.info structure...\n",
            "Reading 0 ... 134911  =      0.000 ...   263.498 secs...\n"
          ]
        },
        {
          "name": "stderr",
          "output_type": "stream",
          "text": [
            "/content/drive/My Drive/Colab Notebooks/Diploma_Thesis/posts/post01_simple_p300/braininvaders.py:68: DeprecationWarning: stim_channel will default to \"auto\" in 0.17 but change to False in 0.18, and will be removed in 0.19\n",
            "  file_path, montage=\"standard_1020\", preload=True\n",
            "/content/drive/My Drive/Colab Notebooks/mne/io/pick.py:279: DeprecationWarning: `np.bool` is a deprecated alias for the builtin `bool`. To silence this warning, use `bool` by itself. Doing this will not modify any behavior and is safe. If you specifically wanted the numpy scalar type, use `np.bool_` here.\n",
            "Deprecated in NumPy 1.20; for more details and guidance: https://numpy.org/devdocs/release/1.20.0-notes.html#deprecations\n",
            "  pick = np.zeros(nchan, dtype=np.bool)\n"
          ]
        },
        {
          "name": "stdout",
          "output_type": "stream",
          "text": [
            "Extracting EDF parameters from /root/mne_data/MNE-braininvaders-data/record/1494240/files/subject4/Session3/4.gdf...\n",
            "GDF file detected\n",
            "Setting channel info structure...\n",
            "Creating raw.info structure...\n",
            "Reading 0 ... 127327  =      0.000 ...   248.686 secs...\n"
          ]
        },
        {
          "name": "stderr",
          "output_type": "stream",
          "text": [
            "/content/drive/My Drive/Colab Notebooks/Diploma_Thesis/posts/post01_simple_p300/braininvaders.py:68: DeprecationWarning: stim_channel will default to \"auto\" in 0.17 but change to False in 0.18, and will be removed in 0.19\n",
            "  file_path, montage=\"standard_1020\", preload=True\n",
            "/content/drive/My Drive/Colab Notebooks/mne/io/pick.py:279: DeprecationWarning: `np.bool` is a deprecated alias for the builtin `bool`. To silence this warning, use `bool` by itself. Doing this will not modify any behavior and is safe. If you specifically wanted the numpy scalar type, use `np.bool_` here.\n",
            "Deprecated in NumPy 1.20; for more details and guidance: https://numpy.org/devdocs/release/1.20.0-notes.html#deprecations\n",
            "  pick = np.zeros(nchan, dtype=np.bool)\n"
          ]
        },
        {
          "name": "stdout",
          "output_type": "stream",
          "text": [
            "Extracting EDF parameters from /root/mne_data/MNE-braininvaders-data/record/1494240/files/subject4/Session1/4.gdf...\n",
            "GDF file detected\n",
            "Setting channel info structure...\n",
            "Creating raw.info structure...\n",
            "Reading 0 ... 110943  =      0.000 ...   216.686 secs...\n"
          ]
        },
        {
          "name": "stderr",
          "output_type": "stream",
          "text": [
            "/content/drive/My Drive/Colab Notebooks/Diploma_Thesis/posts/post01_simple_p300/braininvaders.py:68: DeprecationWarning: stim_channel will default to \"auto\" in 0.17 but change to False in 0.18, and will be removed in 0.19\n",
            "  file_path, montage=\"standard_1020\", preload=True\n",
            "/content/drive/My Drive/Colab Notebooks/mne/io/pick.py:279: DeprecationWarning: `np.bool` is a deprecated alias for the builtin `bool`. To silence this warning, use `bool` by itself. Doing this will not modify any behavior and is safe. If you specifically wanted the numpy scalar type, use `np.bool_` here.\n",
            "Deprecated in NumPy 1.20; for more details and guidance: https://numpy.org/devdocs/release/1.20.0-notes.html#deprecations\n",
            "  pick = np.zeros(nchan, dtype=np.bool)\n"
          ]
        },
        {
          "name": "stdout",
          "output_type": "stream",
          "text": [
            "Extracting EDF parameters from /root/mne_data/MNE-braininvaders-data/record/1494240/files/subject4/Session4/4.gdf...\n",
            "GDF file detected\n",
            "Setting channel info structure...\n",
            "Creating raw.info structure...\n",
            "Reading 0 ... 121375  =      0.000 ...   237.061 secs...\n"
          ]
        },
        {
          "name": "stderr",
          "output_type": "stream",
          "text": [
            "/content/drive/My Drive/Colab Notebooks/Diploma_Thesis/posts/post01_simple_p300/braininvaders.py:68: DeprecationWarning: stim_channel will default to \"auto\" in 0.17 but change to False in 0.18, and will be removed in 0.19\n",
            "  file_path, montage=\"standard_1020\", preload=True\n",
            "/content/drive/My Drive/Colab Notebooks/mne/io/pick.py:279: DeprecationWarning: `np.bool` is a deprecated alias for the builtin `bool`. To silence this warning, use `bool` by itself. Doing this will not modify any behavior and is safe. If you specifically wanted the numpy scalar type, use `np.bool_` here.\n",
            "Deprecated in NumPy 1.20; for more details and guidance: https://numpy.org/devdocs/release/1.20.0-notes.html#deprecations\n",
            "  pick = np.zeros(nchan, dtype=np.bool)\n"
          ]
        },
        {
          "name": "stdout",
          "output_type": "stream",
          "text": [
            "Extracting EDF parameters from /root/mne_data/MNE-braininvaders-data/record/1494240/files/subject4/Session7/4.gdf...\n",
            "GDF file detected\n",
            "Setting channel info structure...\n",
            "Creating raw.info structure...\n",
            "Reading 0 ... 132959  =      0.000 ...   259.686 secs...\n"
          ]
        },
        {
          "name": "stderr",
          "output_type": "stream",
          "text": [
            "/content/drive/My Drive/Colab Notebooks/Diploma_Thesis/posts/post01_simple_p300/braininvaders.py:68: DeprecationWarning: stim_channel will default to \"auto\" in 0.17 but change to False in 0.18, and will be removed in 0.19\n",
            "  file_path, montage=\"standard_1020\", preload=True\n",
            "/content/drive/My Drive/Colab Notebooks/mne/io/pick.py:279: DeprecationWarning: `np.bool` is a deprecated alias for the builtin `bool`. To silence this warning, use `bool` by itself. Doing this will not modify any behavior and is safe. If you specifically wanted the numpy scalar type, use `np.bool_` here.\n",
            "Deprecated in NumPy 1.20; for more details and guidance: https://numpy.org/devdocs/release/1.20.0-notes.html#deprecations\n",
            "  pick = np.zeros(nchan, dtype=np.bool)\n"
          ]
        },
        {
          "name": "stdout",
          "output_type": "stream",
          "text": [
            "Extracting EDF parameters from /root/mne_data/MNE-braininvaders-data/record/1494240/files/subject5/Session2/1.gdf...\n",
            "GDF file detected\n",
            "Setting channel info structure...\n",
            "Creating raw.info structure...\n",
            "Reading 0 ... 140319  =      0.000 ...   274.061 secs...\n"
          ]
        },
        {
          "name": "stderr",
          "output_type": "stream",
          "text": [
            "/content/drive/My Drive/Colab Notebooks/Diploma_Thesis/posts/post01_simple_p300/braininvaders.py:68: DeprecationWarning: stim_channel will default to \"auto\" in 0.17 but change to False in 0.18, and will be removed in 0.19\n",
            "  file_path, montage=\"standard_1020\", preload=True\n",
            "/content/drive/My Drive/Colab Notebooks/mne/io/pick.py:279: DeprecationWarning: `np.bool` is a deprecated alias for the builtin `bool`. To silence this warning, use `bool` by itself. Doing this will not modify any behavior and is safe. If you specifically wanted the numpy scalar type, use `np.bool_` here.\n",
            "Deprecated in NumPy 1.20; for more details and guidance: https://numpy.org/devdocs/release/1.20.0-notes.html#deprecations\n",
            "  pick = np.zeros(nchan, dtype=np.bool)\n"
          ]
        },
        {
          "name": "stdout",
          "output_type": "stream",
          "text": [
            "Extracting EDF parameters from /root/mne_data/MNE-braininvaders-data/record/1494240/files/subject5/Session5/1.gdf...\n",
            "GDF file detected\n",
            "Setting channel info structure...\n",
            "Creating raw.info structure...\n",
            "Reading 0 ... 142175  =      0.000 ...   277.686 secs...\n"
          ]
        },
        {
          "name": "stderr",
          "output_type": "stream",
          "text": [
            "/content/drive/My Drive/Colab Notebooks/Diploma_Thesis/posts/post01_simple_p300/braininvaders.py:68: DeprecationWarning: stim_channel will default to \"auto\" in 0.17 but change to False in 0.18, and will be removed in 0.19\n",
            "  file_path, montage=\"standard_1020\", preload=True\n",
            "/content/drive/My Drive/Colab Notebooks/mne/io/pick.py:279: DeprecationWarning: `np.bool` is a deprecated alias for the builtin `bool`. To silence this warning, use `bool` by itself. Doing this will not modify any behavior and is safe. If you specifically wanted the numpy scalar type, use `np.bool_` here.\n",
            "Deprecated in NumPy 1.20; for more details and guidance: https://numpy.org/devdocs/release/1.20.0-notes.html#deprecations\n",
            "  pick = np.zeros(nchan, dtype=np.bool)\n"
          ]
        },
        {
          "name": "stdout",
          "output_type": "stream",
          "text": [
            "Extracting EDF parameters from /root/mne_data/MNE-braininvaders-data/record/1494240/files/subject5/Session6/1.gdf...\n",
            "GDF file detected\n",
            "Setting channel info structure...\n",
            "Creating raw.info structure...\n",
            "Reading 0 ... 135647  =      0.000 ...   264.936 secs...\n"
          ]
        },
        {
          "name": "stderr",
          "output_type": "stream",
          "text": [
            "/content/drive/My Drive/Colab Notebooks/Diploma_Thesis/posts/post01_simple_p300/braininvaders.py:68: DeprecationWarning: stim_channel will default to \"auto\" in 0.17 but change to False in 0.18, and will be removed in 0.19\n",
            "  file_path, montage=\"standard_1020\", preload=True\n",
            "/content/drive/My Drive/Colab Notebooks/mne/io/pick.py:279: DeprecationWarning: `np.bool` is a deprecated alias for the builtin `bool`. To silence this warning, use `bool` by itself. Doing this will not modify any behavior and is safe. If you specifically wanted the numpy scalar type, use `np.bool_` here.\n",
            "Deprecated in NumPy 1.20; for more details and guidance: https://numpy.org/devdocs/release/1.20.0-notes.html#deprecations\n",
            "  pick = np.zeros(nchan, dtype=np.bool)\n"
          ]
        },
        {
          "name": "stdout",
          "output_type": "stream",
          "text": [
            "Extracting EDF parameters from /root/mne_data/MNE-braininvaders-data/record/1494240/files/subject5/Session8/1.gdf...\n",
            "GDF file detected\n",
            "Setting channel info structure...\n",
            "Creating raw.info structure...\n",
            "Reading 0 ... 135359  =      0.000 ...   264.373 secs...\n"
          ]
        },
        {
          "name": "stderr",
          "output_type": "stream",
          "text": [
            "/content/drive/My Drive/Colab Notebooks/Diploma_Thesis/posts/post01_simple_p300/braininvaders.py:68: DeprecationWarning: stim_channel will default to \"auto\" in 0.17 but change to False in 0.18, and will be removed in 0.19\n",
            "  file_path, montage=\"standard_1020\", preload=True\n",
            "/content/drive/My Drive/Colab Notebooks/mne/io/pick.py:279: DeprecationWarning: `np.bool` is a deprecated alias for the builtin `bool`. To silence this warning, use `bool` by itself. Doing this will not modify any behavior and is safe. If you specifically wanted the numpy scalar type, use `np.bool_` here.\n",
            "Deprecated in NumPy 1.20; for more details and guidance: https://numpy.org/devdocs/release/1.20.0-notes.html#deprecations\n",
            "  pick = np.zeros(nchan, dtype=np.bool)\n"
          ]
        },
        {
          "name": "stdout",
          "output_type": "stream",
          "text": [
            "Extracting EDF parameters from /root/mne_data/MNE-braininvaders-data/record/1494240/files/subject5/Session3/1.gdf...\n",
            "GDF file detected\n",
            "Setting channel info structure...\n",
            "Creating raw.info structure...\n",
            "Reading 0 ... 139135  =      0.000 ...   271.748 secs...\n"
          ]
        },
        {
          "name": "stderr",
          "output_type": "stream",
          "text": [
            "/content/drive/My Drive/Colab Notebooks/Diploma_Thesis/posts/post01_simple_p300/braininvaders.py:68: DeprecationWarning: stim_channel will default to \"auto\" in 0.17 but change to False in 0.18, and will be removed in 0.19\n",
            "  file_path, montage=\"standard_1020\", preload=True\n",
            "/content/drive/My Drive/Colab Notebooks/mne/io/pick.py:279: DeprecationWarning: `np.bool` is a deprecated alias for the builtin `bool`. To silence this warning, use `bool` by itself. Doing this will not modify any behavior and is safe. If you specifically wanted the numpy scalar type, use `np.bool_` here.\n",
            "Deprecated in NumPy 1.20; for more details and guidance: https://numpy.org/devdocs/release/1.20.0-notes.html#deprecations\n",
            "  pick = np.zeros(nchan, dtype=np.bool)\n"
          ]
        },
        {
          "name": "stdout",
          "output_type": "stream",
          "text": [
            "Extracting EDF parameters from /root/mne_data/MNE-braininvaders-data/record/1494240/files/subject5/Session1/1.gdf...\n",
            "GDF file detected\n",
            "Setting channel info structure...\n",
            "Creating raw.info structure...\n",
            "Reading 0 ... 138943  =      0.000 ...   271.373 secs...\n"
          ]
        },
        {
          "name": "stderr",
          "output_type": "stream",
          "text": [
            "/content/drive/My Drive/Colab Notebooks/Diploma_Thesis/posts/post01_simple_p300/braininvaders.py:68: DeprecationWarning: stim_channel will default to \"auto\" in 0.17 but change to False in 0.18, and will be removed in 0.19\n",
            "  file_path, montage=\"standard_1020\", preload=True\n",
            "/content/drive/My Drive/Colab Notebooks/mne/io/pick.py:279: DeprecationWarning: `np.bool` is a deprecated alias for the builtin `bool`. To silence this warning, use `bool` by itself. Doing this will not modify any behavior and is safe. If you specifically wanted the numpy scalar type, use `np.bool_` here.\n",
            "Deprecated in NumPy 1.20; for more details and guidance: https://numpy.org/devdocs/release/1.20.0-notes.html#deprecations\n",
            "  pick = np.zeros(nchan, dtype=np.bool)\n"
          ]
        },
        {
          "name": "stdout",
          "output_type": "stream",
          "text": [
            "Extracting EDF parameters from /root/mne_data/MNE-braininvaders-data/record/1494240/files/subject5/Session4/1.gdf...\n",
            "GDF file detected\n",
            "Setting channel info structure...\n",
            "Creating raw.info structure...\n",
            "Reading 0 ... 136127  =      0.000 ...   265.873 secs...\n"
          ]
        },
        {
          "name": "stderr",
          "output_type": "stream",
          "text": [
            "/content/drive/My Drive/Colab Notebooks/Diploma_Thesis/posts/post01_simple_p300/braininvaders.py:68: DeprecationWarning: stim_channel will default to \"auto\" in 0.17 but change to False in 0.18, and will be removed in 0.19\n",
            "  file_path, montage=\"standard_1020\", preload=True\n",
            "/content/drive/My Drive/Colab Notebooks/mne/io/pick.py:279: DeprecationWarning: `np.bool` is a deprecated alias for the builtin `bool`. To silence this warning, use `bool` by itself. Doing this will not modify any behavior and is safe. If you specifically wanted the numpy scalar type, use `np.bool_` here.\n",
            "Deprecated in NumPy 1.20; for more details and guidance: https://numpy.org/devdocs/release/1.20.0-notes.html#deprecations\n",
            "  pick = np.zeros(nchan, dtype=np.bool)\n"
          ]
        },
        {
          "name": "stdout",
          "output_type": "stream",
          "text": [
            "Extracting EDF parameters from /root/mne_data/MNE-braininvaders-data/record/1494240/files/subject5/Session7/1.gdf...\n",
            "GDF file detected\n",
            "Setting channel info structure...\n",
            "Creating raw.info structure...\n",
            "Reading 0 ... 133855  =      0.000 ...   261.436 secs...\n"
          ]
        },
        {
          "name": "stderr",
          "output_type": "stream",
          "text": [
            "/content/drive/My Drive/Colab Notebooks/Diploma_Thesis/posts/post01_simple_p300/braininvaders.py:68: DeprecationWarning: stim_channel will default to \"auto\" in 0.17 but change to False in 0.18, and will be removed in 0.19\n",
            "  file_path, montage=\"standard_1020\", preload=True\n",
            "/content/drive/My Drive/Colab Notebooks/mne/io/pick.py:279: DeprecationWarning: `np.bool` is a deprecated alias for the builtin `bool`. To silence this warning, use `bool` by itself. Doing this will not modify any behavior and is safe. If you specifically wanted the numpy scalar type, use `np.bool_` here.\n",
            "Deprecated in NumPy 1.20; for more details and guidance: https://numpy.org/devdocs/release/1.20.0-notes.html#deprecations\n",
            "  pick = np.zeros(nchan, dtype=np.bool)\n"
          ]
        },
        {
          "name": "stdout",
          "output_type": "stream",
          "text": [
            "Extracting EDF parameters from /root/mne_data/MNE-braininvaders-data/record/1494240/files/subject5/Session2/2.gdf...\n",
            "GDF file detected\n",
            "Setting channel info structure...\n",
            "Creating raw.info structure...\n",
            "Reading 0 ... 110495  =      0.000 ...   215.811 secs...\n"
          ]
        },
        {
          "name": "stderr",
          "output_type": "stream",
          "text": [
            "/content/drive/My Drive/Colab Notebooks/Diploma_Thesis/posts/post01_simple_p300/braininvaders.py:68: DeprecationWarning: stim_channel will default to \"auto\" in 0.17 but change to False in 0.18, and will be removed in 0.19\n",
            "  file_path, montage=\"standard_1020\", preload=True\n",
            "/content/drive/My Drive/Colab Notebooks/mne/io/pick.py:279: DeprecationWarning: `np.bool` is a deprecated alias for the builtin `bool`. To silence this warning, use `bool` by itself. Doing this will not modify any behavior and is safe. If you specifically wanted the numpy scalar type, use `np.bool_` here.\n",
            "Deprecated in NumPy 1.20; for more details and guidance: https://numpy.org/devdocs/release/1.20.0-notes.html#deprecations\n",
            "  pick = np.zeros(nchan, dtype=np.bool)\n"
          ]
        },
        {
          "name": "stdout",
          "output_type": "stream",
          "text": [
            "Extracting EDF parameters from /root/mne_data/MNE-braininvaders-data/record/1494240/files/subject5/Session5/2.gdf...\n",
            "GDF file detected\n",
            "Setting channel info structure...\n",
            "Creating raw.info structure...\n",
            "Reading 0 ... 100351  =      0.000 ...   195.998 secs...\n"
          ]
        },
        {
          "name": "stderr",
          "output_type": "stream",
          "text": [
            "/content/drive/My Drive/Colab Notebooks/Diploma_Thesis/posts/post01_simple_p300/braininvaders.py:68: DeprecationWarning: stim_channel will default to \"auto\" in 0.17 but change to False in 0.18, and will be removed in 0.19\n",
            "  file_path, montage=\"standard_1020\", preload=True\n",
            "/content/drive/My Drive/Colab Notebooks/mne/io/pick.py:279: DeprecationWarning: `np.bool` is a deprecated alias for the builtin `bool`. To silence this warning, use `bool` by itself. Doing this will not modify any behavior and is safe. If you specifically wanted the numpy scalar type, use `np.bool_` here.\n",
            "Deprecated in NumPy 1.20; for more details and guidance: https://numpy.org/devdocs/release/1.20.0-notes.html#deprecations\n",
            "  pick = np.zeros(nchan, dtype=np.bool)\n"
          ]
        },
        {
          "name": "stdout",
          "output_type": "stream",
          "text": [
            "Extracting EDF parameters from /root/mne_data/MNE-braininvaders-data/record/1494240/files/subject5/Session6/2.gdf...\n",
            "GDF file detected\n",
            "Setting channel info structure...\n",
            "Creating raw.info structure...\n",
            "Reading 0 ... 111423  =      0.000 ...   217.623 secs...\n"
          ]
        },
        {
          "name": "stderr",
          "output_type": "stream",
          "text": [
            "/content/drive/My Drive/Colab Notebooks/Diploma_Thesis/posts/post01_simple_p300/braininvaders.py:68: DeprecationWarning: stim_channel will default to \"auto\" in 0.17 but change to False in 0.18, and will be removed in 0.19\n",
            "  file_path, montage=\"standard_1020\", preload=True\n",
            "/content/drive/My Drive/Colab Notebooks/mne/io/pick.py:279: DeprecationWarning: `np.bool` is a deprecated alias for the builtin `bool`. To silence this warning, use `bool` by itself. Doing this will not modify any behavior and is safe. If you specifically wanted the numpy scalar type, use `np.bool_` here.\n",
            "Deprecated in NumPy 1.20; for more details and guidance: https://numpy.org/devdocs/release/1.20.0-notes.html#deprecations\n",
            "  pick = np.zeros(nchan, dtype=np.bool)\n"
          ]
        },
        {
          "name": "stdout",
          "output_type": "stream",
          "text": [
            "Extracting EDF parameters from /root/mne_data/MNE-braininvaders-data/record/1494240/files/subject5/Session8/2.gdf...\n",
            "GDF file detected\n",
            "Setting channel info structure...\n",
            "Creating raw.info structure...\n",
            "Reading 0 ... 110879  =      0.000 ...   216.561 secs...\n"
          ]
        },
        {
          "name": "stderr",
          "output_type": "stream",
          "text": [
            "/content/drive/My Drive/Colab Notebooks/Diploma_Thesis/posts/post01_simple_p300/braininvaders.py:68: DeprecationWarning: stim_channel will default to \"auto\" in 0.17 but change to False in 0.18, and will be removed in 0.19\n",
            "  file_path, montage=\"standard_1020\", preload=True\n",
            "/content/drive/My Drive/Colab Notebooks/mne/io/pick.py:279: DeprecationWarning: `np.bool` is a deprecated alias for the builtin `bool`. To silence this warning, use `bool` by itself. Doing this will not modify any behavior and is safe. If you specifically wanted the numpy scalar type, use `np.bool_` here.\n",
            "Deprecated in NumPy 1.20; for more details and guidance: https://numpy.org/devdocs/release/1.20.0-notes.html#deprecations\n",
            "  pick = np.zeros(nchan, dtype=np.bool)\n"
          ]
        },
        {
          "name": "stdout",
          "output_type": "stream",
          "text": [
            "Extracting EDF parameters from /root/mne_data/MNE-braininvaders-data/record/1494240/files/subject5/Session3/2.gdf...\n",
            "GDF file detected\n",
            "Setting channel info structure...\n",
            "Creating raw.info structure...\n",
            "Reading 0 ... 138399  =      0.000 ...   270.311 secs...\n"
          ]
        },
        {
          "name": "stderr",
          "output_type": "stream",
          "text": [
            "/content/drive/My Drive/Colab Notebooks/Diploma_Thesis/posts/post01_simple_p300/braininvaders.py:68: DeprecationWarning: stim_channel will default to \"auto\" in 0.17 but change to False in 0.18, and will be removed in 0.19\n",
            "  file_path, montage=\"standard_1020\", preload=True\n",
            "/content/drive/My Drive/Colab Notebooks/mne/io/pick.py:279: DeprecationWarning: `np.bool` is a deprecated alias for the builtin `bool`. To silence this warning, use `bool` by itself. Doing this will not modify any behavior and is safe. If you specifically wanted the numpy scalar type, use `np.bool_` here.\n",
            "Deprecated in NumPy 1.20; for more details and guidance: https://numpy.org/devdocs/release/1.20.0-notes.html#deprecations\n",
            "  pick = np.zeros(nchan, dtype=np.bool)\n"
          ]
        },
        {
          "name": "stdout",
          "output_type": "stream",
          "text": [
            "Extracting EDF parameters from /root/mne_data/MNE-braininvaders-data/record/1494240/files/subject5/Session1/2.gdf...\n",
            "GDF file detected\n",
            "Setting channel info structure...\n",
            "Creating raw.info structure...\n",
            "Reading 0 ... 122399  =      0.000 ...   239.061 secs...\n"
          ]
        },
        {
          "name": "stderr",
          "output_type": "stream",
          "text": [
            "/content/drive/My Drive/Colab Notebooks/Diploma_Thesis/posts/post01_simple_p300/braininvaders.py:68: DeprecationWarning: stim_channel will default to \"auto\" in 0.17 but change to False in 0.18, and will be removed in 0.19\n",
            "  file_path, montage=\"standard_1020\", preload=True\n",
            "/content/drive/My Drive/Colab Notebooks/mne/io/pick.py:279: DeprecationWarning: `np.bool` is a deprecated alias for the builtin `bool`. To silence this warning, use `bool` by itself. Doing this will not modify any behavior and is safe. If you specifically wanted the numpy scalar type, use `np.bool_` here.\n",
            "Deprecated in NumPy 1.20; for more details and guidance: https://numpy.org/devdocs/release/1.20.0-notes.html#deprecations\n",
            "  pick = np.zeros(nchan, dtype=np.bool)\n"
          ]
        },
        {
          "name": "stdout",
          "output_type": "stream",
          "text": [
            "Extracting EDF parameters from /root/mne_data/MNE-braininvaders-data/record/1494240/files/subject5/Session4/2.gdf...\n",
            "GDF file detected\n",
            "Setting channel info structure...\n",
            "Creating raw.info structure...\n",
            "Reading 0 ... 111231  =      0.000 ...   217.248 secs...\n"
          ]
        },
        {
          "name": "stderr",
          "output_type": "stream",
          "text": [
            "/content/drive/My Drive/Colab Notebooks/Diploma_Thesis/posts/post01_simple_p300/braininvaders.py:68: DeprecationWarning: stim_channel will default to \"auto\" in 0.17 but change to False in 0.18, and will be removed in 0.19\n",
            "  file_path, montage=\"standard_1020\", preload=True\n",
            "/content/drive/My Drive/Colab Notebooks/mne/io/pick.py:279: DeprecationWarning: `np.bool` is a deprecated alias for the builtin `bool`. To silence this warning, use `bool` by itself. Doing this will not modify any behavior and is safe. If you specifically wanted the numpy scalar type, use `np.bool_` here.\n",
            "Deprecated in NumPy 1.20; for more details and guidance: https://numpy.org/devdocs/release/1.20.0-notes.html#deprecations\n",
            "  pick = np.zeros(nchan, dtype=np.bool)\n"
          ]
        },
        {
          "name": "stdout",
          "output_type": "stream",
          "text": [
            "Extracting EDF parameters from /root/mne_data/MNE-braininvaders-data/record/1494240/files/subject5/Session7/2.gdf...\n",
            "GDF file detected\n",
            "Setting channel info structure...\n",
            "Creating raw.info structure...\n",
            "Reading 0 ... 102047  =      0.000 ...   199.311 secs...\n"
          ]
        },
        {
          "name": "stderr",
          "output_type": "stream",
          "text": [
            "/content/drive/My Drive/Colab Notebooks/Diploma_Thesis/posts/post01_simple_p300/braininvaders.py:68: DeprecationWarning: stim_channel will default to \"auto\" in 0.17 but change to False in 0.18, and will be removed in 0.19\n",
            "  file_path, montage=\"standard_1020\", preload=True\n",
            "/content/drive/My Drive/Colab Notebooks/mne/io/pick.py:279: DeprecationWarning: `np.bool` is a deprecated alias for the builtin `bool`. To silence this warning, use `bool` by itself. Doing this will not modify any behavior and is safe. If you specifically wanted the numpy scalar type, use `np.bool_` here.\n",
            "Deprecated in NumPy 1.20; for more details and guidance: https://numpy.org/devdocs/release/1.20.0-notes.html#deprecations\n",
            "  pick = np.zeros(nchan, dtype=np.bool)\n"
          ]
        },
        {
          "name": "stdout",
          "output_type": "stream",
          "text": [
            "Extracting EDF parameters from /root/mne_data/MNE-braininvaders-data/record/1494240/files/subject5/Session2/3.gdf...\n",
            "GDF file detected\n",
            "Setting channel info structure...\n",
            "Creating raw.info structure...\n",
            "Reading 0 ... 149183  =      0.000 ...   291.373 secs...\n"
          ]
        },
        {
          "name": "stderr",
          "output_type": "stream",
          "text": [
            "/content/drive/My Drive/Colab Notebooks/Diploma_Thesis/posts/post01_simple_p300/braininvaders.py:68: DeprecationWarning: stim_channel will default to \"auto\" in 0.17 but change to False in 0.18, and will be removed in 0.19\n",
            "  file_path, montage=\"standard_1020\", preload=True\n",
            "/content/drive/My Drive/Colab Notebooks/mne/io/pick.py:279: DeprecationWarning: `np.bool` is a deprecated alias for the builtin `bool`. To silence this warning, use `bool` by itself. Doing this will not modify any behavior and is safe. If you specifically wanted the numpy scalar type, use `np.bool_` here.\n",
            "Deprecated in NumPy 1.20; for more details and guidance: https://numpy.org/devdocs/release/1.20.0-notes.html#deprecations\n",
            "  pick = np.zeros(nchan, dtype=np.bool)\n"
          ]
        },
        {
          "name": "stdout",
          "output_type": "stream",
          "text": [
            "Extracting EDF parameters from /root/mne_data/MNE-braininvaders-data/record/1494240/files/subject5/Session5/3.gdf...\n",
            "GDF file detected\n",
            "Setting channel info structure...\n",
            "Creating raw.info structure...\n",
            "Reading 0 ... 139743  =      0.000 ...   272.936 secs...\n"
          ]
        },
        {
          "name": "stderr",
          "output_type": "stream",
          "text": [
            "/content/drive/My Drive/Colab Notebooks/Diploma_Thesis/posts/post01_simple_p300/braininvaders.py:68: DeprecationWarning: stim_channel will default to \"auto\" in 0.17 but change to False in 0.18, and will be removed in 0.19\n",
            "  file_path, montage=\"standard_1020\", preload=True\n",
            "/content/drive/My Drive/Colab Notebooks/mne/io/pick.py:279: DeprecationWarning: `np.bool` is a deprecated alias for the builtin `bool`. To silence this warning, use `bool` by itself. Doing this will not modify any behavior and is safe. If you specifically wanted the numpy scalar type, use `np.bool_` here.\n",
            "Deprecated in NumPy 1.20; for more details and guidance: https://numpy.org/devdocs/release/1.20.0-notes.html#deprecations\n",
            "  pick = np.zeros(nchan, dtype=np.bool)\n"
          ]
        },
        {
          "name": "stdout",
          "output_type": "stream",
          "text": [
            "Extracting EDF parameters from /root/mne_data/MNE-braininvaders-data/record/1494240/files/subject5/Session6/3.gdf...\n",
            "GDF file detected\n",
            "Setting channel info structure...\n",
            "Creating raw.info structure...\n",
            "Reading 0 ... 135647  =      0.000 ...   264.936 secs...\n"
          ]
        },
        {
          "name": "stderr",
          "output_type": "stream",
          "text": [
            "/content/drive/My Drive/Colab Notebooks/Diploma_Thesis/posts/post01_simple_p300/braininvaders.py:68: DeprecationWarning: stim_channel will default to \"auto\" in 0.17 but change to False in 0.18, and will be removed in 0.19\n",
            "  file_path, montage=\"standard_1020\", preload=True\n",
            "/content/drive/My Drive/Colab Notebooks/mne/io/pick.py:279: DeprecationWarning: `np.bool` is a deprecated alias for the builtin `bool`. To silence this warning, use `bool` by itself. Doing this will not modify any behavior and is safe. If you specifically wanted the numpy scalar type, use `np.bool_` here.\n",
            "Deprecated in NumPy 1.20; for more details and guidance: https://numpy.org/devdocs/release/1.20.0-notes.html#deprecations\n",
            "  pick = np.zeros(nchan, dtype=np.bool)\n"
          ]
        },
        {
          "name": "stdout",
          "output_type": "stream",
          "text": [
            "Extracting EDF parameters from /root/mne_data/MNE-braininvaders-data/record/1494240/files/subject5/Session8/3.gdf...\n",
            "GDF file detected\n",
            "Setting channel info structure...\n",
            "Creating raw.info structure...\n",
            "Reading 0 ... 132511  =      0.000 ...   258.811 secs...\n"
          ]
        },
        {
          "name": "stderr",
          "output_type": "stream",
          "text": [
            "/content/drive/My Drive/Colab Notebooks/Diploma_Thesis/posts/post01_simple_p300/braininvaders.py:68: DeprecationWarning: stim_channel will default to \"auto\" in 0.17 but change to False in 0.18, and will be removed in 0.19\n",
            "  file_path, montage=\"standard_1020\", preload=True\n",
            "/content/drive/My Drive/Colab Notebooks/mne/io/pick.py:279: DeprecationWarning: `np.bool` is a deprecated alias for the builtin `bool`. To silence this warning, use `bool` by itself. Doing this will not modify any behavior and is safe. If you specifically wanted the numpy scalar type, use `np.bool_` here.\n",
            "Deprecated in NumPy 1.20; for more details and guidance: https://numpy.org/devdocs/release/1.20.0-notes.html#deprecations\n",
            "  pick = np.zeros(nchan, dtype=np.bool)\n"
          ]
        },
        {
          "name": "stdout",
          "output_type": "stream",
          "text": [
            "Extracting EDF parameters from /root/mne_data/MNE-braininvaders-data/record/1494240/files/subject5/Session3/3.gdf...\n",
            "GDF file detected\n",
            "Setting channel info structure...\n",
            "Creating raw.info structure...\n",
            "Reading 0 ... 142239  =      0.000 ...   277.811 secs...\n"
          ]
        },
        {
          "name": "stderr",
          "output_type": "stream",
          "text": [
            "/content/drive/My Drive/Colab Notebooks/Diploma_Thesis/posts/post01_simple_p300/braininvaders.py:68: DeprecationWarning: stim_channel will default to \"auto\" in 0.17 but change to False in 0.18, and will be removed in 0.19\n",
            "  file_path, montage=\"standard_1020\", preload=True\n",
            "/content/drive/My Drive/Colab Notebooks/mne/io/pick.py:279: DeprecationWarning: `np.bool` is a deprecated alias for the builtin `bool`. To silence this warning, use `bool` by itself. Doing this will not modify any behavior and is safe. If you specifically wanted the numpy scalar type, use `np.bool_` here.\n",
            "Deprecated in NumPy 1.20; for more details and guidance: https://numpy.org/devdocs/release/1.20.0-notes.html#deprecations\n",
            "  pick = np.zeros(nchan, dtype=np.bool)\n"
          ]
        },
        {
          "name": "stdout",
          "output_type": "stream",
          "text": [
            "Extracting EDF parameters from /root/mne_data/MNE-braininvaders-data/record/1494240/files/subject5/Session1/3.gdf...\n",
            "GDF file detected\n",
            "Setting channel info structure...\n",
            "Creating raw.info structure...\n",
            "Reading 0 ... 138623  =      0.000 ...   270.748 secs...\n"
          ]
        },
        {
          "name": "stderr",
          "output_type": "stream",
          "text": [
            "/content/drive/My Drive/Colab Notebooks/Diploma_Thesis/posts/post01_simple_p300/braininvaders.py:68: DeprecationWarning: stim_channel will default to \"auto\" in 0.17 but change to False in 0.18, and will be removed in 0.19\n",
            "  file_path, montage=\"standard_1020\", preload=True\n",
            "/content/drive/My Drive/Colab Notebooks/mne/io/pick.py:279: DeprecationWarning: `np.bool` is a deprecated alias for the builtin `bool`. To silence this warning, use `bool` by itself. Doing this will not modify any behavior and is safe. If you specifically wanted the numpy scalar type, use `np.bool_` here.\n",
            "Deprecated in NumPy 1.20; for more details and guidance: https://numpy.org/devdocs/release/1.20.0-notes.html#deprecations\n",
            "  pick = np.zeros(nchan, dtype=np.bool)\n"
          ]
        },
        {
          "name": "stdout",
          "output_type": "stream",
          "text": [
            "Extracting EDF parameters from /root/mne_data/MNE-braininvaders-data/record/1494240/files/subject5/Session4/3.gdf...\n",
            "GDF file detected\n",
            "Setting channel info structure...\n",
            "Creating raw.info structure...\n",
            "Reading 0 ... 139167  =      0.000 ...   271.811 secs...\n"
          ]
        },
        {
          "name": "stderr",
          "output_type": "stream",
          "text": [
            "/content/drive/My Drive/Colab Notebooks/Diploma_Thesis/posts/post01_simple_p300/braininvaders.py:68: DeprecationWarning: stim_channel will default to \"auto\" in 0.17 but change to False in 0.18, and will be removed in 0.19\n",
            "  file_path, montage=\"standard_1020\", preload=True\n",
            "/content/drive/My Drive/Colab Notebooks/mne/io/pick.py:279: DeprecationWarning: `np.bool` is a deprecated alias for the builtin `bool`. To silence this warning, use `bool` by itself. Doing this will not modify any behavior and is safe. If you specifically wanted the numpy scalar type, use `np.bool_` here.\n",
            "Deprecated in NumPy 1.20; for more details and guidance: https://numpy.org/devdocs/release/1.20.0-notes.html#deprecations\n",
            "  pick = np.zeros(nchan, dtype=np.bool)\n"
          ]
        },
        {
          "name": "stdout",
          "output_type": "stream",
          "text": [
            "Extracting EDF parameters from /root/mne_data/MNE-braininvaders-data/record/1494240/files/subject5/Session7/3.gdf...\n",
            "GDF file detected\n",
            "Setting channel info structure...\n",
            "Creating raw.info structure...\n",
            "Reading 0 ... 134783  =      0.000 ...   263.248 secs...\n"
          ]
        },
        {
          "name": "stderr",
          "output_type": "stream",
          "text": [
            "/content/drive/My Drive/Colab Notebooks/Diploma_Thesis/posts/post01_simple_p300/braininvaders.py:68: DeprecationWarning: stim_channel will default to \"auto\" in 0.17 but change to False in 0.18, and will be removed in 0.19\n",
            "  file_path, montage=\"standard_1020\", preload=True\n",
            "/content/drive/My Drive/Colab Notebooks/mne/io/pick.py:279: DeprecationWarning: `np.bool` is a deprecated alias for the builtin `bool`. To silence this warning, use `bool` by itself. Doing this will not modify any behavior and is safe. If you specifically wanted the numpy scalar type, use `np.bool_` here.\n",
            "Deprecated in NumPy 1.20; for more details and guidance: https://numpy.org/devdocs/release/1.20.0-notes.html#deprecations\n",
            "  pick = np.zeros(nchan, dtype=np.bool)\n"
          ]
        },
        {
          "name": "stdout",
          "output_type": "stream",
          "text": [
            "Extracting EDF parameters from /root/mne_data/MNE-braininvaders-data/record/1494240/files/subject5/Session2/4.gdf...\n",
            "GDF file detected\n",
            "Setting channel info structure...\n",
            "Creating raw.info structure...\n",
            "Reading 0 ... 112543  =      0.000 ...   219.811 secs...\n"
          ]
        },
        {
          "name": "stderr",
          "output_type": "stream",
          "text": [
            "/content/drive/My Drive/Colab Notebooks/Diploma_Thesis/posts/post01_simple_p300/braininvaders.py:68: DeprecationWarning: stim_channel will default to \"auto\" in 0.17 but change to False in 0.18, and will be removed in 0.19\n",
            "  file_path, montage=\"standard_1020\", preload=True\n",
            "/content/drive/My Drive/Colab Notebooks/mne/io/pick.py:279: DeprecationWarning: `np.bool` is a deprecated alias for the builtin `bool`. To silence this warning, use `bool` by itself. Doing this will not modify any behavior and is safe. If you specifically wanted the numpy scalar type, use `np.bool_` here.\n",
            "Deprecated in NumPy 1.20; for more details and guidance: https://numpy.org/devdocs/release/1.20.0-notes.html#deprecations\n",
            "  pick = np.zeros(nchan, dtype=np.bool)\n"
          ]
        },
        {
          "name": "stdout",
          "output_type": "stream",
          "text": [
            "Extracting EDF parameters from /root/mne_data/MNE-braininvaders-data/record/1494240/files/subject5/Session5/4.gdf...\n",
            "GDF file detected\n",
            "Setting channel info structure...\n",
            "Creating raw.info structure...\n",
            "Reading 0 ... 104127  =      0.000 ...   203.373 secs...\n"
          ]
        },
        {
          "name": "stderr",
          "output_type": "stream",
          "text": [
            "/content/drive/My Drive/Colab Notebooks/Diploma_Thesis/posts/post01_simple_p300/braininvaders.py:68: DeprecationWarning: stim_channel will default to \"auto\" in 0.17 but change to False in 0.18, and will be removed in 0.19\n",
            "  file_path, montage=\"standard_1020\", preload=True\n",
            "/content/drive/My Drive/Colab Notebooks/mne/io/pick.py:279: DeprecationWarning: `np.bool` is a deprecated alias for the builtin `bool`. To silence this warning, use `bool` by itself. Doing this will not modify any behavior and is safe. If you specifically wanted the numpy scalar type, use `np.bool_` here.\n",
            "Deprecated in NumPy 1.20; for more details and guidance: https://numpy.org/devdocs/release/1.20.0-notes.html#deprecations\n",
            "  pick = np.zeros(nchan, dtype=np.bool)\n"
          ]
        },
        {
          "name": "stdout",
          "output_type": "stream",
          "text": [
            "Extracting EDF parameters from /root/mne_data/MNE-braininvaders-data/record/1494240/files/subject5/Session6/4.gdf...\n",
            "GDF file detected\n",
            "Setting channel info structure...\n",
            "Creating raw.info structure...\n",
            "Reading 0 ... 112991  =      0.000 ...   220.686 secs...\n"
          ]
        },
        {
          "name": "stderr",
          "output_type": "stream",
          "text": [
            "/content/drive/My Drive/Colab Notebooks/Diploma_Thesis/posts/post01_simple_p300/braininvaders.py:68: DeprecationWarning: stim_channel will default to \"auto\" in 0.17 but change to False in 0.18, and will be removed in 0.19\n",
            "  file_path, montage=\"standard_1020\", preload=True\n",
            "/content/drive/My Drive/Colab Notebooks/mne/io/pick.py:279: DeprecationWarning: `np.bool` is a deprecated alias for the builtin `bool`. To silence this warning, use `bool` by itself. Doing this will not modify any behavior and is safe. If you specifically wanted the numpy scalar type, use `np.bool_` here.\n",
            "Deprecated in NumPy 1.20; for more details and guidance: https://numpy.org/devdocs/release/1.20.0-notes.html#deprecations\n",
            "  pick = np.zeros(nchan, dtype=np.bool)\n"
          ]
        },
        {
          "name": "stdout",
          "output_type": "stream",
          "text": [
            "Extracting EDF parameters from /root/mne_data/MNE-braininvaders-data/record/1494240/files/subject5/Session8/4.gdf...\n",
            "GDF file detected\n",
            "Setting channel info structure...\n",
            "Creating raw.info structure...\n",
            "Reading 0 ... 124511  =      0.000 ...   243.186 secs...\n"
          ]
        },
        {
          "name": "stderr",
          "output_type": "stream",
          "text": [
            "/content/drive/My Drive/Colab Notebooks/Diploma_Thesis/posts/post01_simple_p300/braininvaders.py:68: DeprecationWarning: stim_channel will default to \"auto\" in 0.17 but change to False in 0.18, and will be removed in 0.19\n",
            "  file_path, montage=\"standard_1020\", preload=True\n",
            "/content/drive/My Drive/Colab Notebooks/mne/io/pick.py:279: DeprecationWarning: `np.bool` is a deprecated alias for the builtin `bool`. To silence this warning, use `bool` by itself. Doing this will not modify any behavior and is safe. If you specifically wanted the numpy scalar type, use `np.bool_` here.\n",
            "Deprecated in NumPy 1.20; for more details and guidance: https://numpy.org/devdocs/release/1.20.0-notes.html#deprecations\n",
            "  pick = np.zeros(nchan, dtype=np.bool)\n"
          ]
        },
        {
          "name": "stdout",
          "output_type": "stream",
          "text": [
            "Extracting EDF parameters from /root/mne_data/MNE-braininvaders-data/record/1494240/files/subject5/Session3/4.gdf...\n",
            "GDF file detected\n",
            "Setting channel info structure...\n",
            "Creating raw.info structure...\n",
            "Reading 0 ... 112159  =      0.000 ...   219.061 secs...\n"
          ]
        },
        {
          "name": "stderr",
          "output_type": "stream",
          "text": [
            "/content/drive/My Drive/Colab Notebooks/Diploma_Thesis/posts/post01_simple_p300/braininvaders.py:68: DeprecationWarning: stim_channel will default to \"auto\" in 0.17 but change to False in 0.18, and will be removed in 0.19\n",
            "  file_path, montage=\"standard_1020\", preload=True\n",
            "/content/drive/My Drive/Colab Notebooks/mne/io/pick.py:279: DeprecationWarning: `np.bool` is a deprecated alias for the builtin `bool`. To silence this warning, use `bool` by itself. Doing this will not modify any behavior and is safe. If you specifically wanted the numpy scalar type, use `np.bool_` here.\n",
            "Deprecated in NumPy 1.20; for more details and guidance: https://numpy.org/devdocs/release/1.20.0-notes.html#deprecations\n",
            "  pick = np.zeros(nchan, dtype=np.bool)\n"
          ]
        },
        {
          "name": "stdout",
          "output_type": "stream",
          "text": [
            "Extracting EDF parameters from /root/mne_data/MNE-braininvaders-data/record/1494240/files/subject5/Session1/4.gdf...\n",
            "GDF file detected\n",
            "Setting channel info structure...\n",
            "Creating raw.info structure...\n",
            "Reading 0 ... 161727  =      0.000 ...   315.873 secs...\n"
          ]
        },
        {
          "name": "stderr",
          "output_type": "stream",
          "text": [
            "/content/drive/My Drive/Colab Notebooks/Diploma_Thesis/posts/post01_simple_p300/braininvaders.py:68: DeprecationWarning: stim_channel will default to \"auto\" in 0.17 but change to False in 0.18, and will be removed in 0.19\n",
            "  file_path, montage=\"standard_1020\", preload=True\n",
            "/content/drive/My Drive/Colab Notebooks/mne/io/pick.py:279: DeprecationWarning: `np.bool` is a deprecated alias for the builtin `bool`. To silence this warning, use `bool` by itself. Doing this will not modify any behavior and is safe. If you specifically wanted the numpy scalar type, use `np.bool_` here.\n",
            "Deprecated in NumPy 1.20; for more details and guidance: https://numpy.org/devdocs/release/1.20.0-notes.html#deprecations\n",
            "  pick = np.zeros(nchan, dtype=np.bool)\n"
          ]
        },
        {
          "name": "stdout",
          "output_type": "stream",
          "text": [
            "Extracting EDF parameters from /root/mne_data/MNE-braininvaders-data/record/1494240/files/subject5/Session4/4.gdf...\n",
            "GDF file detected\n",
            "Setting channel info structure...\n",
            "Creating raw.info structure...\n",
            "Reading 0 ... 107487  =      0.000 ...   209.936 secs...\n"
          ]
        },
        {
          "name": "stderr",
          "output_type": "stream",
          "text": [
            "/content/drive/My Drive/Colab Notebooks/Diploma_Thesis/posts/post01_simple_p300/braininvaders.py:68: DeprecationWarning: stim_channel will default to \"auto\" in 0.17 but change to False in 0.18, and will be removed in 0.19\n",
            "  file_path, montage=\"standard_1020\", preload=True\n",
            "/content/drive/My Drive/Colab Notebooks/mne/io/pick.py:279: DeprecationWarning: `np.bool` is a deprecated alias for the builtin `bool`. To silence this warning, use `bool` by itself. Doing this will not modify any behavior and is safe. If you specifically wanted the numpy scalar type, use `np.bool_` here.\n",
            "Deprecated in NumPy 1.20; for more details and guidance: https://numpy.org/devdocs/release/1.20.0-notes.html#deprecations\n",
            "  pick = np.zeros(nchan, dtype=np.bool)\n"
          ]
        },
        {
          "name": "stdout",
          "output_type": "stream",
          "text": [
            "Extracting EDF parameters from /root/mne_data/MNE-braininvaders-data/record/1494240/files/subject5/Session7/4.gdf...\n",
            "GDF file detected\n",
            "Setting channel info structure...\n",
            "Creating raw.info structure...\n",
            "Reading 0 ... 106911  =      0.000 ...   208.811 secs...\n"
          ]
        },
        {
          "name": "stderr",
          "output_type": "stream",
          "text": [
            "/content/drive/My Drive/Colab Notebooks/Diploma_Thesis/posts/post01_simple_p300/braininvaders.py:68: DeprecationWarning: stim_channel will default to \"auto\" in 0.17 but change to False in 0.18, and will be removed in 0.19\n",
            "  file_path, montage=\"standard_1020\", preload=True\n",
            "/content/drive/My Drive/Colab Notebooks/mne/io/pick.py:279: DeprecationWarning: `np.bool` is a deprecated alias for the builtin `bool`. To silence this warning, use `bool` by itself. Doing this will not modify any behavior and is safe. If you specifically wanted the numpy scalar type, use `np.bool_` here.\n",
            "Deprecated in NumPy 1.20; for more details and guidance: https://numpy.org/devdocs/release/1.20.0-notes.html#deprecations\n",
            "  pick = np.zeros(nchan, dtype=np.bool)\n"
          ]
        },
        {
          "name": "stdout",
          "output_type": "stream",
          "text": [
            "Extracting EDF parameters from /root/mne_data/MNE-braininvaders-data/record/1494240/files/subject6/Session2/1.gdf...\n",
            "GDF file detected\n",
            "Setting channel info structure...\n",
            "Creating raw.info structure...\n",
            "Reading 0 ... 132511  =      0.000 ...   258.811 secs...\n"
          ]
        },
        {
          "name": "stderr",
          "output_type": "stream",
          "text": [
            "/content/drive/My Drive/Colab Notebooks/Diploma_Thesis/posts/post01_simple_p300/braininvaders.py:68: DeprecationWarning: stim_channel will default to \"auto\" in 0.17 but change to False in 0.18, and will be removed in 0.19\n",
            "  file_path, montage=\"standard_1020\", preload=True\n",
            "/content/drive/My Drive/Colab Notebooks/mne/io/pick.py:279: DeprecationWarning: `np.bool` is a deprecated alias for the builtin `bool`. To silence this warning, use `bool` by itself. Doing this will not modify any behavior and is safe. If you specifically wanted the numpy scalar type, use `np.bool_` here.\n",
            "Deprecated in NumPy 1.20; for more details and guidance: https://numpy.org/devdocs/release/1.20.0-notes.html#deprecations\n",
            "  pick = np.zeros(nchan, dtype=np.bool)\n"
          ]
        },
        {
          "name": "stdout",
          "output_type": "stream",
          "text": [
            "Extracting EDF parameters from /root/mne_data/MNE-braininvaders-data/record/1494240/files/subject6/Session5/1.gdf...\n",
            "GDF file detected\n",
            "Setting channel info structure...\n",
            "Creating raw.info structure...\n",
            "Reading 0 ... 133311  =      0.000 ...   260.373 secs...\n"
          ]
        },
        {
          "name": "stderr",
          "output_type": "stream",
          "text": [
            "/content/drive/My Drive/Colab Notebooks/Diploma_Thesis/posts/post01_simple_p300/braininvaders.py:68: DeprecationWarning: stim_channel will default to \"auto\" in 0.17 but change to False in 0.18, and will be removed in 0.19\n",
            "  file_path, montage=\"standard_1020\", preload=True\n",
            "/content/drive/My Drive/Colab Notebooks/mne/io/pick.py:279: DeprecationWarning: `np.bool` is a deprecated alias for the builtin `bool`. To silence this warning, use `bool` by itself. Doing this will not modify any behavior and is safe. If you specifically wanted the numpy scalar type, use `np.bool_` here.\n",
            "Deprecated in NumPy 1.20; for more details and guidance: https://numpy.org/devdocs/release/1.20.0-notes.html#deprecations\n",
            "  pick = np.zeros(nchan, dtype=np.bool)\n"
          ]
        },
        {
          "name": "stdout",
          "output_type": "stream",
          "text": [
            "Extracting EDF parameters from /root/mne_data/MNE-braininvaders-data/record/1494240/files/subject6/Session6/1.gdf...\n",
            "GDF file detected\n",
            "Setting channel info structure...\n",
            "Creating raw.info structure...\n",
            "Reading 0 ... 139935  =      0.000 ...   273.311 secs...\n"
          ]
        },
        {
          "name": "stderr",
          "output_type": "stream",
          "text": [
            "/content/drive/My Drive/Colab Notebooks/Diploma_Thesis/posts/post01_simple_p300/braininvaders.py:68: DeprecationWarning: stim_channel will default to \"auto\" in 0.17 but change to False in 0.18, and will be removed in 0.19\n",
            "  file_path, montage=\"standard_1020\", preload=True\n",
            "/content/drive/My Drive/Colab Notebooks/mne/io/pick.py:279: DeprecationWarning: `np.bool` is a deprecated alias for the builtin `bool`. To silence this warning, use `bool` by itself. Doing this will not modify any behavior and is safe. If you specifically wanted the numpy scalar type, use `np.bool_` here.\n",
            "Deprecated in NumPy 1.20; for more details and guidance: https://numpy.org/devdocs/release/1.20.0-notes.html#deprecations\n",
            "  pick = np.zeros(nchan, dtype=np.bool)\n"
          ]
        },
        {
          "name": "stdout",
          "output_type": "stream",
          "text": [
            "Extracting EDF parameters from /root/mne_data/MNE-braininvaders-data/record/1494240/files/subject6/Session8/1.gdf...\n",
            "GDF file detected\n",
            "Setting channel info structure...\n",
            "Creating raw.info structure...\n",
            "Reading 0 ... 134175  =      0.000 ...   262.061 secs...\n"
          ]
        },
        {
          "name": "stderr",
          "output_type": "stream",
          "text": [
            "/content/drive/My Drive/Colab Notebooks/Diploma_Thesis/posts/post01_simple_p300/braininvaders.py:68: DeprecationWarning: stim_channel will default to \"auto\" in 0.17 but change to False in 0.18, and will be removed in 0.19\n",
            "  file_path, montage=\"standard_1020\", preload=True\n",
            "/content/drive/My Drive/Colab Notebooks/mne/io/pick.py:279: DeprecationWarning: `np.bool` is a deprecated alias for the builtin `bool`. To silence this warning, use `bool` by itself. Doing this will not modify any behavior and is safe. If you specifically wanted the numpy scalar type, use `np.bool_` here.\n",
            "Deprecated in NumPy 1.20; for more details and guidance: https://numpy.org/devdocs/release/1.20.0-notes.html#deprecations\n",
            "  pick = np.zeros(nchan, dtype=np.bool)\n"
          ]
        },
        {
          "name": "stdout",
          "output_type": "stream",
          "text": [
            "Extracting EDF parameters from /root/mne_data/MNE-braininvaders-data/record/1494240/files/subject6/Session3/1.gdf...\n",
            "GDF file detected\n",
            "Setting channel info structure...\n",
            "Creating raw.info structure...\n",
            "Reading 0 ... 134847  =      0.000 ...   263.373 secs...\n"
          ]
        },
        {
          "name": "stderr",
          "output_type": "stream",
          "text": [
            "/content/drive/My Drive/Colab Notebooks/Diploma_Thesis/posts/post01_simple_p300/braininvaders.py:68: DeprecationWarning: stim_channel will default to \"auto\" in 0.17 but change to False in 0.18, and will be removed in 0.19\n",
            "  file_path, montage=\"standard_1020\", preload=True\n",
            "/content/drive/My Drive/Colab Notebooks/mne/io/pick.py:279: DeprecationWarning: `np.bool` is a deprecated alias for the builtin `bool`. To silence this warning, use `bool` by itself. Doing this will not modify any behavior and is safe. If you specifically wanted the numpy scalar type, use `np.bool_` here.\n",
            "Deprecated in NumPy 1.20; for more details and guidance: https://numpy.org/devdocs/release/1.20.0-notes.html#deprecations\n",
            "  pick = np.zeros(nchan, dtype=np.bool)\n"
          ]
        },
        {
          "name": "stdout",
          "output_type": "stream",
          "text": [
            "Extracting EDF parameters from /root/mne_data/MNE-braininvaders-data/record/1494240/files/subject6/Session1/1.gdf...\n",
            "GDF file detected\n",
            "Setting channel info structure...\n",
            "Creating raw.info structure...\n",
            "Reading 0 ... 137887  =      0.000 ...   269.311 secs...\n"
          ]
        },
        {
          "name": "stderr",
          "output_type": "stream",
          "text": [
            "/content/drive/My Drive/Colab Notebooks/Diploma_Thesis/posts/post01_simple_p300/braininvaders.py:68: DeprecationWarning: stim_channel will default to \"auto\" in 0.17 but change to False in 0.18, and will be removed in 0.19\n",
            "  file_path, montage=\"standard_1020\", preload=True\n",
            "/content/drive/My Drive/Colab Notebooks/mne/io/pick.py:279: DeprecationWarning: `np.bool` is a deprecated alias for the builtin `bool`. To silence this warning, use `bool` by itself. Doing this will not modify any behavior and is safe. If you specifically wanted the numpy scalar type, use `np.bool_` here.\n",
            "Deprecated in NumPy 1.20; for more details and guidance: https://numpy.org/devdocs/release/1.20.0-notes.html#deprecations\n",
            "  pick = np.zeros(nchan, dtype=np.bool)\n"
          ]
        },
        {
          "name": "stdout",
          "output_type": "stream",
          "text": [
            "Extracting EDF parameters from /root/mne_data/MNE-braininvaders-data/record/1494240/files/subject6/Session4/1.gdf...\n",
            "GDF file detected\n",
            "Setting channel info structure...\n",
            "Creating raw.info structure...\n",
            "Reading 0 ... 136191  =      0.000 ...   265.998 secs...\n"
          ]
        },
        {
          "name": "stderr",
          "output_type": "stream",
          "text": [
            "/content/drive/My Drive/Colab Notebooks/Diploma_Thesis/posts/post01_simple_p300/braininvaders.py:68: DeprecationWarning: stim_channel will default to \"auto\" in 0.17 but change to False in 0.18, and will be removed in 0.19\n",
            "  file_path, montage=\"standard_1020\", preload=True\n",
            "/content/drive/My Drive/Colab Notebooks/mne/io/pick.py:279: DeprecationWarning: `np.bool` is a deprecated alias for the builtin `bool`. To silence this warning, use `bool` by itself. Doing this will not modify any behavior and is safe. If you specifically wanted the numpy scalar type, use `np.bool_` here.\n",
            "Deprecated in NumPy 1.20; for more details and guidance: https://numpy.org/devdocs/release/1.20.0-notes.html#deprecations\n",
            "  pick = np.zeros(nchan, dtype=np.bool)\n"
          ]
        },
        {
          "name": "stdout",
          "output_type": "stream",
          "text": [
            "Extracting EDF parameters from /root/mne_data/MNE-braininvaders-data/record/1494240/files/subject6/Session7/1.gdf...\n",
            "GDF file detected\n",
            "Setting channel info structure...\n",
            "Creating raw.info structure...\n",
            "Reading 0 ... 143743  =      0.000 ...   280.748 secs...\n"
          ]
        },
        {
          "name": "stderr",
          "output_type": "stream",
          "text": [
            "/content/drive/My Drive/Colab Notebooks/Diploma_Thesis/posts/post01_simple_p300/braininvaders.py:68: DeprecationWarning: stim_channel will default to \"auto\" in 0.17 but change to False in 0.18, and will be removed in 0.19\n",
            "  file_path, montage=\"standard_1020\", preload=True\n",
            "/content/drive/My Drive/Colab Notebooks/mne/io/pick.py:279: DeprecationWarning: `np.bool` is a deprecated alias for the builtin `bool`. To silence this warning, use `bool` by itself. Doing this will not modify any behavior and is safe. If you specifically wanted the numpy scalar type, use `np.bool_` here.\n",
            "Deprecated in NumPy 1.20; for more details and guidance: https://numpy.org/devdocs/release/1.20.0-notes.html#deprecations\n",
            "  pick = np.zeros(nchan, dtype=np.bool)\n"
          ]
        },
        {
          "name": "stdout",
          "output_type": "stream",
          "text": [
            "Extracting EDF parameters from /root/mne_data/MNE-braininvaders-data/record/1494240/files/subject6/Session2/2.gdf...\n",
            "GDF file detected\n",
            "Setting channel info structure...\n",
            "Creating raw.info structure...\n",
            "Reading 0 ... 124575  =      0.000 ...   243.311 secs...\n"
          ]
        },
        {
          "name": "stderr",
          "output_type": "stream",
          "text": [
            "/content/drive/My Drive/Colab Notebooks/Diploma_Thesis/posts/post01_simple_p300/braininvaders.py:68: DeprecationWarning: stim_channel will default to \"auto\" in 0.17 but change to False in 0.18, and will be removed in 0.19\n",
            "  file_path, montage=\"standard_1020\", preload=True\n",
            "/content/drive/My Drive/Colab Notebooks/mne/io/pick.py:279: DeprecationWarning: `np.bool` is a deprecated alias for the builtin `bool`. To silence this warning, use `bool` by itself. Doing this will not modify any behavior and is safe. If you specifically wanted the numpy scalar type, use `np.bool_` here.\n",
            "Deprecated in NumPy 1.20; for more details and guidance: https://numpy.org/devdocs/release/1.20.0-notes.html#deprecations\n",
            "  pick = np.zeros(nchan, dtype=np.bool)\n"
          ]
        },
        {
          "name": "stdout",
          "output_type": "stream",
          "text": [
            "Extracting EDF parameters from /root/mne_data/MNE-braininvaders-data/record/1494240/files/subject6/Session5/2.gdf...\n",
            "GDF file detected\n",
            "Setting channel info structure...\n",
            "Creating raw.info structure...\n",
            "Reading 0 ... 117823  =      0.000 ...   230.123 secs...\n"
          ]
        },
        {
          "name": "stderr",
          "output_type": "stream",
          "text": [
            "/content/drive/My Drive/Colab Notebooks/Diploma_Thesis/posts/post01_simple_p300/braininvaders.py:68: DeprecationWarning: stim_channel will default to \"auto\" in 0.17 but change to False in 0.18, and will be removed in 0.19\n",
            "  file_path, montage=\"standard_1020\", preload=True\n",
            "/content/drive/My Drive/Colab Notebooks/mne/io/pick.py:279: DeprecationWarning: `np.bool` is a deprecated alias for the builtin `bool`. To silence this warning, use `bool` by itself. Doing this will not modify any behavior and is safe. If you specifically wanted the numpy scalar type, use `np.bool_` here.\n",
            "Deprecated in NumPy 1.20; for more details and guidance: https://numpy.org/devdocs/release/1.20.0-notes.html#deprecations\n",
            "  pick = np.zeros(nchan, dtype=np.bool)\n"
          ]
        },
        {
          "name": "stdout",
          "output_type": "stream",
          "text": [
            "Extracting EDF parameters from /root/mne_data/MNE-braininvaders-data/record/1494240/files/subject6/Session6/2.gdf...\n",
            "GDF file detected\n",
            "Setting channel info structure...\n",
            "Creating raw.info structure...\n",
            "Reading 0 ... 103455  =      0.000 ...   202.061 secs...\n"
          ]
        },
        {
          "name": "stderr",
          "output_type": "stream",
          "text": [
            "/content/drive/My Drive/Colab Notebooks/Diploma_Thesis/posts/post01_simple_p300/braininvaders.py:68: DeprecationWarning: stim_channel will default to \"auto\" in 0.17 but change to False in 0.18, and will be removed in 0.19\n",
            "  file_path, montage=\"standard_1020\", preload=True\n",
            "/content/drive/My Drive/Colab Notebooks/mne/io/pick.py:279: DeprecationWarning: `np.bool` is a deprecated alias for the builtin `bool`. To silence this warning, use `bool` by itself. Doing this will not modify any behavior and is safe. If you specifically wanted the numpy scalar type, use `np.bool_` here.\n",
            "Deprecated in NumPy 1.20; for more details and guidance: https://numpy.org/devdocs/release/1.20.0-notes.html#deprecations\n",
            "  pick = np.zeros(nchan, dtype=np.bool)\n"
          ]
        },
        {
          "name": "stdout",
          "output_type": "stream",
          "text": [
            "Extracting EDF parameters from /root/mne_data/MNE-braininvaders-data/record/1494240/files/subject6/Session8/2.gdf...\n",
            "GDF file detected\n",
            "Setting channel info structure...\n",
            "Creating raw.info structure...\n",
            "Reading 0 ... 138719  =      0.000 ...   270.936 secs...\n"
          ]
        },
        {
          "name": "stderr",
          "output_type": "stream",
          "text": [
            "/content/drive/My Drive/Colab Notebooks/Diploma_Thesis/posts/post01_simple_p300/braininvaders.py:68: DeprecationWarning: stim_channel will default to \"auto\" in 0.17 but change to False in 0.18, and will be removed in 0.19\n",
            "  file_path, montage=\"standard_1020\", preload=True\n",
            "/content/drive/My Drive/Colab Notebooks/mne/io/pick.py:279: DeprecationWarning: `np.bool` is a deprecated alias for the builtin `bool`. To silence this warning, use `bool` by itself. Doing this will not modify any behavior and is safe. If you specifically wanted the numpy scalar type, use `np.bool_` here.\n",
            "Deprecated in NumPy 1.20; for more details and guidance: https://numpy.org/devdocs/release/1.20.0-notes.html#deprecations\n",
            "  pick = np.zeros(nchan, dtype=np.bool)\n"
          ]
        },
        {
          "name": "stdout",
          "output_type": "stream",
          "text": [
            "Extracting EDF parameters from /root/mne_data/MNE-braininvaders-data/record/1494240/files/subject6/Session3/2.gdf...\n",
            "GDF file detected\n",
            "Setting channel info structure...\n",
            "Creating raw.info structure...\n",
            "Reading 0 ... 108159  =      0.000 ...   211.248 secs...\n"
          ]
        },
        {
          "name": "stderr",
          "output_type": "stream",
          "text": [
            "/content/drive/My Drive/Colab Notebooks/Diploma_Thesis/posts/post01_simple_p300/braininvaders.py:68: DeprecationWarning: stim_channel will default to \"auto\" in 0.17 but change to False in 0.18, and will be removed in 0.19\n",
            "  file_path, montage=\"standard_1020\", preload=True\n",
            "/content/drive/My Drive/Colab Notebooks/mne/io/pick.py:279: DeprecationWarning: `np.bool` is a deprecated alias for the builtin `bool`. To silence this warning, use `bool` by itself. Doing this will not modify any behavior and is safe. If you specifically wanted the numpy scalar type, use `np.bool_` here.\n",
            "Deprecated in NumPy 1.20; for more details and guidance: https://numpy.org/devdocs/release/1.20.0-notes.html#deprecations\n",
            "  pick = np.zeros(nchan, dtype=np.bool)\n"
          ]
        },
        {
          "name": "stdout",
          "output_type": "stream",
          "text": [
            "Extracting EDF parameters from /root/mne_data/MNE-braininvaders-data/record/1494240/files/subject6/Session1/2.gdf...\n",
            "GDF file detected\n",
            "Setting channel info structure...\n",
            "Creating raw.info structure...\n",
            "Reading 0 ... 133503  =      0.000 ...   260.748 secs...\n"
          ]
        },
        {
          "name": "stderr",
          "output_type": "stream",
          "text": [
            "/content/drive/My Drive/Colab Notebooks/Diploma_Thesis/posts/post01_simple_p300/braininvaders.py:68: DeprecationWarning: stim_channel will default to \"auto\" in 0.17 but change to False in 0.18, and will be removed in 0.19\n",
            "  file_path, montage=\"standard_1020\", preload=True\n",
            "/content/drive/My Drive/Colab Notebooks/mne/io/pick.py:279: DeprecationWarning: `np.bool` is a deprecated alias for the builtin `bool`. To silence this warning, use `bool` by itself. Doing this will not modify any behavior and is safe. If you specifically wanted the numpy scalar type, use `np.bool_` here.\n",
            "Deprecated in NumPy 1.20; for more details and guidance: https://numpy.org/devdocs/release/1.20.0-notes.html#deprecations\n",
            "  pick = np.zeros(nchan, dtype=np.bool)\n"
          ]
        },
        {
          "name": "stdout",
          "output_type": "stream",
          "text": [
            "Extracting EDF parameters from /root/mne_data/MNE-braininvaders-data/record/1494240/files/subject6/Session4/2.gdf...\n",
            "GDF file detected\n",
            "Setting channel info structure...\n",
            "Creating raw.info structure...\n",
            "Reading 0 ... 128671  =      0.000 ...   251.311 secs...\n"
          ]
        },
        {
          "name": "stderr",
          "output_type": "stream",
          "text": [
            "/content/drive/My Drive/Colab Notebooks/Diploma_Thesis/posts/post01_simple_p300/braininvaders.py:68: DeprecationWarning: stim_channel will default to \"auto\" in 0.17 but change to False in 0.18, and will be removed in 0.19\n",
            "  file_path, montage=\"standard_1020\", preload=True\n",
            "/content/drive/My Drive/Colab Notebooks/mne/io/pick.py:279: DeprecationWarning: `np.bool` is a deprecated alias for the builtin `bool`. To silence this warning, use `bool` by itself. Doing this will not modify any behavior and is safe. If you specifically wanted the numpy scalar type, use `np.bool_` here.\n",
            "Deprecated in NumPy 1.20; for more details and guidance: https://numpy.org/devdocs/release/1.20.0-notes.html#deprecations\n",
            "  pick = np.zeros(nchan, dtype=np.bool)\n"
          ]
        },
        {
          "name": "stdout",
          "output_type": "stream",
          "text": [
            "Extracting EDF parameters from /root/mne_data/MNE-braininvaders-data/record/1494240/files/subject6/Session7/2.gdf...\n",
            "GDF file detected\n",
            "Setting channel info structure...\n",
            "Creating raw.info structure...\n",
            "Reading 0 ... 112479  =      0.000 ...   219.686 secs...\n"
          ]
        },
        {
          "name": "stderr",
          "output_type": "stream",
          "text": [
            "/content/drive/My Drive/Colab Notebooks/Diploma_Thesis/posts/post01_simple_p300/braininvaders.py:68: DeprecationWarning: stim_channel will default to \"auto\" in 0.17 but change to False in 0.18, and will be removed in 0.19\n",
            "  file_path, montage=\"standard_1020\", preload=True\n",
            "/content/drive/My Drive/Colab Notebooks/mne/io/pick.py:279: DeprecationWarning: `np.bool` is a deprecated alias for the builtin `bool`. To silence this warning, use `bool` by itself. Doing this will not modify any behavior and is safe. If you specifically wanted the numpy scalar type, use `np.bool_` here.\n",
            "Deprecated in NumPy 1.20; for more details and guidance: https://numpy.org/devdocs/release/1.20.0-notes.html#deprecations\n",
            "  pick = np.zeros(nchan, dtype=np.bool)\n"
          ]
        },
        {
          "name": "stdout",
          "output_type": "stream",
          "text": [
            "Extracting EDF parameters from /root/mne_data/MNE-braininvaders-data/record/1494240/files/subject6/Session2/3.gdf...\n",
            "GDF file detected\n",
            "Setting channel info structure...\n",
            "Creating raw.info structure...\n",
            "Reading 0 ... 132383  =      0.000 ...   258.561 secs...\n"
          ]
        },
        {
          "name": "stderr",
          "output_type": "stream",
          "text": [
            "/content/drive/My Drive/Colab Notebooks/Diploma_Thesis/posts/post01_simple_p300/braininvaders.py:68: DeprecationWarning: stim_channel will default to \"auto\" in 0.17 but change to False in 0.18, and will be removed in 0.19\n",
            "  file_path, montage=\"standard_1020\", preload=True\n",
            "/content/drive/My Drive/Colab Notebooks/mne/io/pick.py:279: DeprecationWarning: `np.bool` is a deprecated alias for the builtin `bool`. To silence this warning, use `bool` by itself. Doing this will not modify any behavior and is safe. If you specifically wanted the numpy scalar type, use `np.bool_` here.\n",
            "Deprecated in NumPy 1.20; for more details and guidance: https://numpy.org/devdocs/release/1.20.0-notes.html#deprecations\n",
            "  pick = np.zeros(nchan, dtype=np.bool)\n"
          ]
        },
        {
          "name": "stdout",
          "output_type": "stream",
          "text": [
            "Extracting EDF parameters from /root/mne_data/MNE-braininvaders-data/record/1494240/files/subject6/Session5/3.gdf...\n",
            "GDF file detected\n",
            "Setting channel info structure...\n",
            "Creating raw.info structure...\n",
            "Reading 0 ... 133535  =      0.000 ...   260.811 secs...\n"
          ]
        },
        {
          "name": "stderr",
          "output_type": "stream",
          "text": [
            "/content/drive/My Drive/Colab Notebooks/Diploma_Thesis/posts/post01_simple_p300/braininvaders.py:68: DeprecationWarning: stim_channel will default to \"auto\" in 0.17 but change to False in 0.18, and will be removed in 0.19\n",
            "  file_path, montage=\"standard_1020\", preload=True\n",
            "/content/drive/My Drive/Colab Notebooks/mne/io/pick.py:279: DeprecationWarning: `np.bool` is a deprecated alias for the builtin `bool`. To silence this warning, use `bool` by itself. Doing this will not modify any behavior and is safe. If you specifically wanted the numpy scalar type, use `np.bool_` here.\n",
            "Deprecated in NumPy 1.20; for more details and guidance: https://numpy.org/devdocs/release/1.20.0-notes.html#deprecations\n",
            "  pick = np.zeros(nchan, dtype=np.bool)\n"
          ]
        },
        {
          "name": "stdout",
          "output_type": "stream",
          "text": [
            "Extracting EDF parameters from /root/mne_data/MNE-braininvaders-data/record/1494240/files/subject6/Session6/3.gdf...\n",
            "GDF file detected\n",
            "Setting channel info structure...\n",
            "Creating raw.info structure...\n",
            "Reading 0 ... 141279  =      0.000 ...   275.936 secs...\n"
          ]
        },
        {
          "name": "stderr",
          "output_type": "stream",
          "text": [
            "/content/drive/My Drive/Colab Notebooks/Diploma_Thesis/posts/post01_simple_p300/braininvaders.py:68: DeprecationWarning: stim_channel will default to \"auto\" in 0.17 but change to False in 0.18, and will be removed in 0.19\n",
            "  file_path, montage=\"standard_1020\", preload=True\n",
            "/content/drive/My Drive/Colab Notebooks/mne/io/pick.py:279: DeprecationWarning: `np.bool` is a deprecated alias for the builtin `bool`. To silence this warning, use `bool` by itself. Doing this will not modify any behavior and is safe. If you specifically wanted the numpy scalar type, use `np.bool_` here.\n",
            "Deprecated in NumPy 1.20; for more details and guidance: https://numpy.org/devdocs/release/1.20.0-notes.html#deprecations\n",
            "  pick = np.zeros(nchan, dtype=np.bool)\n"
          ]
        },
        {
          "name": "stdout",
          "output_type": "stream",
          "text": [
            "Extracting EDF parameters from /root/mne_data/MNE-braininvaders-data/record/1494240/files/subject6/Session8/3.gdf...\n",
            "GDF file detected\n",
            "Setting channel info structure...\n",
            "Creating raw.info structure...\n",
            "Reading 0 ... 135487  =      0.000 ...   264.623 secs...\n"
          ]
        },
        {
          "name": "stderr",
          "output_type": "stream",
          "text": [
            "/content/drive/My Drive/Colab Notebooks/Diploma_Thesis/posts/post01_simple_p300/braininvaders.py:68: DeprecationWarning: stim_channel will default to \"auto\" in 0.17 but change to False in 0.18, and will be removed in 0.19\n",
            "  file_path, montage=\"standard_1020\", preload=True\n",
            "/content/drive/My Drive/Colab Notebooks/mne/io/pick.py:279: DeprecationWarning: `np.bool` is a deprecated alias for the builtin `bool`. To silence this warning, use `bool` by itself. Doing this will not modify any behavior and is safe. If you specifically wanted the numpy scalar type, use `np.bool_` here.\n",
            "Deprecated in NumPy 1.20; for more details and guidance: https://numpy.org/devdocs/release/1.20.0-notes.html#deprecations\n",
            "  pick = np.zeros(nchan, dtype=np.bool)\n"
          ]
        },
        {
          "name": "stdout",
          "output_type": "stream",
          "text": [
            "Extracting EDF parameters from /root/mne_data/MNE-braininvaders-data/record/1494240/files/subject6/Session3/3.gdf...\n",
            "GDF file detected\n",
            "Setting channel info structure...\n",
            "Creating raw.info structure...\n",
            "Reading 0 ... 137375  =      0.000 ...   268.311 secs...\n"
          ]
        },
        {
          "name": "stderr",
          "output_type": "stream",
          "text": [
            "/content/drive/My Drive/Colab Notebooks/Diploma_Thesis/posts/post01_simple_p300/braininvaders.py:68: DeprecationWarning: stim_channel will default to \"auto\" in 0.17 but change to False in 0.18, and will be removed in 0.19\n",
            "  file_path, montage=\"standard_1020\", preload=True\n",
            "/content/drive/My Drive/Colab Notebooks/mne/io/pick.py:279: DeprecationWarning: `np.bool` is a deprecated alias for the builtin `bool`. To silence this warning, use `bool` by itself. Doing this will not modify any behavior and is safe. If you specifically wanted the numpy scalar type, use `np.bool_` here.\n",
            "Deprecated in NumPy 1.20; for more details and guidance: https://numpy.org/devdocs/release/1.20.0-notes.html#deprecations\n",
            "  pick = np.zeros(nchan, dtype=np.bool)\n"
          ]
        },
        {
          "name": "stdout",
          "output_type": "stream",
          "text": [
            "Extracting EDF parameters from /root/mne_data/MNE-braininvaders-data/record/1494240/files/subject6/Session1/3.gdf...\n",
            "GDF file detected\n",
            "Setting channel info structure...\n",
            "Creating raw.info structure...\n",
            "Reading 0 ... 134111  =      0.000 ...   261.936 secs...\n"
          ]
        },
        {
          "name": "stderr",
          "output_type": "stream",
          "text": [
            "/content/drive/My Drive/Colab Notebooks/Diploma_Thesis/posts/post01_simple_p300/braininvaders.py:68: DeprecationWarning: stim_channel will default to \"auto\" in 0.17 but change to False in 0.18, and will be removed in 0.19\n",
            "  file_path, montage=\"standard_1020\", preload=True\n",
            "/content/drive/My Drive/Colab Notebooks/mne/io/pick.py:279: DeprecationWarning: `np.bool` is a deprecated alias for the builtin `bool`. To silence this warning, use `bool` by itself. Doing this will not modify any behavior and is safe. If you specifically wanted the numpy scalar type, use `np.bool_` here.\n",
            "Deprecated in NumPy 1.20; for more details and guidance: https://numpy.org/devdocs/release/1.20.0-notes.html#deprecations\n",
            "  pick = np.zeros(nchan, dtype=np.bool)\n"
          ]
        },
        {
          "name": "stdout",
          "output_type": "stream",
          "text": [
            "Extracting EDF parameters from /root/mne_data/MNE-braininvaders-data/record/1494240/files/subject6/Session4/3.gdf...\n",
            "GDF file detected\n",
            "Setting channel info structure...\n",
            "Creating raw.info structure...\n",
            "Reading 0 ... 135423  =      0.000 ...   264.498 secs...\n"
          ]
        },
        {
          "name": "stderr",
          "output_type": "stream",
          "text": [
            "/content/drive/My Drive/Colab Notebooks/Diploma_Thesis/posts/post01_simple_p300/braininvaders.py:68: DeprecationWarning: stim_channel will default to \"auto\" in 0.17 but change to False in 0.18, and will be removed in 0.19\n",
            "  file_path, montage=\"standard_1020\", preload=True\n",
            "/content/drive/My Drive/Colab Notebooks/mne/io/pick.py:279: DeprecationWarning: `np.bool` is a deprecated alias for the builtin `bool`. To silence this warning, use `bool` by itself. Doing this will not modify any behavior and is safe. If you specifically wanted the numpy scalar type, use `np.bool_` here.\n",
            "Deprecated in NumPy 1.20; for more details and guidance: https://numpy.org/devdocs/release/1.20.0-notes.html#deprecations\n",
            "  pick = np.zeros(nchan, dtype=np.bool)\n"
          ]
        },
        {
          "name": "stdout",
          "output_type": "stream",
          "text": [
            "Extracting EDF parameters from /root/mne_data/MNE-braininvaders-data/record/1494240/files/subject6/Session7/3.gdf...\n",
            "GDF file detected\n",
            "Setting channel info structure...\n",
            "Creating raw.info structure...\n",
            "Reading 0 ... 134687  =      0.000 ...   263.061 secs...\n"
          ]
        },
        {
          "name": "stderr",
          "output_type": "stream",
          "text": [
            "/content/drive/My Drive/Colab Notebooks/Diploma_Thesis/posts/post01_simple_p300/braininvaders.py:68: DeprecationWarning: stim_channel will default to \"auto\" in 0.17 but change to False in 0.18, and will be removed in 0.19\n",
            "  file_path, montage=\"standard_1020\", preload=True\n",
            "/content/drive/My Drive/Colab Notebooks/mne/io/pick.py:279: DeprecationWarning: `np.bool` is a deprecated alias for the builtin `bool`. To silence this warning, use `bool` by itself. Doing this will not modify any behavior and is safe. If you specifically wanted the numpy scalar type, use `np.bool_` here.\n",
            "Deprecated in NumPy 1.20; for more details and guidance: https://numpy.org/devdocs/release/1.20.0-notes.html#deprecations\n",
            "  pick = np.zeros(nchan, dtype=np.bool)\n"
          ]
        },
        {
          "name": "stdout",
          "output_type": "stream",
          "text": [
            "Extracting EDF parameters from /root/mne_data/MNE-braininvaders-data/record/1494240/files/subject6/Session2/4.gdf...\n",
            "GDF file detected\n",
            "Setting channel info structure...\n",
            "Creating raw.info structure...\n",
            "Reading 0 ... 139743  =      0.000 ...   272.936 secs...\n"
          ]
        },
        {
          "name": "stderr",
          "output_type": "stream",
          "text": [
            "/content/drive/My Drive/Colab Notebooks/Diploma_Thesis/posts/post01_simple_p300/braininvaders.py:68: DeprecationWarning: stim_channel will default to \"auto\" in 0.17 but change to False in 0.18, and will be removed in 0.19\n",
            "  file_path, montage=\"standard_1020\", preload=True\n",
            "/content/drive/My Drive/Colab Notebooks/mne/io/pick.py:279: DeprecationWarning: `np.bool` is a deprecated alias for the builtin `bool`. To silence this warning, use `bool` by itself. Doing this will not modify any behavior and is safe. If you specifically wanted the numpy scalar type, use `np.bool_` here.\n",
            "Deprecated in NumPy 1.20; for more details and guidance: https://numpy.org/devdocs/release/1.20.0-notes.html#deprecations\n",
            "  pick = np.zeros(nchan, dtype=np.bool)\n"
          ]
        },
        {
          "name": "stdout",
          "output_type": "stream",
          "text": [
            "Extracting EDF parameters from /root/mne_data/MNE-braininvaders-data/record/1494240/files/subject6/Session5/4.gdf...\n",
            "GDF file detected\n",
            "Setting channel info structure...\n",
            "Creating raw.info structure...\n",
            "Reading 0 ... 217759  =      0.000 ...   425.311 secs...\n"
          ]
        },
        {
          "name": "stderr",
          "output_type": "stream",
          "text": [
            "/content/drive/My Drive/Colab Notebooks/Diploma_Thesis/posts/post01_simple_p300/braininvaders.py:68: DeprecationWarning: stim_channel will default to \"auto\" in 0.17 but change to False in 0.18, and will be removed in 0.19\n",
            "  file_path, montage=\"standard_1020\", preload=True\n",
            "/content/drive/My Drive/Colab Notebooks/mne/io/pick.py:279: DeprecationWarning: `np.bool` is a deprecated alias for the builtin `bool`. To silence this warning, use `bool` by itself. Doing this will not modify any behavior and is safe. If you specifically wanted the numpy scalar type, use `np.bool_` here.\n",
            "Deprecated in NumPy 1.20; for more details and guidance: https://numpy.org/devdocs/release/1.20.0-notes.html#deprecations\n",
            "  pick = np.zeros(nchan, dtype=np.bool)\n"
          ]
        },
        {
          "name": "stdout",
          "output_type": "stream",
          "text": [
            "Extracting EDF parameters from /root/mne_data/MNE-braininvaders-data/record/1494240/files/subject6/Session6/4.gdf...\n",
            "GDF file detected\n",
            "Setting channel info structure...\n",
            "Creating raw.info structure...\n",
            "Reading 0 ... 136735  =      0.000 ...   267.061 secs...\n"
          ]
        },
        {
          "name": "stderr",
          "output_type": "stream",
          "text": [
            "/content/drive/My Drive/Colab Notebooks/Diploma_Thesis/posts/post01_simple_p300/braininvaders.py:68: DeprecationWarning: stim_channel will default to \"auto\" in 0.17 but change to False in 0.18, and will be removed in 0.19\n",
            "  file_path, montage=\"standard_1020\", preload=True\n",
            "/content/drive/My Drive/Colab Notebooks/mne/io/pick.py:279: DeprecationWarning: `np.bool` is a deprecated alias for the builtin `bool`. To silence this warning, use `bool` by itself. Doing this will not modify any behavior and is safe. If you specifically wanted the numpy scalar type, use `np.bool_` here.\n",
            "Deprecated in NumPy 1.20; for more details and guidance: https://numpy.org/devdocs/release/1.20.0-notes.html#deprecations\n",
            "  pick = np.zeros(nchan, dtype=np.bool)\n"
          ]
        },
        {
          "name": "stdout",
          "output_type": "stream",
          "text": [
            "Extracting EDF parameters from /root/mne_data/MNE-braininvaders-data/record/1494240/files/subject6/Session8/4.gdf...\n",
            "GDF file detected\n",
            "Setting channel info structure...\n",
            "Creating raw.info structure...\n",
            "Reading 0 ... 139167  =      0.000 ...   271.811 secs...\n"
          ]
        },
        {
          "name": "stderr",
          "output_type": "stream",
          "text": [
            "/content/drive/My Drive/Colab Notebooks/Diploma_Thesis/posts/post01_simple_p300/braininvaders.py:68: DeprecationWarning: stim_channel will default to \"auto\" in 0.17 but change to False in 0.18, and will be removed in 0.19\n",
            "  file_path, montage=\"standard_1020\", preload=True\n",
            "/content/drive/My Drive/Colab Notebooks/mne/io/pick.py:279: DeprecationWarning: `np.bool` is a deprecated alias for the builtin `bool`. To silence this warning, use `bool` by itself. Doing this will not modify any behavior and is safe. If you specifically wanted the numpy scalar type, use `np.bool_` here.\n",
            "Deprecated in NumPy 1.20; for more details and guidance: https://numpy.org/devdocs/release/1.20.0-notes.html#deprecations\n",
            "  pick = np.zeros(nchan, dtype=np.bool)\n"
          ]
        },
        {
          "name": "stdout",
          "output_type": "stream",
          "text": [
            "Extracting EDF parameters from /root/mne_data/MNE-braininvaders-data/record/1494240/files/subject6/Session3/4.gdf...\n",
            "GDF file detected\n",
            "Setting channel info structure...\n",
            "Creating raw.info structure...\n",
            "Reading 0 ... 158239  =      0.000 ...   309.061 secs...\n"
          ]
        },
        {
          "name": "stderr",
          "output_type": "stream",
          "text": [
            "/content/drive/My Drive/Colab Notebooks/Diploma_Thesis/posts/post01_simple_p300/braininvaders.py:68: DeprecationWarning: stim_channel will default to \"auto\" in 0.17 but change to False in 0.18, and will be removed in 0.19\n",
            "  file_path, montage=\"standard_1020\", preload=True\n",
            "/content/drive/My Drive/Colab Notebooks/mne/io/pick.py:279: DeprecationWarning: `np.bool` is a deprecated alias for the builtin `bool`. To silence this warning, use `bool` by itself. Doing this will not modify any behavior and is safe. If you specifically wanted the numpy scalar type, use `np.bool_` here.\n",
            "Deprecated in NumPy 1.20; for more details and guidance: https://numpy.org/devdocs/release/1.20.0-notes.html#deprecations\n",
            "  pick = np.zeros(nchan, dtype=np.bool)\n"
          ]
        },
        {
          "name": "stdout",
          "output_type": "stream",
          "text": [
            "Extracting EDF parameters from /root/mne_data/MNE-braininvaders-data/record/1494240/files/subject6/Session1/4.gdf...\n",
            "GDF file detected\n",
            "Setting channel info structure...\n",
            "Creating raw.info structure...\n",
            "Reading 0 ... 121087  =      0.000 ...   236.498 secs...\n"
          ]
        },
        {
          "name": "stderr",
          "output_type": "stream",
          "text": [
            "/content/drive/My Drive/Colab Notebooks/Diploma_Thesis/posts/post01_simple_p300/braininvaders.py:68: DeprecationWarning: stim_channel will default to \"auto\" in 0.17 but change to False in 0.18, and will be removed in 0.19\n",
            "  file_path, montage=\"standard_1020\", preload=True\n",
            "/content/drive/My Drive/Colab Notebooks/mne/io/pick.py:279: DeprecationWarning: `np.bool` is a deprecated alias for the builtin `bool`. To silence this warning, use `bool` by itself. Doing this will not modify any behavior and is safe. If you specifically wanted the numpy scalar type, use `np.bool_` here.\n",
            "Deprecated in NumPy 1.20; for more details and guidance: https://numpy.org/devdocs/release/1.20.0-notes.html#deprecations\n",
            "  pick = np.zeros(nchan, dtype=np.bool)\n"
          ]
        },
        {
          "name": "stdout",
          "output_type": "stream",
          "text": [
            "Extracting EDF parameters from /root/mne_data/MNE-braininvaders-data/record/1494240/files/subject6/Session4/4.gdf...\n",
            "GDF file detected\n",
            "Setting channel info structure...\n",
            "Creating raw.info structure...\n",
            "Reading 0 ... 149023  =      0.000 ...   291.061 secs...\n"
          ]
        },
        {
          "name": "stderr",
          "output_type": "stream",
          "text": [
            "/content/drive/My Drive/Colab Notebooks/Diploma_Thesis/posts/post01_simple_p300/braininvaders.py:68: DeprecationWarning: stim_channel will default to \"auto\" in 0.17 but change to False in 0.18, and will be removed in 0.19\n",
            "  file_path, montage=\"standard_1020\", preload=True\n",
            "/content/drive/My Drive/Colab Notebooks/mne/io/pick.py:279: DeprecationWarning: `np.bool` is a deprecated alias for the builtin `bool`. To silence this warning, use `bool` by itself. Doing this will not modify any behavior and is safe. If you specifically wanted the numpy scalar type, use `np.bool_` here.\n",
            "Deprecated in NumPy 1.20; for more details and guidance: https://numpy.org/devdocs/release/1.20.0-notes.html#deprecations\n",
            "  pick = np.zeros(nchan, dtype=np.bool)\n"
          ]
        },
        {
          "name": "stdout",
          "output_type": "stream",
          "text": [
            "Extracting EDF parameters from /root/mne_data/MNE-braininvaders-data/record/1494240/files/subject6/Session7/4.gdf...\n",
            "GDF file detected\n",
            "Setting channel info structure...\n",
            "Creating raw.info structure...\n",
            "Reading 0 ... 157279  =      0.000 ...   307.186 secs...\n"
          ]
        },
        {
          "name": "stderr",
          "output_type": "stream",
          "text": [
            "/content/drive/My Drive/Colab Notebooks/Diploma_Thesis/posts/post01_simple_p300/braininvaders.py:68: DeprecationWarning: stim_channel will default to \"auto\" in 0.17 but change to False in 0.18, and will be removed in 0.19\n",
            "  file_path, montage=\"standard_1020\", preload=True\n",
            "/content/drive/My Drive/Colab Notebooks/mne/io/pick.py:279: DeprecationWarning: `np.bool` is a deprecated alias for the builtin `bool`. To silence this warning, use `bool` by itself. Doing this will not modify any behavior and is safe. If you specifically wanted the numpy scalar type, use `np.bool_` here.\n",
            "Deprecated in NumPy 1.20; for more details and guidance: https://numpy.org/devdocs/release/1.20.0-notes.html#deprecations\n",
            "  pick = np.zeros(nchan, dtype=np.bool)\n"
          ]
        },
        {
          "name": "stdout",
          "output_type": "stream",
          "text": [
            "Extracting EDF parameters from /root/mne_data/MNE-braininvaders-data/record/1494240/files/subject7/Session2/1.gdf...\n",
            "GDF file detected\n",
            "Setting channel info structure...\n",
            "Creating raw.info structure...\n",
            "Reading 0 ... 131935  =      0.000 ...   257.686 secs...\n"
          ]
        },
        {
          "name": "stderr",
          "output_type": "stream",
          "text": [
            "/content/drive/My Drive/Colab Notebooks/Diploma_Thesis/posts/post01_simple_p300/braininvaders.py:68: DeprecationWarning: stim_channel will default to \"auto\" in 0.17 but change to False in 0.18, and will be removed in 0.19\n",
            "  file_path, montage=\"standard_1020\", preload=True\n",
            "/content/drive/My Drive/Colab Notebooks/mne/io/pick.py:279: DeprecationWarning: `np.bool` is a deprecated alias for the builtin `bool`. To silence this warning, use `bool` by itself. Doing this will not modify any behavior and is safe. If you specifically wanted the numpy scalar type, use `np.bool_` here.\n",
            "Deprecated in NumPy 1.20; for more details and guidance: https://numpy.org/devdocs/release/1.20.0-notes.html#deprecations\n",
            "  pick = np.zeros(nchan, dtype=np.bool)\n"
          ]
        },
        {
          "name": "stdout",
          "output_type": "stream",
          "text": [
            "Extracting EDF parameters from /root/mne_data/MNE-braininvaders-data/record/1494240/files/subject7/Session5/1.gdf...\n",
            "GDF file detected\n",
            "Setting channel info structure...\n",
            "Creating raw.info structure...\n",
            "Reading 0 ... 128095  =      0.000 ...   250.186 secs...\n"
          ]
        },
        {
          "name": "stderr",
          "output_type": "stream",
          "text": [
            "/content/drive/My Drive/Colab Notebooks/Diploma_Thesis/posts/post01_simple_p300/braininvaders.py:68: DeprecationWarning: stim_channel will default to \"auto\" in 0.17 but change to False in 0.18, and will be removed in 0.19\n",
            "  file_path, montage=\"standard_1020\", preload=True\n",
            "/content/drive/My Drive/Colab Notebooks/mne/io/pick.py:279: DeprecationWarning: `np.bool` is a deprecated alias for the builtin `bool`. To silence this warning, use `bool` by itself. Doing this will not modify any behavior and is safe. If you specifically wanted the numpy scalar type, use `np.bool_` here.\n",
            "Deprecated in NumPy 1.20; for more details and guidance: https://numpy.org/devdocs/release/1.20.0-notes.html#deprecations\n",
            "  pick = np.zeros(nchan, dtype=np.bool)\n"
          ]
        },
        {
          "name": "stdout",
          "output_type": "stream",
          "text": [
            "Extracting EDF parameters from /root/mne_data/MNE-braininvaders-data/record/1494240/files/subject7/Session6/1.gdf...\n",
            "GDF file detected\n",
            "Setting channel info structure...\n",
            "Creating raw.info structure...\n",
            "Reading 0 ... 136511  =      0.000 ...   266.623 secs...\n"
          ]
        },
        {
          "name": "stderr",
          "output_type": "stream",
          "text": [
            "/content/drive/My Drive/Colab Notebooks/Diploma_Thesis/posts/post01_simple_p300/braininvaders.py:68: DeprecationWarning: stim_channel will default to \"auto\" in 0.17 but change to False in 0.18, and will be removed in 0.19\n",
            "  file_path, montage=\"standard_1020\", preload=True\n",
            "/content/drive/My Drive/Colab Notebooks/mne/io/pick.py:279: DeprecationWarning: `np.bool` is a deprecated alias for the builtin `bool`. To silence this warning, use `bool` by itself. Doing this will not modify any behavior and is safe. If you specifically wanted the numpy scalar type, use `np.bool_` here.\n",
            "Deprecated in NumPy 1.20; for more details and guidance: https://numpy.org/devdocs/release/1.20.0-notes.html#deprecations\n",
            "  pick = np.zeros(nchan, dtype=np.bool)\n"
          ]
        },
        {
          "name": "stdout",
          "output_type": "stream",
          "text": [
            "Extracting EDF parameters from /root/mne_data/MNE-braininvaders-data/record/1494240/files/subject7/Session8/1.gdf...\n",
            "GDF file detected\n",
            "Setting channel info structure...\n",
            "Creating raw.info structure...\n",
            "Reading 0 ... 130399  =      0.000 ...   254.686 secs...\n"
          ]
        },
        {
          "name": "stderr",
          "output_type": "stream",
          "text": [
            "/content/drive/My Drive/Colab Notebooks/Diploma_Thesis/posts/post01_simple_p300/braininvaders.py:68: DeprecationWarning: stim_channel will default to \"auto\" in 0.17 but change to False in 0.18, and will be removed in 0.19\n",
            "  file_path, montage=\"standard_1020\", preload=True\n",
            "/content/drive/My Drive/Colab Notebooks/mne/io/pick.py:279: DeprecationWarning: `np.bool` is a deprecated alias for the builtin `bool`. To silence this warning, use `bool` by itself. Doing this will not modify any behavior and is safe. If you specifically wanted the numpy scalar type, use `np.bool_` here.\n",
            "Deprecated in NumPy 1.20; for more details and guidance: https://numpy.org/devdocs/release/1.20.0-notes.html#deprecations\n",
            "  pick = np.zeros(nchan, dtype=np.bool)\n"
          ]
        },
        {
          "name": "stdout",
          "output_type": "stream",
          "text": [
            "Extracting EDF parameters from /root/mne_data/MNE-braininvaders-data/record/1494240/files/subject7/Session3/1.gdf...\n",
            "GDF file detected\n",
            "Setting channel info structure...\n",
            "Creating raw.info structure...\n",
            "Reading 0 ... 136511  =      0.000 ...   266.623 secs...\n"
          ]
        },
        {
          "name": "stderr",
          "output_type": "stream",
          "text": [
            "/content/drive/My Drive/Colab Notebooks/Diploma_Thesis/posts/post01_simple_p300/braininvaders.py:68: DeprecationWarning: stim_channel will default to \"auto\" in 0.17 but change to False in 0.18, and will be removed in 0.19\n",
            "  file_path, montage=\"standard_1020\", preload=True\n",
            "/content/drive/My Drive/Colab Notebooks/mne/io/pick.py:279: DeprecationWarning: `np.bool` is a deprecated alias for the builtin `bool`. To silence this warning, use `bool` by itself. Doing this will not modify any behavior and is safe. If you specifically wanted the numpy scalar type, use `np.bool_` here.\n",
            "Deprecated in NumPy 1.20; for more details and guidance: https://numpy.org/devdocs/release/1.20.0-notes.html#deprecations\n",
            "  pick = np.zeros(nchan, dtype=np.bool)\n"
          ]
        },
        {
          "name": "stdout",
          "output_type": "stream",
          "text": [
            "Extracting EDF parameters from /root/mne_data/MNE-braininvaders-data/record/1494240/files/subject7/Session1/1.gdf...\n",
            "GDF file detected\n",
            "Setting channel info structure...\n",
            "Creating raw.info structure...\n",
            "Reading 0 ... 135743  =      0.000 ...   265.123 secs...\n"
          ]
        },
        {
          "name": "stderr",
          "output_type": "stream",
          "text": [
            "/content/drive/My Drive/Colab Notebooks/Diploma_Thesis/posts/post01_simple_p300/braininvaders.py:68: DeprecationWarning: stim_channel will default to \"auto\" in 0.17 but change to False in 0.18, and will be removed in 0.19\n",
            "  file_path, montage=\"standard_1020\", preload=True\n",
            "/content/drive/My Drive/Colab Notebooks/mne/io/pick.py:279: DeprecationWarning: `np.bool` is a deprecated alias for the builtin `bool`. To silence this warning, use `bool` by itself. Doing this will not modify any behavior and is safe. If you specifically wanted the numpy scalar type, use `np.bool_` here.\n",
            "Deprecated in NumPy 1.20; for more details and guidance: https://numpy.org/devdocs/release/1.20.0-notes.html#deprecations\n",
            "  pick = np.zeros(nchan, dtype=np.bool)\n"
          ]
        },
        {
          "name": "stdout",
          "output_type": "stream",
          "text": [
            "Extracting EDF parameters from /root/mne_data/MNE-braininvaders-data/record/1494240/files/subject7/Session4/1.gdf...\n",
            "GDF file detected\n",
            "Setting channel info structure...\n",
            "Creating raw.info structure...\n",
            "Reading 0 ... 136351  =      0.000 ...   266.311 secs...\n"
          ]
        },
        {
          "name": "stderr",
          "output_type": "stream",
          "text": [
            "/content/drive/My Drive/Colab Notebooks/Diploma_Thesis/posts/post01_simple_p300/braininvaders.py:68: DeprecationWarning: stim_channel will default to \"auto\" in 0.17 but change to False in 0.18, and will be removed in 0.19\n",
            "  file_path, montage=\"standard_1020\", preload=True\n",
            "/content/drive/My Drive/Colab Notebooks/mne/io/pick.py:279: DeprecationWarning: `np.bool` is a deprecated alias for the builtin `bool`. To silence this warning, use `bool` by itself. Doing this will not modify any behavior and is safe. If you specifically wanted the numpy scalar type, use `np.bool_` here.\n",
            "Deprecated in NumPy 1.20; for more details and guidance: https://numpy.org/devdocs/release/1.20.0-notes.html#deprecations\n",
            "  pick = np.zeros(nchan, dtype=np.bool)\n"
          ]
        },
        {
          "name": "stdout",
          "output_type": "stream",
          "text": [
            "Extracting EDF parameters from /root/mne_data/MNE-braininvaders-data/record/1494240/files/subject7/Session7/1.gdf...\n",
            "GDF file detected\n",
            "Setting channel info structure...\n",
            "Creating raw.info structure...\n",
            "Reading 0 ... 141023  =      0.000 ...   275.436 secs...\n"
          ]
        },
        {
          "name": "stderr",
          "output_type": "stream",
          "text": [
            "/content/drive/My Drive/Colab Notebooks/Diploma_Thesis/posts/post01_simple_p300/braininvaders.py:68: DeprecationWarning: stim_channel will default to \"auto\" in 0.17 but change to False in 0.18, and will be removed in 0.19\n",
            "  file_path, montage=\"standard_1020\", preload=True\n",
            "/content/drive/My Drive/Colab Notebooks/mne/io/pick.py:279: DeprecationWarning: `np.bool` is a deprecated alias for the builtin `bool`. To silence this warning, use `bool` by itself. Doing this will not modify any behavior and is safe. If you specifically wanted the numpy scalar type, use `np.bool_` here.\n",
            "Deprecated in NumPy 1.20; for more details and guidance: https://numpy.org/devdocs/release/1.20.0-notes.html#deprecations\n",
            "  pick = np.zeros(nchan, dtype=np.bool)\n"
          ]
        },
        {
          "name": "stdout",
          "output_type": "stream",
          "text": [
            "Extracting EDF parameters from /root/mne_data/MNE-braininvaders-data/record/1494240/files/subject7/Session2/2.gdf...\n",
            "GDF file detected\n",
            "Setting channel info structure...\n",
            "Creating raw.info structure...\n",
            "Reading 0 ... 103647  =      0.000 ...   202.436 secs...\n"
          ]
        },
        {
          "name": "stderr",
          "output_type": "stream",
          "text": [
            "/content/drive/My Drive/Colab Notebooks/Diploma_Thesis/posts/post01_simple_p300/braininvaders.py:68: DeprecationWarning: stim_channel will default to \"auto\" in 0.17 but change to False in 0.18, and will be removed in 0.19\n",
            "  file_path, montage=\"standard_1020\", preload=True\n",
            "/content/drive/My Drive/Colab Notebooks/mne/io/pick.py:279: DeprecationWarning: `np.bool` is a deprecated alias for the builtin `bool`. To silence this warning, use `bool` by itself. Doing this will not modify any behavior and is safe. If you specifically wanted the numpy scalar type, use `np.bool_` here.\n",
            "Deprecated in NumPy 1.20; for more details and guidance: https://numpy.org/devdocs/release/1.20.0-notes.html#deprecations\n",
            "  pick = np.zeros(nchan, dtype=np.bool)\n"
          ]
        },
        {
          "name": "stdout",
          "output_type": "stream",
          "text": [
            "Extracting EDF parameters from /root/mne_data/MNE-braininvaders-data/record/1494240/files/subject7/Session5/2.gdf...\n",
            "GDF file detected\n",
            "Setting channel info structure...\n",
            "Creating raw.info structure...\n",
            "Reading 0 ... 91935  =      0.000 ...   179.561 secs...\n"
          ]
        },
        {
          "name": "stderr",
          "output_type": "stream",
          "text": [
            "/content/drive/My Drive/Colab Notebooks/Diploma_Thesis/posts/post01_simple_p300/braininvaders.py:68: DeprecationWarning: stim_channel will default to \"auto\" in 0.17 but change to False in 0.18, and will be removed in 0.19\n",
            "  file_path, montage=\"standard_1020\", preload=True\n",
            "/content/drive/My Drive/Colab Notebooks/mne/io/pick.py:279: DeprecationWarning: `np.bool` is a deprecated alias for the builtin `bool`. To silence this warning, use `bool` by itself. Doing this will not modify any behavior and is safe. If you specifically wanted the numpy scalar type, use `np.bool_` here.\n",
            "Deprecated in NumPy 1.20; for more details and guidance: https://numpy.org/devdocs/release/1.20.0-notes.html#deprecations\n",
            "  pick = np.zeros(nchan, dtype=np.bool)\n"
          ]
        },
        {
          "name": "stdout",
          "output_type": "stream",
          "text": [
            "Extracting EDF parameters from /root/mne_data/MNE-braininvaders-data/record/1494240/files/subject7/Session6/2.gdf...\n",
            "GDF file detected\n",
            "Setting channel info structure...\n",
            "Creating raw.info structure...\n",
            "Reading 0 ... 94367  =      0.000 ...   184.311 secs...\n"
          ]
        },
        {
          "name": "stderr",
          "output_type": "stream",
          "text": [
            "/content/drive/My Drive/Colab Notebooks/Diploma_Thesis/posts/post01_simple_p300/braininvaders.py:68: DeprecationWarning: stim_channel will default to \"auto\" in 0.17 but change to False in 0.18, and will be removed in 0.19\n",
            "  file_path, montage=\"standard_1020\", preload=True\n",
            "/content/drive/My Drive/Colab Notebooks/mne/io/pick.py:279: DeprecationWarning: `np.bool` is a deprecated alias for the builtin `bool`. To silence this warning, use `bool` by itself. Doing this will not modify any behavior and is safe. If you specifically wanted the numpy scalar type, use `np.bool_` here.\n",
            "Deprecated in NumPy 1.20; for more details and guidance: https://numpy.org/devdocs/release/1.20.0-notes.html#deprecations\n",
            "  pick = np.zeros(nchan, dtype=np.bool)\n"
          ]
        },
        {
          "name": "stdout",
          "output_type": "stream",
          "text": [
            "Extracting EDF parameters from /root/mne_data/MNE-braininvaders-data/record/1494240/files/subject7/Session8/2.gdf...\n",
            "GDF file detected\n",
            "Setting channel info structure...\n",
            "Creating raw.info structure...\n",
            "Reading 0 ... 93535  =      0.000 ...   182.686 secs...\n"
          ]
        },
        {
          "name": "stderr",
          "output_type": "stream",
          "text": [
            "/content/drive/My Drive/Colab Notebooks/Diploma_Thesis/posts/post01_simple_p300/braininvaders.py:68: DeprecationWarning: stim_channel will default to \"auto\" in 0.17 but change to False in 0.18, and will be removed in 0.19\n",
            "  file_path, montage=\"standard_1020\", preload=True\n",
            "/content/drive/My Drive/Colab Notebooks/mne/io/pick.py:279: DeprecationWarning: `np.bool` is a deprecated alias for the builtin `bool`. To silence this warning, use `bool` by itself. Doing this will not modify any behavior and is safe. If you specifically wanted the numpy scalar type, use `np.bool_` here.\n",
            "Deprecated in NumPy 1.20; for more details and guidance: https://numpy.org/devdocs/release/1.20.0-notes.html#deprecations\n",
            "  pick = np.zeros(nchan, dtype=np.bool)\n"
          ]
        },
        {
          "name": "stdout",
          "output_type": "stream",
          "text": [
            "Extracting EDF parameters from /root/mne_data/MNE-braininvaders-data/record/1494240/files/subject7/Session3/2.gdf...\n",
            "GDF file detected\n",
            "Setting channel info structure...\n",
            "Creating raw.info structure...\n",
            "Reading 0 ... 99007  =      0.000 ...   193.373 secs...\n"
          ]
        },
        {
          "name": "stderr",
          "output_type": "stream",
          "text": [
            "/content/drive/My Drive/Colab Notebooks/Diploma_Thesis/posts/post01_simple_p300/braininvaders.py:68: DeprecationWarning: stim_channel will default to \"auto\" in 0.17 but change to False in 0.18, and will be removed in 0.19\n",
            "  file_path, montage=\"standard_1020\", preload=True\n",
            "/content/drive/My Drive/Colab Notebooks/mne/io/pick.py:279: DeprecationWarning: `np.bool` is a deprecated alias for the builtin `bool`. To silence this warning, use `bool` by itself. Doing this will not modify any behavior and is safe. If you specifically wanted the numpy scalar type, use `np.bool_` here.\n",
            "Deprecated in NumPy 1.20; for more details and guidance: https://numpy.org/devdocs/release/1.20.0-notes.html#deprecations\n",
            "  pick = np.zeros(nchan, dtype=np.bool)\n"
          ]
        },
        {
          "name": "stdout",
          "output_type": "stream",
          "text": [
            "Extracting EDF parameters from /root/mne_data/MNE-braininvaders-data/record/1494240/files/subject7/Session1/2.gdf...\n",
            "GDF file detected\n",
            "Setting channel info structure...\n",
            "Creating raw.info structure...\n",
            "Reading 0 ... 172991  =      0.000 ...   337.873 secs...\n"
          ]
        },
        {
          "name": "stderr",
          "output_type": "stream",
          "text": [
            "/content/drive/My Drive/Colab Notebooks/Diploma_Thesis/posts/post01_simple_p300/braininvaders.py:68: DeprecationWarning: stim_channel will default to \"auto\" in 0.17 but change to False in 0.18, and will be removed in 0.19\n",
            "  file_path, montage=\"standard_1020\", preload=True\n",
            "/content/drive/My Drive/Colab Notebooks/mne/io/pick.py:279: DeprecationWarning: `np.bool` is a deprecated alias for the builtin `bool`. To silence this warning, use `bool` by itself. Doing this will not modify any behavior and is safe. If you specifically wanted the numpy scalar type, use `np.bool_` here.\n",
            "Deprecated in NumPy 1.20; for more details and guidance: https://numpy.org/devdocs/release/1.20.0-notes.html#deprecations\n",
            "  pick = np.zeros(nchan, dtype=np.bool)\n"
          ]
        },
        {
          "name": "stdout",
          "output_type": "stream",
          "text": [
            "Extracting EDF parameters from /root/mne_data/MNE-braininvaders-data/record/1494240/files/subject7/Session4/2.gdf...\n",
            "GDF file detected\n",
            "Setting channel info structure...\n",
            "Creating raw.info structure...\n",
            "Reading 0 ... 101407  =      0.000 ...   198.061 secs...\n"
          ]
        },
        {
          "name": "stderr",
          "output_type": "stream",
          "text": [
            "/content/drive/My Drive/Colab Notebooks/Diploma_Thesis/posts/post01_simple_p300/braininvaders.py:68: DeprecationWarning: stim_channel will default to \"auto\" in 0.17 but change to False in 0.18, and will be removed in 0.19\n",
            "  file_path, montage=\"standard_1020\", preload=True\n",
            "/content/drive/My Drive/Colab Notebooks/mne/io/pick.py:279: DeprecationWarning: `np.bool` is a deprecated alias for the builtin `bool`. To silence this warning, use `bool` by itself. Doing this will not modify any behavior and is safe. If you specifically wanted the numpy scalar type, use `np.bool_` here.\n",
            "Deprecated in NumPy 1.20; for more details and guidance: https://numpy.org/devdocs/release/1.20.0-notes.html#deprecations\n",
            "  pick = np.zeros(nchan, dtype=np.bool)\n"
          ]
        },
        {
          "name": "stdout",
          "output_type": "stream",
          "text": [
            "Extracting EDF parameters from /root/mne_data/MNE-braininvaders-data/record/1494240/files/subject7/Session7/2.gdf...\n",
            "GDF file detected\n",
            "Setting channel info structure...\n",
            "Creating raw.info structure...\n",
            "Reading 0 ... 93727  =      0.000 ...   183.061 secs...\n"
          ]
        },
        {
          "name": "stderr",
          "output_type": "stream",
          "text": [
            "/content/drive/My Drive/Colab Notebooks/Diploma_Thesis/posts/post01_simple_p300/braininvaders.py:68: DeprecationWarning: stim_channel will default to \"auto\" in 0.17 but change to False in 0.18, and will be removed in 0.19\n",
            "  file_path, montage=\"standard_1020\", preload=True\n",
            "/content/drive/My Drive/Colab Notebooks/mne/io/pick.py:279: DeprecationWarning: `np.bool` is a deprecated alias for the builtin `bool`. To silence this warning, use `bool` by itself. Doing this will not modify any behavior and is safe. If you specifically wanted the numpy scalar type, use `np.bool_` here.\n",
            "Deprecated in NumPy 1.20; for more details and guidance: https://numpy.org/devdocs/release/1.20.0-notes.html#deprecations\n",
            "  pick = np.zeros(nchan, dtype=np.bool)\n"
          ]
        },
        {
          "name": "stdout",
          "output_type": "stream",
          "text": [
            "Extracting EDF parameters from /root/mne_data/MNE-braininvaders-data/record/1494240/files/subject7/Session2/3.gdf...\n",
            "GDF file detected\n",
            "Setting channel info structure...\n",
            "Creating raw.info structure...\n",
            "Reading 0 ... 132671  =      0.000 ...   259.123 secs...\n"
          ]
        },
        {
          "name": "stderr",
          "output_type": "stream",
          "text": [
            "/content/drive/My Drive/Colab Notebooks/Diploma_Thesis/posts/post01_simple_p300/braininvaders.py:68: DeprecationWarning: stim_channel will default to \"auto\" in 0.17 but change to False in 0.18, and will be removed in 0.19\n",
            "  file_path, montage=\"standard_1020\", preload=True\n",
            "/content/drive/My Drive/Colab Notebooks/mne/io/pick.py:279: DeprecationWarning: `np.bool` is a deprecated alias for the builtin `bool`. To silence this warning, use `bool` by itself. Doing this will not modify any behavior and is safe. If you specifically wanted the numpy scalar type, use `np.bool_` here.\n",
            "Deprecated in NumPy 1.20; for more details and guidance: https://numpy.org/devdocs/release/1.20.0-notes.html#deprecations\n",
            "  pick = np.zeros(nchan, dtype=np.bool)\n"
          ]
        },
        {
          "name": "stdout",
          "output_type": "stream",
          "text": [
            "Extracting EDF parameters from /root/mne_data/MNE-braininvaders-data/record/1494240/files/subject7/Session5/3.gdf...\n",
            "GDF file detected\n",
            "Setting channel info structure...\n",
            "Creating raw.info structure...\n",
            "Reading 0 ... 138239  =      0.000 ...   269.998 secs...\n"
          ]
        },
        {
          "name": "stderr",
          "output_type": "stream",
          "text": [
            "/content/drive/My Drive/Colab Notebooks/Diploma_Thesis/posts/post01_simple_p300/braininvaders.py:68: DeprecationWarning: stim_channel will default to \"auto\" in 0.17 but change to False in 0.18, and will be removed in 0.19\n",
            "  file_path, montage=\"standard_1020\", preload=True\n",
            "/content/drive/My Drive/Colab Notebooks/mne/io/pick.py:279: DeprecationWarning: `np.bool` is a deprecated alias for the builtin `bool`. To silence this warning, use `bool` by itself. Doing this will not modify any behavior and is safe. If you specifically wanted the numpy scalar type, use `np.bool_` here.\n",
            "Deprecated in NumPy 1.20; for more details and guidance: https://numpy.org/devdocs/release/1.20.0-notes.html#deprecations\n",
            "  pick = np.zeros(nchan, dtype=np.bool)\n"
          ]
        },
        {
          "name": "stdout",
          "output_type": "stream",
          "text": [
            "Extracting EDF parameters from /root/mne_data/MNE-braininvaders-data/record/1494240/files/subject7/Session6/3.gdf...\n",
            "GDF file detected\n",
            "Setting channel info structure...\n",
            "Creating raw.info structure...\n",
            "Reading 0 ... 134783  =      0.000 ...   263.248 secs...\n"
          ]
        },
        {
          "name": "stderr",
          "output_type": "stream",
          "text": [
            "/content/drive/My Drive/Colab Notebooks/Diploma_Thesis/posts/post01_simple_p300/braininvaders.py:68: DeprecationWarning: stim_channel will default to \"auto\" in 0.17 but change to False in 0.18, and will be removed in 0.19\n",
            "  file_path, montage=\"standard_1020\", preload=True\n",
            "/content/drive/My Drive/Colab Notebooks/mne/io/pick.py:279: DeprecationWarning: `np.bool` is a deprecated alias for the builtin `bool`. To silence this warning, use `bool` by itself. Doing this will not modify any behavior and is safe. If you specifically wanted the numpy scalar type, use `np.bool_` here.\n",
            "Deprecated in NumPy 1.20; for more details and guidance: https://numpy.org/devdocs/release/1.20.0-notes.html#deprecations\n",
            "  pick = np.zeros(nchan, dtype=np.bool)\n"
          ]
        },
        {
          "name": "stdout",
          "output_type": "stream",
          "text": [
            "Extracting EDF parameters from /root/mne_data/MNE-braininvaders-data/record/1494240/files/subject7/Session8/3.gdf...\n",
            "GDF file detected\n",
            "Setting channel info structure...\n",
            "Creating raw.info structure...\n",
            "Reading 0 ... 135775  =      0.000 ...   265.186 secs...\n"
          ]
        },
        {
          "name": "stderr",
          "output_type": "stream",
          "text": [
            "/content/drive/My Drive/Colab Notebooks/Diploma_Thesis/posts/post01_simple_p300/braininvaders.py:68: DeprecationWarning: stim_channel will default to \"auto\" in 0.17 but change to False in 0.18, and will be removed in 0.19\n",
            "  file_path, montage=\"standard_1020\", preload=True\n",
            "/content/drive/My Drive/Colab Notebooks/mne/io/pick.py:279: DeprecationWarning: `np.bool` is a deprecated alias for the builtin `bool`. To silence this warning, use `bool` by itself. Doing this will not modify any behavior and is safe. If you specifically wanted the numpy scalar type, use `np.bool_` here.\n",
            "Deprecated in NumPy 1.20; for more details and guidance: https://numpy.org/devdocs/release/1.20.0-notes.html#deprecations\n",
            "  pick = np.zeros(nchan, dtype=np.bool)\n"
          ]
        },
        {
          "name": "stdout",
          "output_type": "stream",
          "text": [
            "Extracting EDF parameters from /root/mne_data/MNE-braininvaders-data/record/1494240/files/subject7/Session3/3.gdf...\n",
            "GDF file detected\n",
            "Setting channel info structure...\n",
            "Creating raw.info structure...\n",
            "Reading 0 ... 138847  =      0.000 ...   271.186 secs...\n"
          ]
        },
        {
          "name": "stderr",
          "output_type": "stream",
          "text": [
            "/content/drive/My Drive/Colab Notebooks/Diploma_Thesis/posts/post01_simple_p300/braininvaders.py:68: DeprecationWarning: stim_channel will default to \"auto\" in 0.17 but change to False in 0.18, and will be removed in 0.19\n",
            "  file_path, montage=\"standard_1020\", preload=True\n",
            "/content/drive/My Drive/Colab Notebooks/mne/io/pick.py:279: DeprecationWarning: `np.bool` is a deprecated alias for the builtin `bool`. To silence this warning, use `bool` by itself. Doing this will not modify any behavior and is safe. If you specifically wanted the numpy scalar type, use `np.bool_` here.\n",
            "Deprecated in NumPy 1.20; for more details and guidance: https://numpy.org/devdocs/release/1.20.0-notes.html#deprecations\n",
            "  pick = np.zeros(nchan, dtype=np.bool)\n"
          ]
        },
        {
          "name": "stdout",
          "output_type": "stream",
          "text": [
            "Extracting EDF parameters from /root/mne_data/MNE-braininvaders-data/record/1494240/files/subject7/Session1/3.gdf...\n",
            "GDF file detected\n",
            "Setting channel info structure...\n",
            "Creating raw.info structure...\n",
            "Reading 0 ... 166495  =      0.000 ...   325.186 secs...\n"
          ]
        },
        {
          "name": "stderr",
          "output_type": "stream",
          "text": [
            "/content/drive/My Drive/Colab Notebooks/Diploma_Thesis/posts/post01_simple_p300/braininvaders.py:68: DeprecationWarning: stim_channel will default to \"auto\" in 0.17 but change to False in 0.18, and will be removed in 0.19\n",
            "  file_path, montage=\"standard_1020\", preload=True\n",
            "/content/drive/My Drive/Colab Notebooks/mne/io/pick.py:279: DeprecationWarning: `np.bool` is a deprecated alias for the builtin `bool`. To silence this warning, use `bool` by itself. Doing this will not modify any behavior and is safe. If you specifically wanted the numpy scalar type, use `np.bool_` here.\n",
            "Deprecated in NumPy 1.20; for more details and guidance: https://numpy.org/devdocs/release/1.20.0-notes.html#deprecations\n",
            "  pick = np.zeros(nchan, dtype=np.bool)\n"
          ]
        },
        {
          "name": "stdout",
          "output_type": "stream",
          "text": [
            "Extracting EDF parameters from /root/mne_data/MNE-braininvaders-data/record/1494240/files/subject7/Session4/3.gdf...\n",
            "GDF file detected\n",
            "Setting channel info structure...\n",
            "Creating raw.info structure...\n",
            "Reading 0 ... 135519  =      0.000 ...   264.686 secs...\n"
          ]
        },
        {
          "name": "stderr",
          "output_type": "stream",
          "text": [
            "/content/drive/My Drive/Colab Notebooks/Diploma_Thesis/posts/post01_simple_p300/braininvaders.py:68: DeprecationWarning: stim_channel will default to \"auto\" in 0.17 but change to False in 0.18, and will be removed in 0.19\n",
            "  file_path, montage=\"standard_1020\", preload=True\n",
            "/content/drive/My Drive/Colab Notebooks/mne/io/pick.py:279: DeprecationWarning: `np.bool` is a deprecated alias for the builtin `bool`. To silence this warning, use `bool` by itself. Doing this will not modify any behavior and is safe. If you specifically wanted the numpy scalar type, use `np.bool_` here.\n",
            "Deprecated in NumPy 1.20; for more details and guidance: https://numpy.org/devdocs/release/1.20.0-notes.html#deprecations\n",
            "  pick = np.zeros(nchan, dtype=np.bool)\n"
          ]
        },
        {
          "name": "stdout",
          "output_type": "stream",
          "text": [
            "Extracting EDF parameters from /root/mne_data/MNE-braininvaders-data/record/1494240/files/subject7/Session7/3.gdf...\n",
            "GDF file detected\n",
            "Setting channel info structure...\n",
            "Creating raw.info structure...\n",
            "Reading 0 ... 133055  =      0.000 ...   259.873 secs...\n"
          ]
        },
        {
          "name": "stderr",
          "output_type": "stream",
          "text": [
            "/content/drive/My Drive/Colab Notebooks/Diploma_Thesis/posts/post01_simple_p300/braininvaders.py:68: DeprecationWarning: stim_channel will default to \"auto\" in 0.17 but change to False in 0.18, and will be removed in 0.19\n",
            "  file_path, montage=\"standard_1020\", preload=True\n",
            "/content/drive/My Drive/Colab Notebooks/mne/io/pick.py:279: DeprecationWarning: `np.bool` is a deprecated alias for the builtin `bool`. To silence this warning, use `bool` by itself. Doing this will not modify any behavior and is safe. If you specifically wanted the numpy scalar type, use `np.bool_` here.\n",
            "Deprecated in NumPy 1.20; for more details and guidance: https://numpy.org/devdocs/release/1.20.0-notes.html#deprecations\n",
            "  pick = np.zeros(nchan, dtype=np.bool)\n"
          ]
        },
        {
          "name": "stdout",
          "output_type": "stream",
          "text": [
            "Extracting EDF parameters from /root/mne_data/MNE-braininvaders-data/record/1494240/files/subject7/Session2/4.gdf...\n",
            "GDF file detected\n",
            "Setting channel info structure...\n",
            "Creating raw.info structure...\n",
            "Reading 0 ... 101631  =      0.000 ...   198.498 secs...\n"
          ]
        },
        {
          "name": "stderr",
          "output_type": "stream",
          "text": [
            "/content/drive/My Drive/Colab Notebooks/Diploma_Thesis/posts/post01_simple_p300/braininvaders.py:68: DeprecationWarning: stim_channel will default to \"auto\" in 0.17 but change to False in 0.18, and will be removed in 0.19\n",
            "  file_path, montage=\"standard_1020\", preload=True\n",
            "/content/drive/My Drive/Colab Notebooks/mne/io/pick.py:279: DeprecationWarning: `np.bool` is a deprecated alias for the builtin `bool`. To silence this warning, use `bool` by itself. Doing this will not modify any behavior and is safe. If you specifically wanted the numpy scalar type, use `np.bool_` here.\n",
            "Deprecated in NumPy 1.20; for more details and guidance: https://numpy.org/devdocs/release/1.20.0-notes.html#deprecations\n",
            "  pick = np.zeros(nchan, dtype=np.bool)\n"
          ]
        },
        {
          "name": "stdout",
          "output_type": "stream",
          "text": [
            "Extracting EDF parameters from /root/mne_data/MNE-braininvaders-data/record/1494240/files/subject7/Session5/4.gdf...\n",
            "GDF file detected\n",
            "Setting channel info structure...\n",
            "Creating raw.info structure...\n",
            "Reading 0 ... 113951  =      0.000 ...   222.561 secs...\n"
          ]
        },
        {
          "name": "stderr",
          "output_type": "stream",
          "text": [
            "/content/drive/My Drive/Colab Notebooks/Diploma_Thesis/posts/post01_simple_p300/braininvaders.py:68: DeprecationWarning: stim_channel will default to \"auto\" in 0.17 but change to False in 0.18, and will be removed in 0.19\n",
            "  file_path, montage=\"standard_1020\", preload=True\n",
            "/content/drive/My Drive/Colab Notebooks/mne/io/pick.py:279: DeprecationWarning: `np.bool` is a deprecated alias for the builtin `bool`. To silence this warning, use `bool` by itself. Doing this will not modify any behavior and is safe. If you specifically wanted the numpy scalar type, use `np.bool_` here.\n",
            "Deprecated in NumPy 1.20; for more details and guidance: https://numpy.org/devdocs/release/1.20.0-notes.html#deprecations\n",
            "  pick = np.zeros(nchan, dtype=np.bool)\n"
          ]
        },
        {
          "name": "stdout",
          "output_type": "stream",
          "text": [
            "Extracting EDF parameters from /root/mne_data/MNE-braininvaders-data/record/1494240/files/subject7/Session6/4.gdf...\n",
            "GDF file detected\n",
            "Setting channel info structure...\n",
            "Creating raw.info structure...\n",
            "Reading 0 ... 108319  =      0.000 ...   211.561 secs...\n"
          ]
        },
        {
          "name": "stderr",
          "output_type": "stream",
          "text": [
            "/content/drive/My Drive/Colab Notebooks/Diploma_Thesis/posts/post01_simple_p300/braininvaders.py:68: DeprecationWarning: stim_channel will default to \"auto\" in 0.17 but change to False in 0.18, and will be removed in 0.19\n",
            "  file_path, montage=\"standard_1020\", preload=True\n",
            "/content/drive/My Drive/Colab Notebooks/mne/io/pick.py:279: DeprecationWarning: `np.bool` is a deprecated alias for the builtin `bool`. To silence this warning, use `bool` by itself. Doing this will not modify any behavior and is safe. If you specifically wanted the numpy scalar type, use `np.bool_` here.\n",
            "Deprecated in NumPy 1.20; for more details and guidance: https://numpy.org/devdocs/release/1.20.0-notes.html#deprecations\n",
            "  pick = np.zeros(nchan, dtype=np.bool)\n"
          ]
        },
        {
          "name": "stdout",
          "output_type": "stream",
          "text": [
            "Extracting EDF parameters from /root/mne_data/MNE-braininvaders-data/record/1494240/files/subject7/Session8/4.gdf...\n",
            "GDF file detected\n",
            "Setting channel info structure...\n",
            "Creating raw.info structure...\n",
            "Reading 0 ... 100063  =      0.000 ...   195.436 secs...\n"
          ]
        },
        {
          "name": "stderr",
          "output_type": "stream",
          "text": [
            "/content/drive/My Drive/Colab Notebooks/Diploma_Thesis/posts/post01_simple_p300/braininvaders.py:68: DeprecationWarning: stim_channel will default to \"auto\" in 0.17 but change to False in 0.18, and will be removed in 0.19\n",
            "  file_path, montage=\"standard_1020\", preload=True\n",
            "/content/drive/My Drive/Colab Notebooks/mne/io/pick.py:279: DeprecationWarning: `np.bool` is a deprecated alias for the builtin `bool`. To silence this warning, use `bool` by itself. Doing this will not modify any behavior and is safe. If you specifically wanted the numpy scalar type, use `np.bool_` here.\n",
            "Deprecated in NumPy 1.20; for more details and guidance: https://numpy.org/devdocs/release/1.20.0-notes.html#deprecations\n",
            "  pick = np.zeros(nchan, dtype=np.bool)\n"
          ]
        },
        {
          "name": "stdout",
          "output_type": "stream",
          "text": [
            "Extracting EDF parameters from /root/mne_data/MNE-braininvaders-data/record/1494240/files/subject7/Session3/4.gdf...\n",
            "GDF file detected\n",
            "Setting channel info structure...\n",
            "Creating raw.info structure...\n",
            "Reading 0 ... 101535  =      0.000 ...   198.311 secs...\n"
          ]
        },
        {
          "name": "stderr",
          "output_type": "stream",
          "text": [
            "/content/drive/My Drive/Colab Notebooks/Diploma_Thesis/posts/post01_simple_p300/braininvaders.py:68: DeprecationWarning: stim_channel will default to \"auto\" in 0.17 but change to False in 0.18, and will be removed in 0.19\n",
            "  file_path, montage=\"standard_1020\", preload=True\n",
            "/content/drive/My Drive/Colab Notebooks/mne/io/pick.py:279: DeprecationWarning: `np.bool` is a deprecated alias for the builtin `bool`. To silence this warning, use `bool` by itself. Doing this will not modify any behavior and is safe. If you specifically wanted the numpy scalar type, use `np.bool_` here.\n",
            "Deprecated in NumPy 1.20; for more details and guidance: https://numpy.org/devdocs/release/1.20.0-notes.html#deprecations\n",
            "  pick = np.zeros(nchan, dtype=np.bool)\n"
          ]
        },
        {
          "name": "stdout",
          "output_type": "stream",
          "text": [
            "Extracting EDF parameters from /root/mne_data/MNE-braininvaders-data/record/1494240/files/subject7/Session1/4.gdf...\n",
            "GDF file detected\n",
            "Setting channel info structure...\n",
            "Creating raw.info structure...\n",
            "Reading 0 ... 104799  =      0.000 ...   204.686 secs...\n"
          ]
        },
        {
          "name": "stderr",
          "output_type": "stream",
          "text": [
            "/content/drive/My Drive/Colab Notebooks/Diploma_Thesis/posts/post01_simple_p300/braininvaders.py:68: DeprecationWarning: stim_channel will default to \"auto\" in 0.17 but change to False in 0.18, and will be removed in 0.19\n",
            "  file_path, montage=\"standard_1020\", preload=True\n",
            "/content/drive/My Drive/Colab Notebooks/mne/io/pick.py:279: DeprecationWarning: `np.bool` is a deprecated alias for the builtin `bool`. To silence this warning, use `bool` by itself. Doing this will not modify any behavior and is safe. If you specifically wanted the numpy scalar type, use `np.bool_` here.\n",
            "Deprecated in NumPy 1.20; for more details and guidance: https://numpy.org/devdocs/release/1.20.0-notes.html#deprecations\n",
            "  pick = np.zeros(nchan, dtype=np.bool)\n"
          ]
        },
        {
          "name": "stdout",
          "output_type": "stream",
          "text": [
            "Extracting EDF parameters from /root/mne_data/MNE-braininvaders-data/record/1494240/files/subject7/Session4/4.gdf...\n",
            "GDF file detected\n",
            "Setting channel info structure...\n",
            "Creating raw.info structure...\n",
            "Reading 0 ... 100735  =      0.000 ...   196.748 secs...\n"
          ]
        },
        {
          "name": "stderr",
          "output_type": "stream",
          "text": [
            "/content/drive/My Drive/Colab Notebooks/Diploma_Thesis/posts/post01_simple_p300/braininvaders.py:68: DeprecationWarning: stim_channel will default to \"auto\" in 0.17 but change to False in 0.18, and will be removed in 0.19\n",
            "  file_path, montage=\"standard_1020\", preload=True\n",
            "/content/drive/My Drive/Colab Notebooks/mne/io/pick.py:279: DeprecationWarning: `np.bool` is a deprecated alias for the builtin `bool`. To silence this warning, use `bool` by itself. Doing this will not modify any behavior and is safe. If you specifically wanted the numpy scalar type, use `np.bool_` here.\n",
            "Deprecated in NumPy 1.20; for more details and guidance: https://numpy.org/devdocs/release/1.20.0-notes.html#deprecations\n",
            "  pick = np.zeros(nchan, dtype=np.bool)\n"
          ]
        },
        {
          "name": "stdout",
          "output_type": "stream",
          "text": [
            "Extracting EDF parameters from /root/mne_data/MNE-braininvaders-data/record/1494240/files/subject7/Session7/4.gdf...\n",
            "GDF file detected\n",
            "Setting channel info structure...\n",
            "Creating raw.info structure...\n",
            "Reading 0 ... 107007  =      0.000 ...   208.998 secs...\n"
          ]
        },
        {
          "name": "stderr",
          "output_type": "stream",
          "text": [
            "/content/drive/My Drive/Colab Notebooks/Diploma_Thesis/posts/post01_simple_p300/braininvaders.py:68: DeprecationWarning: stim_channel will default to \"auto\" in 0.17 but change to False in 0.18, and will be removed in 0.19\n",
            "  file_path, montage=\"standard_1020\", preload=True\n",
            "/content/drive/My Drive/Colab Notebooks/mne/io/pick.py:279: DeprecationWarning: `np.bool` is a deprecated alias for the builtin `bool`. To silence this warning, use `bool` by itself. Doing this will not modify any behavior and is safe. If you specifically wanted the numpy scalar type, use `np.bool_` here.\n",
            "Deprecated in NumPy 1.20; for more details and guidance: https://numpy.org/devdocs/release/1.20.0-notes.html#deprecations\n",
            "  pick = np.zeros(nchan, dtype=np.bool)\n"
          ]
        },
        {
          "name": "stdout",
          "output_type": "stream",
          "text": [
            "Extracting EDF parameters from /root/mne_data/MNE-braininvaders-data/record/1494240/files/subject8/Session1/1.gdf...\n",
            "GDF file detected\n",
            "Setting channel info structure...\n",
            "Creating raw.info structure...\n",
            "Reading 0 ... 143967  =      0.000 ...   281.186 secs...\n"
          ]
        },
        {
          "name": "stderr",
          "output_type": "stream",
          "text": [
            "/content/drive/My Drive/Colab Notebooks/Diploma_Thesis/posts/post01_simple_p300/braininvaders.py:68: DeprecationWarning: stim_channel will default to \"auto\" in 0.17 but change to False in 0.18, and will be removed in 0.19\n",
            "  file_path, montage=\"standard_1020\", preload=True\n",
            "/content/drive/My Drive/Colab Notebooks/mne/io/pick.py:279: DeprecationWarning: `np.bool` is a deprecated alias for the builtin `bool`. To silence this warning, use `bool` by itself. Doing this will not modify any behavior and is safe. If you specifically wanted the numpy scalar type, use `np.bool_` here.\n",
            "Deprecated in NumPy 1.20; for more details and guidance: https://numpy.org/devdocs/release/1.20.0-notes.html#deprecations\n",
            "  pick = np.zeros(nchan, dtype=np.bool)\n"
          ]
        },
        {
          "name": "stdout",
          "output_type": "stream",
          "text": [
            "Extracting EDF parameters from /root/mne_data/MNE-braininvaders-data/record/1494240/files/subject8/Session1/2.gdf...\n",
            "GDF file detected\n",
            "Setting channel info structure...\n",
            "Creating raw.info structure...\n",
            "Reading 0 ... 121375  =      0.000 ...   237.061 secs...\n"
          ]
        },
        {
          "name": "stderr",
          "output_type": "stream",
          "text": [
            "/content/drive/My Drive/Colab Notebooks/Diploma_Thesis/posts/post01_simple_p300/braininvaders.py:68: DeprecationWarning: stim_channel will default to \"auto\" in 0.17 but change to False in 0.18, and will be removed in 0.19\n",
            "  file_path, montage=\"standard_1020\", preload=True\n",
            "/content/drive/My Drive/Colab Notebooks/mne/io/pick.py:279: DeprecationWarning: `np.bool` is a deprecated alias for the builtin `bool`. To silence this warning, use `bool` by itself. Doing this will not modify any behavior and is safe. If you specifically wanted the numpy scalar type, use `np.bool_` here.\n",
            "Deprecated in NumPy 1.20; for more details and guidance: https://numpy.org/devdocs/release/1.20.0-notes.html#deprecations\n",
            "  pick = np.zeros(nchan, dtype=np.bool)\n"
          ]
        },
        {
          "name": "stdout",
          "output_type": "stream",
          "text": [
            "Extracting EDF parameters from /root/mne_data/MNE-braininvaders-data/record/1494240/files/subject8/Session1/3.gdf...\n",
            "GDF file detected\n",
            "Setting channel info structure...\n",
            "Creating raw.info structure...\n",
            "Reading 0 ... 126623  =      0.000 ...   247.311 secs...\n"
          ]
        },
        {
          "name": "stderr",
          "output_type": "stream",
          "text": [
            "/content/drive/My Drive/Colab Notebooks/Diploma_Thesis/posts/post01_simple_p300/braininvaders.py:68: DeprecationWarning: stim_channel will default to \"auto\" in 0.17 but change to False in 0.18, and will be removed in 0.19\n",
            "  file_path, montage=\"standard_1020\", preload=True\n",
            "/content/drive/My Drive/Colab Notebooks/mne/io/pick.py:279: DeprecationWarning: `np.bool` is a deprecated alias for the builtin `bool`. To silence this warning, use `bool` by itself. Doing this will not modify any behavior and is safe. If you specifically wanted the numpy scalar type, use `np.bool_` here.\n",
            "Deprecated in NumPy 1.20; for more details and guidance: https://numpy.org/devdocs/release/1.20.0-notes.html#deprecations\n",
            "  pick = np.zeros(nchan, dtype=np.bool)\n"
          ]
        },
        {
          "name": "stdout",
          "output_type": "stream",
          "text": [
            "Extracting EDF parameters from /root/mne_data/MNE-braininvaders-data/record/1494240/files/subject8/Session1/4.gdf...\n",
            "GDF file detected\n",
            "Setting channel info structure...\n",
            "Creating raw.info structure...\n",
            "Reading 0 ... 144031  =      0.000 ...   281.311 secs...\n"
          ]
        },
        {
          "name": "stderr",
          "output_type": "stream",
          "text": [
            "/content/drive/My Drive/Colab Notebooks/Diploma_Thesis/posts/post01_simple_p300/braininvaders.py:68: DeprecationWarning: stim_channel will default to \"auto\" in 0.17 but change to False in 0.18, and will be removed in 0.19\n",
            "  file_path, montage=\"standard_1020\", preload=True\n",
            "/content/drive/My Drive/Colab Notebooks/mne/io/pick.py:279: DeprecationWarning: `np.bool` is a deprecated alias for the builtin `bool`. To silence this warning, use `bool` by itself. Doing this will not modify any behavior and is safe. If you specifically wanted the numpy scalar type, use `np.bool_` here.\n",
            "Deprecated in NumPy 1.20; for more details and guidance: https://numpy.org/devdocs/release/1.20.0-notes.html#deprecations\n",
            "  pick = np.zeros(nchan, dtype=np.bool)\n"
          ]
        },
        {
          "name": "stdout",
          "output_type": "stream",
          "text": [
            "Extracting EDF parameters from /root/mne_data/MNE-braininvaders-data/record/1494240/files/subject9/Session1/1.gdf...\n",
            "GDF file detected\n",
            "Setting channel info structure...\n",
            "Creating raw.info structure...\n",
            "Reading 0 ... 163135  =      0.000 ...   318.623 secs...\n"
          ]
        },
        {
          "name": "stderr",
          "output_type": "stream",
          "text": [
            "/content/drive/My Drive/Colab Notebooks/Diploma_Thesis/posts/post01_simple_p300/braininvaders.py:68: DeprecationWarning: stim_channel will default to \"auto\" in 0.17 but change to False in 0.18, and will be removed in 0.19\n",
            "  file_path, montage=\"standard_1020\", preload=True\n",
            "/content/drive/My Drive/Colab Notebooks/mne/io/pick.py:279: DeprecationWarning: `np.bool` is a deprecated alias for the builtin `bool`. To silence this warning, use `bool` by itself. Doing this will not modify any behavior and is safe. If you specifically wanted the numpy scalar type, use `np.bool_` here.\n",
            "Deprecated in NumPy 1.20; for more details and guidance: https://numpy.org/devdocs/release/1.20.0-notes.html#deprecations\n",
            "  pick = np.zeros(nchan, dtype=np.bool)\n"
          ]
        },
        {
          "name": "stdout",
          "output_type": "stream",
          "text": [
            "Extracting EDF parameters from /root/mne_data/MNE-braininvaders-data/record/1494240/files/subject9/Session1/2.gdf...\n",
            "GDF file detected\n",
            "Setting channel info structure...\n",
            "Creating raw.info structure...\n",
            "Reading 0 ... 116351  =      0.000 ...   227.248 secs...\n"
          ]
        },
        {
          "name": "stderr",
          "output_type": "stream",
          "text": [
            "/content/drive/My Drive/Colab Notebooks/Diploma_Thesis/posts/post01_simple_p300/braininvaders.py:68: DeprecationWarning: stim_channel will default to \"auto\" in 0.17 but change to False in 0.18, and will be removed in 0.19\n",
            "  file_path, montage=\"standard_1020\", preload=True\n",
            "/content/drive/My Drive/Colab Notebooks/mne/io/pick.py:279: DeprecationWarning: `np.bool` is a deprecated alias for the builtin `bool`. To silence this warning, use `bool` by itself. Doing this will not modify any behavior and is safe. If you specifically wanted the numpy scalar type, use `np.bool_` here.\n",
            "Deprecated in NumPy 1.20; for more details and guidance: https://numpy.org/devdocs/release/1.20.0-notes.html#deprecations\n",
            "  pick = np.zeros(nchan, dtype=np.bool)\n"
          ]
        },
        {
          "name": "stdout",
          "output_type": "stream",
          "text": [
            "Extracting EDF parameters from /root/mne_data/MNE-braininvaders-data/record/1494240/files/subject9/Session1/3.gdf...\n",
            "GDF file detected\n",
            "Setting channel info structure...\n",
            "Creating raw.info structure...\n",
            "Reading 0 ... 145375  =      0.000 ...   283.936 secs...\n"
          ]
        },
        {
          "name": "stderr",
          "output_type": "stream",
          "text": [
            "/content/drive/My Drive/Colab Notebooks/Diploma_Thesis/posts/post01_simple_p300/braininvaders.py:68: DeprecationWarning: stim_channel will default to \"auto\" in 0.17 but change to False in 0.18, and will be removed in 0.19\n",
            "  file_path, montage=\"standard_1020\", preload=True\n",
            "/content/drive/My Drive/Colab Notebooks/mne/io/pick.py:279: DeprecationWarning: `np.bool` is a deprecated alias for the builtin `bool`. To silence this warning, use `bool` by itself. Doing this will not modify any behavior and is safe. If you specifically wanted the numpy scalar type, use `np.bool_` here.\n",
            "Deprecated in NumPy 1.20; for more details and guidance: https://numpy.org/devdocs/release/1.20.0-notes.html#deprecations\n",
            "  pick = np.zeros(nchan, dtype=np.bool)\n"
          ]
        },
        {
          "name": "stdout",
          "output_type": "stream",
          "text": [
            "Extracting EDF parameters from /root/mne_data/MNE-braininvaders-data/record/1494240/files/subject9/Session1/4.gdf...\n",
            "GDF file detected\n",
            "Setting channel info structure...\n",
            "Creating raw.info structure...\n",
            "Reading 0 ... 115519  =      0.000 ...   225.623 secs...\n"
          ]
        },
        {
          "name": "stderr",
          "output_type": "stream",
          "text": [
            "/content/drive/My Drive/Colab Notebooks/Diploma_Thesis/posts/post01_simple_p300/braininvaders.py:68: DeprecationWarning: stim_channel will default to \"auto\" in 0.17 but change to False in 0.18, and will be removed in 0.19\n",
            "  file_path, montage=\"standard_1020\", preload=True\n",
            "/content/drive/My Drive/Colab Notebooks/mne/io/pick.py:279: DeprecationWarning: `np.bool` is a deprecated alias for the builtin `bool`. To silence this warning, use `bool` by itself. Doing this will not modify any behavior and is safe. If you specifically wanted the numpy scalar type, use `np.bool_` here.\n",
            "Deprecated in NumPy 1.20; for more details and guidance: https://numpy.org/devdocs/release/1.20.0-notes.html#deprecations\n",
            "  pick = np.zeros(nchan, dtype=np.bool)\n"
          ]
        },
        {
          "name": "stdout",
          "output_type": "stream",
          "text": [
            "Extracting EDF parameters from /root/mne_data/MNE-braininvaders-data/record/1494240/files/subject10/Session1/1.gdf...\n",
            "GDF file detected\n",
            "Setting channel info structure...\n",
            "Creating raw.info structure...\n",
            "Reading 0 ... 139327  =      0.000 ...   272.123 secs...\n"
          ]
        },
        {
          "name": "stderr",
          "output_type": "stream",
          "text": [
            "/content/drive/My Drive/Colab Notebooks/Diploma_Thesis/posts/post01_simple_p300/braininvaders.py:68: DeprecationWarning: stim_channel will default to \"auto\" in 0.17 but change to False in 0.18, and will be removed in 0.19\n",
            "  file_path, montage=\"standard_1020\", preload=True\n",
            "/content/drive/My Drive/Colab Notebooks/mne/io/pick.py:279: DeprecationWarning: `np.bool` is a deprecated alias for the builtin `bool`. To silence this warning, use `bool` by itself. Doing this will not modify any behavior and is safe. If you specifically wanted the numpy scalar type, use `np.bool_` here.\n",
            "Deprecated in NumPy 1.20; for more details and guidance: https://numpy.org/devdocs/release/1.20.0-notes.html#deprecations\n",
            "  pick = np.zeros(nchan, dtype=np.bool)\n"
          ]
        },
        {
          "name": "stdout",
          "output_type": "stream",
          "text": [
            "Extracting EDF parameters from /root/mne_data/MNE-braininvaders-data/record/1494240/files/subject10/Session1/2.gdf...\n",
            "GDF file detected\n",
            "Setting channel info structure...\n",
            "Creating raw.info structure...\n",
            "Reading 0 ... 141535  =      0.000 ...   276.436 secs...\n"
          ]
        },
        {
          "name": "stderr",
          "output_type": "stream",
          "text": [
            "/content/drive/My Drive/Colab Notebooks/Diploma_Thesis/posts/post01_simple_p300/braininvaders.py:68: DeprecationWarning: stim_channel will default to \"auto\" in 0.17 but change to False in 0.18, and will be removed in 0.19\n",
            "  file_path, montage=\"standard_1020\", preload=True\n",
            "/content/drive/My Drive/Colab Notebooks/mne/io/pick.py:279: DeprecationWarning: `np.bool` is a deprecated alias for the builtin `bool`. To silence this warning, use `bool` by itself. Doing this will not modify any behavior and is safe. If you specifically wanted the numpy scalar type, use `np.bool_` here.\n",
            "Deprecated in NumPy 1.20; for more details and guidance: https://numpy.org/devdocs/release/1.20.0-notes.html#deprecations\n",
            "  pick = np.zeros(nchan, dtype=np.bool)\n"
          ]
        },
        {
          "name": "stdout",
          "output_type": "stream",
          "text": [
            "Extracting EDF parameters from /root/mne_data/MNE-braininvaders-data/record/1494240/files/subject10/Session1/3.gdf...\n",
            "GDF file detected\n",
            "Setting channel info structure...\n",
            "Creating raw.info structure...\n",
            "Reading 0 ... 130303  =      0.000 ...   254.498 secs...\n"
          ]
        },
        {
          "name": "stderr",
          "output_type": "stream",
          "text": [
            "/content/drive/My Drive/Colab Notebooks/Diploma_Thesis/posts/post01_simple_p300/braininvaders.py:68: DeprecationWarning: stim_channel will default to \"auto\" in 0.17 but change to False in 0.18, and will be removed in 0.19\n",
            "  file_path, montage=\"standard_1020\", preload=True\n",
            "/content/drive/My Drive/Colab Notebooks/mne/io/pick.py:279: DeprecationWarning: `np.bool` is a deprecated alias for the builtin `bool`. To silence this warning, use `bool` by itself. Doing this will not modify any behavior and is safe. If you specifically wanted the numpy scalar type, use `np.bool_` here.\n",
            "Deprecated in NumPy 1.20; for more details and guidance: https://numpy.org/devdocs/release/1.20.0-notes.html#deprecations\n",
            "  pick = np.zeros(nchan, dtype=np.bool)\n"
          ]
        },
        {
          "name": "stdout",
          "output_type": "stream",
          "text": [
            "Extracting EDF parameters from /root/mne_data/MNE-braininvaders-data/record/1494240/files/subject10/Session1/4.gdf...\n",
            "GDF file detected\n",
            "Setting channel info structure...\n",
            "Creating raw.info structure...\n",
            "Reading 0 ... 142143  =      0.000 ...   277.623 secs...\n"
          ]
        },
        {
          "name": "stderr",
          "output_type": "stream",
          "text": [
            "/content/drive/My Drive/Colab Notebooks/Diploma_Thesis/posts/post01_simple_p300/braininvaders.py:68: DeprecationWarning: stim_channel will default to \"auto\" in 0.17 but change to False in 0.18, and will be removed in 0.19\n",
            "  file_path, montage=\"standard_1020\", preload=True\n",
            "/content/drive/My Drive/Colab Notebooks/mne/io/pick.py:279: DeprecationWarning: `np.bool` is a deprecated alias for the builtin `bool`. To silence this warning, use `bool` by itself. Doing this will not modify any behavior and is safe. If you specifically wanted the numpy scalar type, use `np.bool_` here.\n",
            "Deprecated in NumPy 1.20; for more details and guidance: https://numpy.org/devdocs/release/1.20.0-notes.html#deprecations\n",
            "  pick = np.zeros(nchan, dtype=np.bool)\n"
          ]
        },
        {
          "name": "stdout",
          "output_type": "stream",
          "text": [
            "Extracting EDF parameters from /root/mne_data/MNE-braininvaders-data/record/1494240/files/subject11/Session1/1.gdf...\n",
            "GDF file detected\n",
            "Setting channel info structure...\n",
            "Creating raw.info structure...\n",
            "Reading 0 ... 137599  =      0.000 ...   268.748 secs...\n"
          ]
        },
        {
          "name": "stderr",
          "output_type": "stream",
          "text": [
            "/content/drive/My Drive/Colab Notebooks/Diploma_Thesis/posts/post01_simple_p300/braininvaders.py:68: DeprecationWarning: stim_channel will default to \"auto\" in 0.17 but change to False in 0.18, and will be removed in 0.19\n",
            "  file_path, montage=\"standard_1020\", preload=True\n",
            "/content/drive/My Drive/Colab Notebooks/mne/io/pick.py:279: DeprecationWarning: `np.bool` is a deprecated alias for the builtin `bool`. To silence this warning, use `bool` by itself. Doing this will not modify any behavior and is safe. If you specifically wanted the numpy scalar type, use `np.bool_` here.\n",
            "Deprecated in NumPy 1.20; for more details and guidance: https://numpy.org/devdocs/release/1.20.0-notes.html#deprecations\n",
            "  pick = np.zeros(nchan, dtype=np.bool)\n"
          ]
        },
        {
          "name": "stdout",
          "output_type": "stream",
          "text": [
            "Extracting EDF parameters from /root/mne_data/MNE-braininvaders-data/record/1494240/files/subject11/Session1/2.gdf...\n",
            "GDF file detected\n",
            "Setting channel info structure...\n",
            "Creating raw.info structure...\n",
            "Reading 0 ... 147231  =      0.000 ...   287.561 secs...\n"
          ]
        },
        {
          "name": "stderr",
          "output_type": "stream",
          "text": [
            "/content/drive/My Drive/Colab Notebooks/Diploma_Thesis/posts/post01_simple_p300/braininvaders.py:68: DeprecationWarning: stim_channel will default to \"auto\" in 0.17 but change to False in 0.18, and will be removed in 0.19\n",
            "  file_path, montage=\"standard_1020\", preload=True\n",
            "/content/drive/My Drive/Colab Notebooks/mne/io/pick.py:279: DeprecationWarning: `np.bool` is a deprecated alias for the builtin `bool`. To silence this warning, use `bool` by itself. Doing this will not modify any behavior and is safe. If you specifically wanted the numpy scalar type, use `np.bool_` here.\n",
            "Deprecated in NumPy 1.20; for more details and guidance: https://numpy.org/devdocs/release/1.20.0-notes.html#deprecations\n",
            "  pick = np.zeros(nchan, dtype=np.bool)\n"
          ]
        },
        {
          "name": "stdout",
          "output_type": "stream",
          "text": [
            "Extracting EDF parameters from /root/mne_data/MNE-braininvaders-data/record/1494240/files/subject11/Session1/3.gdf...\n",
            "GDF file detected\n",
            "Setting channel info structure...\n",
            "Creating raw.info structure...\n",
            "Reading 0 ... 138015  =      0.000 ...   269.561 secs...\n"
          ]
        },
        {
          "name": "stderr",
          "output_type": "stream",
          "text": [
            "/content/drive/My Drive/Colab Notebooks/Diploma_Thesis/posts/post01_simple_p300/braininvaders.py:68: DeprecationWarning: stim_channel will default to \"auto\" in 0.17 but change to False in 0.18, and will be removed in 0.19\n",
            "  file_path, montage=\"standard_1020\", preload=True\n",
            "/content/drive/My Drive/Colab Notebooks/mne/io/pick.py:279: DeprecationWarning: `np.bool` is a deprecated alias for the builtin `bool`. To silence this warning, use `bool` by itself. Doing this will not modify any behavior and is safe. If you specifically wanted the numpy scalar type, use `np.bool_` here.\n",
            "Deprecated in NumPy 1.20; for more details and guidance: https://numpy.org/devdocs/release/1.20.0-notes.html#deprecations\n",
            "  pick = np.zeros(nchan, dtype=np.bool)\n"
          ]
        },
        {
          "name": "stdout",
          "output_type": "stream",
          "text": [
            "Extracting EDF parameters from /root/mne_data/MNE-braininvaders-data/record/1494240/files/subject11/Session1/4.gdf...\n",
            "GDF file detected\n",
            "Setting channel info structure...\n",
            "Creating raw.info structure...\n",
            "Reading 0 ... 118975  =      0.000 ...   232.373 secs...\n"
          ]
        },
        {
          "name": "stderr",
          "output_type": "stream",
          "text": [
            "/content/drive/My Drive/Colab Notebooks/Diploma_Thesis/posts/post01_simple_p300/braininvaders.py:68: DeprecationWarning: stim_channel will default to \"auto\" in 0.17 but change to False in 0.18, and will be removed in 0.19\n",
            "  file_path, montage=\"standard_1020\", preload=True\n",
            "/content/drive/My Drive/Colab Notebooks/mne/io/pick.py:279: DeprecationWarning: `np.bool` is a deprecated alias for the builtin `bool`. To silence this warning, use `bool` by itself. Doing this will not modify any behavior and is safe. If you specifically wanted the numpy scalar type, use `np.bool_` here.\n",
            "Deprecated in NumPy 1.20; for more details and guidance: https://numpy.org/devdocs/release/1.20.0-notes.html#deprecations\n",
            "  pick = np.zeros(nchan, dtype=np.bool)\n"
          ]
        },
        {
          "name": "stdout",
          "output_type": "stream",
          "text": [
            "Extracting EDF parameters from /root/mne_data/MNE-braininvaders-data/record/1494240/files/subject12/Session1/1.gdf...\n",
            "GDF file detected\n",
            "Setting channel info structure...\n",
            "Creating raw.info structure...\n",
            "Reading 0 ... 139583  =      0.000 ...   272.623 secs...\n"
          ]
        },
        {
          "name": "stderr",
          "output_type": "stream",
          "text": [
            "/content/drive/My Drive/Colab Notebooks/Diploma_Thesis/posts/post01_simple_p300/braininvaders.py:68: DeprecationWarning: stim_channel will default to \"auto\" in 0.17 but change to False in 0.18, and will be removed in 0.19\n",
            "  file_path, montage=\"standard_1020\", preload=True\n",
            "/content/drive/My Drive/Colab Notebooks/mne/io/pick.py:279: DeprecationWarning: `np.bool` is a deprecated alias for the builtin `bool`. To silence this warning, use `bool` by itself. Doing this will not modify any behavior and is safe. If you specifically wanted the numpy scalar type, use `np.bool_` here.\n",
            "Deprecated in NumPy 1.20; for more details and guidance: https://numpy.org/devdocs/release/1.20.0-notes.html#deprecations\n",
            "  pick = np.zeros(nchan, dtype=np.bool)\n"
          ]
        },
        {
          "name": "stdout",
          "output_type": "stream",
          "text": [
            "Extracting EDF parameters from /root/mne_data/MNE-braininvaders-data/record/1494240/files/subject12/Session1/2.gdf...\n",
            "GDF file detected\n",
            "Setting channel info structure...\n",
            "Creating raw.info structure...\n",
            "Reading 0 ... 145055  =      0.000 ...   283.311 secs...\n"
          ]
        },
        {
          "name": "stderr",
          "output_type": "stream",
          "text": [
            "/content/drive/My Drive/Colab Notebooks/Diploma_Thesis/posts/post01_simple_p300/braininvaders.py:68: DeprecationWarning: stim_channel will default to \"auto\" in 0.17 but change to False in 0.18, and will be removed in 0.19\n",
            "  file_path, montage=\"standard_1020\", preload=True\n",
            "/content/drive/My Drive/Colab Notebooks/mne/io/pick.py:279: DeprecationWarning: `np.bool` is a deprecated alias for the builtin `bool`. To silence this warning, use `bool` by itself. Doing this will not modify any behavior and is safe. If you specifically wanted the numpy scalar type, use `np.bool_` here.\n",
            "Deprecated in NumPy 1.20; for more details and guidance: https://numpy.org/devdocs/release/1.20.0-notes.html#deprecations\n",
            "  pick = np.zeros(nchan, dtype=np.bool)\n"
          ]
        },
        {
          "name": "stdout",
          "output_type": "stream",
          "text": [
            "Extracting EDF parameters from /root/mne_data/MNE-braininvaders-data/record/1494240/files/subject12/Session1/3.gdf...\n",
            "GDF file detected\n",
            "Setting channel info structure...\n",
            "Creating raw.info structure...\n",
            "Reading 0 ... 139295  =      0.000 ...   272.061 secs...\n"
          ]
        },
        {
          "name": "stderr",
          "output_type": "stream",
          "text": [
            "/content/drive/My Drive/Colab Notebooks/Diploma_Thesis/posts/post01_simple_p300/braininvaders.py:68: DeprecationWarning: stim_channel will default to \"auto\" in 0.17 but change to False in 0.18, and will be removed in 0.19\n",
            "  file_path, montage=\"standard_1020\", preload=True\n",
            "/content/drive/My Drive/Colab Notebooks/mne/io/pick.py:279: DeprecationWarning: `np.bool` is a deprecated alias for the builtin `bool`. To silence this warning, use `bool` by itself. Doing this will not modify any behavior and is safe. If you specifically wanted the numpy scalar type, use `np.bool_` here.\n",
            "Deprecated in NumPy 1.20; for more details and guidance: https://numpy.org/devdocs/release/1.20.0-notes.html#deprecations\n",
            "  pick = np.zeros(nchan, dtype=np.bool)\n"
          ]
        },
        {
          "name": "stdout",
          "output_type": "stream",
          "text": [
            "Extracting EDF parameters from /root/mne_data/MNE-braininvaders-data/record/1494240/files/subject12/Session1/4.gdf...\n",
            "GDF file detected\n",
            "Setting channel info structure...\n",
            "Creating raw.info structure...\n",
            "Reading 0 ... 130687  =      0.000 ...   255.248 secs...\n"
          ]
        },
        {
          "name": "stderr",
          "output_type": "stream",
          "text": [
            "/content/drive/My Drive/Colab Notebooks/Diploma_Thesis/posts/post01_simple_p300/braininvaders.py:68: DeprecationWarning: stim_channel will default to \"auto\" in 0.17 but change to False in 0.18, and will be removed in 0.19\n",
            "  file_path, montage=\"standard_1020\", preload=True\n",
            "/content/drive/My Drive/Colab Notebooks/mne/io/pick.py:279: DeprecationWarning: `np.bool` is a deprecated alias for the builtin `bool`. To silence this warning, use `bool` by itself. Doing this will not modify any behavior and is safe. If you specifically wanted the numpy scalar type, use `np.bool_` here.\n",
            "Deprecated in NumPy 1.20; for more details and guidance: https://numpy.org/devdocs/release/1.20.0-notes.html#deprecations\n",
            "  pick = np.zeros(nchan, dtype=np.bool)\n"
          ]
        },
        {
          "name": "stdout",
          "output_type": "stream",
          "text": [
            "Extracting EDF parameters from /root/mne_data/MNE-braininvaders-data/record/1494240/files/subject13/Session1/1.gdf...\n",
            "GDF file detected\n",
            "Setting channel info structure...\n",
            "Creating raw.info structure...\n",
            "Reading 0 ... 127999  =      0.000 ...   249.998 secs...\n"
          ]
        },
        {
          "name": "stderr",
          "output_type": "stream",
          "text": [
            "/content/drive/My Drive/Colab Notebooks/Diploma_Thesis/posts/post01_simple_p300/braininvaders.py:68: DeprecationWarning: stim_channel will default to \"auto\" in 0.17 but change to False in 0.18, and will be removed in 0.19\n",
            "  file_path, montage=\"standard_1020\", preload=True\n",
            "/content/drive/My Drive/Colab Notebooks/mne/io/pick.py:279: DeprecationWarning: `np.bool` is a deprecated alias for the builtin `bool`. To silence this warning, use `bool` by itself. Doing this will not modify any behavior and is safe. If you specifically wanted the numpy scalar type, use `np.bool_` here.\n",
            "Deprecated in NumPy 1.20; for more details and guidance: https://numpy.org/devdocs/release/1.20.0-notes.html#deprecations\n",
            "  pick = np.zeros(nchan, dtype=np.bool)\n"
          ]
        },
        {
          "name": "stdout",
          "output_type": "stream",
          "text": [
            "Extracting EDF parameters from /root/mne_data/MNE-braininvaders-data/record/1494240/files/subject13/Session1/2.gdf...\n",
            "GDF file detected\n",
            "Setting channel info structure...\n",
            "Creating raw.info structure...\n",
            "Reading 0 ... 122463  =      0.000 ...   239.186 secs...\n"
          ]
        },
        {
          "name": "stderr",
          "output_type": "stream",
          "text": [
            "/content/drive/My Drive/Colab Notebooks/Diploma_Thesis/posts/post01_simple_p300/braininvaders.py:68: DeprecationWarning: stim_channel will default to \"auto\" in 0.17 but change to False in 0.18, and will be removed in 0.19\n",
            "  file_path, montage=\"standard_1020\", preload=True\n",
            "/content/drive/My Drive/Colab Notebooks/mne/io/pick.py:279: DeprecationWarning: `np.bool` is a deprecated alias for the builtin `bool`. To silence this warning, use `bool` by itself. Doing this will not modify any behavior and is safe. If you specifically wanted the numpy scalar type, use `np.bool_` here.\n",
            "Deprecated in NumPy 1.20; for more details and guidance: https://numpy.org/devdocs/release/1.20.0-notes.html#deprecations\n",
            "  pick = np.zeros(nchan, dtype=np.bool)\n"
          ]
        },
        {
          "name": "stdout",
          "output_type": "stream",
          "text": [
            "Extracting EDF parameters from /root/mne_data/MNE-braininvaders-data/record/1494240/files/subject13/Session1/3.gdf...\n",
            "GDF file detected\n",
            "Setting channel info structure...\n",
            "Creating raw.info structure...\n",
            "Reading 0 ... 130143  =      0.000 ...   254.186 secs...\n"
          ]
        },
        {
          "name": "stderr",
          "output_type": "stream",
          "text": [
            "/content/drive/My Drive/Colab Notebooks/Diploma_Thesis/posts/post01_simple_p300/braininvaders.py:68: DeprecationWarning: stim_channel will default to \"auto\" in 0.17 but change to False in 0.18, and will be removed in 0.19\n",
            "  file_path, montage=\"standard_1020\", preload=True\n",
            "/content/drive/My Drive/Colab Notebooks/mne/io/pick.py:279: DeprecationWarning: `np.bool` is a deprecated alias for the builtin `bool`. To silence this warning, use `bool` by itself. Doing this will not modify any behavior and is safe. If you specifically wanted the numpy scalar type, use `np.bool_` here.\n",
            "Deprecated in NumPy 1.20; for more details and guidance: https://numpy.org/devdocs/release/1.20.0-notes.html#deprecations\n",
            "  pick = np.zeros(nchan, dtype=np.bool)\n"
          ]
        },
        {
          "name": "stdout",
          "output_type": "stream",
          "text": [
            "Extracting EDF parameters from /root/mne_data/MNE-braininvaders-data/record/1494240/files/subject13/Session1/4.gdf...\n",
            "GDF file detected\n",
            "Setting channel info structure...\n",
            "Creating raw.info structure...\n",
            "Reading 0 ... 168095  =      0.000 ...   328.311 secs...\n"
          ]
        },
        {
          "name": "stderr",
          "output_type": "stream",
          "text": [
            "/content/drive/My Drive/Colab Notebooks/Diploma_Thesis/posts/post01_simple_p300/braininvaders.py:68: DeprecationWarning: stim_channel will default to \"auto\" in 0.17 but change to False in 0.18, and will be removed in 0.19\n",
            "  file_path, montage=\"standard_1020\", preload=True\n",
            "/content/drive/My Drive/Colab Notebooks/mne/io/pick.py:279: DeprecationWarning: `np.bool` is a deprecated alias for the builtin `bool`. To silence this warning, use `bool` by itself. Doing this will not modify any behavior and is safe. If you specifically wanted the numpy scalar type, use `np.bool_` here.\n",
            "Deprecated in NumPy 1.20; for more details and guidance: https://numpy.org/devdocs/release/1.20.0-notes.html#deprecations\n",
            "  pick = np.zeros(nchan, dtype=np.bool)\n"
          ]
        },
        {
          "name": "stdout",
          "output_type": "stream",
          "text": [
            "Extracting EDF parameters from /root/mne_data/MNE-braininvaders-data/record/1494240/files/subject14/Session1/1.gdf...\n",
            "GDF file detected\n",
            "Setting channel info structure...\n",
            "Creating raw.info structure...\n",
            "Reading 0 ... 142719  =      0.000 ...   278.748 secs...\n"
          ]
        },
        {
          "name": "stderr",
          "output_type": "stream",
          "text": [
            "/content/drive/My Drive/Colab Notebooks/Diploma_Thesis/posts/post01_simple_p300/braininvaders.py:68: DeprecationWarning: stim_channel will default to \"auto\" in 0.17 but change to False in 0.18, and will be removed in 0.19\n",
            "  file_path, montage=\"standard_1020\", preload=True\n",
            "/content/drive/My Drive/Colab Notebooks/mne/io/pick.py:279: DeprecationWarning: `np.bool` is a deprecated alias for the builtin `bool`. To silence this warning, use `bool` by itself. Doing this will not modify any behavior and is safe. If you specifically wanted the numpy scalar type, use `np.bool_` here.\n",
            "Deprecated in NumPy 1.20; for more details and guidance: https://numpy.org/devdocs/release/1.20.0-notes.html#deprecations\n",
            "  pick = np.zeros(nchan, dtype=np.bool)\n"
          ]
        },
        {
          "name": "stdout",
          "output_type": "stream",
          "text": [
            "Extracting EDF parameters from /root/mne_data/MNE-braininvaders-data/record/1494240/files/subject14/Session1/2.gdf...\n",
            "GDF file detected\n",
            "Setting channel info structure...\n",
            "Creating raw.info structure...\n",
            "Reading 0 ... 107455  =      0.000 ...   209.873 secs...\n"
          ]
        },
        {
          "name": "stderr",
          "output_type": "stream",
          "text": [
            "/content/drive/My Drive/Colab Notebooks/Diploma_Thesis/posts/post01_simple_p300/braininvaders.py:68: DeprecationWarning: stim_channel will default to \"auto\" in 0.17 but change to False in 0.18, and will be removed in 0.19\n",
            "  file_path, montage=\"standard_1020\", preload=True\n",
            "/content/drive/My Drive/Colab Notebooks/mne/io/pick.py:279: DeprecationWarning: `np.bool` is a deprecated alias for the builtin `bool`. To silence this warning, use `bool` by itself. Doing this will not modify any behavior and is safe. If you specifically wanted the numpy scalar type, use `np.bool_` here.\n",
            "Deprecated in NumPy 1.20; for more details and guidance: https://numpy.org/devdocs/release/1.20.0-notes.html#deprecations\n",
            "  pick = np.zeros(nchan, dtype=np.bool)\n"
          ]
        },
        {
          "name": "stdout",
          "output_type": "stream",
          "text": [
            "Extracting EDF parameters from /root/mne_data/MNE-braininvaders-data/record/1494240/files/subject14/Session1/3.gdf...\n",
            "GDF file detected\n",
            "Setting channel info structure...\n",
            "Creating raw.info structure...\n",
            "Reading 0 ... 139391  =      0.000 ...   272.248 secs...\n"
          ]
        },
        {
          "name": "stderr",
          "output_type": "stream",
          "text": [
            "/content/drive/My Drive/Colab Notebooks/Diploma_Thesis/posts/post01_simple_p300/braininvaders.py:68: DeprecationWarning: stim_channel will default to \"auto\" in 0.17 but change to False in 0.18, and will be removed in 0.19\n",
            "  file_path, montage=\"standard_1020\", preload=True\n",
            "/content/drive/My Drive/Colab Notebooks/mne/io/pick.py:279: DeprecationWarning: `np.bool` is a deprecated alias for the builtin `bool`. To silence this warning, use `bool` by itself. Doing this will not modify any behavior and is safe. If you specifically wanted the numpy scalar type, use `np.bool_` here.\n",
            "Deprecated in NumPy 1.20; for more details and guidance: https://numpy.org/devdocs/release/1.20.0-notes.html#deprecations\n",
            "  pick = np.zeros(nchan, dtype=np.bool)\n"
          ]
        },
        {
          "name": "stdout",
          "output_type": "stream",
          "text": [
            "Extracting EDF parameters from /root/mne_data/MNE-braininvaders-data/record/1494240/files/subject14/Session1/4.gdf...\n",
            "GDF file detected\n",
            "Setting channel info structure...\n",
            "Creating raw.info structure...\n",
            "Reading 0 ... 103839  =      0.000 ...   202.811 secs...\n"
          ]
        },
        {
          "name": "stderr",
          "output_type": "stream",
          "text": [
            "/content/drive/My Drive/Colab Notebooks/Diploma_Thesis/posts/post01_simple_p300/braininvaders.py:68: DeprecationWarning: stim_channel will default to \"auto\" in 0.17 but change to False in 0.18, and will be removed in 0.19\n",
            "  file_path, montage=\"standard_1020\", preload=True\n",
            "/content/drive/My Drive/Colab Notebooks/mne/io/pick.py:279: DeprecationWarning: `np.bool` is a deprecated alias for the builtin `bool`. To silence this warning, use `bool` by itself. Doing this will not modify any behavior and is safe. If you specifically wanted the numpy scalar type, use `np.bool_` here.\n",
            "Deprecated in NumPy 1.20; for more details and guidance: https://numpy.org/devdocs/release/1.20.0-notes.html#deprecations\n",
            "  pick = np.zeros(nchan, dtype=np.bool)\n"
          ]
        },
        {
          "name": "stdout",
          "output_type": "stream",
          "text": [
            "Extracting EDF parameters from /root/mne_data/MNE-braininvaders-data/record/1494240/files/subject15/Session1/1.gdf...\n",
            "GDF file detected\n",
            "Setting channel info structure...\n",
            "Creating raw.info structure...\n",
            "Reading 0 ... 138975  =      0.000 ...   271.436 secs...\n"
          ]
        },
        {
          "name": "stderr",
          "output_type": "stream",
          "text": [
            "/content/drive/My Drive/Colab Notebooks/Diploma_Thesis/posts/post01_simple_p300/braininvaders.py:68: DeprecationWarning: stim_channel will default to \"auto\" in 0.17 but change to False in 0.18, and will be removed in 0.19\n",
            "  file_path, montage=\"standard_1020\", preload=True\n",
            "/content/drive/My Drive/Colab Notebooks/mne/io/pick.py:279: DeprecationWarning: `np.bool` is a deprecated alias for the builtin `bool`. To silence this warning, use `bool` by itself. Doing this will not modify any behavior and is safe. If you specifically wanted the numpy scalar type, use `np.bool_` here.\n",
            "Deprecated in NumPy 1.20; for more details and guidance: https://numpy.org/devdocs/release/1.20.0-notes.html#deprecations\n",
            "  pick = np.zeros(nchan, dtype=np.bool)\n"
          ]
        },
        {
          "name": "stdout",
          "output_type": "stream",
          "text": [
            "Extracting EDF parameters from /root/mne_data/MNE-braininvaders-data/record/1494240/files/subject15/Session1/2.gdf...\n",
            "GDF file detected\n",
            "Setting channel info structure...\n",
            "Creating raw.info structure...\n",
            "Reading 0 ... 97055  =      0.000 ...   189.561 secs...\n"
          ]
        },
        {
          "name": "stderr",
          "output_type": "stream",
          "text": [
            "/content/drive/My Drive/Colab Notebooks/Diploma_Thesis/posts/post01_simple_p300/braininvaders.py:68: DeprecationWarning: stim_channel will default to \"auto\" in 0.17 but change to False in 0.18, and will be removed in 0.19\n",
            "  file_path, montage=\"standard_1020\", preload=True\n",
            "/content/drive/My Drive/Colab Notebooks/mne/io/pick.py:279: DeprecationWarning: `np.bool` is a deprecated alias for the builtin `bool`. To silence this warning, use `bool` by itself. Doing this will not modify any behavior and is safe. If you specifically wanted the numpy scalar type, use `np.bool_` here.\n",
            "Deprecated in NumPy 1.20; for more details and guidance: https://numpy.org/devdocs/release/1.20.0-notes.html#deprecations\n",
            "  pick = np.zeros(nchan, dtype=np.bool)\n"
          ]
        },
        {
          "name": "stdout",
          "output_type": "stream",
          "text": [
            "Extracting EDF parameters from /root/mne_data/MNE-braininvaders-data/record/1494240/files/subject15/Session1/3.gdf...\n",
            "GDF file detected\n",
            "Setting channel info structure...\n",
            "Creating raw.info structure...\n",
            "Reading 0 ... 137503  =      0.000 ...   268.561 secs...\n"
          ]
        },
        {
          "name": "stderr",
          "output_type": "stream",
          "text": [
            "/content/drive/My Drive/Colab Notebooks/Diploma_Thesis/posts/post01_simple_p300/braininvaders.py:68: DeprecationWarning: stim_channel will default to \"auto\" in 0.17 but change to False in 0.18, and will be removed in 0.19\n",
            "  file_path, montage=\"standard_1020\", preload=True\n",
            "/content/drive/My Drive/Colab Notebooks/mne/io/pick.py:279: DeprecationWarning: `np.bool` is a deprecated alias for the builtin `bool`. To silence this warning, use `bool` by itself. Doing this will not modify any behavior and is safe. If you specifically wanted the numpy scalar type, use `np.bool_` here.\n",
            "Deprecated in NumPy 1.20; for more details and guidance: https://numpy.org/devdocs/release/1.20.0-notes.html#deprecations\n",
            "  pick = np.zeros(nchan, dtype=np.bool)\n"
          ]
        },
        {
          "name": "stdout",
          "output_type": "stream",
          "text": [
            "Extracting EDF parameters from /root/mne_data/MNE-braininvaders-data/record/1494240/files/subject15/Session1/4.gdf...\n",
            "GDF file detected\n",
            "Setting channel info structure...\n",
            "Creating raw.info structure...\n",
            "Reading 0 ... 100671  =      0.000 ...   196.623 secs...\n"
          ]
        },
        {
          "name": "stderr",
          "output_type": "stream",
          "text": [
            "/content/drive/My Drive/Colab Notebooks/Diploma_Thesis/posts/post01_simple_p300/braininvaders.py:68: DeprecationWarning: stim_channel will default to \"auto\" in 0.17 but change to False in 0.18, and will be removed in 0.19\n",
            "  file_path, montage=\"standard_1020\", preload=True\n",
            "/content/drive/My Drive/Colab Notebooks/mne/io/pick.py:279: DeprecationWarning: `np.bool` is a deprecated alias for the builtin `bool`. To silence this warning, use `bool` by itself. Doing this will not modify any behavior and is safe. If you specifically wanted the numpy scalar type, use `np.bool_` here.\n",
            "Deprecated in NumPy 1.20; for more details and guidance: https://numpy.org/devdocs/release/1.20.0-notes.html#deprecations\n",
            "  pick = np.zeros(nchan, dtype=np.bool)\n"
          ]
        },
        {
          "name": "stdout",
          "output_type": "stream",
          "text": [
            "Extracting EDF parameters from /root/mne_data/MNE-braininvaders-data/record/1494240/files/subject16/Session1/1.gdf...\n",
            "GDF file detected\n",
            "Setting channel info structure...\n",
            "Creating raw.info structure...\n",
            "Reading 0 ... 131423  =      0.000 ...   256.686 secs...\n"
          ]
        },
        {
          "name": "stderr",
          "output_type": "stream",
          "text": [
            "/content/drive/My Drive/Colab Notebooks/Diploma_Thesis/posts/post01_simple_p300/braininvaders.py:68: DeprecationWarning: stim_channel will default to \"auto\" in 0.17 but change to False in 0.18, and will be removed in 0.19\n",
            "  file_path, montage=\"standard_1020\", preload=True\n",
            "/content/drive/My Drive/Colab Notebooks/mne/io/pick.py:279: DeprecationWarning: `np.bool` is a deprecated alias for the builtin `bool`. To silence this warning, use `bool` by itself. Doing this will not modify any behavior and is safe. If you specifically wanted the numpy scalar type, use `np.bool_` here.\n",
            "Deprecated in NumPy 1.20; for more details and guidance: https://numpy.org/devdocs/release/1.20.0-notes.html#deprecations\n",
            "  pick = np.zeros(nchan, dtype=np.bool)\n"
          ]
        },
        {
          "name": "stdout",
          "output_type": "stream",
          "text": [
            "Extracting EDF parameters from /root/mne_data/MNE-braininvaders-data/record/1494240/files/subject16/Session1/2.gdf...\n",
            "GDF file detected\n",
            "Setting channel info structure...\n",
            "Creating raw.info structure...\n",
            "Reading 0 ... 109055  =      0.000 ...   212.998 secs...\n"
          ]
        },
        {
          "name": "stderr",
          "output_type": "stream",
          "text": [
            "/content/drive/My Drive/Colab Notebooks/Diploma_Thesis/posts/post01_simple_p300/braininvaders.py:68: DeprecationWarning: stim_channel will default to \"auto\" in 0.17 but change to False in 0.18, and will be removed in 0.19\n",
            "  file_path, montage=\"standard_1020\", preload=True\n",
            "/content/drive/My Drive/Colab Notebooks/mne/io/pick.py:279: DeprecationWarning: `np.bool` is a deprecated alias for the builtin `bool`. To silence this warning, use `bool` by itself. Doing this will not modify any behavior and is safe. If you specifically wanted the numpy scalar type, use `np.bool_` here.\n",
            "Deprecated in NumPy 1.20; for more details and guidance: https://numpy.org/devdocs/release/1.20.0-notes.html#deprecations\n",
            "  pick = np.zeros(nchan, dtype=np.bool)\n"
          ]
        },
        {
          "name": "stdout",
          "output_type": "stream",
          "text": [
            "Extracting EDF parameters from /root/mne_data/MNE-braininvaders-data/record/1494240/files/subject16/Session1/3.gdf...\n",
            "GDF file detected\n",
            "Setting channel info structure...\n",
            "Creating raw.info structure...\n",
            "Reading 0 ... 135615  =      0.000 ...   264.873 secs...\n"
          ]
        },
        {
          "name": "stderr",
          "output_type": "stream",
          "text": [
            "/content/drive/My Drive/Colab Notebooks/Diploma_Thesis/posts/post01_simple_p300/braininvaders.py:68: DeprecationWarning: stim_channel will default to \"auto\" in 0.17 but change to False in 0.18, and will be removed in 0.19\n",
            "  file_path, montage=\"standard_1020\", preload=True\n",
            "/content/drive/My Drive/Colab Notebooks/mne/io/pick.py:279: DeprecationWarning: `np.bool` is a deprecated alias for the builtin `bool`. To silence this warning, use `bool` by itself. Doing this will not modify any behavior and is safe. If you specifically wanted the numpy scalar type, use `np.bool_` here.\n",
            "Deprecated in NumPy 1.20; for more details and guidance: https://numpy.org/devdocs/release/1.20.0-notes.html#deprecations\n",
            "  pick = np.zeros(nchan, dtype=np.bool)\n"
          ]
        },
        {
          "name": "stdout",
          "output_type": "stream",
          "text": [
            "Extracting EDF parameters from /root/mne_data/MNE-braininvaders-data/record/1494240/files/subject16/Session1/4.gdf...\n",
            "GDF file detected\n",
            "Setting channel info structure...\n",
            "Creating raw.info structure...\n",
            "Reading 0 ... 126303  =      0.000 ...   246.686 secs...\n"
          ]
        },
        {
          "name": "stderr",
          "output_type": "stream",
          "text": [
            "/content/drive/My Drive/Colab Notebooks/Diploma_Thesis/posts/post01_simple_p300/braininvaders.py:68: DeprecationWarning: stim_channel will default to \"auto\" in 0.17 but change to False in 0.18, and will be removed in 0.19\n",
            "  file_path, montage=\"standard_1020\", preload=True\n",
            "/content/drive/My Drive/Colab Notebooks/mne/io/pick.py:279: DeprecationWarning: `np.bool` is a deprecated alias for the builtin `bool`. To silence this warning, use `bool` by itself. Doing this will not modify any behavior and is safe. If you specifically wanted the numpy scalar type, use `np.bool_` here.\n",
            "Deprecated in NumPy 1.20; for more details and guidance: https://numpy.org/devdocs/release/1.20.0-notes.html#deprecations\n",
            "  pick = np.zeros(nchan, dtype=np.bool)\n"
          ]
        },
        {
          "name": "stdout",
          "output_type": "stream",
          "text": [
            "Extracting EDF parameters from /root/mne_data/MNE-braininvaders-data/record/1494240/files/subject17/Session1/1.gdf...\n",
            "GDF file detected\n",
            "Setting channel info structure...\n",
            "Creating raw.info structure...\n",
            "Reading 0 ... 138687  =      0.000 ...   270.873 secs...\n"
          ]
        },
        {
          "name": "stderr",
          "output_type": "stream",
          "text": [
            "/content/drive/My Drive/Colab Notebooks/Diploma_Thesis/posts/post01_simple_p300/braininvaders.py:68: DeprecationWarning: stim_channel will default to \"auto\" in 0.17 but change to False in 0.18, and will be removed in 0.19\n",
            "  file_path, montage=\"standard_1020\", preload=True\n",
            "/content/drive/My Drive/Colab Notebooks/mne/io/pick.py:279: DeprecationWarning: `np.bool` is a deprecated alias for the builtin `bool`. To silence this warning, use `bool` by itself. Doing this will not modify any behavior and is safe. If you specifically wanted the numpy scalar type, use `np.bool_` here.\n",
            "Deprecated in NumPy 1.20; for more details and guidance: https://numpy.org/devdocs/release/1.20.0-notes.html#deprecations\n",
            "  pick = np.zeros(nchan, dtype=np.bool)\n"
          ]
        },
        {
          "name": "stdout",
          "output_type": "stream",
          "text": [
            "Extracting EDF parameters from /root/mne_data/MNE-braininvaders-data/record/1494240/files/subject17/Session1/2.gdf...\n",
            "GDF file detected\n",
            "Setting channel info structure...\n",
            "Creating raw.info structure...\n",
            "Reading 0 ... 126751  =      0.000 ...   247.561 secs...\n"
          ]
        },
        {
          "name": "stderr",
          "output_type": "stream",
          "text": [
            "/content/drive/My Drive/Colab Notebooks/Diploma_Thesis/posts/post01_simple_p300/braininvaders.py:68: DeprecationWarning: stim_channel will default to \"auto\" in 0.17 but change to False in 0.18, and will be removed in 0.19\n",
            "  file_path, montage=\"standard_1020\", preload=True\n",
            "/content/drive/My Drive/Colab Notebooks/mne/io/pick.py:279: DeprecationWarning: `np.bool` is a deprecated alias for the builtin `bool`. To silence this warning, use `bool` by itself. Doing this will not modify any behavior and is safe. If you specifically wanted the numpy scalar type, use `np.bool_` here.\n",
            "Deprecated in NumPy 1.20; for more details and guidance: https://numpy.org/devdocs/release/1.20.0-notes.html#deprecations\n",
            "  pick = np.zeros(nchan, dtype=np.bool)\n"
          ]
        },
        {
          "name": "stdout",
          "output_type": "stream",
          "text": [
            "Extracting EDF parameters from /root/mne_data/MNE-braininvaders-data/record/1494240/files/subject17/Session1/3.gdf...\n",
            "GDF file detected\n",
            "Setting channel info structure...\n",
            "Creating raw.info structure...\n",
            "Reading 0 ... 137407  =      0.000 ...   268.373 secs...\n"
          ]
        },
        {
          "name": "stderr",
          "output_type": "stream",
          "text": [
            "/content/drive/My Drive/Colab Notebooks/Diploma_Thesis/posts/post01_simple_p300/braininvaders.py:68: DeprecationWarning: stim_channel will default to \"auto\" in 0.17 but change to False in 0.18, and will be removed in 0.19\n",
            "  file_path, montage=\"standard_1020\", preload=True\n",
            "/content/drive/My Drive/Colab Notebooks/mne/io/pick.py:279: DeprecationWarning: `np.bool` is a deprecated alias for the builtin `bool`. To silence this warning, use `bool` by itself. Doing this will not modify any behavior and is safe. If you specifically wanted the numpy scalar type, use `np.bool_` here.\n",
            "Deprecated in NumPy 1.20; for more details and guidance: https://numpy.org/devdocs/release/1.20.0-notes.html#deprecations\n",
            "  pick = np.zeros(nchan, dtype=np.bool)\n"
          ]
        },
        {
          "name": "stdout",
          "output_type": "stream",
          "text": [
            "Extracting EDF parameters from /root/mne_data/MNE-braininvaders-data/record/1494240/files/subject17/Session1/4.gdf...\n",
            "GDF file detected\n",
            "Setting channel info structure...\n",
            "Creating raw.info structure...\n",
            "Reading 0 ... 113823  =      0.000 ...   222.311 secs...\n"
          ]
        },
        {
          "name": "stderr",
          "output_type": "stream",
          "text": [
            "/content/drive/My Drive/Colab Notebooks/Diploma_Thesis/posts/post01_simple_p300/braininvaders.py:68: DeprecationWarning: stim_channel will default to \"auto\" in 0.17 but change to False in 0.18, and will be removed in 0.19\n",
            "  file_path, montage=\"standard_1020\", preload=True\n",
            "/content/drive/My Drive/Colab Notebooks/mne/io/pick.py:279: DeprecationWarning: `np.bool` is a deprecated alias for the builtin `bool`. To silence this warning, use `bool` by itself. Doing this will not modify any behavior and is safe. If you specifically wanted the numpy scalar type, use `np.bool_` here.\n",
            "Deprecated in NumPy 1.20; for more details and guidance: https://numpy.org/devdocs/release/1.20.0-notes.html#deprecations\n",
            "  pick = np.zeros(nchan, dtype=np.bool)\n"
          ]
        },
        {
          "name": "stdout",
          "output_type": "stream",
          "text": [
            "Extracting EDF parameters from /root/mne_data/MNE-braininvaders-data/record/1494240/files/subject18/Session1/1.gdf...\n",
            "GDF file detected\n",
            "Setting channel info structure...\n",
            "Creating raw.info structure...\n",
            "Reading 0 ... 131839  =      0.000 ...   257.498 secs...\n"
          ]
        },
        {
          "name": "stderr",
          "output_type": "stream",
          "text": [
            "/content/drive/My Drive/Colab Notebooks/Diploma_Thesis/posts/post01_simple_p300/braininvaders.py:68: DeprecationWarning: stim_channel will default to \"auto\" in 0.17 but change to False in 0.18, and will be removed in 0.19\n",
            "  file_path, montage=\"standard_1020\", preload=True\n",
            "/content/drive/My Drive/Colab Notebooks/mne/io/pick.py:279: DeprecationWarning: `np.bool` is a deprecated alias for the builtin `bool`. To silence this warning, use `bool` by itself. Doing this will not modify any behavior and is safe. If you specifically wanted the numpy scalar type, use `np.bool_` here.\n",
            "Deprecated in NumPy 1.20; for more details and guidance: https://numpy.org/devdocs/release/1.20.0-notes.html#deprecations\n",
            "  pick = np.zeros(nchan, dtype=np.bool)\n"
          ]
        },
        {
          "name": "stdout",
          "output_type": "stream",
          "text": [
            "Extracting EDF parameters from /root/mne_data/MNE-braininvaders-data/record/1494240/files/subject18/Session1/2.gdf...\n",
            "GDF file detected\n",
            "Setting channel info structure...\n",
            "Creating raw.info structure...\n",
            "Reading 0 ... 115903  =      0.000 ...   226.373 secs...\n"
          ]
        },
        {
          "name": "stderr",
          "output_type": "stream",
          "text": [
            "/content/drive/My Drive/Colab Notebooks/Diploma_Thesis/posts/post01_simple_p300/braininvaders.py:68: DeprecationWarning: stim_channel will default to \"auto\" in 0.17 but change to False in 0.18, and will be removed in 0.19\n",
            "  file_path, montage=\"standard_1020\", preload=True\n",
            "/content/drive/My Drive/Colab Notebooks/mne/io/pick.py:279: DeprecationWarning: `np.bool` is a deprecated alias for the builtin `bool`. To silence this warning, use `bool` by itself. Doing this will not modify any behavior and is safe. If you specifically wanted the numpy scalar type, use `np.bool_` here.\n",
            "Deprecated in NumPy 1.20; for more details and guidance: https://numpy.org/devdocs/release/1.20.0-notes.html#deprecations\n",
            "  pick = np.zeros(nchan, dtype=np.bool)\n"
          ]
        },
        {
          "name": "stdout",
          "output_type": "stream",
          "text": [
            "Extracting EDF parameters from /root/mne_data/MNE-braininvaders-data/record/1494240/files/subject18/Session1/3.gdf...\n",
            "GDF file detected\n",
            "Setting channel info structure...\n",
            "Creating raw.info structure...\n",
            "Reading 0 ... 133375  =      0.000 ...   260.498 secs...\n"
          ]
        },
        {
          "name": "stderr",
          "output_type": "stream",
          "text": [
            "/content/drive/My Drive/Colab Notebooks/Diploma_Thesis/posts/post01_simple_p300/braininvaders.py:68: DeprecationWarning: stim_channel will default to \"auto\" in 0.17 but change to False in 0.18, and will be removed in 0.19\n",
            "  file_path, montage=\"standard_1020\", preload=True\n",
            "/content/drive/My Drive/Colab Notebooks/mne/io/pick.py:279: DeprecationWarning: `np.bool` is a deprecated alias for the builtin `bool`. To silence this warning, use `bool` by itself. Doing this will not modify any behavior and is safe. If you specifically wanted the numpy scalar type, use `np.bool_` here.\n",
            "Deprecated in NumPy 1.20; for more details and guidance: https://numpy.org/devdocs/release/1.20.0-notes.html#deprecations\n",
            "  pick = np.zeros(nchan, dtype=np.bool)\n"
          ]
        },
        {
          "name": "stdout",
          "output_type": "stream",
          "text": [
            "Extracting EDF parameters from /root/mne_data/MNE-braininvaders-data/record/1494240/files/subject18/Session1/4.gdf...\n",
            "GDF file detected\n",
            "Setting channel info structure...\n",
            "Creating raw.info structure...\n",
            "Reading 0 ... 95167  =      0.000 ...   185.873 secs...\n"
          ]
        },
        {
          "name": "stderr",
          "output_type": "stream",
          "text": [
            "/content/drive/My Drive/Colab Notebooks/Diploma_Thesis/posts/post01_simple_p300/braininvaders.py:68: DeprecationWarning: stim_channel will default to \"auto\" in 0.17 but change to False in 0.18, and will be removed in 0.19\n",
            "  file_path, montage=\"standard_1020\", preload=True\n",
            "/content/drive/My Drive/Colab Notebooks/mne/io/pick.py:279: DeprecationWarning: `np.bool` is a deprecated alias for the builtin `bool`. To silence this warning, use `bool` by itself. Doing this will not modify any behavior and is safe. If you specifically wanted the numpy scalar type, use `np.bool_` here.\n",
            "Deprecated in NumPy 1.20; for more details and guidance: https://numpy.org/devdocs/release/1.20.0-notes.html#deprecations\n",
            "  pick = np.zeros(nchan, dtype=np.bool)\n"
          ]
        },
        {
          "name": "stdout",
          "output_type": "stream",
          "text": [
            "Extracting EDF parameters from /root/mne_data/MNE-braininvaders-data/record/1494240/files/subject19/Session1/1.gdf...\n",
            "GDF file detected\n",
            "Setting channel info structure...\n",
            "Creating raw.info structure...\n",
            "Reading 0 ... 137247  =      0.000 ...   268.061 secs...\n"
          ]
        },
        {
          "name": "stderr",
          "output_type": "stream",
          "text": [
            "/content/drive/My Drive/Colab Notebooks/Diploma_Thesis/posts/post01_simple_p300/braininvaders.py:68: DeprecationWarning: stim_channel will default to \"auto\" in 0.17 but change to False in 0.18, and will be removed in 0.19\n",
            "  file_path, montage=\"standard_1020\", preload=True\n",
            "/content/drive/My Drive/Colab Notebooks/mne/io/pick.py:279: DeprecationWarning: `np.bool` is a deprecated alias for the builtin `bool`. To silence this warning, use `bool` by itself. Doing this will not modify any behavior and is safe. If you specifically wanted the numpy scalar type, use `np.bool_` here.\n",
            "Deprecated in NumPy 1.20; for more details and guidance: https://numpy.org/devdocs/release/1.20.0-notes.html#deprecations\n",
            "  pick = np.zeros(nchan, dtype=np.bool)\n"
          ]
        },
        {
          "name": "stdout",
          "output_type": "stream",
          "text": [
            "Extracting EDF parameters from /root/mne_data/MNE-braininvaders-data/record/1494240/files/subject19/Session1/2.gdf...\n",
            "GDF file detected\n",
            "Setting channel info structure...\n",
            "Creating raw.info structure...\n",
            "Reading 0 ... 115871  =      0.000 ...   226.311 secs...\n"
          ]
        },
        {
          "name": "stderr",
          "output_type": "stream",
          "text": [
            "/content/drive/My Drive/Colab Notebooks/Diploma_Thesis/posts/post01_simple_p300/braininvaders.py:68: DeprecationWarning: stim_channel will default to \"auto\" in 0.17 but change to False in 0.18, and will be removed in 0.19\n",
            "  file_path, montage=\"standard_1020\", preload=True\n",
            "/content/drive/My Drive/Colab Notebooks/mne/io/pick.py:279: DeprecationWarning: `np.bool` is a deprecated alias for the builtin `bool`. To silence this warning, use `bool` by itself. Doing this will not modify any behavior and is safe. If you specifically wanted the numpy scalar type, use `np.bool_` here.\n",
            "Deprecated in NumPy 1.20; for more details and guidance: https://numpy.org/devdocs/release/1.20.0-notes.html#deprecations\n",
            "  pick = np.zeros(nchan, dtype=np.bool)\n"
          ]
        },
        {
          "name": "stdout",
          "output_type": "stream",
          "text": [
            "Extracting EDF parameters from /root/mne_data/MNE-braininvaders-data/record/1494240/files/subject19/Session1/3.gdf...\n",
            "GDF file detected\n",
            "Setting channel info structure...\n",
            "Creating raw.info structure...\n",
            "Reading 0 ... 140095  =      0.000 ...   273.623 secs...\n"
          ]
        },
        {
          "name": "stderr",
          "output_type": "stream",
          "text": [
            "/content/drive/My Drive/Colab Notebooks/Diploma_Thesis/posts/post01_simple_p300/braininvaders.py:68: DeprecationWarning: stim_channel will default to \"auto\" in 0.17 but change to False in 0.18, and will be removed in 0.19\n",
            "  file_path, montage=\"standard_1020\", preload=True\n",
            "/content/drive/My Drive/Colab Notebooks/mne/io/pick.py:279: DeprecationWarning: `np.bool` is a deprecated alias for the builtin `bool`. To silence this warning, use `bool` by itself. Doing this will not modify any behavior and is safe. If you specifically wanted the numpy scalar type, use `np.bool_` here.\n",
            "Deprecated in NumPy 1.20; for more details and guidance: https://numpy.org/devdocs/release/1.20.0-notes.html#deprecations\n",
            "  pick = np.zeros(nchan, dtype=np.bool)\n"
          ]
        },
        {
          "name": "stdout",
          "output_type": "stream",
          "text": [
            "Extracting EDF parameters from /root/mne_data/MNE-braininvaders-data/record/1494240/files/subject19/Session1/4.gdf...\n",
            "GDF file detected\n",
            "Setting channel info structure...\n",
            "Creating raw.info structure...\n",
            "Reading 0 ... 199679  =      0.000 ...   389.998 secs...\n"
          ]
        },
        {
          "name": "stderr",
          "output_type": "stream",
          "text": [
            "/content/drive/My Drive/Colab Notebooks/Diploma_Thesis/posts/post01_simple_p300/braininvaders.py:68: DeprecationWarning: stim_channel will default to \"auto\" in 0.17 but change to False in 0.18, and will be removed in 0.19\n",
            "  file_path, montage=\"standard_1020\", preload=True\n",
            "/content/drive/My Drive/Colab Notebooks/mne/io/pick.py:279: DeprecationWarning: `np.bool` is a deprecated alias for the builtin `bool`. To silence this warning, use `bool` by itself. Doing this will not modify any behavior and is safe. If you specifically wanted the numpy scalar type, use `np.bool_` here.\n",
            "Deprecated in NumPy 1.20; for more details and guidance: https://numpy.org/devdocs/release/1.20.0-notes.html#deprecations\n",
            "  pick = np.zeros(nchan, dtype=np.bool)\n"
          ]
        },
        {
          "name": "stdout",
          "output_type": "stream",
          "text": [
            "Extracting EDF parameters from /root/mne_data/MNE-braininvaders-data/record/1494240/files/subject20/Session1/1.gdf...\n",
            "GDF file detected\n",
            "Setting channel info structure...\n",
            "Creating raw.info structure...\n",
            "Reading 0 ... 139679  =      0.000 ...   272.811 secs...\n"
          ]
        },
        {
          "name": "stderr",
          "output_type": "stream",
          "text": [
            "/content/drive/My Drive/Colab Notebooks/Diploma_Thesis/posts/post01_simple_p300/braininvaders.py:68: DeprecationWarning: stim_channel will default to \"auto\" in 0.17 but change to False in 0.18, and will be removed in 0.19\n",
            "  file_path, montage=\"standard_1020\", preload=True\n",
            "/content/drive/My Drive/Colab Notebooks/mne/io/pick.py:279: DeprecationWarning: `np.bool` is a deprecated alias for the builtin `bool`. To silence this warning, use `bool` by itself. Doing this will not modify any behavior and is safe. If you specifically wanted the numpy scalar type, use `np.bool_` here.\n",
            "Deprecated in NumPy 1.20; for more details and guidance: https://numpy.org/devdocs/release/1.20.0-notes.html#deprecations\n",
            "  pick = np.zeros(nchan, dtype=np.bool)\n"
          ]
        },
        {
          "name": "stdout",
          "output_type": "stream",
          "text": [
            "Extracting EDF parameters from /root/mne_data/MNE-braininvaders-data/record/1494240/files/subject20/Session1/2.gdf...\n",
            "GDF file detected\n",
            "Setting channel info structure...\n",
            "Creating raw.info structure...\n",
            "Reading 0 ... 119007  =      0.000 ...   232.436 secs...\n"
          ]
        },
        {
          "name": "stderr",
          "output_type": "stream",
          "text": [
            "/content/drive/My Drive/Colab Notebooks/Diploma_Thesis/posts/post01_simple_p300/braininvaders.py:68: DeprecationWarning: stim_channel will default to \"auto\" in 0.17 but change to False in 0.18, and will be removed in 0.19\n",
            "  file_path, montage=\"standard_1020\", preload=True\n",
            "/content/drive/My Drive/Colab Notebooks/mne/io/pick.py:279: DeprecationWarning: `np.bool` is a deprecated alias for the builtin `bool`. To silence this warning, use `bool` by itself. Doing this will not modify any behavior and is safe. If you specifically wanted the numpy scalar type, use `np.bool_` here.\n",
            "Deprecated in NumPy 1.20; for more details and guidance: https://numpy.org/devdocs/release/1.20.0-notes.html#deprecations\n",
            "  pick = np.zeros(nchan, dtype=np.bool)\n"
          ]
        },
        {
          "name": "stdout",
          "output_type": "stream",
          "text": [
            "Extracting EDF parameters from /root/mne_data/MNE-braininvaders-data/record/1494240/files/subject20/Session1/3.gdf...\n",
            "GDF file detected\n",
            "Setting channel info structure...\n",
            "Creating raw.info structure...\n",
            "Reading 0 ... 131007  =      0.000 ...   255.873 secs...\n"
          ]
        },
        {
          "name": "stderr",
          "output_type": "stream",
          "text": [
            "/content/drive/My Drive/Colab Notebooks/Diploma_Thesis/posts/post01_simple_p300/braininvaders.py:68: DeprecationWarning: stim_channel will default to \"auto\" in 0.17 but change to False in 0.18, and will be removed in 0.19\n",
            "  file_path, montage=\"standard_1020\", preload=True\n",
            "/content/drive/My Drive/Colab Notebooks/mne/io/pick.py:279: DeprecationWarning: `np.bool` is a deprecated alias for the builtin `bool`. To silence this warning, use `bool` by itself. Doing this will not modify any behavior and is safe. If you specifically wanted the numpy scalar type, use `np.bool_` here.\n",
            "Deprecated in NumPy 1.20; for more details and guidance: https://numpy.org/devdocs/release/1.20.0-notes.html#deprecations\n",
            "  pick = np.zeros(nchan, dtype=np.bool)\n"
          ]
        },
        {
          "name": "stdout",
          "output_type": "stream",
          "text": [
            "Extracting EDF parameters from /root/mne_data/MNE-braininvaders-data/record/1494240/files/subject20/Session1/4.gdf...\n",
            "GDF file detected\n",
            "Setting channel info structure...\n",
            "Creating raw.info structure...\n",
            "Reading 0 ... 134111  =      0.000 ...   261.936 secs...\n"
          ]
        },
        {
          "name": "stderr",
          "output_type": "stream",
          "text": [
            "/content/drive/My Drive/Colab Notebooks/Diploma_Thesis/posts/post01_simple_p300/braininvaders.py:68: DeprecationWarning: stim_channel will default to \"auto\" in 0.17 but change to False in 0.18, and will be removed in 0.19\n",
            "  file_path, montage=\"standard_1020\", preload=True\n",
            "/content/drive/My Drive/Colab Notebooks/mne/io/pick.py:279: DeprecationWarning: `np.bool` is a deprecated alias for the builtin `bool`. To silence this warning, use `bool` by itself. Doing this will not modify any behavior and is safe. If you specifically wanted the numpy scalar type, use `np.bool_` here.\n",
            "Deprecated in NumPy 1.20; for more details and guidance: https://numpy.org/devdocs/release/1.20.0-notes.html#deprecations\n",
            "  pick = np.zeros(nchan, dtype=np.bool)\n"
          ]
        },
        {
          "name": "stdout",
          "output_type": "stream",
          "text": [
            "Extracting EDF parameters from /root/mne_data/MNE-braininvaders-data/record/1494240/files/subject21/Session1/1.gdf...\n",
            "GDF file detected\n",
            "Setting channel info structure...\n",
            "Creating raw.info structure...\n",
            "Reading 0 ... 144063  =      0.000 ...   281.373 secs...\n"
          ]
        },
        {
          "name": "stderr",
          "output_type": "stream",
          "text": [
            "/content/drive/My Drive/Colab Notebooks/Diploma_Thesis/posts/post01_simple_p300/braininvaders.py:68: DeprecationWarning: stim_channel will default to \"auto\" in 0.17 but change to False in 0.18, and will be removed in 0.19\n",
            "  file_path, montage=\"standard_1020\", preload=True\n",
            "/content/drive/My Drive/Colab Notebooks/mne/io/pick.py:279: DeprecationWarning: `np.bool` is a deprecated alias for the builtin `bool`. To silence this warning, use `bool` by itself. Doing this will not modify any behavior and is safe. If you specifically wanted the numpy scalar type, use `np.bool_` here.\n",
            "Deprecated in NumPy 1.20; for more details and guidance: https://numpy.org/devdocs/release/1.20.0-notes.html#deprecations\n",
            "  pick = np.zeros(nchan, dtype=np.bool)\n"
          ]
        },
        {
          "name": "stdout",
          "output_type": "stream",
          "text": [
            "Extracting EDF parameters from /root/mne_data/MNE-braininvaders-data/record/1494240/files/subject21/Session1/2.gdf...\n",
            "GDF file detected\n",
            "Setting channel info structure...\n",
            "Creating raw.info structure...\n",
            "Reading 0 ... 105823  =      0.000 ...   206.686 secs...\n"
          ]
        },
        {
          "name": "stderr",
          "output_type": "stream",
          "text": [
            "/content/drive/My Drive/Colab Notebooks/Diploma_Thesis/posts/post01_simple_p300/braininvaders.py:68: DeprecationWarning: stim_channel will default to \"auto\" in 0.17 but change to False in 0.18, and will be removed in 0.19\n",
            "  file_path, montage=\"standard_1020\", preload=True\n",
            "/content/drive/My Drive/Colab Notebooks/mne/io/pick.py:279: DeprecationWarning: `np.bool` is a deprecated alias for the builtin `bool`. To silence this warning, use `bool` by itself. Doing this will not modify any behavior and is safe. If you specifically wanted the numpy scalar type, use `np.bool_` here.\n",
            "Deprecated in NumPy 1.20; for more details and guidance: https://numpy.org/devdocs/release/1.20.0-notes.html#deprecations\n",
            "  pick = np.zeros(nchan, dtype=np.bool)\n"
          ]
        },
        {
          "name": "stdout",
          "output_type": "stream",
          "text": [
            "Extracting EDF parameters from /root/mne_data/MNE-braininvaders-data/record/1494240/files/subject21/Session1/3.gdf...\n",
            "GDF file detected\n",
            "Setting channel info structure...\n",
            "Creating raw.info structure...\n",
            "Reading 0 ... 137183  =      0.000 ...   267.936 secs...\n"
          ]
        },
        {
          "name": "stderr",
          "output_type": "stream",
          "text": [
            "/content/drive/My Drive/Colab Notebooks/Diploma_Thesis/posts/post01_simple_p300/braininvaders.py:68: DeprecationWarning: stim_channel will default to \"auto\" in 0.17 but change to False in 0.18, and will be removed in 0.19\n",
            "  file_path, montage=\"standard_1020\", preload=True\n",
            "/content/drive/My Drive/Colab Notebooks/mne/io/pick.py:279: DeprecationWarning: `np.bool` is a deprecated alias for the builtin `bool`. To silence this warning, use `bool` by itself. Doing this will not modify any behavior and is safe. If you specifically wanted the numpy scalar type, use `np.bool_` here.\n",
            "Deprecated in NumPy 1.20; for more details and guidance: https://numpy.org/devdocs/release/1.20.0-notes.html#deprecations\n",
            "  pick = np.zeros(nchan, dtype=np.bool)\n"
          ]
        },
        {
          "name": "stdout",
          "output_type": "stream",
          "text": [
            "Extracting EDF parameters from /root/mne_data/MNE-braininvaders-data/record/1494240/files/subject21/Session1/4.gdf...\n",
            "GDF file detected\n",
            "Setting channel info structure...\n",
            "Creating raw.info structure...\n",
            "Reading 0 ... 95935  =      0.000 ...   187.373 secs...\n"
          ]
        },
        {
          "name": "stderr",
          "output_type": "stream",
          "text": [
            "/content/drive/My Drive/Colab Notebooks/Diploma_Thesis/posts/post01_simple_p300/braininvaders.py:68: DeprecationWarning: stim_channel will default to \"auto\" in 0.17 but change to False in 0.18, and will be removed in 0.19\n",
            "  file_path, montage=\"standard_1020\", preload=True\n",
            "/content/drive/My Drive/Colab Notebooks/mne/io/pick.py:279: DeprecationWarning: `np.bool` is a deprecated alias for the builtin `bool`. To silence this warning, use `bool` by itself. Doing this will not modify any behavior and is safe. If you specifically wanted the numpy scalar type, use `np.bool_` here.\n",
            "Deprecated in NumPy 1.20; for more details and guidance: https://numpy.org/devdocs/release/1.20.0-notes.html#deprecations\n",
            "  pick = np.zeros(nchan, dtype=np.bool)\n"
          ]
        },
        {
          "name": "stdout",
          "output_type": "stream",
          "text": [
            "Extracting EDF parameters from /root/mne_data/MNE-braininvaders-data/record/1494240/files/subject22/Session1/1.gdf...\n",
            "GDF file detected\n",
            "Setting channel info structure...\n",
            "Creating raw.info structure...\n",
            "Reading 0 ... 139423  =      0.000 ...   272.311 secs...\n"
          ]
        },
        {
          "name": "stderr",
          "output_type": "stream",
          "text": [
            "/content/drive/My Drive/Colab Notebooks/Diploma_Thesis/posts/post01_simple_p300/braininvaders.py:68: DeprecationWarning: stim_channel will default to \"auto\" in 0.17 but change to False in 0.18, and will be removed in 0.19\n",
            "  file_path, montage=\"standard_1020\", preload=True\n",
            "/content/drive/My Drive/Colab Notebooks/mne/io/pick.py:279: DeprecationWarning: `np.bool` is a deprecated alias for the builtin `bool`. To silence this warning, use `bool` by itself. Doing this will not modify any behavior and is safe. If you specifically wanted the numpy scalar type, use `np.bool_` here.\n",
            "Deprecated in NumPy 1.20; for more details and guidance: https://numpy.org/devdocs/release/1.20.0-notes.html#deprecations\n",
            "  pick = np.zeros(nchan, dtype=np.bool)\n"
          ]
        },
        {
          "name": "stdout",
          "output_type": "stream",
          "text": [
            "Extracting EDF parameters from /root/mne_data/MNE-braininvaders-data/record/1494240/files/subject22/Session1/2.gdf...\n",
            "GDF file detected\n",
            "Setting channel info structure...\n",
            "Creating raw.info structure...\n",
            "Reading 0 ... 125023  =      0.000 ...   244.186 secs...\n"
          ]
        },
        {
          "name": "stderr",
          "output_type": "stream",
          "text": [
            "/content/drive/My Drive/Colab Notebooks/Diploma_Thesis/posts/post01_simple_p300/braininvaders.py:68: DeprecationWarning: stim_channel will default to \"auto\" in 0.17 but change to False in 0.18, and will be removed in 0.19\n",
            "  file_path, montage=\"standard_1020\", preload=True\n",
            "/content/drive/My Drive/Colab Notebooks/mne/io/pick.py:279: DeprecationWarning: `np.bool` is a deprecated alias for the builtin `bool`. To silence this warning, use `bool` by itself. Doing this will not modify any behavior and is safe. If you specifically wanted the numpy scalar type, use `np.bool_` here.\n",
            "Deprecated in NumPy 1.20; for more details and guidance: https://numpy.org/devdocs/release/1.20.0-notes.html#deprecations\n",
            "  pick = np.zeros(nchan, dtype=np.bool)\n"
          ]
        },
        {
          "name": "stdout",
          "output_type": "stream",
          "text": [
            "Extracting EDF parameters from /root/mne_data/MNE-braininvaders-data/record/1494240/files/subject22/Session1/3.gdf...\n",
            "GDF file detected\n",
            "Setting channel info structure...\n",
            "Creating raw.info structure...\n",
            "Reading 0 ... 139103  =      0.000 ...   271.686 secs...\n"
          ]
        },
        {
          "name": "stderr",
          "output_type": "stream",
          "text": [
            "/content/drive/My Drive/Colab Notebooks/Diploma_Thesis/posts/post01_simple_p300/braininvaders.py:68: DeprecationWarning: stim_channel will default to \"auto\" in 0.17 but change to False in 0.18, and will be removed in 0.19\n",
            "  file_path, montage=\"standard_1020\", preload=True\n",
            "/content/drive/My Drive/Colab Notebooks/mne/io/pick.py:279: DeprecationWarning: `np.bool` is a deprecated alias for the builtin `bool`. To silence this warning, use `bool` by itself. Doing this will not modify any behavior and is safe. If you specifically wanted the numpy scalar type, use `np.bool_` here.\n",
            "Deprecated in NumPy 1.20; for more details and guidance: https://numpy.org/devdocs/release/1.20.0-notes.html#deprecations\n",
            "  pick = np.zeros(nchan, dtype=np.bool)\n"
          ]
        },
        {
          "name": "stdout",
          "output_type": "stream",
          "text": [
            "Extracting EDF parameters from /root/mne_data/MNE-braininvaders-data/record/1494240/files/subject22/Session1/4.gdf...\n",
            "GDF file detected\n",
            "Setting channel info structure...\n",
            "Creating raw.info structure...\n",
            "Reading 0 ... 138783  =      0.000 ...   271.061 secs...\n"
          ]
        },
        {
          "name": "stderr",
          "output_type": "stream",
          "text": [
            "/content/drive/My Drive/Colab Notebooks/Diploma_Thesis/posts/post01_simple_p300/braininvaders.py:68: DeprecationWarning: stim_channel will default to \"auto\" in 0.17 but change to False in 0.18, and will be removed in 0.19\n",
            "  file_path, montage=\"standard_1020\", preload=True\n",
            "/content/drive/My Drive/Colab Notebooks/mne/io/pick.py:279: DeprecationWarning: `np.bool` is a deprecated alias for the builtin `bool`. To silence this warning, use `bool` by itself. Doing this will not modify any behavior and is safe. If you specifically wanted the numpy scalar type, use `np.bool_` here.\n",
            "Deprecated in NumPy 1.20; for more details and guidance: https://numpy.org/devdocs/release/1.20.0-notes.html#deprecations\n",
            "  pick = np.zeros(nchan, dtype=np.bool)\n"
          ]
        },
        {
          "name": "stdout",
          "output_type": "stream",
          "text": [
            "Extracting EDF parameters from /root/mne_data/MNE-braininvaders-data/record/1494240/files/subject23/Session1/1.gdf...\n",
            "GDF file detected\n",
            "Setting channel info structure...\n",
            "Creating raw.info structure...\n",
            "Reading 0 ... 142847  =      0.000 ...   278.998 secs...\n"
          ]
        },
        {
          "name": "stderr",
          "output_type": "stream",
          "text": [
            "/content/drive/My Drive/Colab Notebooks/Diploma_Thesis/posts/post01_simple_p300/braininvaders.py:68: DeprecationWarning: stim_channel will default to \"auto\" in 0.17 but change to False in 0.18, and will be removed in 0.19\n",
            "  file_path, montage=\"standard_1020\", preload=True\n",
            "/content/drive/My Drive/Colab Notebooks/mne/io/pick.py:279: DeprecationWarning: `np.bool` is a deprecated alias for the builtin `bool`. To silence this warning, use `bool` by itself. Doing this will not modify any behavior and is safe. If you specifically wanted the numpy scalar type, use `np.bool_` here.\n",
            "Deprecated in NumPy 1.20; for more details and guidance: https://numpy.org/devdocs/release/1.20.0-notes.html#deprecations\n",
            "  pick = np.zeros(nchan, dtype=np.bool)\n"
          ]
        },
        {
          "name": "stdout",
          "output_type": "stream",
          "text": [
            "Extracting EDF parameters from /root/mne_data/MNE-braininvaders-data/record/1494240/files/subject23/Session1/2.gdf...\n",
            "GDF file detected\n",
            "Setting channel info structure...\n",
            "Creating raw.info structure...\n",
            "Reading 0 ... 133663  =      0.000 ...   261.061 secs...\n"
          ]
        },
        {
          "name": "stderr",
          "output_type": "stream",
          "text": [
            "/content/drive/My Drive/Colab Notebooks/Diploma_Thesis/posts/post01_simple_p300/braininvaders.py:68: DeprecationWarning: stim_channel will default to \"auto\" in 0.17 but change to False in 0.18, and will be removed in 0.19\n",
            "  file_path, montage=\"standard_1020\", preload=True\n",
            "/content/drive/My Drive/Colab Notebooks/mne/io/pick.py:279: DeprecationWarning: `np.bool` is a deprecated alias for the builtin `bool`. To silence this warning, use `bool` by itself. Doing this will not modify any behavior and is safe. If you specifically wanted the numpy scalar type, use `np.bool_` here.\n",
            "Deprecated in NumPy 1.20; for more details and guidance: https://numpy.org/devdocs/release/1.20.0-notes.html#deprecations\n",
            "  pick = np.zeros(nchan, dtype=np.bool)\n"
          ]
        },
        {
          "name": "stdout",
          "output_type": "stream",
          "text": [
            "Extracting EDF parameters from /root/mne_data/MNE-braininvaders-data/record/1494240/files/subject23/Session1/3.gdf...\n",
            "GDF file detected\n",
            "Setting channel info structure...\n",
            "Creating raw.info structure...\n",
            "Reading 0 ... 146079  =      0.000 ...   285.311 secs...\n"
          ]
        },
        {
          "name": "stderr",
          "output_type": "stream",
          "text": [
            "/content/drive/My Drive/Colab Notebooks/Diploma_Thesis/posts/post01_simple_p300/braininvaders.py:68: DeprecationWarning: stim_channel will default to \"auto\" in 0.17 but change to False in 0.18, and will be removed in 0.19\n",
            "  file_path, montage=\"standard_1020\", preload=True\n",
            "/content/drive/My Drive/Colab Notebooks/mne/io/pick.py:279: DeprecationWarning: `np.bool` is a deprecated alias for the builtin `bool`. To silence this warning, use `bool` by itself. Doing this will not modify any behavior and is safe. If you specifically wanted the numpy scalar type, use `np.bool_` here.\n",
            "Deprecated in NumPy 1.20; for more details and guidance: https://numpy.org/devdocs/release/1.20.0-notes.html#deprecations\n",
            "  pick = np.zeros(nchan, dtype=np.bool)\n"
          ]
        },
        {
          "name": "stdout",
          "output_type": "stream",
          "text": [
            "Extracting EDF parameters from /root/mne_data/MNE-braininvaders-data/record/1494240/files/subject23/Session1/4.gdf...\n",
            "GDF file detected\n",
            "Setting channel info structure...\n",
            "Creating raw.info structure...\n",
            "Reading 0 ... 188543  =      0.000 ...   368.248 secs...\n"
          ]
        },
        {
          "name": "stderr",
          "output_type": "stream",
          "text": [
            "/content/drive/My Drive/Colab Notebooks/Diploma_Thesis/posts/post01_simple_p300/braininvaders.py:68: DeprecationWarning: stim_channel will default to \"auto\" in 0.17 but change to False in 0.18, and will be removed in 0.19\n",
            "  file_path, montage=\"standard_1020\", preload=True\n",
            "/content/drive/My Drive/Colab Notebooks/mne/io/pick.py:279: DeprecationWarning: `np.bool` is a deprecated alias for the builtin `bool`. To silence this warning, use `bool` by itself. Doing this will not modify any behavior and is safe. If you specifically wanted the numpy scalar type, use `np.bool_` here.\n",
            "Deprecated in NumPy 1.20; for more details and guidance: https://numpy.org/devdocs/release/1.20.0-notes.html#deprecations\n",
            "  pick = np.zeros(nchan, dtype=np.bool)\n"
          ]
        },
        {
          "name": "stdout",
          "output_type": "stream",
          "text": [
            "Extracting EDF parameters from /root/mne_data/MNE-braininvaders-data/record/1494240/files/subject24/Session1/1.gdf...\n",
            "GDF file detected\n",
            "Setting channel info structure...\n",
            "Creating raw.info structure...\n",
            "Reading 0 ... 135039  =      0.000 ...   263.748 secs...\n"
          ]
        },
        {
          "name": "stderr",
          "output_type": "stream",
          "text": [
            "/content/drive/My Drive/Colab Notebooks/Diploma_Thesis/posts/post01_simple_p300/braininvaders.py:68: DeprecationWarning: stim_channel will default to \"auto\" in 0.17 but change to False in 0.18, and will be removed in 0.19\n",
            "  file_path, montage=\"standard_1020\", preload=True\n",
            "/content/drive/My Drive/Colab Notebooks/mne/io/pick.py:279: DeprecationWarning: `np.bool` is a deprecated alias for the builtin `bool`. To silence this warning, use `bool` by itself. Doing this will not modify any behavior and is safe. If you specifically wanted the numpy scalar type, use `np.bool_` here.\n",
            "Deprecated in NumPy 1.20; for more details and guidance: https://numpy.org/devdocs/release/1.20.0-notes.html#deprecations\n",
            "  pick = np.zeros(nchan, dtype=np.bool)\n"
          ]
        },
        {
          "name": "stdout",
          "output_type": "stream",
          "text": [
            "Extracting EDF parameters from /root/mne_data/MNE-braininvaders-data/record/1494240/files/subject24/Session1/2.gdf...\n",
            "GDF file detected\n",
            "Setting channel info structure...\n",
            "Creating raw.info structure...\n",
            "Reading 0 ... 184191  =      0.000 ...   359.748 secs...\n"
          ]
        },
        {
          "name": "stderr",
          "output_type": "stream",
          "text": [
            "/content/drive/My Drive/Colab Notebooks/Diploma_Thesis/posts/post01_simple_p300/braininvaders.py:68: DeprecationWarning: stim_channel will default to \"auto\" in 0.17 but change to False in 0.18, and will be removed in 0.19\n",
            "  file_path, montage=\"standard_1020\", preload=True\n",
            "/content/drive/My Drive/Colab Notebooks/mne/io/pick.py:279: DeprecationWarning: `np.bool` is a deprecated alias for the builtin `bool`. To silence this warning, use `bool` by itself. Doing this will not modify any behavior and is safe. If you specifically wanted the numpy scalar type, use `np.bool_` here.\n",
            "Deprecated in NumPy 1.20; for more details and guidance: https://numpy.org/devdocs/release/1.20.0-notes.html#deprecations\n",
            "  pick = np.zeros(nchan, dtype=np.bool)\n"
          ]
        },
        {
          "name": "stdout",
          "output_type": "stream",
          "text": [
            "Extracting EDF parameters from /root/mne_data/MNE-braininvaders-data/record/1494240/files/subject24/Session1/3.gdf...\n",
            "GDF file detected\n",
            "Setting channel info structure...\n",
            "Creating raw.info structure...\n",
            "Reading 0 ... 134783  =      0.000 ...   263.248 secs...\n"
          ]
        },
        {
          "name": "stderr",
          "output_type": "stream",
          "text": [
            "/content/drive/My Drive/Colab Notebooks/Diploma_Thesis/posts/post01_simple_p300/braininvaders.py:68: DeprecationWarning: stim_channel will default to \"auto\" in 0.17 but change to False in 0.18, and will be removed in 0.19\n",
            "  file_path, montage=\"standard_1020\", preload=True\n",
            "/content/drive/My Drive/Colab Notebooks/mne/io/pick.py:279: DeprecationWarning: `np.bool` is a deprecated alias for the builtin `bool`. To silence this warning, use `bool` by itself. Doing this will not modify any behavior and is safe. If you specifically wanted the numpy scalar type, use `np.bool_` here.\n",
            "Deprecated in NumPy 1.20; for more details and guidance: https://numpy.org/devdocs/release/1.20.0-notes.html#deprecations\n",
            "  pick = np.zeros(nchan, dtype=np.bool)\n"
          ]
        },
        {
          "name": "stdout",
          "output_type": "stream",
          "text": [
            "Extracting EDF parameters from /root/mne_data/MNE-braininvaders-data/record/1494240/files/subject24/Session1/4.gdf...\n",
            "GDF file detected\n",
            "Setting channel info structure...\n",
            "Creating raw.info structure...\n",
            "Reading 0 ... 109023  =      0.000 ...   212.936 secs...\n"
          ]
        },
        {
          "name": "stderr",
          "output_type": "stream",
          "text": [
            "/content/drive/My Drive/Colab Notebooks/Diploma_Thesis/posts/post01_simple_p300/braininvaders.py:68: DeprecationWarning: stim_channel will default to \"auto\" in 0.17 but change to False in 0.18, and will be removed in 0.19\n",
            "  file_path, montage=\"standard_1020\", preload=True\n",
            "/content/drive/My Drive/Colab Notebooks/mne/io/pick.py:279: DeprecationWarning: `np.bool` is a deprecated alias for the builtin `bool`. To silence this warning, use `bool` by itself. Doing this will not modify any behavior and is safe. If you specifically wanted the numpy scalar type, use `np.bool_` here.\n",
            "Deprecated in NumPy 1.20; for more details and guidance: https://numpy.org/devdocs/release/1.20.0-notes.html#deprecations\n",
            "  pick = np.zeros(nchan, dtype=np.bool)\n"
          ]
        }
      ],
      "source": [
        "b = BrainInvadersDataset()"
      ]
    },
    {
      "cell_type": "code",
      "execution_count": 5,
      "metadata": {
        "id": "8JYMGkiuMwL_"
      },
      "outputs": [],
      "source": [
        "raw_dataset = b.raw_dataset"
      ]
    },
    {
      "cell_type": "code",
      "execution_count": 6,
      "metadata": {
        "id": "N2RIhYaicNsA"
      },
      "outputs": [],
      "source": [
        "sampling_rate = 512\n",
        "reload(transforms)\n",
        "\n",
        "decimation_factor = 10\n",
        "final_rate = sampling_rate // decimation_factor\n",
        "epoch_duration = 0.9  # seconds\n",
        "labels_mapping = {33285.0: 1, 33286.0: 0}\n",
        "captions = {0: \"empty\", 1: \"target\"}\n",
        "\n",
        "eeg_pipe = make_pipeline(\n",
        "    transforms.Decimator(decimation_factor),\n",
        "    transforms.ButterFilter(sampling_rate // decimation_factor, 4, 0.5, 20),\n",
        "    transforms.ChannellwiseScaler(StandardScaler()),\n",
        ")\n",
        "markers_pipe = transforms.MarkersTransformer(labels_mapping, decimation_factor)"
      ]
    },
    {
      "cell_type": "code",
      "execution_count": 7,
      "metadata": {
        "id": "26lV4UwBcNsB"
      },
      "outputs": [],
      "source": [
        "for eegs, _ in raw_dataset:\n",
        "    eeg_pipe.fit(eegs)"
      ]
    },
    {
      "cell_type": "code",
      "execution_count": 8,
      "metadata": {
        "id": "XB3FDtLMcNsC"
      },
      "outputs": [],
      "source": [
        "dataset = []\n",
        "epoch_count = int(epoch_duration * final_rate)\n",
        "\n",
        "for eegs, markers in raw_dataset:\n",
        "    epochs = []\n",
        "    labels = []\n",
        "    filtered = eeg_pipe.transform(eegs)\n",
        "    markups = markers_pipe.transform(markers)\n",
        "    for signal, markup in zip(filtered, markups):\n",
        "        epochs.extend(\n",
        "            [signal[:, start : (start + epoch_count)] for start in markup[:, 0]]\n",
        "        )\n",
        "        labels.extend(markup[:, 1])\n",
        "    dataset.append((np.array(epochs), np.array(labels)))"
      ]
    },
    {
      "cell_type": "code",
      "execution_count": 9,
      "metadata": {
        "id": "3ozkWpEsx9hk"
      },
      "outputs": [],
      "source": [
        "full_dataset = []\n",
        "for i in range(len(dataset)):\n",
        "    for j in range(len(dataset[i][0])):\n",
        "        full_dataset.append(\n",
        "            [torch.from_numpy(dataset[i][0][j]).to(dtype=torch.float32), dataset[i][1][j]]\n",
        "        )"
      ]
    },
    {
      "cell_type": "code",
      "execution_count": 10,
      "metadata": {
        "id": "6kZX2GvXzG-Y"
      },
      "outputs": [],
      "source": [
        "train_size = int(0.8 * len(full_dataset))\n",
        "test_size = len(full_dataset) - train_size\n",
        "train_dataset, test_dataset = torch.utils.data.random_split(\n",
        "    full_dataset, [train_size, test_size]\n",
        ")"
      ]
    },
    {
      "cell_type": "code",
      "execution_count": 11,
      "metadata": {
        "id": "ZAy2dZn-0MIp"
      },
      "outputs": [],
      "source": [
        "batch_size = 4\n",
        "trainloader = torch.utils.data.DataLoader(\n",
        "    train_dataset, batch_size=batch_size, shuffle=True, num_workers=2\n",
        ")\n",
        "testloader = torch.utils.data.DataLoader(\n",
        "    test_dataset, batch_size=batch_size, shuffle=False, num_workers=2\n",
        ")"
      ]
    },
    {
      "cell_type": "code",
      "execution_count": 12,
      "metadata": {
        "id": "XUKYfjaWx5LR"
      },
      "outputs": [],
      "source": [
        "net = EegNet(2, 16, 45)"
      ]
    },
    {
      "cell_type": "code",
      "execution_count": 13,
      "metadata": {
        "id": "9iM2MLKc1WFj"
      },
      "outputs": [],
      "source": [
        "criterion = nn.CrossEntropyLoss()\n",
        "optimizer = optim.Adam(net.parameters())"
      ]
    },
    {
      "cell_type": "code",
      "execution_count": 14,
      "metadata": {
        "colab": {
          "base_uri": "https://localhost:8080/"
        },
        "id": "AJk8AB9d4Eg3",
        "outputId": "241a5552-0a68-4b5d-c26c-d2ee1adb62cc"
      },
      "outputs": [
        {
          "name": "stderr",
          "output_type": "stream",
          "text": [
            "/usr/local/lib/python3.7/dist-packages/torch/nn/modules/conv.py:443: UserWarning: Using padding='same' with even kernel lengths and odd dilation may require a zero-padded copy of the input be created (Triggered internally at  ../aten/src/ATen/native/Convolution.cpp:647.)\n",
            "  self.padding, self.dilation, self.groups)\n"
          ]
        },
        {
          "name": "stdout",
          "output_type": "stream",
          "text": [
            "[1,  2000] loss: 0.447\n",
            "[1,  4000] loss: 0.407\n",
            "[1,  6000] loss: 0.397\n",
            "[2,  2000] loss: 0.368\n",
            "[2,  4000] loss: 0.365\n",
            "[2,  6000] loss: 0.366\n",
            "[3,  2000] loss: 0.354\n",
            "[3,  4000] loss: 0.361\n",
            "[3,  6000] loss: 0.341\n",
            "[4,  2000] loss: 0.346\n",
            "[4,  4000] loss: 0.348\n",
            "[4,  6000] loss: 0.337\n",
            "[5,  2000] loss: 0.343\n",
            "[5,  4000] loss: 0.341\n",
            "[5,  6000] loss: 0.344\n",
            "[6,  2000] loss: 0.338\n",
            "[6,  4000] loss: 0.347\n",
            "[6,  6000] loss: 0.324\n",
            "[7,  2000] loss: 0.330\n",
            "[7,  4000] loss: 0.331\n",
            "[7,  6000] loss: 0.341\n",
            "[8,  2000] loss: 0.319\n",
            "[8,  4000] loss: 0.347\n",
            "[8,  6000] loss: 0.326\n",
            "Finished Training\n"
          ]
        }
      ],
      "source": [
        "for epoch in range(8):  # loop over the dataset multiple times\n",
        "\n",
        "    running_loss = 0.0\n",
        "    for i, data in enumerate(trainloader, 0):\n",
        "        # get the inputs; data is a list of [inputs, labels]\n",
        "        inputs, labels = data\n",
        "\n",
        "        # zero the parameter gradients\n",
        "        optimizer.zero_grad()\n",
        "\n",
        "        # forward + backward + optimize\n",
        "        outputs = net(inputs)\n",
        "        loss = criterion(outputs, labels)\n",
        "        loss.backward()\n",
        "        optimizer.step()\n",
        "\n",
        "        # print statistics\n",
        "        running_loss += loss.item()\n",
        "        if i % 2000 == 1999:  # print every 2000 mini-batches\n",
        "            print(f\"[{epoch + 1}, {i + 1:5d}] loss: {running_loss / 2000:.3f}\")\n",
        "            running_loss = 0.0\n",
        "\n",
        "print(\"Finished Training\")"
      ]
    },
    {
      "cell_type": "code",
      "execution_count": 15,
      "metadata": {
        "id": "8v3cd3p54My8"
      },
      "outputs": [],
      "source": [
        "PATH = \"./eeg.pth\"\n",
        "torch.save(net.state_dict(), PATH)"
      ]
    },
    {
      "cell_type": "code",
      "execution_count": 16,
      "metadata": {
        "colab": {
          "base_uri": "https://localhost:8080/"
        },
        "id": "GF_4qtek-bH3",
        "outputId": "7b1f7126-b0fa-4fd0-edf4-3be0ce8c75de"
      },
      "outputs": [
        {
          "data": {
            "text/plain": [
              "<All keys matched successfully>"
            ]
          },
          "execution_count": 16,
          "metadata": {},
          "output_type": "execute_result"
        }
      ],
      "source": [
        "net = EegNet(2, 16, 45)\n",
        "net.load_state_dict(torch.load(PATH))"
      ]
    },
    {
      "cell_type": "code",
      "execution_count": 17,
      "metadata": {
        "colab": {
          "base_uri": "https://localhost:8080/"
        },
        "id": "fgB9EoVy-ljG",
        "outputId": "892b3334-d923-40e9-9fe8-d4d951c8bba7"
      },
      "outputs": [
        {
          "name": "stdout",
          "output_type": "stream",
          "text": [
            "Accuracy of the network on the 10000 test images: 87 %\n"
          ]
        }
      ],
      "source": [
        "correct = 0\n",
        "total = 0\n",
        "# since we're not training, we don't need to calculate the gradients for our outputs\n",
        "with torch.no_grad():\n",
        "    for data in testloader:\n",
        "        eeg, labels = data\n",
        "        # calculate outputs by running images through the network\n",
        "        outputs = net(eeg)\n",
        "        # the class with the highest energy is what we choose as prediction\n",
        "        _, predicted = torch.max(outputs.data, 1)\n",
        "        total += labels.size(0)\n",
        "        correct += (predicted == labels).sum().item()\n",
        "\n",
        "print(f\"Accuracy of the network on the 10000 test images: {100 * correct // total} %\")"
      ]
    },
    {
      "cell_type": "code",
      "execution_count": 17,
      "metadata": {
        "id": "I3sT71jUA4EV"
      },
      "outputs": [],
      "source": []
    }
  ],
  "metadata": {
    "accelerator": "GPU",
    "colab": {
      "collapsed_sections": [],
      "name": "training_braininvaders.ipynb",
      "provenance": []
    },
    "kernelspec": {
      "display_name": "Python 3",
      "language": "python",
      "name": "python3"
    },
    "language_info": {
      "codemirror_mode": {
        "name": "ipython",
        "version": 3
      },
      "file_extension": ".py",
      "mimetype": "text/x-python",
      "name": "python",
      "nbconvert_exporter": "python",
      "pygments_lexer": "ipython3",
      "version": "3.7.11"
    }
  },
  "nbformat": 4,
  "nbformat_minor": 0
}
